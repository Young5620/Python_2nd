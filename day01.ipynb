{
 "cells": [
  {
   "cell_type": "code",
   "execution_count": null,
   "metadata": {},
   "outputs": [],
   "source": [
    "## 웹 상에 정보 수집 방법\n",
    "# 파이썬에서는 urllib모듈을 사용하여 정보 수집..\n",
    "\n",
    "## urllib.request 모듈은 웹 사이트에 있는 데이터에 접근할 수 있는 기능을 제공\n",
    "## 인증, 리다이렉트, 쿠키처럼 인터넷을 이용한 다양한 요청과 처리를 지원함\n",
    "\n",
    "# 파일을 다운로드 할 때, urllib.request 모듈에 있는 urlretrieve() 함수를 사용\n",
    "# 직접 다운로드 가능함"
   ]
  },
  {
   "cell_type": "code",
   "execution_count": 1,
   "metadata": {},
   "outputs": [
    {
     "data": {
      "text/plain": [
       "('download\\\\test_download.png', <http.client.HTTPMessage at 0x283fcdd72e0>)"
      ]
     },
     "execution_count": 1,
     "metadata": {},
     "output_type": "execute_result"
    }
   ],
   "source": [
    "# 예시\n",
    "\n",
    "# 라이브러리\n",
    "import urllib.request\n",
    "\n",
    "# 접속경로 및 저장이름\n",
    "url = \"https://uta.pw/shodou/img/28/214.png\"\n",
    "savename = \"test_download.png\"\n",
    "\n",
    "# 다운로드\n",
    "urllib.request.urlretrieve(url, \"download\\\\\"+ savename)"
   ]
  },
  {
   "cell_type": "code",
   "execution_count": 2,
   "metadata": {},
   "outputs": [
    {
     "data": {
      "text/plain": [
       "('download\\\\test_download.gif', <http.client.HTTPMessage at 0x283fc5b6ad0>)"
      ]
     },
     "execution_count": 2,
     "metadata": {},
     "output_type": "execute_result"
    }
   ],
   "source": [
    "# 실습1\n",
    "# NAVER의 로고 다운받기\n",
    "\n",
    "# 네이버 gif파일 경로 및 저장이름\n",
    "url = \"https://s.pstatic.net/static/www/mobile/edit/20220503/mobile_20183742258.gif\"\n",
    "savename = \"test_download.gif\"\n",
    "\n",
    "# 다운로드\n",
    "urllib.request.urlretrieve(url, \"download\\\\\" + savename)"
   ]
  },
  {
   "cell_type": "code",
   "execution_count": 6,
   "metadata": {},
   "outputs": [
    {
     "name": "stdout",
     "output_type": "stream",
     "text": [
      "download에 네이버 사진을 저장합니다\n"
     ]
    }
   ],
   "source": [
    "# 실습2\n",
    "# NAVER의 로고 다운받기 -open을 이용한 다운로드\n",
    "# 저장 파일명 : naver_log_open_use.확장자\n",
    "\n",
    "# 1. 라이브러리 임포트(urllib.request)\n",
    "import urllib.request as rq\n",
    "\n",
    "# 2. urlopen을 이용하여 데이트를 저장(버퍼)\n",
    "url = \"https://post-phinf.pstatic.net/MjAyMjA0MjhfMTQz/MDAxNjUxMTU3NTk1Mjg5.ZWURiQaXoE1UKx3IczyNBZxO_VtjKs8t4r9-KObTH-Yg.8l0atrw9MrGN2_ITPDUDbO9PhZZyCO10t2pVOPNE5iQg.PNG/%EB%8B%A4%EC%9A%B4%EB%A1%9C%EB%93%9C_%2832%29.png?type=w1200\"\n",
    "buffer = rq.urlopen(url).read()\n",
    "type(buffer)\n",
    "\n",
    "# 3. 저장된 내용을 open을 이용하여 저장(binary 값으로 처리 : b)\n",
    "with open(\"download/naver_log_open_use.jpeg\", \"wb\") as f:\n",
    "    f.write(buffer)\n",
    "    print(\"download에 네이버 사진을 저장합니다\")"
   ]
  },
  {
   "cell_type": "code",
   "execution_count": 8,
   "metadata": {},
   "outputs": [
    {
     "name": "stdout",
     "output_type": "stream",
     "text": [
      "[ip]\n",
      "API_URI=http://api.aoikujira.com/ip/get.php\n",
      "REMOTE_ADDR=14.39.239.87\n",
      "REMOTE_HOST=14.39.239.87\n",
      "REMOTE_PORT=58212\n",
      "HTTP_HOST=api.aoikujira.com\n",
      "HTTP_USER_AGENT=Python-urllib/3.10\n",
      "HTTP_ACCEPT_LANGUAGE=\n",
      "HTTP_ACCEPT_CHARSET=\n",
      "SERVER_PORT=443\n",
      "FORMAT=ini\n",
      "\n",
      "\n"
     ]
    }
   ],
   "source": [
    "# API 접속\n",
    "\n",
    "# 모듈\n",
    "import urllib.request\n",
    "\n",
    "# 데이터 읽기\n",
    "url = \"https://api.aoikujira.com/ip/ini\"\n",
    "res = urllib.request.urlopen(url)\n",
    "data = res.read()\n",
    "data\n",
    "\n",
    "# 바이너리를 문자열로 변환\n",
    "text = data.decode(\"utf-8\")\n",
    "print(text)"
   ]
  },
  {
   "cell_type": "code",
   "execution_count": null,
   "metadata": {},
   "outputs": [],
   "source": [
    "### 기상청 RSS : https://www.kma.go.kr/weather/forecast/mid-term-rss3.jsp\n",
    "## 매개변수 : stnId - 기상정보를 알고싶은 지역을 지정\n",
    "## 전국 - 108 / 서울, 경기 - 109 / 강원도 - 105 / 충청북도 - 131 / 충청남도 - 133 \n",
    "## 전라북도 - 146 / 전라남도 - 156 / 경상북도 - 143 / 경상남도 - 159 / 제주도 - 184\n",
    "\n",
    "import urllib.request\n",
    "import urllib.parse\n",
    "api = \"https://www.kma.go.kr/weather/forecast/mid-term-rss3.jsp\"\n",
    "\n",
    "# 매개변수를 url 인코딩\n",
    "values = {\n",
    "    \"stnId\" : \"184\"\n",
    "}\n",
    "\n",
    "params = urllib.parse.urlencode(values)\n",
    "print(params)\n",
    "\n",
    "url = api + \"?\" + params\n",
    "\n",
    "# 다운로드\n",
    "data = urllib.request.urlopen(url).read()\n",
    "text = data.decode(\"utf-8\")\n",
    "print(text)"
   ]
  },
  {
   "cell_type": "code",
   "execution_count": null,
   "metadata": {},
   "outputs": [],
   "source": [
    "### 입력값(지역번호)을 받아서 해당 지역의 날씨정보를 받아오세요\n",
    "# 내가 푼 답\n",
    "region = input(\"지역을 입력하세요 : \")\n",
    "region_num = {\n",
    "    \"전국\" : 108, \"서울, 경기\": 109, \"강원도\": 105 , \"충청북도\" : 131, \n",
    "    \"충청남도\" : 133, \"전라북도\": 146, \"전라남도\" : 156, \"경상북도\" : 143, \n",
    "    \"경상남도\" : 159, \"제주도\": 184\n",
    "}\n",
    "num = region_num[region]\n",
    "print(\"지역번호 : \", num)\n",
    "url = api + \"?stnId=\" + str(num)\n",
    "\n",
    "data = urllib.request.urlopen(url).read()\n",
    "text = data.decode(\"utf-8\")\n",
    "print(text)"
   ]
  },
  {
   "cell_type": "code",
   "execution_count": null,
   "metadata": {},
   "outputs": [],
   "source": [
    "# 책에 있는 답\n",
    "import urllib.request as rq\n",
    "import urllib.parse as parse\n",
    "\n",
    "regionNumber = input(\"지역번호를 입력하세요 : \")\n",
    "values = {\n",
    "    \"stnId\" : regionNumber\n",
    "}\n",
    "\n",
    "API = \"https://www.kma.go.kr/weather/forecast/mid-term-rss3.jsp\"\n",
    "params = parse.urlencode(values)\n",
    "url = API + \"?\" + params\n",
    "print(url)\n",
    "\n",
    "data = rq.urlopen(url).read()\n",
    "text = data.decode(\"utf-8\")\n",
    "print(text)"
   ]
  },
  {
   "cell_type": "code",
   "execution_count": 29,
   "metadata": {},
   "outputs": [
    {
     "name": "stderr",
     "output_type": "stream",
     "text": [
      "C:\\Users\\user\\AppData\\Local\\Temp\\ipykernel_7528\\2292100744.py:14: DeprecationWarning: executable_path has been deprecated, please pass in a Service object\n",
      "  driver = webdriver.Chrome(path)\n"
     ]
    }
   ],
   "source": [
    "### selenium 사용하기\n",
    "# 1. 모듈 설치하기\n",
    "# pip install selenium\n",
    "\n",
    "# 2. web 드라이버 다운로드\n",
    "# https://chromedriver.chromeuim.org/downloads\n",
    "\n",
    "# 3. 제어..\n",
    "\n",
    "# 라이브러리\n",
    "import selenium\n",
    "from selenium import webdriver\n",
    "path = \"C:\\\\webdriver\\\\chromedriver.exe\"\n",
    "driver = webdriver.Chrome(path)"
   ]
  },
  {
   "cell_type": "code",
   "execution_count": 30,
   "metadata": {},
   "outputs": [],
   "source": [
    "driver.get(\"https://www.naver.com\")"
   ]
  },
  {
   "cell_type": "code",
   "execution_count": 33,
   "metadata": {},
   "outputs": [
    {
     "name": "stderr",
     "output_type": "stream",
     "text": [
      "C:\\Users\\user\\AppData\\Local\\Temp\\ipykernel_7528\\3351048377.py:1: DeprecationWarning: find_elements_by_class_name is deprecated. Please use find_elements(by=By.CLASS_NAME, value=name) instead\n",
      "  elements = driver.find_elements_by_class_name(\"title\")\n"
     ]
    }
   ],
   "source": [
    "elements = driver.find_elements_by_class_name(\"title\")"
   ]
  },
  {
   "cell_type": "code",
   "execution_count": 34,
   "metadata": {},
   "outputs": [
    {
     "data": {
      "text/plain": [
       "list"
      ]
     },
     "execution_count": 34,
     "metadata": {},
     "output_type": "execute_result"
    }
   ],
   "source": [
    "type(elements)"
   ]
  },
  {
   "cell_type": "code",
   "execution_count": 36,
   "metadata": {},
   "outputs": [
    {
     "data": {
      "text/plain": [
       "'오늘 읽을만한 글'"
      ]
     },
     "execution_count": 36,
     "metadata": {},
     "output_type": "execute_result"
    }
   ],
   "source": [
    "elements[0].text"
   ]
  },
  {
   "cell_type": "code",
   "execution_count": 37,
   "metadata": {},
   "outputs": [
    {
     "name": "stdout",
     "output_type": "stream",
     "text": [
      "오늘 읽을만한 글\n",
      "딱 중간 가는 사람이 영끌해서 살 수 있는 서울 아파트\n",
      "현대 110곳 vs 삼성 8곳… 집 짓는 현장 개수 '극과극'인 이유\n",
      "전세살다 매매 더 어려워졌다...서울 아파트 매매·전세가 차이, 6억\n",
      "노후 대비하려면 이건 알아 둬야죠, 2022년 개정된 기초연금제도 알아보기\n",
      "재개발 급매물이란 이런 것!\n",
      "[단독] `잠실 롯데월드` 33년 만에 전면 재개발 추진\n",
      "\"주행거리 660km\"…9천만 원대 벤츠 EQE 최초 시승\n",
      "삼성가, 상속세 위해 대규모 블록딜…주가 `날벼락`\n",
      "딱 두 배 봅니다, 마포자이힐스테이트\n",
      "5월, 전국에서 2만4,598세대 분양 예정\n",
      "경기도에서 아파트가 가장 비싼 지역 TOP 10\n",
      "영끌족이 옳았다…2030이 사들인 주택가격 40% 급등\n",
      "대륙 ‘지역 격차’ 어떨까, 中 가장 잘 사는 지역은?\n",
      "\"반등해도 걱정...7만원 넘으면 대기매물만 30조\"\n",
      "[남해화학] 우크라이나발 곡물난이 온다 최대 수혜주 긴급 공개 ! #경농#조비\n",
      "닥터둠의 경고, 스태그플레이션 폭풍이 온다...기로에 놓인 美[워싱턴 24시]\n",
      "\n",
      "\n",
      "\n",
      "\n",
      "\n",
      "\n",
      "\n",
      "\n",
      "\n",
      "\n",
      "\n",
      "\n",
      "\n",
      "\n",
      "\n",
      "\n",
      "\n",
      "\n",
      "\n",
      "\n",
      "\n",
      "\n",
      "\n",
      "\n",
      "\n",
      "\n",
      "\n",
      "\n",
      "\n",
      "\n",
      "\n",
      "\n",
      "\n",
      "\n",
      "\n",
      "\n",
      "\n",
      "\n",
      "\n",
      "\n",
      "\n",
      "\n",
      "\n",
      "\n",
      "\n",
      "\n",
      "\n",
      "\n",
      "\n",
      "\n",
      "\n",
      "\n",
      "\n",
      "\n",
      "\n",
      "\n",
      "\n",
      "\n",
      "\n",
      "\n",
      "\n",
      "\n",
      "\n",
      "\n",
      "\n",
      "\n",
      "\n",
      "\n",
      "\n",
      "\n",
      "\n",
      "공지사항\n",
      "Creators\n",
      "Partners\n",
      "Developers\n",
      "웨일 브라우저\n",
      "프로젝트 꽃\n"
     ]
    }
   ],
   "source": [
    "for element in elements:\n",
    "    print(element.text)"
   ]
  },
  {
   "cell_type": "code",
   "execution_count": 38,
   "metadata": {},
   "outputs": [
    {
     "name": "stderr",
     "output_type": "stream",
     "text": [
      "C:\\Users\\user\\AppData\\Local\\Temp\\ipykernel_7528\\1689966199.py:1: DeprecationWarning: find_element_by_class_name is deprecated. Please use find_element(by=By.CLASS_NAME, value=name) instead\n",
      "  driver.find_element_by_class_name(\"link_login\").click()\n"
     ]
    }
   ],
   "source": [
    "driver.find_element_by_class_name(\"link_login\").click()"
   ]
  },
  {
   "cell_type": "code",
   "execution_count": 44,
   "metadata": {},
   "outputs": [],
   "source": [
    "driver.get(\"https://www.daum.net\")"
   ]
  },
  {
   "cell_type": "code",
   "execution_count": 53,
   "metadata": {},
   "outputs": [
    {
     "name": "stderr",
     "output_type": "stream",
     "text": [
      "C:\\Users\\user\\AppData\\Local\\Temp\\ipykernel_7528\\4109786251.py:1: DeprecationWarning: find_elements_by_class_name is deprecated. Please use find_elements(by=By.CLASS_NAME, value=name) instead\n",
      "  elements_d = driver.find_elements_by_class_name(\"link_txt\")\n"
     ]
    }
   ],
   "source": [
    "elements_d = driver.find_elements_by_class_name(\"link_txt\")"
   ]
  },
  {
   "cell_type": "code",
   "execution_count": null,
   "metadata": {},
   "outputs": [],
   "source": [
    "print(elements_d)"
   ]
  },
  {
   "cell_type": "code",
   "execution_count": 54,
   "metadata": {},
   "outputs": [
    {
     "name": "stdout",
     "output_type": "stream",
     "text": [
      "임수향X성훈 \"우리는 이미 결혼하고 아이도 낳은 사이\" ('우리는 오늘부터')\n",
      "\"죽겠다\"..곽도원, 코로나19 합병증 게실염 '호소'\n",
      "김종서 \"압구정서 클럽 운영, 코로나 시국 7시에 열어 9시 영업 종료\"(컬투쇼)\n",
      "신아영, 결혼 4년 만에 엄마 된다 \"현재 임신 초기\" [공식]\n",
      "클라씨 원지민 \"현재 키 172cm, 여기서 멈추길 바라는 마음\"\n",
      "이가령 \"88년생 아닌 80년생·43세..뒤늦게 바꾼 이유는\" [인터뷰]\n",
      "\"'방탄소년단 군대 가라'는 이들에게\"..장관 입 열어 [전문]\n",
      "'이혼' 최정윤, 7살 딸 독박 육아하며 자기 관리 \"1초 단위로 쪼개\"(랜선뷰티)\n",
      "싸이 \"정숙한 성시경 콘서트 놀랐다..미술관에 돼지 풀어놓는 느낌\"(라스)\n",
      "노홍철 돌발행동, 피땀 흘린 작품 붕괴..심사위원도 '식은땀' ('블록버스터')\n",
      "\n",
      "\n",
      "\n",
      "\n",
      "\n",
      "\n",
      "\n",
      "\n",
      "\n",
      "\n",
      "\n",
      "\n",
      "\n",
      "\n",
      "\n",
      "\n",
      "\n",
      "\n",
      "\n",
      "\n",
      "\n",
      "\n",
      "\n",
      "\n",
      "\n",
      "\n",
      "\n",
      "\n",
      "\n",
      "\n",
      "\n",
      "\n",
      "\n",
      "\n",
      "\n",
      "\n",
      "\n",
      "\n",
      "\n",
      "\n"
     ]
    }
   ],
   "source": [
    "for element in elements_d:\n",
    "    print(element.text)"
   ]
  }
 ],
 "metadata": {
  "interpreter": {
   "hash": "b89b5cfaba6639976dc87ff2fec6d58faec662063367e2c229c520fe71072417"
  },
  "kernelspec": {
   "display_name": "Python 3.10.3 64-bit",
   "language": "python",
   "name": "python3"
  },
  "language_info": {
   "codemirror_mode": {
    "name": "ipython",
    "version": 3
   },
   "file_extension": ".py",
   "mimetype": "text/x-python",
   "name": "python",
   "nbconvert_exporter": "python",
   "pygments_lexer": "ipython3",
   "version": "3.10.3"
  },
  "orig_nbformat": 4
 },
 "nbformat": 4,
 "nbformat_minor": 2
}
