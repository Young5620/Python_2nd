{
 "cells": [
  {
   "cell_type": "code",
   "execution_count": null,
   "metadata": {},
   "outputs": [],
   "source": [
    "## 웹 상에 정보 수집 방법\n",
    "# 파이썬에서는 urllib모듈을 사용하여 정보 수집..\n",
    "\n",
    "## urllib.request 모듈은 웹 사이트에 있는 데이터에 접근할 수 있는 기능을 제공\n",
    "## 인증, 리다이렉트, 쿠키처럼 인터넷을 이용한 다양한 요청과 처리를 지원함\n",
    "\n",
    "# 파일을 다운로드 할 때, urllib.request 모듈에 있는 urlretrieve() 함수를 사용\n",
    "# 직접 다운로드 가능함"
   ]
  },
  {
   "cell_type": "code",
   "execution_count": 1,
   "metadata": {},
   "outputs": [
    {
     "data": {
      "text/plain": [
       "('download\\\\test_download.png', <http.client.HTTPMessage at 0x283fcdd72e0>)"
      ]
     },
     "execution_count": 1,
     "metadata": {},
     "output_type": "execute_result"
    }
   ],
   "source": [
    "# 예시\n",
    "\n",
    "# 라이브러리\n",
    "import urllib.request\n",
    "\n",
    "# 접속경로 및 저장이름\n",
    "url = \"https://uta.pw/shodou/img/28/214.png\"\n",
    "savename = \"test_download.png\"\n",
    "\n",
    "# 다운로드\n",
    "urllib.request.urlretrieve(url, \"download\\\\\"+ savename)"
   ]
  },
  {
   "cell_type": "code",
   "execution_count": 2,
   "metadata": {},
   "outputs": [
    {
     "data": {
      "text/plain": [
       "('download\\\\test_download.gif', <http.client.HTTPMessage at 0x283fc5b6ad0>)"
      ]
     },
     "execution_count": 2,
     "metadata": {},
     "output_type": "execute_result"
    }
   ],
   "source": [
    "# 연습\n",
    "\n",
    "# 네이버 gif파일 경로 및 저장이름\n",
    "url = \"https://s.pstatic.net/static/www/mobile/edit/20220503/mobile_20183742258.gif\"\n",
    "savename = \"test_download.gif\"\n",
    "\n",
    "# 다운로드\n",
    "urllib.request.urlretrieve(url, \"download\\\\\" + savename)"
   ]
  },
  {
   "cell_type": "code",
   "execution_count": null,
   "metadata": {},
   "outputs": [],
   "source": []
  }
 ],
 "metadata": {
  "interpreter": {
   "hash": "b89b5cfaba6639976dc87ff2fec6d58faec662063367e2c229c520fe71072417"
  },
  "kernelspec": {
   "display_name": "Python 3.10.3 64-bit",
   "language": "python",
   "name": "python3"
  },
  "language_info": {
   "codemirror_mode": {
    "name": "ipython",
    "version": 3
   },
   "file_extension": ".py",
   "mimetype": "text/x-python",
   "name": "python",
   "nbconvert_exporter": "python",
   "pygments_lexer": "ipython3",
   "version": "3.10.3"
  },
  "orig_nbformat": 4
 },
 "nbformat": 4,
 "nbformat_minor": 2
}
