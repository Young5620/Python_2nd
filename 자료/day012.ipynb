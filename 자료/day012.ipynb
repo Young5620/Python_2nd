{
 "cells": [
  {
   "cell_type": "code",
   "execution_count": 2,
   "metadata": {},
   "outputs": [],
   "source": [
    "### Topic Modeling\n",
    "# Topic은 주제를 말합니다. 토픽 모델링은 기계 학습 및 자연어 처리분야에서 토픽은 문서 집합의 추상적인\n",
    "# 주제를 발견하기 위해서 사용하는 통계적 모델 중 하나로, 본문에 숨겨진 의미 구조를 발견하기 위해 사용\n",
    "# 되어지는 텍스트 마이닝 기법. \n",
    "\n",
    "## 1) 잠재 의미 분석(Latent Semantic Anaylysis, LSA)\n",
    "\n",
    "# BoW에 기반한 DTM이나 TF-IDF는 기본적으로 단어의 빈도 수를 이용한 수치화 방법이기 때문에 단어의 의미를\n",
    "# 고려하지 못한다는 단점이 있었습니다. (이를 토픽 모델링 관점에서는 단어의 토픽을 고려하지 못한다고도 \n",
    "# 합니다.) 이를 위한 대안으로 DTM의 잠재된(Latent) 의미를 이끌어내는 방법으로 \n",
    "# 잠재 의미 분석(Latent Semantic Analysis, LSA)이라는 방법이 있습니다. \n",
    "# 잠재 의미 분석(Latent Semantic Indexing, LSI)이라고 부르기도 합니다. 이하 LSA라고 명명하겠습니다.\n",
    "\n",
    "# 이 방법을 이해하기 위해서는 선형대수학의 특이값 분해(Singular Value Decomposition, SVD)를 이해할 \n",
    "# 필요가 있습니다. 이하 이를 SVD라고 명명하겠습니다. 이 실습에서는 SVD를 수행하는 구체적인 선형대수학에 \n",
    "# 대해서는 설명하지 않고, SVD가 갖고있는 의미를 이해하는 것에 초점을 맞춥니다.\n",
    "\n",
    "#### 1. 특이값 분해(Singular Value Decomposition, SVD)  : https://wikidocs.net/24949"
   ]
  },
  {
   "cell_type": "code",
   "execution_count": 23,
   "metadata": {},
   "outputs": [
    {
     "name": "stdout",
     "output_type": "stream",
     "text": [
      "DTM의 크기 :  (4, 9)\n",
      "행렬 U :\n",
      "[[-0.24  0.75  0.   -0.62]\n",
      " [-0.51  0.44 -0.    0.74]\n",
      " [-0.83 -0.49 -0.   -0.27]\n",
      " [-0.   -0.    1.    0.  ]]\n",
      "행렬 U의 크기(shape) : (4, 4)\n"
     ]
    }
   ],
   "source": [
    "import numpy as np\n",
    "A = np.array([[0,0,0,1,0,1,1,0,0],[0,0,0,1,1,0,1,0,0],[0,1,1,0,2,0,0,0,0],[1,0,0,0,0,0,0,1,1]])\n",
    "print(\"DTM의 크기 : \", np.shape(A))\n",
    "\n",
    "#Full SVD\n",
    "U, s, VT = np.linalg.svd(A, full_matrices = True)\n",
    "print('행렬 U :')\n",
    "print(U.round(2))\n",
    "print('행렬 U의 크기(shape) :',np.shape(U))"
   ]
  },
  {
   "cell_type": "code",
   "execution_count": 5,
   "metadata": {},
   "outputs": [
    {
     "name": "stdout",
     "output_type": "stream",
     "text": [
      "특이값 벡터 :\n",
      "[2.69 2.05 1.73 0.77]\n",
      "특이값 벡터의 크기(shape) : (4,)\n"
     ]
    }
   ],
   "source": [
    "print('특이값 벡터 :')\n",
    "print(s.round(2))\n",
    "print('특이값 벡터의 크기(shape) :',np.shape(s))"
   ]
  },
  {
   "cell_type": "code",
   "execution_count": 12,
   "metadata": {},
   "outputs": [
    {
     "name": "stdout",
     "output_type": "stream",
     "text": [
      "대각 행렬 S :\n",
      "[[2.69 0.   0.   0.   0.   0.   0.   0.   0.  ]\n",
      " [0.   2.05 0.   0.   0.   0.   0.   0.   0.  ]\n",
      " [0.   0.   1.73 0.   0.   0.   0.   0.   0.  ]\n",
      " [0.   0.   0.   0.77 0.   0.   0.   0.   0.  ]]\n",
      "대각 행렬의 크기(shape) :\n",
      "(4, 9)\n"
     ]
    }
   ],
   "source": [
    "### Numpy의 linalg.svd()는 특이값 분해의 결과로 대각 행렬이 아니라 특이값 리스트를 반환\n",
    "### 때문에 수식을 대각행렬로 바꾸어 주어야 한다. 특이값을 s에 저장하고 대각 행렬의 크기를 생성한 후\n",
    "### 그 행렬에 특이값을 삽입\n",
    "\n",
    "## 대각 행렬의 크기 4x9의 임의의 행렬 생성\n",
    "S = np.zeros((4,9))\n",
    "\n",
    "## 특이값을 대각행렬에 삽입\n",
    "S[:4, :4] = np.diag(s)\n",
    "\n",
    "print('대각 행렬 S :')\n",
    "print(S.round(2))\n",
    "\n",
    "print('대각 행렬의 크기(shape) :')\n",
    "print(np.shape(S))"
   ]
  },
  {
   "cell_type": "code",
   "execution_count": 14,
   "metadata": {},
   "outputs": [
    {
     "name": "stdout",
     "output_type": "stream",
     "text": [
      "직교행렬 VT :\n",
      "[[-0.   -0.31 -0.31 -0.28 -0.8  -0.09 -0.28 -0.   -0.  ]\n",
      " [ 0.   -0.24 -0.24  0.58 -0.26  0.37  0.58 -0.   -0.  ]\n",
      " [ 0.58 -0.    0.    0.   -0.    0.   -0.    0.58  0.58]\n",
      " [ 0.   -0.35 -0.35  0.16  0.25 -0.8   0.16 -0.   -0.  ]\n",
      " [-0.   -0.78 -0.01 -0.2   0.4   0.4  -0.2   0.    0.  ]\n",
      " [-0.29  0.31 -0.78 -0.24  0.23  0.23  0.01  0.14  0.14]\n",
      " [-0.29 -0.1   0.26 -0.59 -0.08 -0.08  0.66  0.14  0.14]\n",
      " [-0.5  -0.06  0.15  0.24 -0.05 -0.05 -0.19  0.75 -0.25]\n",
      " [-0.5  -0.06  0.15  0.24 -0.05 -0.05 -0.19 -0.25  0.75]]\n",
      "직교 행렬 VT의 크기(shape) : \n",
      "(9, 9)\n"
     ]
    }
   ],
   "source": [
    "print(\"직교행렬 VT :\")\n",
    "print(VT.round(2))\n",
    "print(\"직교 행렬 VT의 크기(shape) : \")\n",
    "print(np.shape(VT))"
   ]
  },
  {
   "cell_type": "code",
   "execution_count": 15,
   "metadata": {},
   "outputs": [
    {
     "data": {
      "text/plain": [
       "True"
      ]
     },
     "execution_count": 15,
     "metadata": {},
     "output_type": "execute_result"
    }
   ],
   "source": [
    "### UxSxVT가 기존 행렬 A와 같은지 확인\n",
    "## Numpy의 allclose()는 2개의 행렬이 동일하면 True을 반환\n",
    "np.allclose(A, np.dot(np.dot(U,S),VT).round(2))"
   ]
  },
  {
   "cell_type": "code",
   "execution_count": 25,
   "metadata": {},
   "outputs": [
    {
     "name": "stdout",
     "output_type": "stream",
     "text": [
      "대각 행렬 S : \n",
      "[[2.69 0.  ]\n",
      " [0.   2.05]]\n"
     ]
    }
   ],
   "source": [
    "#### 절단된 SVD(Truncated SVD)\n",
    "\n",
    "## 특이값 상위 2개만 보존\n",
    "S = S[:2,:2]\n",
    "\n",
    "print(\"대각 행렬 S : \")\n",
    "print(S.round(2))"
   ]
  },
  {
   "cell_type": "code",
   "execution_count": 24,
   "metadata": {},
   "outputs": [
    {
     "name": "stdout",
     "output_type": "stream",
     "text": [
      "행렬 U : \n",
      "[[-0.24  0.75]\n",
      " [-0.51  0.44]\n",
      " [-0.83 -0.49]\n",
      " [-0.   -0.  ]]\n"
     ]
    }
   ],
   "source": [
    "## 직교 행렬 U에 대해서도 2개의 열만 남기고 제거\n",
    "U = U[:,:2]\n",
    "print(\"행렬 U : \")\n",
    "print(U.round(2))"
   ]
  },
  {
   "cell_type": "code",
   "execution_count": 26,
   "metadata": {},
   "outputs": [
    {
     "name": "stdout",
     "output_type": "stream",
     "text": [
      "직교행렬 VT : \n",
      "[[-0.   -0.31 -0.31 -0.28 -0.8  -0.09 -0.28 -0.   -0.  ]\n",
      " [ 0.   -0.24 -0.24  0.58 -0.26  0.37  0.58 -0.   -0.  ]]\n"
     ]
    }
   ],
   "source": [
    "## 전치행렬인 VT 2의 행만 남기고 제거\n",
    "VT = VT[:2,:]\n",
    "print(\"직교행렬 VT : \")\n",
    "print(VT.round(2))"
   ]
  },
  {
   "cell_type": "code",
   "execution_count": 27,
   "metadata": {},
   "outputs": [
    {
     "name": "stdout",
     "output_type": "stream",
     "text": [
      "[[0 0 0 1 0 1 1 0 0]\n",
      " [0 0 0 1 1 0 1 0 0]\n",
      " [0 1 1 0 2 0 0 0 0]\n",
      " [1 0 0 0 0 0 0 1 1]]\n",
      "[[ 0.   -0.17 -0.17  1.08  0.12  0.62  1.08 -0.   -0.  ]\n",
      " [ 0.    0.2   0.2   0.91  0.86  0.45  0.91  0.    0.  ]\n",
      " [ 0.    0.93  0.93  0.03  2.05 -0.17  0.03  0.    0.  ]\n",
      " [ 0.    0.    0.    0.    0.    0.    0.    0.    0.  ]]\n"
     ]
    }
   ],
   "source": [
    "A_prime = np.dot(np.dot(U,S), VT)\n",
    "print(A)\n",
    "print(A_prime.round(2))"
   ]
  },
  {
   "cell_type": "code",
   "execution_count": 28,
   "metadata": {},
   "outputs": [
    {
     "name": "stdout",
     "output_type": "stream",
     "text": [
      "Defaulting to user installation because normal site-packages is not writeable\n",
      "Collecting nltk\n",
      "  Downloading nltk-3.7-py3-none-any.whl (1.5 MB)\n",
      "     ---------------------------------------- 1.5/1.5 MB 8.6 MB/s eta 0:00:00\n",
      "Collecting click\n",
      "  Downloading click-8.1.3-py3-none-any.whl (96 kB)\n",
      "     ---------------------------------------- 96.6/96.6 kB 5.8 MB/s eta 0:00:00\n",
      "Collecting regex>=2021.8.3\n",
      "  Downloading regex-2022.4.24-cp310-cp310-win_amd64.whl (262 kB)\n",
      "     -------------------------------------- 262.0/262.0 kB 8.1 MB/s eta 0:00:00\n",
      "Requirement already satisfied: joblib in c:\\users\\vmuser\\appdata\\roaming\\python\\python310\\site-packages (from nltk) (1.1.0)\n",
      "Requirement already satisfied: tqdm in c:\\users\\vmuser\\appdata\\roaming\\python\\python310\\site-packages (from nltk) (4.64.0)\n",
      "Requirement already satisfied: colorama in c:\\users\\vmuser\\appdata\\roaming\\python\\python310\\site-packages (from click->nltk) (0.4.4)\n",
      "Installing collected packages: regex, click, nltk\n",
      "Successfully installed click-8.1.3 nltk-3.7 regex-2022.4.24\n"
     ]
    }
   ],
   "source": [
    "!pip install nltk"
   ]
  },
  {
   "cell_type": "code",
   "execution_count": 29,
   "metadata": {},
   "outputs": [],
   "source": [
    "### 실습 (LSA)\n",
    "## 데이터 : 사이킷런에서 Twenty Newsgroups이라고 불리는 20개의 다른 주제를 가진 뉴스그룹 \n",
    "# 데이터를 제공\n",
    "\n",
    "import pandas as pd\n",
    "from sklearn.datasets import fetch_20newsgroups\n",
    "import nltk\n",
    "from nltk.corpus import stopwords\n",
    "from sklearn.feature_extraction.text import TfidfVectorizer\n",
    "from sklearn.decomposition import TruncatedSVD"
   ]
  },
  {
   "cell_type": "code",
   "execution_count": 31,
   "metadata": {},
   "outputs": [
    {
     "name": "stdout",
     "output_type": "stream",
     "text": [
      "샘플의 숫 :  11314\n"
     ]
    }
   ],
   "source": [
    "### dataset\n",
    "dataset = fetch_20newsgroups(shuffle=True, random_state=1, remove=(\"headers\",\"footers\",\"quotes\"))\n",
    "documents = dataset.data\n",
    "print(\"샘플의 숫 : \", len(documents))"
   ]
  },
  {
   "cell_type": "code",
   "execution_count": 41,
   "metadata": {},
   "outputs": [
    {
     "data": {
      "text/plain": [
       "\"\\n\\n\\n\\n\\n\\n\\nYeah, do you expect people to read the FAQ, etc. and actually accept hard\\natheism?  No, you need a little leap of faith, Jimmy.  Your logic runs out\\nof steam!\\n\\n\\n\\n\\n\\n\\n\\nJim,\\n\\nSorry I can't pity you, Jim.  And I'm sorry that you have these feelings of\\ndenial about the faith you need to get by.  Oh well, just pretend that it will\\nall end happily ever after anyway.  Maybe if you start a new newsgroup,\\nalt.atheist.hard, you won't be bummin' so much?\\n\\n\\n\\n\\n\\n\\nBye-Bye, Big Jim.  Don't forget your Flintstone's Chewables!  :) \\n--\\nBake Timmons, III\""
      ]
     },
     "execution_count": 41,
     "metadata": {},
     "output_type": "execute_result"
    }
   ],
   "source": [
    "documents[1]"
   ]
  },
  {
   "cell_type": "code",
   "execution_count": 39,
   "metadata": {},
   "outputs": [
    {
     "name": "stdout",
     "output_type": "stream",
     "text": [
      "['alt.atheism', 'comp.graphics', 'comp.os.ms-windows.misc', 'comp.sys.ibm.pc.hardware', 'comp.sys.mac.hardware', 'comp.windows.x', 'misc.forsale', 'rec.autos', 'rec.motorcycles', 'rec.sport.baseball', 'rec.sport.hockey', 'sci.crypt', 'sci.electronics', 'sci.med', 'sci.space', 'soc.religion.christian', 'talk.politics.guns', 'talk.politics.mideast', 'talk.politics.misc', 'talk.religion.misc']\n"
     ]
    },
    {
     "data": {
      "text/plain": [
       "17"
      ]
     },
     "execution_count": 39,
     "metadata": {},
     "output_type": "execute_result"
    }
   ],
   "source": [
    "print(dataset.target_names)\n",
    "dataset.target[0]"
   ]
  },
  {
   "cell_type": "code",
   "execution_count": 51,
   "metadata": {},
   "outputs": [
    {
     "name": "stderr",
     "output_type": "stream",
     "text": [
      "C:\\Users\\vmuser\\AppData\\Local\\Temp\\ipykernel_8876\\1326237134.py:5: FutureWarning: The default value of regex will change from True to False in a future version.\n",
      "  news_df['clean_doc'] = news_df['document'].str.replace(\"[^a-zA-Z]\",\" \")  # 영문자아닌 것을 \" \"\n"
     ]
    },
    {
     "data": {
      "text/plain": [
       "0    well sure about story seem biased what disagre...\n",
       "1    yeah expect people read actually accept hard a...\n",
       "2    although realize that principle your strongest...\n",
       "3    notwithstanding legitimate fuss about this pro...\n",
       "4    well will have change scoring playoff pool unf...\n",
       "Name: clean_doc, dtype: object"
      ]
     },
     "execution_count": 51,
     "metadata": {},
     "output_type": "execute_result"
    }
   ],
   "source": [
    "### 텍스트 전처리\n",
    "news_df = pd.DataFrame({'document':documents})\n",
    "# print(news_df.head(2))\n",
    "## 특수 문자 제거\n",
    "news_df['clean_doc'] = news_df['document'].str.replace(\"[^a-zA-Z]\",\" \")  # 영문자아닌 것을 \" \"\n",
    "\n",
    "## 길이가 3이하인 단어는 제거 (길이가 짧은 단어 제거)\n",
    "news_df['clean_doc'] = news_df['clean_doc'].apply(lambda x: \" \".join([w for w in x.split() if len(w)>3]))\n",
    "## 전체 단어에 대한 소문자 변환\n",
    "news_df['clean_doc'] = news_df['clean_doc'].apply(lambda x: x.lower())\n",
    "news_df['clean_doc'].head()"
   ]
  },
  {
   "cell_type": "code",
   "execution_count": 53,
   "metadata": {},
   "outputs": [
    {
     "name": "stderr",
     "output_type": "stream",
     "text": [
      "[nltk_data] Downloading package stopwords to\n",
      "[nltk_data]     C:\\Users\\vmuser\\AppData\\Roaming\\nltk_data...\n",
      "[nltk_data]   Unzipping corpora\\stopwords.zip.\n"
     ]
    },
    {
     "data": {
      "text/plain": [
       "True"
      ]
     },
     "execution_count": 53,
     "metadata": {},
     "output_type": "execute_result"
    }
   ],
   "source": [
    "nltk.download('stopwords')"
   ]
  },
  {
   "cell_type": "code",
   "execution_count": 59,
   "metadata": {},
   "outputs": [
    {
     "name": "stdout",
     "output_type": "stream",
     "text": [
      "85\n",
      "61\n"
     ]
    }
   ],
   "source": [
    "### NLTK를 사용하여 불용어 제거\n",
    "stop_words = stopwords.words('english')\n",
    "tokenized_doc = news_df['clean_doc'].apply(lambda x:x.split())\n",
    "print(len(tokenized_doc[0]))\n",
    "tokenized_doc = tokenized_doc.apply(lambda x:[item for item in x if item not in stop_words])\n",
    "print(len(tokenized_doc[0]))"
   ]
  },
  {
   "cell_type": "code",
   "execution_count": 60,
   "metadata": {},
   "outputs": [
    {
     "name": "stdout",
     "output_type": "stream",
     "text": [
      "['yeah', 'expect', 'people', 'read', 'actually', 'accept', 'hard', 'atheism', 'need', 'little', 'leap', 'faith', 'jimmy', 'logic', 'runs', 'steam', 'sorry', 'pity', 'sorry', 'feelings', 'denial', 'faith', 'need', 'well', 'pretend', 'happily', 'ever', 'anyway', 'maybe', 'start', 'newsgroup', 'atheist', 'hard', 'bummin', 'much', 'forget', 'flintstone', 'chewables', 'bake', 'timmons']\n"
     ]
    }
   ],
   "source": [
    "print(tokenized_doc[1])"
   ]
  },
  {
   "cell_type": "code",
   "execution_count": 62,
   "metadata": {},
   "outputs": [],
   "source": [
    "### TF-IDF 행렬 만들기\n",
    "# 역토큰화\n",
    "detokenized_doc = []\n",
    "for i in range(len(news_df)):\n",
    "    t = ' '.join(tokenized_doc[i])\n",
    "    detokenized_doc.append(t)\n",
    "\n",
    "news_df['clean_doc'] = detokenized_doc"
   ]
  },
  {
   "cell_type": "code",
   "execution_count": 63,
   "metadata": {},
   "outputs": [
    {
     "data": {
      "text/plain": [
       "'yeah expect people read actually accept hard atheism need little leap faith jimmy logic runs steam sorry pity sorry feelings denial faith need well pretend happily ever anyway maybe start newsgroup atheist hard bummin much forget flintstone chewables bake timmons'"
      ]
     },
     "execution_count": 63,
     "metadata": {},
     "output_type": "execute_result"
    }
   ],
   "source": [
    "news_df['clean_doc'][1]"
   ]
  },
  {
   "cell_type": "code",
   "execution_count": 64,
   "metadata": {},
   "outputs": [
    {
     "name": "stdout",
     "output_type": "stream",
     "text": [
      "TF-IDF 행렬의 크기 :  (11314, 1000)\n"
     ]
    }
   ],
   "source": [
    "vectorizer = TfidfVectorizer(stop_words='english', max_features=1000, max_df=0.5, smooth_idf=True)\n",
    "## max_df : 0.0 ~ 1.0 사이의 값을 쓰고, 최대 문서에 걸친 포함된 단어까지 단어 꾸러미에 담아 사용할지 결정\n",
    "X = vectorizer.fit_transform(news_df['clean_doc'])\n",
    "\n",
    "### TF-IDF 행렬의 크기 확인\n",
    "print(\"TF-IDF 행렬의 크기 : \", X.shape)"
   ]
  },
  {
   "cell_type": "code",
   "execution_count": 66,
   "metadata": {},
   "outputs": [
    {
     "data": {
      "text/plain": [
       "20"
      ]
     },
     "execution_count": 66,
     "metadata": {},
     "output_type": "execute_result"
    }
   ],
   "source": [
    "### 토픽 모델링(Topic 모델링)\n",
    "svd_model = TruncatedSVD(n_components=20, algorithm='randomized',n_iter=100, random_state=122)\n",
    "svd_model.fit(X)\n",
    "len(svd_model.components_)"
   ]
  },
  {
   "cell_type": "code",
   "execution_count": 67,
   "metadata": {},
   "outputs": [
    {
     "data": {
      "text/plain": [
       "(20, 1000)"
      ]
     },
     "execution_count": 67,
     "metadata": {},
     "output_type": "execute_result"
    }
   ],
   "source": [
    "np.shape(svd_model.components_)"
   ]
  },
  {
   "cell_type": "code",
   "execution_count": 80,
   "metadata": {},
   "outputs": [
    {
     "name": "stdout",
     "output_type": "stream",
     "text": [
      "Topic 1: [('like', 0.21386), ('know', 0.20046), ('people', 0.19293), ('think', 0.17805), ('good', 0.15128)]\n",
      "Topic 2: [('thanks', 0.32888), ('windows', 0.29088), ('card', 0.18069), ('drive', 0.17455), ('mail', 0.15111)]\n",
      "Topic 3: [('game', 0.37064), ('team', 0.32443), ('year', 0.28154), ('games', 0.2537), ('season', 0.18419)]\n",
      "Topic 4: [('drive', 0.53324), ('scsi', 0.20165), ('hard', 0.15628), ('disk', 0.15578), ('card', 0.13994)]\n",
      "Topic 5: [('windows', 0.40399), ('file', 0.25436), ('window', 0.18044), ('files', 0.16078), ('program', 0.13894)]\n",
      "Topic 6: [('chip', 0.16114), ('government', 0.16009), ('mail', 0.15625), ('space', 0.1507), ('information', 0.13562)]\n",
      "Topic 7: [('like', 0.67086), ('bike', 0.14236), ('chip', 0.11169), ('know', 0.11139), ('sounds', 0.10371)]\n",
      "Topic 8: [('card', 0.46633), ('video', 0.22137), ('sale', 0.21266), ('monitor', 0.15463), ('offer', 0.14643)]\n",
      "Topic 9: [('know', 0.46047), ('card', 0.33605), ('chip', 0.17558), ('government', 0.1522), ('video', 0.14356)]\n",
      "Topic 10: [('good', 0.42756), ('know', 0.23039), ('time', 0.1882), ('bike', 0.11406), ('jesus', 0.09027)]\n",
      "Topic 11: [('think', 0.78469), ('chip', 0.10899), ('good', 0.10635), ('thanks', 0.09123), ('clipper', 0.07946)]\n",
      "Topic 12: [('thanks', 0.36824), ('good', 0.22729), ('right', 0.21559), ('bike', 0.21037), ('problem', 0.20894)]\n",
      "Topic 13: [('good', 0.36212), ('people', 0.33985), ('windows', 0.28385), ('know', 0.26232), ('file', 0.18422)]\n",
      "Topic 14: [('space', 0.39946), ('think', 0.23258), ('know', 0.18074), ('nasa', 0.15174), ('problem', 0.12957)]\n",
      "Topic 15: [('space', 0.31613), ('good', 0.3094), ('card', 0.22603), ('people', 0.17476), ('time', 0.14496)]\n",
      "Topic 16: [('people', 0.48156), ('problem', 0.19961), ('window', 0.15281), ('time', 0.14664), ('game', 0.12871)]\n",
      "Topic 17: [('time', 0.34465), ('bike', 0.27303), ('right', 0.25557), ('windows', 0.1997), ('file', 0.19118)]\n",
      "Topic 18: [('time', 0.5973), ('problem', 0.15504), ('file', 0.14956), ('think', 0.12847), ('israel', 0.10903)]\n",
      "Topic 19: [('file', 0.44163), ('need', 0.26633), ('card', 0.18388), ('files', 0.17453), ('right', 0.15448)]\n",
      "Topic 20: [('problem', 0.33006), ('file', 0.27651), ('thanks', 0.23578), ('used', 0.19206), ('space', 0.13185)]\n"
     ]
    }
   ],
   "source": [
    "terms = vectorizer.get_feature_names()\n",
    "\n",
    "def get_topics(components, feature_names, n=5):\n",
    "    for idx, topic in enumerate(components):\n",
    "        print(\"Topic %d:\" % (idx+1), [(feature_names[i], topic[i].round(5)) for i in topic.argsort()[:-n - 1:-1]])\n",
    "\n",
    "get_topics(svd_model.components_, terms)\n"
   ]
  },
  {
   "cell_type": "code",
   "execution_count": 81,
   "metadata": {},
   "outputs": [],
   "source": [
    "### 2) 잠재 디리클레 할당(Latent Dirichlet Allocation, LDA)\n",
    "# 토픽 모델링의 대표적인 알고리즘. \n",
    "# LDA는 문서들은 토픽들이 혼합되어 구성되어 있으며, 토픽들은 확률 분포에 기반하여 단어들 생성한다고 가정\n",
    "# 데이터가 주어지면, LDA는 문서가 생성되는 과정을 역추적합니다. \n",
    "# 참고 링크 : https://lettier.com/projects/lda-topic-modeling/\n"
   ]
  },
  {
   "cell_type": "code",
   "execution_count": 82,
   "metadata": {},
   "outputs": [
    {
     "data": {
      "text/plain": [
       "0    [well, sure, story, seem, biased, disagree, st...\n",
       "1    [yeah, expect, people, read, actually, accept,...\n",
       "2    [although, realize, principle, strongest, poin...\n",
       "3    [notwithstanding, legitimate, fuss, proposal, ...\n",
       "4    [well, change, scoring, playoff, pool, unfortu...\n",
       "Name: clean_doc, dtype: object"
      ]
     },
     "execution_count": 82,
     "metadata": {},
     "output_type": "execute_result"
    }
   ],
   "source": [
    "### 개요\n",
    "# LDA을 일종의 블랙박스로 보고, LDA에 문저 집합을 입력하면, 어떤 결과를 보여주는 보면.... \n",
    "#\n",
    "## 실습 : 전처리 과정은 LSA와 동일... \n",
    "tokenized_doc[:5]"
   ]
  },
  {
   "cell_type": "code",
   "execution_count": 83,
   "metadata": {},
   "outputs": [
    {
     "name": "stdout",
     "output_type": "stream",
     "text": [
      "Defaulting to user installation because normal site-packages is not writeable\n",
      "Collecting gensim\n",
      "  Downloading gensim-4.2.0-cp310-cp310-win_amd64.whl (23.9 MB)\n",
      "     ---------------------------------------- 23.9/23.9 MB 6.2 MB/s eta 0:00:00\n",
      "Requirement already satisfied: numpy>=1.17.0 in c:\\users\\vmuser\\appdata\\roaming\\python\\python310\\site-packages (from gensim) (1.22.3)\n",
      "Collecting smart-open>=1.8.1\n",
      "  Downloading smart_open-6.0.0-py3-none-any.whl (58 kB)\n",
      "     ---------------------------------------- 58.4/58.4 kB ? eta 0:00:00\n",
      "Collecting Cython==0.29.28\n",
      "  Downloading Cython-0.29.28-py2.py3-none-any.whl (983 kB)\n",
      "     -------------------------------------- 983.8/983.8 kB 4.8 MB/s eta 0:00:00\n",
      "Requirement already satisfied: scipy>=0.18.1 in c:\\users\\vmuser\\appdata\\roaming\\python\\python310\\site-packages (from gensim) (1.8.1)\n",
      "Installing collected packages: smart-open, Cython, gensim\n",
      "Successfully installed Cython-0.29.28 gensim-4.2.0 smart-open-6.0.0\n"
     ]
    }
   ],
   "source": [
    "### gensim을 사용.... \n",
    "!pip install gensim"
   ]
  },
  {
   "cell_type": "code",
   "execution_count": 93,
   "metadata": {},
   "outputs": [
    {
     "name": "stdout",
     "output_type": "stream",
     "text": [
      "11314\n"
     ]
    }
   ],
   "source": [
    "from gensim import corpora\n",
    "dictionary = corpora.Dictionary(tokenized_doc)\n",
    "corpus = [dictionary.doc2bow(text) for text in tokenized_doc]\n",
    "print(len(corpus))"
   ]
  },
  {
   "cell_type": "code",
   "execution_count": 90,
   "metadata": {},
   "outputs": [
    {
     "data": {
      "text/plain": [
       "'unis'"
      ]
     },
     "execution_count": 90,
     "metadata": {},
     "output_type": "execute_result"
    }
   ],
   "source": [
    "dictionary[64280]"
   ]
  },
  {
   "cell_type": "code",
   "execution_count": 88,
   "metadata": {},
   "outputs": [
    {
     "data": {
      "text/plain": [
       "64281"
      ]
     },
     "execution_count": 88,
     "metadata": {},
     "output_type": "execute_result"
    }
   ],
   "source": [
    "len(dictionary)"
   ]
  },
  {
   "cell_type": "code",
   "execution_count": 92,
   "metadata": {},
   "outputs": [
    {
     "name": "stdout",
     "output_type": "stream",
     "text": [
      "(0, '0.016*\"israel\" + 0.016*\"armenian\" + 0.014*\"jews\" + 0.013*\"turkish\"')\n",
      "(1, '0.015*\"health\" + 0.012*\"medical\" + 0.008*\"disease\" + 0.007*\"pain\"')\n",
      "(2, '0.077*\"drive\" + 0.050*\"scsi\" + 0.047*\"disk\" + 0.030*\"hard\"')\n",
      "(3, '0.012*\"public\" + 0.010*\"encryption\" + 0.010*\"information\" + 0.009*\"government\"')\n",
      "(4, '0.013*\"said\" + 0.008*\"went\" + 0.007*\"back\" + 0.007*\"know\"')\n",
      "(5, '0.019*\"period\" + 0.017*\"play\" + 0.012*\"power\" + 0.010*\"goal\"')\n",
      "(6, '0.008*\"jesus\" + 0.007*\"would\" + 0.007*\"people\" + 0.006*\"believe\"')\n",
      "(7, '0.010*\"cover\" + 0.010*\"xlib\" + 0.010*\"request\" + 0.009*\"copies\"')\n",
      "(8, '0.017*\"file\" + 0.011*\"program\" + 0.009*\"available\" + 0.008*\"files\"')\n",
      "(9, '0.013*\"like\" + 0.013*\"good\" + 0.009*\"would\" + 0.008*\"much\"')\n",
      "(10, '0.016*\"nist\" + 0.013*\"pitcher\" + 0.012*\"ncsl\" + 0.008*\"riders\"')\n",
      "(11, '0.030*\"game\" + 0.026*\"team\" + 0.021*\"games\" + 0.020*\"year\"')\n",
      "(12, '0.014*\"guns\" + 0.012*\"weapons\" + 0.012*\"control\" + 0.011*\"firearms\"')\n",
      "(13, '0.029*\"space\" + 0.011*\"nasa\" + 0.008*\"research\" + 0.007*\"center\"')\n",
      "(14, '0.027*\"bike\" + 0.013*\"ground\" + 0.012*\"ride\" + 0.009*\"engine\"')\n",
      "(15, '0.007*\"keyboard\" + 0.006*\"data\" + 0.006*\"mail\" + 0.005*\"line\"')\n",
      "(16, '0.034*\"char\" + 0.021*\"water\" + 0.012*\"quadra\" + 0.010*\"exit\"')\n",
      "(17, '0.019*\"would\" + 0.014*\"people\" + 0.010*\"think\" + 0.008*\"like\"')\n",
      "(18, '0.014*\"april\" + 0.013*\"york\" + 0.010*\"washington\" + 0.009*\"david\"')\n",
      "(19, '0.022*\"thanks\" + 0.018*\"anyone\" + 0.017*\"know\" + 0.017*\"windows\"')\n"
     ]
    }
   ],
   "source": [
    "### LDA 모델 훈련시키기\n",
    "import gensim\n",
    "NUM_TOPICS = 20 \n",
    "ldamodel = gensim.models.ldamodel.LdaModel(corpus, num_topics=NUM_TOPICS, id2word=dictionary, \\\n",
    "    passes=15 )\n",
    "topics = ldamodel.print_topics(num_words=4)\n",
    "for topic in topics:\n",
    "    print(topic)"
   ]
  },
  {
   "cell_type": "code",
   "execution_count": 94,
   "metadata": {},
   "outputs": [
    {
     "name": "stdout",
     "output_type": "stream",
     "text": [
      "Defaulting to user installation because normal site-packages is not writeable\n",
      "Collecting pyLDAvis\n",
      "  Downloading pyLDAvis-3.3.1.tar.gz (1.7 MB)\n",
      "     ---------------------------------------- 1.7/1.7 MB 10.5 MB/s eta 0:00:00\n",
      "  Installing build dependencies: started\n",
      "  Installing build dependencies: finished with status 'done'\n",
      "  Getting requirements to build wheel: started\n",
      "  Getting requirements to build wheel: finished with status 'done'\n",
      "  Installing backend dependencies: started\n",
      "  Installing backend dependencies: finished with status 'done'\n",
      "  Preparing metadata (pyproject.toml): started\n",
      "  Preparing metadata (pyproject.toml): finished with status 'done'\n",
      "Requirement already satisfied: scipy in c:\\users\\vmuser\\appdata\\roaming\\python\\python310\\site-packages (from pyLDAvis) (1.8.1)\n",
      "Collecting funcy\n",
      "  Downloading funcy-1.17-py2.py3-none-any.whl (33 kB)\n",
      "Requirement already satisfied: scikit-learn in c:\\users\\vmuser\\appdata\\roaming\\python\\python310\\site-packages (from pyLDAvis) (1.1.1)\n",
      "Requirement already satisfied: jinja2 in c:\\users\\vmuser\\appdata\\roaming\\python\\python310\\site-packages (from pyLDAvis) (3.1.1)\n",
      "Collecting numexpr\n",
      "  Downloading numexpr-2.8.1-cp310-cp310-win_amd64.whl (88 kB)\n",
      "     ---------------------------------------- 88.5/88.5 kB ? eta 0:00:00\n",
      "Requirement already satisfied: joblib in c:\\users\\vmuser\\appdata\\roaming\\python\\python310\\site-packages (from pyLDAvis) (1.1.0)\n",
      "Collecting sklearn\n",
      "  Downloading sklearn-0.0.tar.gz (1.1 kB)\n",
      "  Preparing metadata (setup.py): started\n",
      "  Preparing metadata (setup.py): finished with status 'done'\n",
      "Requirement already satisfied: pandas>=1.2.0 in c:\\users\\vmuser\\appdata\\roaming\\python\\python310\\site-packages (from pyLDAvis) (1.4.2)\n",
      "Requirement already satisfied: gensim in c:\\users\\vmuser\\appdata\\roaming\\python\\python310\\site-packages (from pyLDAvis) (4.2.0)\n",
      "Collecting future\n",
      "  Downloading future-0.18.2.tar.gz (829 kB)\n",
      "     -------------------------------------- 829.2/829.2 kB 3.8 MB/s eta 0:00:00\n",
      "  Preparing metadata (setup.py): started\n",
      "  Preparing metadata (setup.py): finished with status 'done'\n",
      "Requirement already satisfied: setuptools in c:\\program files\\python310\\lib\\site-packages (from pyLDAvis) (58.1.0)\n",
      "Requirement already satisfied: numpy>=1.20.0 in c:\\users\\vmuser\\appdata\\roaming\\python\\python310\\site-packages (from pyLDAvis) (1.22.3)\n",
      "Requirement already satisfied: pytz>=2020.1 in c:\\users\\vmuser\\appdata\\roaming\\python\\python310\\site-packages (from pandas>=1.2.0->pyLDAvis) (2022.1)\n",
      "Requirement already satisfied: python-dateutil>=2.8.1 in c:\\users\\vmuser\\appdata\\roaming\\python\\python310\\site-packages (from pandas>=1.2.0->pyLDAvis) (2.8.2)\n",
      "Requirement already satisfied: Cython==0.29.28 in c:\\users\\vmuser\\appdata\\roaming\\python\\python310\\site-packages (from gensim->pyLDAvis) (0.29.28)\n",
      "Requirement already satisfied: smart-open>=1.8.1 in c:\\users\\vmuser\\appdata\\roaming\\python\\python310\\site-packages (from gensim->pyLDAvis) (6.0.0)\n",
      "Requirement already satisfied: MarkupSafe>=2.0 in c:\\users\\vmuser\\appdata\\roaming\\python\\python310\\site-packages (from jinja2->pyLDAvis) (2.1.1)\n",
      "Requirement already satisfied: packaging in c:\\users\\vmuser\\appdata\\roaming\\python\\python310\\site-packages (from numexpr->pyLDAvis) (21.3)\n",
      "Requirement already satisfied: threadpoolctl>=2.0.0 in c:\\users\\vmuser\\appdata\\roaming\\python\\python310\\site-packages (from scikit-learn->pyLDAvis) (3.1.0)\n",
      "Requirement already satisfied: six>=1.5 in c:\\users\\vmuser\\appdata\\roaming\\python\\python310\\site-packages (from python-dateutil>=2.8.1->pandas>=1.2.0->pyLDAvis) (1.16.0)\n",
      "Requirement already satisfied: pyparsing!=3.0.5,>=2.0.2 in c:\\users\\vmuser\\appdata\\roaming\\python\\python310\\site-packages (from packaging->numexpr->pyLDAvis) (3.0.7)\n",
      "Using legacy 'setup.py install' for future, since package 'wheel' is not installed.\n",
      "Using legacy 'setup.py install' for sklearn, since package 'wheel' is not installed.\n",
      "Building wheels for collected packages: pyLDAvis\n",
      "  Building wheel for pyLDAvis (pyproject.toml): started\n",
      "  Building wheel for pyLDAvis (pyproject.toml): finished with status 'done'\n",
      "  Created wheel for pyLDAvis: filename=pyLDAvis-3.3.1-py2.py3-none-any.whl size=136882 sha256=1281719df3f68b6d624d46561f9dc41d9a6c553c44a5fdd4d3994071637a56b5\n",
      "  Stored in directory: c:\\users\\vmuser\\appdata\\local\\pip\\cache\\wheels\\e9\\95\\74\\4766157910829d2fbc6b913850a62cfd15da77a199302cdf9c\n",
      "Successfully built pyLDAvis\n",
      "Installing collected packages: funcy, future, numexpr, sklearn, pyLDAvis\n",
      "  Running setup.py install for future: started\n",
      "  Running setup.py install for future: finished with status 'done'\n",
      "  Running setup.py install for sklearn: started\n",
      "  Running setup.py install for sklearn: finished with status 'done'\n",
      "Successfully installed funcy-1.17 future-0.18.2 numexpr-2.8.1 pyLDAvis-3.3.1 sklearn-0.0\n"
     ]
    }
   ],
   "source": [
    "### LDA 시각화 하기(pyLDAvis)\n",
    "!pip install pyLDAvis"
   ]
  },
  {
   "cell_type": "code",
   "execution_count": 96,
   "metadata": {},
   "outputs": [
    {
     "name": "stderr",
     "output_type": "stream",
     "text": [
      "C:\\Users\\vmuser\\AppData\\Roaming\\Python\\Python310\\site-packages\\pyLDAvis\\_prepare.py:247: FutureWarning: In a future version of pandas all arguments of DataFrame.drop except for the argument 'labels' will be keyword-only.\n",
      "  by='saliency', ascending=False).head(R).drop('saliency', 1)\n"
     ]
    },
    {
     "data": {
      "text/html": [
       "\n",
       "<link rel=\"stylesheet\" type=\"text/css\" href=\"https://cdn.jsdelivr.net/gh/bmabey/pyLDAvis@3.3.1/pyLDAvis/js/ldavis.v1.0.0.css\">\n",
       "\n",
       "\n",
       "<div id=\"ldavis_el887625280322075046123928125\"></div>\n",
       "<script type=\"text/javascript\">\n",
       "\n",
       "var ldavis_el887625280322075046123928125_data = {\"mdsDat\": {\"x\": [0.2762149702559633, 0.2275567647778154, 0.18459850194725758, 0.23263378939902693, 0.1610381150369511, 0.10250789615973166, 0.18246095545197216, 0.12422559214271117, 0.0118621424069766, -0.005486167099022779, 0.016321652144029263, -0.051194521030726345, -0.16377817278980678, -0.14279905258355363, -0.1918477310742561, -0.14530581666521508, -0.1720781021153855, -0.1717041941737945, -0.23103758690478535, -0.24418903528588928], \"y\": [-0.05606008916722846, -0.03934817137280358, 0.1348035218923086, -0.1208950440563349, -0.1376002353286798, 0.21971556386000476, -0.06942103006554703, 0.056377820327564866, 0.2074796469876398, 0.10973518347434454, -0.2060321565103956, 0.07238499197863976, 0.02553407548746121, 0.0750626435498992, -0.10992245230955502, -0.015084242432366241, -0.06363305127548914, -0.013495510377652243, -0.034623624205701316, -0.03497784045610885], \"topics\": [1, 2, 3, 4, 5, 6, 7, 8, 9, 10, 11, 12, 13, 14, 15, 16, 17, 18, 19, 20], \"cluster\": [1, 1, 1, 1, 1, 1, 1, 1, 1, 1, 1, 1, 1, 1, 1, 1, 1, 1, 1, 1], \"Freq\": [19.479509817653067, 13.122400299095213, 11.062674185693371, 9.126662743264582, 7.165686480487755, 6.313782899538177, 5.365078709844152, 4.714121772131648, 4.5012641959375825, 3.84351660370016, 2.873441177533148, 2.6432328239945133, 1.8752339420759792, 1.8693132646712969, 1.6702547249664184, 1.174293187147988, 1.1691918771929715, 1.1321099513243977, 0.566340458461345, 0.33189088528623684]}, \"tinfo\": {\"Term\": [\"drive\", \"would\", \"space\", \"file\", \"know\", \"thanks\", \"people\", \"windows\", \"year\", \"good\", \"game\", \"hard\", \"anyone\", \"disk\", \"like\", \"system\", \"team\", \"program\", \"said\", \"scsi\", \"please\", \"government\", \"problem\", \"think\", \"public\", \"card\", \"armenian\", \"power\", \"games\", \"israel\", \"jobs\", \"henrik\", \"billion\", \"economy\", \"taxes\", \"batf\", \"crimes\", \"blame\", \"income\", \"compromise\", \"joke\", \"senator\", \"letting\", \"arrest\", \"serbs\", \"homeland\", \"reform\", \"deficit\", \"slaughter\", \"assertion\", \"patent\", \"inner\", \"intervention\", \"gays\", \"paranoid\", \"balloon\", \"stimulus\", \"answering\", \"implied\", \"employer\", \"violent\", \"award\", \"spending\", \"dealing\", \"abuse\", \"favor\", \"president\", \"money\", \"people\", \"country\", \"going\", \"would\", \"majority\", \"care\", \"think\", \"continue\", \"serious\", \"stupid\", \"obviously\", \"keep\", \"right\", \"reasons\", \"make\", \"want\", \"well\", \"perhaps\", \"know\", \"could\", \"force\", \"like\", \"even\", \"sure\", \"time\", \"might\", \"much\", \"really\", \"feel\", \"take\", \"many\", \"government\", \"question\", \"enough\", \"something\", \"years\", \"long\", \"work\", \"anything\", \"point\", \"good\", \"also\", \"believe\", \"since\", \"said\", \"jesus\", \"bible\", \"church\", \"christians\", \"faith\", \"christ\", \"christianity\", \"belief\", \"spirit\", \"lord\", \"holy\", \"beliefs\", \"atheism\", \"atheists\", \"morality\", \"heaven\", \"judas\", \"eternal\", \"religions\", \"catholic\", \"scripture\", \"interpretation\", \"atheist\", \"biblical\", \"doctrine\", \"reasoning\", \"pope\", \"worship\", \"passage\", \"passages\", \"christian\", \"matthew\", \"religion\", \"truth\", \"conclusion\", \"islam\", \"moral\", \"religious\", \"existence\", \"argument\", \"objective\", \"life\", \"evidence\", \"exist\", \"word\", \"believe\", \"true\", \"meaning\", \"human\", \"people\", \"love\", \"must\", \"many\", \"world\", \"would\", \"words\", \"even\", \"think\", \"fact\", \"book\", \"question\", \"cannot\", \"also\", \"things\", \"point\", \"know\", \"time\", \"find\", \"motif\", \"widget\", \"jpeg\", \"contrib\", \"entries\", \"xterm\", \"postscript\", \"microsoft\", \"filename\", \"uuencode\", \"visual\", \"widgets\", \"formats\", \"clients\", \"libraries\", \"routines\", \"toolkit\", \"binaries\", \"database\", \"pixel\", \"shareware\", \"platforms\", \"binary\", \"graphic\", \"compiled\", \"colormap\", \"client\", \"ansi\", \"prog\", \"entry\", \"server\", \"string\", \"file\", \"image\", \"directory\", \"contest\", \"comp\", \"format\", \"files\", \"window\", \"unix\", \"output\", \"graphics\", \"printf\", \"version\", \"display\", \"program\", \"user\", \"available\", \"software\", \"code\", \"export\", \"application\", \"info\", \"section\", \"include\", \"size\", \"source\", \"line\", \"build\", \"based\", \"data\", \"information\", \"name\", \"also\", \"using\", \"windows\", \"number\", \"stereo\", \"sleeve\", \"battery\", \"stealth\", \"gear\", \"outlets\", \"magazines\", \"engines\", \"toyota\", \"repair\", \"deck\", \"batteries\", \"slip\", \"diagnosed\", \"plugs\", \"mild\", \"sensor\", \"trinity\", \"lawyers\", \"lighter\", \"cassette\", \"premises\", \"rolling\", \"stomach\", \"kits\", \"wealth\", \"dealership\", \"accessories\", \"sounding\", \"panasonic\", \"price\", \"selling\", \"offer\", \"sony\", \"hanging\", \"pack\", \"sale\", \"buying\", \"dealer\", \"shipping\", \"monitor\", \"sell\", \"picture\", \"condition\", \"sound\", \"quality\", \"cheap\", \"prices\", \"expensive\", \"cars\", \"sold\", \"good\", \"bought\", \"speed\", \"excellent\", \"little\", \"like\", \"much\", \"best\", \"asking\", \"stuff\", \"used\", \"better\", \"really\", \"high\", \"also\", \"power\", \"less\", \"would\", \"make\", \"well\", \"time\", \"still\", \"around\", \"think\", \"since\", \"thing\", \"back\", \"even\", \"know\", \"probably\", \"never\", \"apartment\", \"sumgait\", \"karina\", \"braves\", \"mamma\", \"crowd\", \"weaver\", \"prison\", \"knife\", \"compound\", \"payload\", \"lyuda\", \"sister\", \"marina\", \"shouting\", \"fingers\", \"walls\", \"prediction\", \"ctrl\", \"forwards\", \"aunt\", \"lopez\", \"jays\", \"suck\", \"beaten\", \"pitchers\", \"investigator\", \"bedroom\", \"balcony\", \"coat\", \"went\", \"tear\", \"fired\", \"tragedy\", \"night\", \"pulled\", \"fire\", \"floor\", \"started\", \"beating\", \"azerbaijanis\", \"took\", \"daughter\", \"azerbaijani\", \"home\", \"broke\", \"came\", \"said\", \"told\", \"left\", \"face\", \"happened\", \"room\", \"building\", \"woman\", \"koresh\", \"back\", \"door\", \"later\", \"says\", \"near\", \"women\", \"time\", \"three\", \"know\", \"around\", \"days\", \"last\", \"first\", \"could\", \"people\", \"right\", \"going\", \"like\", \"even\", \"well\", \"would\", \"something\", \"come\", \"still\", \"take\", \"encryption\", \"clipper\", \"privacy\", \"ripem\", \"escrow\", \"amendment\", \"cryptography\", \"agencies\", \"encrypted\", \"crypto\", \"crypt\", \"wiretap\", \"phones\", \"cipher\", \"cryptographic\", \"classified\", \"plaintext\", \"tobacco\", \"decrypt\", \"cryptology\", \"denning\", \"cryptanalysis\", \"ieee\", \"deaf\", \"telecommunications\", \"liberties\", \"libertarians\", \"cryptosystem\", \"encrypt\", \"hellman\", \"secure\", \"enforcement\", \"militia\", \"security\", \"secret\", \"keys\", \"academic\", \"communications\", \"public\", \"algorithm\", \"chip\", \"internet\", \"technology\", \"government\", \"electronic\", \"information\", \"users\", \"private\", \"anonymous\", \"service\", \"phone\", \"message\", \"access\", \"system\", \"computer\", \"data\", \"mail\", \"used\", \"number\", \"part\", \"modem\", \"simms\", \"cache\", \"gateway\", \"ports\", \"macs\", \"clone\", \"centris\", \"ethernet\", \"config\", \"megs\", \"pointer\", \"floppies\", \"svga\", \"upgraded\", \"enemies\", \"solaris\", \"icons\", \"iisi\", \"wordperfect\", \"sunview\", \"palette\", \"appreciated\", \"hangs\", \"deskjet\", \"cartridges\", \"reboot\", \"summaries\", \"scratch\", \"xputimage\", \"printer\", \"port\", \"norton\", \"advance\", \"thanx\", \"thanks\", \"card\", \"video\", \"slower\", \"hello\", \"memory\", \"cards\", \"mouse\", \"adapter\", \"windows\", \"drivers\", \"anyone\", \"please\", \"driver\", \"greatly\", \"motherboard\", \"screen\", \"problem\", \"apple\", \"help\", \"appreciate\", \"mail\", \"know\", \"running\", \"board\", \"serial\", \"computer\", \"anybody\", \"need\", \"machine\", \"would\", \"using\", \"system\", \"looking\", \"like\", \"work\", \"could\", \"software\", \"email\", \"circuit\", \"audio\", \"voltage\", \"cursor\", \"slots\", \"circuits\", \"wires\", \"hash\", \"outlet\", \"pointers\", \"offset\", \"preferably\", \"simm\", \"digest\", \"rows\", \"keyboards\", \"watts\", \"inputs\", \"coprocessor\", \"publisher\", \"handles\", \"amplifier\", \"programmers\", \"frequencies\", \"gamma\", \"intrinsics\", \"sampling\", \"soundblaster\", \"darkness\", \"unclear\", \"catalog\", \"frequency\", \"electronics\", \"wire\", \"chain\", \"plastic\", \"keyboard\", \"signal\", \"plug\", \"cable\", \"cycle\", \"signals\", \"sync\", \"scope\", \"electrical\", \"mailing\", \"supply\", \"input\", \"phone\", \"reference\", \"current\", \"connected\", \"digital\", \"line\", \"data\", \"mail\", \"list\", \"company\", \"number\", \"unit\", \"power\", \"system\", \"points\", \"used\", \"please\", \"also\", \"send\", \"email\", \"point\", \"need\", \"output\", \"work\", \"using\", \"launch\", \"satellite\", \"shuttle\", \"orbit\", \"lunar\", \"satellites\", \"spacecraft\", \"launched\", \"mars\", \"missions\", \"planetary\", \"telescope\", \"astronomy\", \"allocation\", \"propulsion\", \"orbital\", \"financial\", \"venus\", \"ozone\", \"aerospace\", \"molecular\", \"gravity\", \"nasa\", \"homicides\", \"observatory\", \"recognition\", \"astro\", \"launches\", \"exploration\", \"titan\", \"moon\", \"space\", \"solar\", \"flight\", \"mission\", \"ames\", \"energy\", \"avenue\", \"rocket\", \"earth\", \"center\", \"research\", \"project\", \"station\", \"university\", \"science\", \"program\", \"development\", \"national\", \"data\", \"technology\", \"nuclear\", \"year\", \"international\", \"cost\", \"also\", \"first\", \"april\", \"information\", \"turkish\", \"israeli\", \"turkey\", \"arab\", \"armenia\", \"turks\", \"muslim\", \"genocide\", \"palestinian\", \"villages\", \"arabs\", \"greece\", \"nazis\", \"republic\", \"argic\", \"civilians\", \"ottoman\", \"serdar\", \"massacre\", \"azeri\", \"ethnic\", \"occupied\", \"lebanon\", \"palestine\", \"cyprus\", \"azeris\", \"palestinians\", \"israelis\", \"lebanese\", \"holocaust\", \"israel\", \"armenian\", \"nazi\", \"jews\", \"armenians\", \"jewish\", \"greek\", \"german\", \"azerbaijan\", \"army\", \"troops\", \"peace\", \"killed\", \"germany\", \"population\", \"russian\", \"land\", \"soviet\", \"history\", \"government\", \"anti\", \"people\", \"world\", \"state\", \"players\", \"teams\", \"baseball\", \"stats\", \"score\", \"pitching\", \"cubs\", \"games\", \"espn\", \"hitter\", \"phillies\", \"game\", \"yankees\", \"finals\", \"cooper\", \"clemens\", \"coach\", \"arena\", \"habs\", \"alomar\", \"stewart\", \"innings\", \"inning\", \"stadium\", \"pitched\", \"males\", \"scored\", \"neck\", \"ingr\", \"glutamate\", \"hockey\", \"fans\", \"season\", \"team\", \"morris\", \"pens\", \"hawks\", \"scores\", \"player\", \"playoffs\", \"pitch\", \"defensive\", \"league\", \"playing\", \"roger\", \"wins\", \"year\", \"play\", \"played\", \"ball\", \"pick\", \"runs\", \"last\", \"series\", \"good\", \"average\", \"dave\", \"best\", \"better\", \"first\", \"great\", \"think\", \"points\", \"well\", \"disease\", \"patients\", \"medicine\", \"cancer\", \"diseases\", \"aids\", \"patient\", \"diet\", \"symptoms\", \"syndrome\", \"hicnet\", \"infections\", \"infection\", \"myers\", \"prevention\", \"surgery\", \"exhaust\", \"illness\", \"clinical\", \"cure\", \"therapy\", \"foods\", \"chronic\", \"vitamin\", \"kidney\", \"restaurant\", \"intake\", \"protein\", \"immune\", \"potvin\", \"medical\", \"health\", \"doctors\", \"acid\", \"pain\", \"treatment\", \"food\", \"doctor\", \"study\", \"drug\", \"among\", \"newsletter\", \"blood\", \"reported\", \"cause\", \"drugs\", \"studies\", \"report\", \"risk\", \"page\", \"number\", \"years\", \"children\", \"research\", \"april\", \"navy\", \"rockefeller\", \"baltimore\", \"senators\", \"dallas\", \"football\", \"astros\", \"storm\", \"rochester\", \"cincinnati\", \"denver\", \"intentional\", \"cape\", \"pennsylvania\", \"canadiens\", \"moncton\", \"qemm\", \"riley\", \"prints\", \"streak\", \"providence\", \"pace\", \"echl\", \"volvo\", \"memorial\", \"univ\", \"mack\", \"adirondack\", \"carrier\", \"somalia\", \"diego\", \"standings\", \"ottawa\", \"campbell\", \"york\", \"colorado\", \"francisco\", \"atlanta\", \"thursday\", \"bruce\", \"finland\", \"houston\", \"sports\", \"philadelphia\", \"april\", \"conference\", \"angeles\", \"saturday\", \"washington\", \"chicago\", \"andrew\", \"north\", \"doug\", \"east\", \"friday\", \"david\", \"city\", \"john\", \"west\", \"university\", \"division\", \"pittsburgh\", \"south\", \"college\", \"league\", \"lost\", \"american\", \"news\", \"california\", \"national\", \"bill\", \"street\", \"firearms\", \"weapon\", \"compass\", \"candida\", \"firearm\", \"handgun\", \"prophecy\", \"district\", \"commander\", \"yeast\", \"idaho\", \"deeds\", \"mainstream\", \"lotus\", \"election\", \"ammunition\", \"horror\", \"collaboration\", \"legislative\", \"pistol\", \"marijuana\", \"socialist\", \"bronx\", \"confidential\", \"hussein\", \"practicing\", \"cigarettes\", \"shotgun\", \"declined\", \"archer\", \"concealed\", \"reagan\", \"weapons\", \"rkba\", \"guns\", \"assault\", \"crime\", \"vice\", \"victim\", \"england\", \"smokeless\", \"police\", \"defense\", \"control\", \"carry\", \"laws\", \"united\", \"vancouver\", \"section\", \"media\", \"states\", \"license\", \"self\", \"military\", \"state\", \"court\", \"federal\", \"shall\", \"puck\", \"calgary\", \"wiring\", \"scorer\", \"flyers\", \"hartford\", \"nubus\", \"winnipeg\", \"sharks\", \"lemieux\", \"lindros\", \"edmonton\", \"gilmour\", \"gretzky\", \"jagr\", \"conductor\", \"recchi\", \"sabres\", \"penguins\", \"stevens\", \"sanderson\", \"soderstrom\", \"vernon\", \"tocchet\", \"powerpc\", \"otto\", \"amour\", \"selanne\", \"fleury\", \"unassisted\", \"jersey\", \"islanders\", \"kings\", \"quebec\", \"period\", \"flames\", \"goal\", \"play\", \"penalty\", \"buffalo\", \"goals\", \"detroit\", \"montreal\", \"murphy\", \"pittsburgh\", \"power\", \"draft\", \"vancouver\", \"shots\", \"scoring\", \"third\", \"second\", \"chicago\", \"first\", \"guidelines\", \"icon\", \"ghost\", \"hulk\", \"sockets\", \"seagate\", \"wolverine\", \"comics\", \"fleet\", \"invalid\", \"truetype\", \"gifs\", \"variables\", \"impulse\", \"logo\", \"restraint\", \"partition\", \"comic\", \"parliament\", \"oxford\", \"revenues\", \"udel\", \"batman\", \"punisher\", \"infinity\", \"newest\", \"paperback\", \"biker\", \"syntax\", \"wont\", \"mask\", \"expose\", \"dragon\", \"xlib\", \"quest\", \"titles\", \"compress\", \"copies\", \"shipped\", \"categories\", \"cover\", \"annual\", \"nick\", \"request\", \"requests\", \"appears\", \"book\", \"copy\", \"send\", \"green\", \"books\", \"stat\", \"list\", \"issue\", \"email\", \"dark\", \"event\", \"main\", \"title\", \"print\", \"black\", \"bike\", \"ride\", \"bikes\", \"helmet\", \"tires\", \"wheel\", \"motorcycles\", \"tire\", \"brake\", \"steering\", \"grounded\", \"wrap\", \"garage\", \"torque\", \"corn\", \"spots\", \"wheels\", \"countersteering\", \"brakes\", \"slide\", \"riding\", \"pipes\", \"debugger\", \"lean\", \"braking\", \"orchid\", \"paranoia\", \"offenses\", \"fairing\", \"adjustable\", \"motorcycle\", \"autos\", \"rear\", \"honda\", \"neutral\", \"receiver\", \"ground\", \"rider\", \"engine\", \"lock\", \"road\", \"front\", \"miles\", \"panel\", \"cars\", \"turn\", \"left\", \"side\", \"scsi\", \"drives\", \"floppy\", \"pitt\", \"adaptec\", \"skepticism\", \"intellect\", \"shameful\", \"cadre\", \"chastity\", \"jumper\", \"maine\", \"controller\", \"laptop\", \"controllers\", \"esdi\", \"optical\", \"burnt\", \"leagues\", \"trades\", \"encrypting\", \"interleave\", \"accusing\", \"sqrt\", \"netware\", \"prep\", \"blaster\", \"zinc\", \"jumpers\", \"veto\", \"disks\", \"drive\", \"disk\", \"cylinders\", \"surrender\", \"gordon\", \"boot\", \"tape\", \"banks\", \"bios\", \"hard\", \"slave\", \"tapes\", \"vesa\", \"master\", \"transfer\", \"soon\", \"interface\", \"system\", \"card\", \"char\", \"quadra\", \"ciphertext\", \"cooling\", \"joystick\", \"toshiba\", \"asynchronous\", \"davidian\", \"bird\", \"gangs\", \"studio\", \"towers\", \"uniforms\", \"motto\", \"unsigned\", \"darken\", \"scratches\", \"cmap\", \"xdefaults\", \"panicking\", \"fossil\", \"tongues\", \"divorce\", \"garrett\", \"override\", \"cleaner\", \"snapped\", \"pliers\", \"awfully\", \"reactor\", \"temp\", \"exit\", \"plants\", \"water\", \"marriage\", \"steam\", \"burst\", \"married\", \"fundamentalist\", \"judges\", \"null\", \"till\", \"radius\", \"dennis\", \"tower\", \"adams\", \"nuclear\", \"void\", \"define\", \"pitcher\", \"riders\", \"harley\", \"isaiah\", \"promo\", \"amps\", \"lamp\", \"profile\", \"invaded\", \"scrolls\", \"joshua\", \"flavor\", \"winmarks\", \"kingman\", \"immaculate\", \"walker\", \"armies\", \"impaired\", \"yount\", \"columns\", \"realizes\", \"omniscient\", \"mcnulty\", \"predicts\", \"burrows\", \"goldin\", \"residue\", \"additives\", \"optimistic\", \"shadows\", \"shaft\", \"ncsl\", \"fork\", \"nist\", \"nolan\", \"copper\", \"waves\", \"attribute\", \"strip\", \"queen\", \"murray\", \"escape\", \"wave\"], \"Freq\": [976.0, 6480.0, 1371.0, 1936.0, 3668.0, 1280.0, 4384.0, 1301.0, 1570.0, 2598.0, 828.0, 796.0, 1663.0, 631.0, 4196.0, 2093.0, 762.0, 1675.0, 1890.0, 539.0, 1544.0, 1314.0, 1671.0, 3212.0, 980.0, 766.0, 678.0, 1136.0, 570.0, 611.0, 259.4218786504519, 163.49659051672742, 162.30117019419697, 115.6908767018129, 108.47734770338197, 108.19491114919515, 106.37911145839915, 83.23519924396503, 82.21076982076227, 79.3374762579574, 72.51531187094758, 66.08080879046558, 67.10373848347032, 62.36420123616937, 60.377486444683846, 58.67239607911907, 57.78339175137839, 56.07811730340663, 54.962870283303026, 51.77283586835238, 51.06309531987646, 50.270127866693265, 50.038914949341965, 49.83834092437542, 47.68199960904923, 47.37452243332513, 46.53015267508788, 46.451441203539986, 45.321232073681074, 44.75464537466603, 91.71336354994966, 77.25927792439286, 86.02111321952874, 79.8618728935499, 110.5115557558675, 79.32650169798852, 506.4632408777949, 454.5467178624202, 2664.3198792647195, 339.3653162928578, 957.2318947329309, 3448.2295684409987, 174.5134244689522, 326.23114483883217, 1770.6828686998015, 205.28049235084814, 211.40354965547917, 150.83970143048506, 198.41478164621142, 496.8892231747005, 990.8123373541607, 198.90169044104192, 1073.551185458655, 923.3674021293589, 1187.8812600378342, 367.49484061921333, 1457.2689270669346, 1145.0522574090448, 281.34332125690685, 1497.3053346116246, 982.2205833746945, 610.3214520564156, 1143.2699932014493, 603.9416322791826, 868.5902818230724, 665.1074949452521, 318.3484979477943, 614.169380751336, 818.4976906095313, 569.9922452008637, 517.6242221830594, 457.6076401256304, 642.2565011538255, 585.0512689292538, 527.7092959614289, 614.4193430032567, 479.6224233407995, 543.0627649139668, 703.9262731664287, 692.693261498152, 537.326194036972, 543.7854074734964, 520.4711757191012, 980.3974671501805, 563.99287191307, 491.4884103570946, 451.830032320644, 406.737679944379, 405.74999761245937, 257.2033627033566, 227.5833969005534, 215.31781207029078, 213.42328563098872, 201.66070392391555, 194.46096657554529, 185.597035559754, 175.51670883069147, 167.8209127725733, 166.4202566774388, 149.46849120436622, 149.09781125326705, 143.67434106823814, 143.56820533759242, 137.91571540003068, 130.060708451392, 125.8128866125287, 116.49345459574488, 109.96697521271327, 105.69004811163164, 101.05699369056002, 100.63048123895484, 98.24979479687988, 97.14573518339863, 611.3092456395146, 197.3723827327124, 422.99131303001656, 409.9886283158853, 183.1819553053083, 191.8070918689746, 243.87261281052704, 278.73273670824733, 218.89897021876416, 324.5300637616619, 211.1790291937431, 529.8194717235593, 389.54103636286817, 309.054117446856, 421.9841396553282, 718.2729954644143, 548.1964321644738, 220.04813934140785, 344.1445595273535, 892.8589924137939, 275.19829287036197, 489.1926106158805, 600.7356467195432, 433.77741683694137, 902.2784765049101, 285.5908410113213, 557.937343392028, 578.1676452320229, 387.84604509718, 325.2197782361646, 384.671251847869, 319.7818356600978, 529.624094444548, 387.18043182226864, 389.432055756968, 445.8706168158899, 384.3060573998245, 340.1229271548725, 467.3424540507309, 411.4487239863555, 280.8950577188245, 258.9003466403679, 253.9125698335866, 209.36889832391046, 191.74839585009408, 158.97629971159805, 157.22446883638068, 151.81575327364533, 149.3614558667606, 140.9739821102481, 138.67199750259596, 125.31411335342652, 123.81532539902723, 120.42725115563285, 115.2248417051655, 110.38953758669862, 106.45636456568896, 105.72989007341906, 105.70345917826799, 104.00029607974339, 99.22413862241262, 95.66695092702794, 93.27851552271837, 87.722720453392, 188.5696656115235, 85.42758647794048, 85.26622764642144, 719.279040815462, 643.5356961934758, 178.6846953124269, 1820.774358571802, 663.0132365583877, 361.2657645587104, 189.08115078446318, 347.9127877744387, 375.46831812914075, 815.6909764707779, 754.8949487626271, 339.819964997514, 758.692535842201, 538.1895030190925, 228.56257407268154, 768.387717801104, 497.1975337793765, 1160.5054582148325, 416.1532019383627, 983.8032276286572, 741.5726460837564, 541.743271547957, 281.84221604157165, 359.66087174974234, 535.9329515090151, 352.4286704047863, 402.14689376720196, 366.9606446805336, 428.9210092812675, 495.62058466225733, 346.7832083084246, 449.9158724349168, 504.8862307522651, 526.8201593812863, 469.0904106905027, 637.4977924952155, 455.98540957306943, 420.3709775251219, 410.4884055622535, 94.28103448345254, 83.00765568485129, 104.20159159140758, 78.67683638653067, 72.23359381351342, 66.7060607087142, 64.38764301020025, 60.59026418899392, 59.56287442002247, 51.594918988874944, 51.381284055679785, 44.53320102660387, 41.04074245415423, 40.45404925015774, 39.8744055068389, 39.1501653772132, 38.26149194782288, 37.753963755999024, 37.42104352632842, 34.357326100295374, 34.231024320108396, 32.460813169455214, 32.45267293220637, 31.85092701152723, 31.16860060582259, 30.98731353968797, 30.467548356748992, 30.526648153390813, 30.239819575577958, 30.12484411490363, 589.7577483833596, 149.24570221720603, 348.10404247698386, 101.15602164349177, 81.8389317125278, 62.847202675927, 314.1390458791444, 154.83232497188826, 121.49051185938669, 253.79742801459167, 297.03205699648385, 291.80489331911866, 210.49167025349806, 266.32725458873847, 314.5325777725183, 237.63938430860486, 156.99797814325981, 116.57548277628636, 145.59387357763393, 194.15266925103768, 138.1715398075424, 1091.6450525864595, 186.40645093998864, 306.2337466835988, 184.90688175016956, 458.2104185920669, 1155.9908452899813, 716.1573433251888, 418.13551059461224, 197.91066342795432, 272.3783350808201, 568.9774704662609, 389.04158732074313, 437.3535935265664, 321.29900476013574, 646.332544390838, 357.3924666583377, 293.3332995974528, 768.9620502192586, 444.603696212754, 473.7907261453896, 506.7607112815946, 373.83074354891613, 330.2026435542029, 470.60582090560575, 340.03493400734, 307.88750602017194, 329.525002414375, 344.94823814144394, 350.4186399208089, 304.730626128199, 301.7531206383265, 176.72280414076485, 125.67242626278194, 125.17186074070067, 98.35939235296827, 90.71417075993627, 89.19074926923057, 74.91964878017832, 65.32369706577467, 64.09188508552147, 101.4131981447866, 59.142748924699724, 58.382997963511755, 52.600443670068465, 50.743866837935236, 48.388584685356925, 46.70357261697492, 45.75945456214562, 45.65647427756294, 42.83981033629755, 40.792206331003314, 40.22195295533547, 40.142306848878555, 39.368367369000936, 38.995888878639036, 38.223196172020785, 37.8710444674178, 37.28573023010887, 35.86991363661883, 35.745487258654606, 35.689251013045265, 553.9717756236929, 60.2302658208618, 94.92975413122132, 49.947103042478815, 253.3017209140048, 66.59550935615741, 249.96443154607613, 117.72122340875495, 363.65394873114616, 65.91643219312257, 74.40987386584258, 334.989380741771, 101.32219564675637, 109.46289210300233, 388.18050415579495, 73.30275514473054, 371.4695042478746, 898.1042027560237, 366.8435213592974, 399.5879775830453, 223.3240019349316, 214.45532532745517, 174.40356688027597, 205.9824932548756, 147.45371443594448, 129.6157908336036, 497.0338635505077, 137.43924921980994, 248.74754897852614, 272.7063246575201, 186.35071388027998, 182.3896554857583, 474.6706230462052, 258.88686678584776, 477.6653007157807, 280.75233804547497, 210.4507533511913, 306.58936768145026, 372.186753385812, 385.4798259773609, 426.5649642747979, 320.1834185077521, 284.6596378077014, 362.8228727795997, 307.1755821448187, 287.75192228861073, 325.90942984139764, 254.1774735712287, 239.14752234704795, 245.6696681145685, 241.04631420474908, 597.1920844693946, 447.72184741462854, 376.91988426564814, 263.81361729203326, 219.76942288519015, 213.90767924667657, 201.24856539842708, 203.08727622873886, 167.2580782587888, 166.09468358055904, 114.11770393548314, 113.06210742106357, 110.01282398330615, 98.18083659440724, 81.17023440100168, 79.01227057282236, 77.17103272948904, 172.95565028467018, 64.6591595066275, 63.757991565746025, 59.65984329547917, 57.25101024958725, 56.092820516233786, 55.09828646368731, 53.607173293967904, 52.53561097088869, 51.20686891702365, 45.901682347801, 45.586019814268234, 44.96878284479775, 256.6784837140471, 230.9188991543763, 163.766827263046, 509.3785504386837, 281.71671836776034, 422.305627768739, 73.21644687676769, 194.65331411353006, 717.0182125477904, 238.74910170289613, 484.8101436615183, 345.89411688079394, 326.28334463888274, 547.0230703295351, 158.51240908737398, 579.9723438705348, 235.67119984266984, 224.44174361135222, 242.36831783025707, 246.62571705724474, 258.78983117145975, 279.74314927586613, 257.83035240510645, 422.4492463421294, 274.7096481941209, 276.66100764934816, 267.14475393493956, 281.7880643687349, 237.77597706622652, 226.41612696299782, 284.4546965030302, 142.60222015729, 116.92516473858217, 100.67511658682545, 108.21294791365686, 82.0027164207159, 71.98280218492195, 69.77243698846686, 68.44502015103744, 63.67885383846173, 58.78928304430225, 56.110673920480515, 53.07111459130521, 80.4502022694478, 41.39154458307015, 41.38822222354373, 40.14812618016648, 36.258609462415514, 36.211780297887785, 35.682200961167084, 34.88734284750225, 33.04149178784964, 285.28348503351026, 30.79114196467037, 30.668217644562148, 30.603884953947727, 30.48976160597817, 30.152765791752273, 27.56434053661949, 25.88564233547443, 220.99080588714074, 255.9084108370798, 100.56746498048277, 329.4811976625786, 57.59065684761701, 1152.2635701695706, 684.0327652283328, 412.52128953054114, 66.17179257208869, 161.29021215069233, 474.11332580786336, 236.10979640364008, 270.54597535340565, 98.48186422606392, 869.9405520283949, 261.4004321822047, 901.6223816007184, 790.7675196365011, 275.1891189276825, 143.2353771837348, 130.18574543782947, 273.8322124214943, 693.3925379592304, 257.63379504902076, 528.155291114282, 152.16119130604105, 476.35439747979785, 893.3966727334468, 285.10537793214763, 214.15041954182738, 199.60029809669962, 323.41679997965207, 229.60942403039886, 464.27613538128384, 246.62236227807918, 832.2957014742419, 415.2061854890861, 465.19413254565467, 284.69018439190484, 549.6315002721839, 391.6507160941381, 448.2030252420798, 285.49718969619005, 260.4339297616959, 148.3126610676011, 145.31033010594732, 108.76043645273674, 82.27381161965357, 80.1613226416071, 76.81065227460016, 75.2204575226079, 65.00002088098721, 62.339273645017855, 59.631168518058324, 55.87985856927162, 52.45896372446727, 56.34791344009594, 49.352540789268105, 46.72697130499486, 42.95248030797336, 40.50080013160378, 40.42525601465686, 38.752496794347465, 38.493170937088294, 37.585682426371186, 37.52198826421939, 37.32834553764132, 36.32937495662391, 35.18877881017024, 33.956682249833, 33.305071002719515, 32.680443166602366, 30.251110715684547, 30.02421631365415, 72.74509053920754, 83.35467319743077, 105.89930915410389, 195.4926193000165, 101.04080672400582, 101.30229188306755, 305.5680810325612, 124.59110604907953, 108.1235682055519, 196.00693144683453, 66.18870080022633, 65.56262906205431, 50.612304714206616, 70.62301572864436, 88.83877043253572, 111.55547444134457, 125.4757279729894, 182.1617398579477, 217.11295354164577, 150.05254470013458, 236.00411898169293, 94.01000475233982, 126.49949907859353, 243.08228932639668, 260.649781797378, 248.159248110219, 223.64547041725154, 133.92727715640825, 210.8185258948914, 120.41790940805775, 175.63630884650954, 200.7101213778619, 122.02357042126204, 197.58011907661972, 181.48963096678125, 218.28916506528222, 149.34060402814416, 133.05035953747353, 138.86934246985595, 136.4395409473087, 124.75634504721347, 125.58252955583556, 124.60567609522303, 274.0105450300908, 231.02330479844795, 202.06779135900575, 193.9442496102302, 176.17123211326765, 118.907541147278, 114.74505222332917, 96.50850950413951, 91.68045873385155, 86.63608885344108, 83.42632782164087, 83.412425668124, 79.0858532994267, 71.05410679973684, 69.57815649698719, 69.3545059776126, 65.65395588904249, 55.8806318704323, 54.77047134779869, 54.70465380890239, 54.699824587108374, 54.68959064040499, 488.3287058861689, 54.088209902364596, 52.112868022364296, 51.44563971917811, 50.93607925209798, 49.782515785817196, 49.73903777654628, 47.63743551741326, 167.63722152512528, 1257.8619659367916, 130.60530754861702, 166.4921805093266, 178.99964476333773, 72.71465348001597, 127.4364672905056, 70.52716113419824, 113.52266358882753, 271.79062433481687, 312.7787569099829, 336.8491196613447, 163.57549068573684, 166.0736946613442, 279.2261846376292, 211.78538665855046, 299.40724729171103, 134.94214889464212, 167.2765862511728, 212.03680645433437, 150.03185058785144, 102.82665294068995, 176.11942682413635, 117.98306295153066, 126.24055179931003, 161.8846024803415, 147.30191402738, 125.75895077488605, 130.95241099279642, 478.4333514436748, 374.5535973623862, 301.33337499248864, 247.74385520154635, 232.7395636058073, 223.9705260871117, 209.46138541231986, 200.76769137318985, 129.17190894945696, 127.27622905836797, 117.19790201914977, 110.99425186536327, 103.70099278794994, 103.52570126011763, 98.95436212153847, 98.50506167335317, 95.96460363352266, 94.82368320226065, 92.65210567609728, 91.56773558561176, 91.19173607030237, 85.13839684194686, 84.88997530564781, 82.71255216469054, 79.17286148258599, 79.09042464003953, 78.80996332324008, 76.99555798871515, 71.28331551131491, 66.50799518282292, 602.2567365122414, 591.2477687961523, 160.56160409819427, 505.3699785987635, 454.5907295737594, 264.02806295809086, 235.66421698636725, 150.35030641485616, 142.8524251809956, 164.0473681292032, 116.02512982423747, 180.44269384415418, 209.17148052191337, 139.1684230202222, 166.7451022641387, 183.61423044133062, 157.1392701154312, 134.55725849430462, 170.4538200944792, 196.47083974330937, 145.2451361615328, 230.0431797737043, 178.90037453037897, 149.21794929649397, 368.09817892358325, 262.96233468281923, 193.8659169891944, 116.61845565646736, 109.27260670564594, 105.04859948207937, 96.11188660197138, 564.6555408125499, 80.47038686277571, 59.48934177243649, 59.47733643361786, 815.0550902684066, 57.34167674574304, 53.818815810956735, 53.438852268181435, 52.67214302874261, 77.28541328194613, 50.535994565764206, 46.97867977808834, 45.65386604096641, 44.25983791564743, 43.439120624567344, 41.526824769811235, 41.31565795202236, 39.919719450808344, 39.05980750779483, 96.94752590944897, 38.359089296556256, 37.16069580240128, 36.88127617357991, 347.9845403278457, 130.37786456446472, 407.57076179826356, 711.8948430502251, 87.5630119746408, 79.7002689760459, 58.813164543849524, 72.18381515181566, 228.7343278371961, 96.20274765750081, 59.59366490826974, 74.2666040686824, 268.7288586303288, 134.41857154036347, 85.02750869516993, 70.31937772729957, 542.6343120204065, 265.56854742727455, 121.7146996227181, 102.60474952105092, 134.96805698425928, 173.50377618589332, 282.0089229190982, 148.08423785594624, 276.5142729350855, 118.62178188100448, 110.78447435544683, 173.780544289643, 175.82610323881616, 185.25004503197974, 126.03070518244726, 144.27793847482027, 110.66511100270083, 111.28551675574343, 205.67687075798167, 167.8631406281257, 130.54402384804249, 110.84770871710822, 106.78114252589359, 83.5151432064122, 80.2786394944237, 79.24525634617768, 76.16744079004098, 66.66904367474942, 63.81395576135938, 63.497190692922764, 60.85483306846072, 157.19004562313256, 58.46229174268314, 58.14736628138659, 56.20796780065248, 55.4863657372815, 53.31872079238056, 53.08458523442989, 50.49632851643509, 48.16814993120319, 47.06445911390616, 46.151725982820345, 43.66542052762123, 42.1443093323647, 40.282418261085986, 38.41380351387044, 37.61083262925168, 34.90164965915871, 304.2944362848789, 381.8699288364711, 83.6450735420202, 52.715235613015274, 185.93152686422832, 110.16038917274034, 177.8919029469695, 130.67033962010052, 178.20343718360212, 127.00105804306952, 181.20796819843082, 80.72231982350712, 100.00894327740578, 94.18894936943714, 123.10086756725684, 86.20545991797613, 85.55706011316568, 97.51975498737535, 81.62335117243364, 87.3388342364261, 118.18937510621797, 116.70869706533857, 95.49432401681315, 92.26552549639212, 82.45333136891229, 108.03937005884988, 72.7049591646212, 70.56949211546501, 55.421333375284796, 49.89260007847899, 43.271106949593616, 42.94779974681964, 42.64979404919711, 40.38361228596832, 38.796935217119795, 38.65510835551447, 34.81888647227602, 31.938738751972547, 33.15104694499427, 30.90130824135096, 30.162104420404148, 29.742749068130596, 29.43450059736955, 29.073214034069554, 28.91928473035776, 28.910703567272446, 27.90822315819657, 26.97779241264481, 26.880188979456786, 23.7330161454588, 23.6274945253422, 23.292426792693536, 22.520078333571245, 22.360353200564706, 21.685428879191825, 60.83861162385428, 50.31708411422919, 73.57310767839196, 37.86311453687981, 238.851679225315, 141.55856891457853, 104.80531399102847, 58.482427720102436, 62.40661277945736, 56.14521994521417, 44.982035757401896, 59.813942361834535, 76.66737167935325, 99.99055597909188, 257.3979993955851, 136.73726453430186, 101.35556968021532, 77.12208159032474, 185.37974176085694, 122.29881968507775, 97.48026139135895, 110.88016034554681, 75.86687175153783, 109.8014606115837, 77.7270827754687, 160.85676242184732, 138.3428676960776, 151.61667609064457, 95.79516780535658, 151.8825003418665, 100.67286268590817, 90.16399009852017, 89.84667052946365, 78.38198646780654, 94.05888745646051, 91.12076893422551, 100.41584475948517, 89.8138386158904, 81.30827149109298, 86.7354860426908, 81.40610008599462, 78.93030527638018, 198.28217352485277, 151.39852248166665, 85.98307365373837, 85.01728675566616, 84.15265235613707, 79.05681260026613, 68.51455754870172, 63.56379198976743, 44.3453285156425, 42.97677710783867, 41.84733647352639, 38.78427704679735, 35.353517314713336, 34.66173705640151, 34.606538783034786, 34.27443055711048, 31.610538192402288, 31.217610031610615, 30.952610519740713, 30.26522367821719, 30.237485298901465, 28.977794612378606, 28.956596480287466, 28.566170530381847, 28.135985613315878, 28.072883761876348, 28.045369833370998, 26.659851606901288, 25.797603036356566, 25.746156001070673, 56.06489872807325, 37.487512489845685, 222.03957688583554, 51.95206623522621, 255.64983879080702, 68.22653728103049, 165.78133041060866, 80.67171955494086, 44.2325336704352, 67.94024195940196, 66.22497639701339, 161.59005235953495, 136.91333173122092, 215.78611129296408, 114.73377600222182, 113.96412586044697, 117.70119028825494, 69.20907901644767, 111.33397801248033, 80.73403375029584, 120.09097625728701, 68.3061549712669, 87.38687215176432, 81.16937687950399, 94.49869583446731, 72.73395845501634, 70.84732469890511, 67.87471479226141, 130.5095088099439, 120.84562525923852, 117.20527121255445, 115.3297462136342, 92.52025979873731, 85.24468428956358, 80.00928500049278, 77.38342967224472, 74.02204754621653, 72.96645101541061, 59.4416682806839, 54.96294634437666, 53.33722815491212, 53.27432243053823, 53.25856443145224, 47.79390723911068, 47.46540328126185, 46.085547759129675, 46.0430498134448, 44.18865308621914, 43.742240819395086, 40.89012469022422, 39.051935341742656, 36.49569672168852, 36.329883055605094, 36.11253185633378, 34.726923531801376, 34.32809351439746, 33.368222278534105, 32.7535414699736, 83.12023267109649, 80.97936569652285, 133.42055309643206, 78.13101915704614, 302.01893207418925, 122.61367052835712, 151.75144013311026, 270.1164228296586, 82.87557701524253, 68.16629635157737, 99.25771616589721, 96.55996752011285, 86.82439862923363, 59.05962500753373, 101.43843308866613, 184.84172295003776, 75.96841112033502, 79.82837440622541, 69.41362572726025, 66.87905760559563, 89.77059108997344, 101.7903456414334, 75.57823073287955, 99.15936515675389, 92.71827697218272, 68.74131473232526, 40.36419032068821, 36.751062950976156, 36.205741989055234, 34.879224622709316, 33.194794681024646, 32.97606365664273, 31.406545182691424, 31.37010741922897, 30.998687674388865, 28.962778883569058, 28.892133227657904, 27.31725679665716, 27.284996777482768, 27.22710629710111, 26.751744274373987, 26.609280583060844, 26.488844048506515, 25.511841991480352, 21.81251731274483, 21.623753770359226, 21.433097187593088, 20.59787602179799, 19.921407833404214, 19.80977981157225, 19.678765750698577, 19.62034783010055, 19.273839191123116, 18.712384302979725, 71.84315931170339, 55.756723597432845, 35.06428041703927, 109.49532515035231, 30.22166379207158, 29.698497930328294, 34.05019043509582, 101.17966092165135, 27.567051960911012, 34.720911614003334, 116.56797467666505, 61.74552003437183, 34.12925685683761, 107.99756204563867, 64.32914676789784, 63.32999744396458, 83.83494607180005, 67.84162183334972, 81.72688241494502, 41.622915952689745, 53.92187919483681, 34.92170444884839, 65.59363507592673, 53.21506230528043, 53.38875202405667, 37.882414381815, 43.396078571962704, 42.36355951552854, 39.941966594215074, 37.66381913412244, 35.6534885827063, 305.84160268015887, 128.59034960793971, 93.2322173959981, 81.3855801507016, 67.71634853258924, 69.45518425000978, 58.27452944527236, 54.273034946442046, 49.085566970441064, 47.8866779491645, 45.55270290247431, 39.73186111508502, 36.86064050959505, 35.20412838711363, 33.42236304412529, 31.981052795637112, 31.43409978078029, 30.55382797749632, 30.059969599772117, 29.885302984172434, 101.73705119479142, 27.520593726045043, 26.919630963040046, 24.25481728675463, 23.656415274744862, 23.6279246451441, 23.54216938389665, 22.65531502069397, 22.531166692748453, 22.38136665914816, 95.3302861819681, 64.08150678082654, 72.20158319302858, 67.69792672390678, 88.39671879486062, 46.96708496943089, 140.72092604328424, 59.089108236476605, 105.43501480864978, 70.64377307286695, 103.52186084175479, 95.39094348371508, 67.95818741642731, 58.3963224022517, 67.87494351097823, 59.198635586150864, 46.26178915166379, 40.283888836482646, 538.2551302317302, 285.98318439422513, 213.65858938946113, 103.89300216052104, 79.35302077933343, 78.05183151848948, 71.35703278492743, 68.46481806839516, 67.80919388459115, 66.490423842556, 64.00045256647407, 53.92039688189064, 265.3529331312447, 39.94955371633718, 37.901110770635405, 35.912244621676514, 32.391182177458646, 28.678135790181145, 28.08827339444116, 19.3243685075015, 19.051228265012618, 18.707387303661164, 17.180968198097748, 15.926131130046505, 15.773009171527224, 15.670605652217624, 15.411825313266146, 15.329222828442518, 48.37083601221412, 13.84972104817144, 178.81370259036237, 832.2600847453557, 507.584460595254, 28.232728309770103, 75.3347147369655, 85.62372092606743, 76.1641429666695, 190.6626456544379, 84.76989508306086, 100.19542957936929, 326.41269796821143, 59.670117865490056, 55.61003481214715, 57.45602187181171, 66.55317998160193, 65.7370279603748, 76.34833840213956, 75.24278316063348, 92.27011209629804, 64.34541246500186, 182.48530257918853, 62.77544836410928, 40.04578254550969, 32.46138530526664, 25.340265237405493, 25.30199062712151, 25.139578537974103, 23.232179692541948, 22.68737158088827, 19.466953628769463, 19.109978727464835, 17.43419580115167, 17.34154036667529, 15.936659173030812, 15.546919019209932, 15.412316908792262, 15.109392899854853, 14.946570284848644, 14.79595514737395, 14.333949849585288, 14.16203270159655, 13.670123239485527, 13.5470082974238, 13.51648834431323, 13.261774678868356, 12.990206786140439, 12.864177866050246, 12.753368625498524, 11.352068829223516, 11.168053761217728, 34.305258422252855, 55.5633552622238, 28.693508453356767, 114.36963310117603, 41.75539607672116, 18.39994277261378, 34.13485996808535, 33.30831274480319, 15.448468370002786, 42.29821200460603, 54.589401551430875, 28.66346450875733, 26.243505239378027, 20.35166204013401, 24.77854245294355, 21.62165400711601, 20.983068440924, 16.86922281042721, 17.954094060004547, 39.81017984683081, 26.062303826225648, 21.88520810394327, 21.877528753668905, 20.67379096714878, 20.275391647360404, 19.99045720008637, 19.162203186101152, 17.478235171228043, 13.937783120567126, 13.909003637384375, 12.302348658465872, 12.137000572321003, 11.95714540682831, 11.918002564439051, 11.153442288953755, 10.990402583325725, 10.492883116242412, 10.227455517498294, 9.883194657778892, 8.031840274475908, 7.729542053167131, 7.658141659380334, 7.358360665035411, 7.1038639269739665, 6.992236608004038, 6.9660319137034, 6.9345425925226225, 6.925408696852258, 6.859683317827124, 20.161593210909487, 37.98156758705321, 12.678400670450255, 50.16103778544951, 18.228163649875953, 13.350151208423057, 10.66355198995966, 12.707761676602082, 14.016606049916055, 9.813353601598259, 11.27327587114211, 10.622095601240387, 10.379396104528741], \"Total\": [976.0, 6480.0, 1371.0, 1936.0, 3668.0, 1280.0, 4384.0, 1301.0, 1570.0, 2598.0, 828.0, 796.0, 1663.0, 631.0, 4196.0, 2093.0, 762.0, 1675.0, 1890.0, 539.0, 1544.0, 1314.0, 1671.0, 3212.0, 980.0, 766.0, 678.0, 1136.0, 570.0, 611.0, 260.3515079265893, 164.42620192394622, 163.2307819663138, 116.62048900603969, 109.40695918392986, 109.12464078963242, 107.3087285804265, 84.16481173319508, 83.14038124508998, 80.26721453902061, 73.44492326863272, 67.01042604784708, 68.10199151426984, 63.293812645807364, 61.30709783847905, 59.602007489606116, 58.71300317071731, 57.007729065219266, 55.89248885194833, 52.70244727283296, 51.99270688867921, 51.19973930397763, 50.968526363320855, 50.76795835184786, 48.611611002844434, 48.30413388011223, 47.4597641869692, 47.38105266622453, 46.250844848631836, 45.68425676846124, 93.74842993623375, 80.66798358870426, 90.6326874172449, 84.16131095665297, 122.09573243285641, 84.83122363221626, 671.1119300666309, 599.0022378491418, 4384.722437920025, 443.37327146866147, 1466.2849611704337, 6480.774326512068, 211.1832053109386, 438.660051388457, 3212.653749720372, 260.67168262848327, 271.54831947498957, 181.82233572537052, 255.44661488473574, 785.2428020077143, 1941.2580917351047, 261.85240084304024, 2162.3370961802307, 1881.20545290412, 2644.5759467095554, 580.4658571348934, 3668.1044793527676, 2664.838594471611, 419.3465724740561, 4196.710525910863, 2427.5602667220905, 1262.1888957018473, 3167.522432533981, 1298.0246640018524, 2205.06618954545, 1540.5642847958163, 517.8906150755806, 1417.9158609262588, 2282.0604121955557, 1314.3053489778235, 1148.060605507345, 935.1383582818246, 1690.852424086093, 1477.5619031090498, 1221.2450437081034, 1758.2844394493516, 1032.8188100899765, 1375.59567571987, 2598.0403059269624, 3603.109860294611, 1427.9468545838718, 1605.4477752583387, 1890.9248052540217, 981.327418150027, 564.9228229129164, 492.418361356941, 452.7599833204904, 407.6676309442254, 406.67994861230574, 258.133313703203, 228.5133479003999, 216.2477630701373, 214.35323663612252, 202.59065493439857, 195.3909175753918, 186.52698655960052, 176.44665983053798, 168.75086377241982, 167.3502076772853, 150.39844220421273, 150.02776225311356, 144.60429206808465, 144.49815633743893, 138.8456663998772, 130.99065983400095, 126.74283762261152, 117.42340559559132, 110.8969262125597, 106.61999923737466, 101.98694469040646, 101.56043224371787, 99.1797458069007, 98.07568618324507, 621.9597222959018, 200.5158753005138, 441.9383752190608, 449.72854098131444, 193.49805345010358, 205.0041906524826, 275.47060231685913, 322.09992200336023, 248.11719300705266, 416.05939355484344, 240.73849125511575, 845.3290084936012, 557.5693813697831, 410.8345293894319, 655.6301002552804, 1427.9468545838718, 1040.6325254256485, 263.4837077303288, 594.6891374635115, 4384.722437920025, 421.3869441434269, 1436.6666681577294, 2282.0604121955557, 1188.1704743899415, 6480.774326512068, 462.03937048556924, 2427.5602667220905, 3212.653749720372, 1069.476809673463, 673.1519716625883, 1148.060605507345, 652.5596969565738, 3603.109860294611, 1315.5660340507034, 1375.59567571987, 3668.1044793527676, 3167.522432533981, 1423.7270144867082, 468.274531010424, 412.38080956116545, 281.8271267915485, 259.8324157232915, 254.84463891305728, 210.37341738032436, 192.6804866491202, 159.90836878927664, 158.1565379091048, 152.74782234636945, 150.29352497443435, 141.90605160115462, 139.60406657532008, 126.24618242615058, 124.74739447175129, 121.35932025165667, 116.15691077788956, 111.32160665942268, 107.38843363841302, 106.66195914614312, 106.63552825099205, 104.93236515246745, 100.15620772070923, 96.59902001600302, 94.21058461078555, 88.65479109884994, 190.6223199541057, 86.3596555659639, 86.19906981329925, 727.3338293210975, 654.7474934618729, 181.50033599844454, 1936.166644285598, 703.9946810465414, 376.8379883202541, 194.07005992579693, 372.17893466469116, 405.5372689007627, 939.7246726823848, 870.5414093184123, 370.6344068694464, 884.7484740732003, 637.1512189353099, 246.31987556395137, 968.6156770498947, 606.7175789972732, 1675.9601829028325, 514.6608578277069, 1501.823528493374, 1065.9592353007818, 731.2823722751148, 330.50433724743135, 470.1538249132013, 857.0357306850359, 488.7452441215276, 638.0895419133182, 551.4586947238267, 752.0450043212267, 1064.5288063190796, 523.3723153896885, 997.0965486499633, 1336.6744139288367, 1632.381534370867, 1167.6253821491446, 3603.109860294611, 1580.9748875368575, 1301.788382488781, 1443.7653676438624, 95.21167100189645, 83.93829218544583, 105.3809277562297, 79.62558683817613, 73.16423031483217, 67.6366972124489, 65.3182796984038, 61.5231487374463, 60.493510913561344, 52.52555550350071, 52.31192060515023, 45.463837529946424, 41.97137895281129, 41.384685776641845, 40.805042000377775, 40.08080190747825, 39.19213556587847, 38.68460027602685, 38.35168005654242, 35.28796259383425, 35.16166081364727, 33.391449690149436, 33.38742025165676, 32.78156354197386, 32.09923716213811, 31.91795006539345, 31.398184850287887, 31.459644946735988, 31.170456460209014, 31.055480608442526, 630.2430133525418, 158.7657028923392, 391.91582136864014, 108.42385101465204, 87.20333956741983, 66.5212549885155, 360.53083997661406, 172.18651288413903, 137.65967117550002, 304.54656740096146, 378.1700428984313, 378.8885198965466, 263.3718811060881, 344.5602691313398, 416.07322543540744, 311.53073884133397, 196.3838281663866, 140.99757928281784, 188.3778188204373, 277.62609382016586, 182.6099955001533, 2598.0403059269624, 270.3060559805159, 522.445425013784, 270.6015536605092, 1057.129178006517, 4196.710525910863, 2205.06618954545, 1017.5597323613154, 338.7521247890164, 575.8738465621218, 2059.509878552423, 1240.9604088971585, 1540.5642847958163, 890.1362493576908, 3603.109860294611, 1136.0491933520432, 769.1675725423235, 6480.774326512068, 2162.3370961802307, 2644.5759467095554, 3167.522432533981, 1485.2137480857714, 1108.8471483088902, 3212.653749720372, 1605.4477752583387, 1053.7329903529417, 1549.3453613236725, 2427.5602667220905, 3668.1044793527676, 1082.7301944069177, 1235.4359948065273, 177.65497928673017, 126.60460140874721, 126.10403588666594, 99.29156751331689, 91.64634590590154, 90.12292441882268, 75.85182393020267, 66.25587222120019, 65.02406023554582, 102.90409788565945, 60.07492409533154, 59.315173109477044, 53.53261888187153, 51.676041983900525, 49.32075983132221, 47.635747768058394, 46.6916297232612, 46.58927490010154, 43.77198550449172, 41.724381517216955, 41.15412811199482, 41.07448199796358, 40.300542536541236, 39.93009212479525, 39.155371322159034, 38.80321961962256, 38.217918133524584, 36.80208879204437, 36.677662404619895, 36.62142616475015, 611.6213458067999, 62.59816516795513, 102.65862171505081, 52.54695794676734, 318.2872875743533, 72.30238501502667, 316.58394179095245, 137.31412767074966, 489.72017815683654, 72.1378583722589, 83.30199035122536, 498.39342879780145, 121.41287765405359, 133.35960891633832, 620.2138548682498, 82.64083350749817, 614.4084662290636, 1890.9248052540217, 627.0225969862723, 724.5668182704366, 366.95234615932276, 352.92159367106285, 268.9167303542058, 339.06994934436017, 216.5412650172744, 193.86544659990452, 1549.3453613236725, 215.2545424355659, 577.9072194367003, 723.4053935961134, 381.75536363552396, 387.83702496682554, 3167.522432533981, 863.2197473432782, 3668.1044793527676, 1108.8471483088902, 576.591449887774, 1390.8645383519133, 2300.6637197330683, 2664.838594471611, 4384.722437920025, 1941.2580917351047, 1466.2849611704337, 4196.710525910863, 2427.5602667220905, 2644.5759467095554, 6480.774326512068, 1690.852424086093, 1070.8435675885914, 1485.2137480857714, 1417.9158609262588, 598.1167578769515, 448.64652083804737, 377.84455767320503, 264.73829069959015, 220.69409629274708, 214.8323527111655, 202.1732388112713, 204.03870274008716, 168.18275166634572, 167.01935698811596, 115.04237734304003, 113.98678082862047, 110.93749739615033, 99.10551000196413, 82.09490781367676, 79.93694400152842, 78.09570613704594, 175.249822081541, 65.5838329141844, 64.68266497330292, 60.584516703036066, 58.17568366226234, 57.017493928677766, 56.02295989493806, 54.53185709635434, 53.46029026472808, 52.131542345490054, 46.826355755357895, 46.51069322182513, 45.893456252354646, 263.3130059973335, 240.68788799892124, 171.7483160034758, 555.867116436476, 302.5395268616745, 492.4611848858065, 76.24146439341757, 227.16503668443957, 980.4021577633976, 312.90377084585873, 730.8640162620692, 486.95401422130465, 528.5346032480068, 1314.3053489778235, 224.82695905420277, 1632.381534370867, 416.6420491436833, 395.1584723566997, 451.2248583468662, 486.12723205286835, 534.8567326200097, 642.7001152266968, 556.0194849802998, 2093.3306632619965, 827.2187243300305, 1336.6744139288367, 1248.9208499240494, 2059.509878552423, 1443.7653676438624, 1215.988511841483, 285.6656625847748, 143.53475906645744, 117.85770386904557, 101.6076572630625, 109.30902399878872, 82.98867538437715, 72.92266146632423, 70.70497612208693, 69.37755906020487, 64.61139274762915, 59.721927678315566, 57.04321282964795, 54.00365350538924, 81.94403777598312, 42.324083492237584, 42.32076139206277, 41.08066509533936, 37.19114837668273, 37.14431920705522, 36.615099737878424, 35.819881778685854, 33.97408317263296, 293.4692374708912, 31.723680894194636, 31.6007565537296, 31.53642388124971, 31.422300515145622, 31.08530482125865, 28.49687993271456, 26.81818124464188, 229.03270546276283, 271.74813160721334, 105.90047147373883, 355.6432584904549, 60.10906917151734, 1280.2272195312958, 766.9158028325303, 474.9898161458624, 70.15667695338034, 179.24364687694438, 567.1667927135342, 274.42758838032705, 330.4981570912163, 109.7427820101032, 1301.788382488781, 367.72343180141814, 1663.1700795034678, 1544.0164845007114, 414.77281365258887, 183.85509348449742, 165.35675827366913, 440.55404679071825, 1671.7641653511803, 432.11929181612453, 1244.1725853652574, 211.81669487477154, 1248.9208499240494, 3668.1044793527676, 608.8080325414155, 376.0637127177778, 340.34919523588337, 827.2187243300305, 442.5348911391628, 1748.8846715306845, 515.4620440818575, 6480.774326512068, 1580.9748875368575, 2093.3306632619965, 715.3651619585147, 4196.710525910863, 1758.2844394493516, 2664.838594471611, 1065.9592353007818, 793.7468686877413, 149.24314000835042, 146.3179673585197, 109.69091538840837, 83.20429054516994, 81.09180205807415, 77.74113120011653, 76.2294678243148, 65.93049982542708, 63.26975257053423, 60.56171095720907, 56.810337494787994, 53.38944264998364, 57.36651278899382, 50.28301971478448, 47.65745023702985, 43.882959233489736, 41.43127906546608, 41.355734940173235, 39.68297571986384, 39.42368326794173, 38.51616137209807, 38.452467382066274, 38.25882448170005, 37.26020124513167, 36.1192577405737, 34.88716119741453, 34.23554992823589, 33.63526385185598, 31.18158967192625, 30.954695332436785, 76.4583709056748, 89.48830169122282, 115.21459823955855, 220.97264269863447, 110.4823247003943, 111.11837153154298, 375.90545644854683, 143.5340755668517, 124.17638822046554, 264.9466916716602, 74.80313749463681, 74.02895590974444, 54.45101256298415, 84.64983524110481, 125.78984419684338, 185.40883496978168, 222.89101246406358, 401.25647049095767, 534.8567326200097, 321.4621920010027, 727.086408224283, 142.95422726383995, 249.43336119067757, 1064.5288063190796, 1336.6744139288367, 1248.9208499240494, 1003.8156911590395, 347.95472712780116, 1443.7653676438624, 307.39865760631994, 1136.0491933520432, 2093.3306632619965, 357.5089235290132, 2059.509878552423, 1544.0164845007114, 3603.109860294611, 874.6840378417669, 793.7468686877413, 1375.59567571987, 1748.8846715306845, 884.7484740732003, 1758.2844394493516, 1580.9748875368575, 274.9373068764509, 231.95006664726458, 202.99455319758601, 194.87101144881046, 177.0979939518479, 119.8343029858582, 115.67181406190937, 97.43527149550692, 92.60722057243176, 87.56285069202129, 84.35308966022107, 84.3391875067042, 80.01261513800691, 71.9808687178483, 70.5049183355674, 70.28126781619281, 66.58071774420654, 56.80739370901251, 55.697233186378895, 55.6314156474826, 55.626608199045336, 55.61635249929423, 496.6181611875716, 55.014972771588795, 53.0396298609445, 52.37240159248675, 51.86284109579638, 50.70927763852372, 50.66579961512649, 48.564197355993464, 173.55744013370497, 1371.4243785656547, 136.42964372216574, 176.16341572950648, 195.05316867806482, 76.55367584262665, 145.75590582856304, 76.00791634418523, 136.97203509185627, 409.12605500005395, 521.7546432127233, 577.7522814117993, 238.79753301703656, 255.50016989889497, 637.2765148364974, 511.860451661167, 1675.9601829028325, 301.20591881324555, 656.670172346296, 1336.6744139288367, 528.5346032480068, 172.496968152709, 1570.2375172363097, 343.21829815356335, 492.6333685661766, 3603.109860294611, 2300.6637197330683, 571.565013823626, 1632.381534370867, 479.36510470099483, 375.48535061970625, 302.2651282498087, 248.6756084641537, 233.6713168917543, 224.90227934443175, 210.39314305613487, 201.6994446357972, 130.1036622120643, 128.20798231568799, 118.12965527646976, 111.9260051251428, 104.63274722914433, 104.45746385968485, 99.88611537885846, 99.43681493067317, 96.89635689084265, 95.75543645958065, 93.58385893851707, 92.49948884293175, 92.12349096668332, 86.07015009926685, 85.8217285687074, 83.64430542201053, 80.10461473990598, 80.02217789735953, 79.74171658584737, 77.92731124603515, 72.21506876863491, 67.43974853291444, 611.9387028753606, 678.8085981865985, 173.2920690681437, 611.9196702242552, 597.7557104528396, 380.7949125255475, 338.87722001875534, 190.26548318339889, 178.78497936288775, 224.74518869529973, 133.54917641412558, 274.68752097290815, 388.45260335659435, 197.89688356615196, 280.8157178867342, 356.86548849243945, 271.369474321666, 211.20663330946564, 482.4004316464606, 1314.3053489778235, 361.8577459976971, 4384.722437920025, 1188.1704743899415, 969.4598794621552, 369.03346919495516, 263.9018015227251, 194.80120729511336, 117.55374539946209, 110.20789644820843, 105.98388922101502, 97.04717637980644, 570.3509783081175, 81.40567662874166, 60.42463151137214, 60.41262617255351, 828.1844322500124, 58.27696648467869, 54.75410554989239, 54.37414209184874, 53.60743276767826, 78.7149917522586, 51.47134758784122, 47.91396951702399, 46.589155779902065, 45.19512792939156, 44.374410363502996, 42.462114508746886, 42.250947690958014, 40.855009189743996, 39.99509736990673, 99.30832655014946, 39.2943790644447, 38.09598554133693, 37.81656595283928, 357.0736324867074, 134.16375867476066, 429.4259997994337, 762.566708483232, 90.93350724126933, 83.29485678787658, 61.341829607218436, 76.47092784607842, 270.4068083148194, 105.63833878011808, 62.957485908382566, 81.25945462159451, 366.4183993494231, 169.7859749269274, 98.09200597483738, 79.02706587238491, 1570.2375172363097, 606.0994032986933, 194.7958705282888, 149.15225650400802, 252.03751836338535, 397.2198884083821, 1390.8645383519133, 356.1351619845785, 2598.0403059269624, 272.66508621596574, 220.85917708201478, 1017.5597323613154, 1240.9604088971585, 2300.6637197330683, 903.5523038379721, 3212.653749720372, 357.5089235290132, 2644.5759467095554, 206.6109185841678, 168.79718843650284, 131.47807167913646, 111.78175661345284, 107.71519034139428, 84.44919104122577, 81.2126873028008, 80.17930486799877, 77.10148869236544, 67.6030914880136, 64.74800356973648, 64.4312385134771, 61.78888087683782, 159.62667416188435, 59.39633964812377, 59.08141408976369, 57.14201562394877, 56.420413545658604, 54.25276860075766, 54.01863304280699, 51.43037633009949, 49.10219775237194, 47.99850692228326, 47.08577379119745, 44.59946833599833, 43.07835714775148, 41.21646607454072, 39.347851332252816, 38.544880437628784, 35.8356974950292, 315.80376375552123, 438.99053868889206, 92.59847814747287, 56.20748091141972, 252.78367002007388, 155.10937312105844, 299.7267782533626, 205.7965375300233, 339.5943860183918, 232.46663790380134, 489.5651529871737, 117.49702170971423, 242.38105422283564, 229.86620967691795, 484.62906866584484, 187.3115963299517, 192.63639475153636, 314.7738308368601, 176.2438235843638, 248.78134939941918, 1443.7653676438624, 1477.5619031090498, 620.6086477830011, 577.7522814117993, 571.565013823626, 108.97307784432682, 73.6386622601231, 71.50319519801693, 56.355063703259596, 50.82630317270073, 44.204813160693895, 43.88150283249129, 43.58766759337549, 41.317315368520234, 39.73063829967171, 39.58886135281306, 35.752589635252555, 32.872441863363946, 34.151382275872805, 31.835011327529728, 31.095807502956077, 30.676452208998914, 30.368203701122738, 30.006917244382336, 29.852987823283097, 29.84440665694796, 28.8419262407485, 27.91149549519674, 27.813892066963188, 24.666719232897815, 24.56156719258918, 24.226129889492636, 23.453781416123174, 23.294056397972344, 22.619131971204006, 65.11983615270624, 53.992066417760924, 80.52375918793766, 40.88886643080828, 306.45099791618804, 172.77573627036818, 136.80306612839982, 70.18248288120262, 76.27352733734006, 67.51591654223309, 51.46119750960031, 74.0974549882627, 102.82839689856436, 157.3837770195191, 571.565013823626, 245.93194043989817, 165.8519591428503, 113.2538692293407, 400.6284971505019, 228.54532025638142, 164.7709627090312, 202.6125119496675, 120.2183885006754, 224.4769968272083, 125.251122658242, 475.4683886194258, 413.0864939147128, 561.5348960541884, 213.99908378081682, 637.2765148364974, 258.89775267804634, 220.39753997474574, 245.4351078179041, 167.7229554231568, 366.4183993494231, 352.3502446616877, 614.3066873760374, 669.9142953461011, 254.7075700722612, 656.670172346296, 421.06086758102754, 263.54923590881424, 199.2149070259035, 152.3312163058067, 86.91573597414757, 85.94994907935542, 85.08531470909622, 79.98947526457137, 69.44721987733676, 64.49694622295623, 45.27800001505621, 43.90943943152793, 42.77999879721565, 39.7169393834953, 36.28617964507389, 35.59439943548044, 35.53921064726388, 35.20709715816989, 32.54320056175808, 32.15027240677706, 31.885273924137405, 31.197895040283246, 31.17014770681676, 29.91045711426922, 29.889258805428817, 29.49883293605293, 29.068647935438516, 29.0055460918367, 28.978032166689797, 27.59251478841821, 26.730265364218795, 26.678818351642867, 59.590727717814616, 39.67331686734142, 286.8873976913756, 58.66490357851152, 368.0351690649405, 84.93721303466661, 314.7760921865766, 120.07790862597192, 53.97119477864138, 99.02742678069573, 98.82655062420511, 397.70499170821324, 352.84983416750174, 765.4577146611106, 274.61154909915064, 334.4152414386938, 395.09972839440775, 164.80881347737935, 488.7452441215276, 236.99324215459222, 629.8681408637442, 164.56539093956118, 371.7393130739448, 400.7096823799147, 969.4598794621552, 339.62288097123894, 326.05665404471176, 245.7211763712864, 131.44475504113586, 121.79186087650541, 118.14051738402306, 116.26499236995251, 93.45550595505563, 86.1799304458819, 80.94453116668215, 78.3214779753729, 74.95729370253484, 73.90169717172893, 60.376914437002206, 55.89819250069497, 54.27247431697001, 54.20956859259612, 54.19381060498932, 48.729153437907506, 48.40064943758016, 47.02079391544798, 46.978311234494946, 45.12389924253745, 44.67748697571339, 41.825370846542526, 39.987181508975006, 37.430942878006825, 37.265129216839995, 37.04777801265209, 35.66216968811968, 35.263339670715766, 34.30346843485241, 33.688787626291905, 86.98598715166314, 90.94489576948129, 161.97640621244528, 93.57483641520342, 509.5954999973472, 176.68239394751367, 261.2252831964057, 606.0994032986933, 116.72057010051728, 88.77362270612535, 163.43306626346202, 175.51673777283725, 146.12748495764745, 73.60225312165184, 220.39753997474574, 1136.0491933520432, 135.15136536009712, 164.80881347737935, 125.51086079978045, 113.02363928480789, 460.25251661226366, 1014.3610583452332, 228.54532025638142, 2300.6637197330683, 93.65612418569145, 69.67916166754794, 41.3020372507927, 37.68890988108065, 37.14358892919451, 35.81707158251495, 34.13264161112914, 33.91391058674722, 32.34439218665964, 32.30795436001884, 31.936534609409954, 29.900625819679004, 29.829980157762403, 28.255103736603214, 28.222857901028597, 28.164953254598753, 27.689591213568033, 27.547127539576035, 27.426691028895753, 26.449691456933916, 22.750364474255235, 22.56160070453566, 22.370944121756665, 21.53572295190249, 20.85925477151553, 20.74762674656383, 20.61661268569016, 20.558197570105992, 20.21168613386556, 19.65023127184979, 78.46422500342506, 60.62925618549464, 38.62577508178101, 133.29238797959212, 33.76528599359187, 33.26571174794361, 40.36643730060702, 174.96716332606357, 31.289442172195937, 43.56368719676717, 284.88967930389623, 107.97428442804632, 43.46549542753843, 400.17550041557973, 152.0575525403374, 240.65535564056296, 673.1519716625883, 408.9155968759465, 874.6840378417669, 120.43673573280535, 341.6595476946204, 62.34668501536392, 1003.8156911590395, 572.0775988050704, 793.7468686877413, 99.03347516262968, 255.63305037272832, 331.93824161021803, 316.0264957566159, 179.89762302104583, 359.33448556621477, 306.77953255151675, 129.52827951553175, 94.17014726735596, 82.32377993882282, 68.6542784188105, 70.53237013691613, 59.21245931663021, 55.2109648258741, 50.02375919612222, 48.82460795113949, 46.4906401887827, 40.669791009103406, 37.798570388732784, 36.14205825847148, 34.36029292122273, 32.918982707590985, 32.37203003891978, 31.491757848854174, 30.998222289666717, 30.823234359461278, 105.18975189241856, 28.458538289488526, 27.85756088679321, 25.19274716123222, 24.594359564989034, 24.565854516501954, 24.480099280240726, 23.593244975517983, 23.46909656410631, 23.319296546318263, 99.85049739366477, 68.99233662638598, 88.94792536907747, 87.514632423193, 129.53393473518028, 65.4479874598266, 335.898965280833, 93.50968181310392, 249.11440001638363, 143.21974661513443, 287.9056048234943, 300.790988796306, 204.59992035990322, 154.2241669790616, 277.62609382016586, 337.08161983137325, 724.5668182704366, 511.0060022044107, 539.6820356797787, 286.92133233607495, 214.59673811818848, 104.83115010627569, 80.29116871622877, 78.98997945538481, 72.29518072182276, 69.40296600946346, 68.74734182148649, 67.42857177945133, 64.93860071321508, 54.85854489091319, 270.1301816698231, 40.88770165323251, 38.83925907464265, 36.85043225300265, 33.3293301416502, 29.616283784098826, 29.02642138373295, 20.26251649036466, 19.98937625617136, 19.645535252567395, 18.119116236290996, 16.864279074288458, 16.711157108422558, 16.608753760456228, 16.34997325016148, 16.26737077603191, 51.44357518301493, 14.78786901706579, 195.09003885729285, 976.2986576413101, 631.0182669695571, 30.90076231406448, 96.60580716484412, 111.7719311064317, 103.08575451056329, 311.85819897444446, 125.03934111813378, 154.82230058020306, 796.9218135909709, 83.17835402328636, 75.49452409742933, 88.36450546479729, 148.0918383209948, 195.97704373261027, 356.1464752727007, 341.4813269796268, 2093.3306632619965, 766.9158028325303, 183.4308469177646, 63.896683998863935, 40.991326902913855, 33.406929643842695, 26.285809575981553, 26.247534970614158, 26.08512288658494, 24.177736394131692, 23.63292857087906, 20.412498006903206, 20.05552308612993, 18.379740167804275, 18.287084712544043, 16.88220351160687, 16.49246336288578, 16.357861264479006, 16.054937261275576, 15.892114623424703, 15.741518260093487, 15.27949421387638, 15.107577045912198, 14.615667585185172, 14.492552704734672, 14.462032697781645, 14.207319034555098, 13.935751124716498, 13.809722240455548, 13.698912991628738, 12.29761322592449, 12.113598160344266, 42.78306147709598, 74.08062344356856, 36.09089519917961, 241.51743751199942, 65.90006885134841, 22.80706358227781, 56.65188520937295, 60.36878606693857, 17.949522209762243, 104.60449802633808, 213.06837219355063, 65.30068945450383, 57.76141307461147, 32.61232212260142, 55.01740072930414, 61.35613854924377, 172.496968152709, 47.321661937175314, 266.2915882040708, 40.76470782611266, 27.016833240425758, 22.839736074101403, 22.832056733324727, 21.62831893222928, 21.229919622513563, 20.94498526258476, 20.116731184505067, 18.432763166418688, 14.892311085647625, 14.86353160958846, 13.256876634173047, 13.091528537401503, 12.911673375028546, 12.872530556461026, 12.107970254034255, 11.944930579331519, 11.447411091355015, 11.182018634941382, 10.837722655969879, 8.986368259343411, 8.684070025371216, 8.612669624460834, 8.312888661906022, 8.058391901828635, 7.946764582858708, 7.920559889601121, 7.8890705733748145, 7.879937368045098, 7.814211457848692, 24.521827612765122, 50.60087666434718, 15.569307471236206, 96.12691686452735, 27.02704495613281, 24.028101783863363, 18.354509930106445, 27.615651011218194, 52.90139282961137, 20.032070630633715, 52.5801635426838, 96.97316134685306, 92.1306258462627], \"Category\": [\"Default\", \"Default\", \"Default\", \"Default\", \"Default\", \"Default\", \"Default\", \"Default\", \"Default\", \"Default\", \"Default\", \"Default\", \"Default\", \"Default\", \"Default\", \"Default\", \"Default\", \"Default\", \"Default\", \"Default\", \"Default\", \"Default\", \"Default\", \"Default\", \"Default\", \"Default\", \"Default\", \"Default\", \"Default\", \"Default\", \"Topic1\", \"Topic1\", \"Topic1\", \"Topic1\", \"Topic1\", \"Topic1\", \"Topic1\", \"Topic1\", \"Topic1\", \"Topic1\", \"Topic1\", \"Topic1\", \"Topic1\", \"Topic1\", \"Topic1\", \"Topic1\", \"Topic1\", \"Topic1\", \"Topic1\", \"Topic1\", \"Topic1\", \"Topic1\", \"Topic1\", \"Topic1\", \"Topic1\", \"Topic1\", \"Topic1\", \"Topic1\", \"Topic1\", \"Topic1\", \"Topic1\", \"Topic1\", \"Topic1\", \"Topic1\", \"Topic1\", \"Topic1\", \"Topic1\", \"Topic1\", \"Topic1\", \"Topic1\", \"Topic1\", \"Topic1\", \"Topic1\", \"Topic1\", \"Topic1\", \"Topic1\", \"Topic1\", \"Topic1\", \"Topic1\", \"Topic1\", \"Topic1\", \"Topic1\", \"Topic1\", \"Topic1\", \"Topic1\", \"Topic1\", \"Topic1\", \"Topic1\", \"Topic1\", \"Topic1\", \"Topic1\", \"Topic1\", \"Topic1\", \"Topic1\", \"Topic1\", \"Topic1\", \"Topic1\", \"Topic1\", \"Topic1\", \"Topic1\", \"Topic1\", \"Topic1\", \"Topic1\", \"Topic1\", \"Topic1\", \"Topic1\", \"Topic1\", \"Topic1\", \"Topic1\", \"Topic1\", \"Topic1\", \"Topic1\", \"Topic1\", \"Topic2\", \"Topic2\", \"Topic2\", \"Topic2\", \"Topic2\", \"Topic2\", \"Topic2\", \"Topic2\", \"Topic2\", \"Topic2\", \"Topic2\", \"Topic2\", \"Topic2\", \"Topic2\", \"Topic2\", \"Topic2\", \"Topic2\", \"Topic2\", \"Topic2\", \"Topic2\", \"Topic2\", \"Topic2\", \"Topic2\", \"Topic2\", \"Topic2\", \"Topic2\", \"Topic2\", \"Topic2\", \"Topic2\", \"Topic2\", \"Topic2\", \"Topic2\", \"Topic2\", \"Topic2\", \"Topic2\", \"Topic2\", \"Topic2\", \"Topic2\", \"Topic2\", \"Topic2\", \"Topic2\", \"Topic2\", \"Topic2\", \"Topic2\", \"Topic2\", \"Topic2\", \"Topic2\", \"Topic2\", \"Topic2\", \"Topic2\", \"Topic2\", \"Topic2\", \"Topic2\", \"Topic2\", \"Topic2\", \"Topic2\", \"Topic2\", \"Topic2\", \"Topic2\", \"Topic2\", \"Topic2\", \"Topic2\", \"Topic2\", \"Topic2\", \"Topic2\", \"Topic2\", \"Topic2\", \"Topic2\", \"Topic3\", \"Topic3\", \"Topic3\", \"Topic3\", \"Topic3\", \"Topic3\", \"Topic3\", \"Topic3\", \"Topic3\", \"Topic3\", \"Topic3\", \"Topic3\", \"Topic3\", \"Topic3\", \"Topic3\", \"Topic3\", \"Topic3\", \"Topic3\", \"Topic3\", \"Topic3\", \"Topic3\", \"Topic3\", \"Topic3\", \"Topic3\", \"Topic3\", \"Topic3\", \"Topic3\", \"Topic3\", \"Topic3\", \"Topic3\", \"Topic3\", \"Topic3\", \"Topic3\", \"Topic3\", \"Topic3\", \"Topic3\", \"Topic3\", \"Topic3\", \"Topic3\", \"Topic3\", \"Topic3\", \"Topic3\", \"Topic3\", \"Topic3\", \"Topic3\", \"Topic3\", \"Topic3\", \"Topic3\", \"Topic3\", \"Topic3\", \"Topic3\", \"Topic3\", \"Topic3\", \"Topic3\", \"Topic3\", \"Topic3\", \"Topic3\", \"Topic3\", \"Topic3\", \"Topic3\", \"Topic3\", \"Topic3\", \"Topic3\", \"Topic3\", \"Topic3\", \"Topic3\", \"Topic3\", \"Topic3\", \"Topic4\", \"Topic4\", \"Topic4\", \"Topic4\", \"Topic4\", \"Topic4\", \"Topic4\", \"Topic4\", \"Topic4\", \"Topic4\", \"Topic4\", \"Topic4\", \"Topic4\", \"Topic4\", \"Topic4\", \"Topic4\", \"Topic4\", \"Topic4\", \"Topic4\", \"Topic4\", \"Topic4\", \"Topic4\", \"Topic4\", \"Topic4\", \"Topic4\", \"Topic4\", \"Topic4\", \"Topic4\", \"Topic4\", \"Topic4\", \"Topic4\", \"Topic4\", \"Topic4\", \"Topic4\", \"Topic4\", \"Topic4\", \"Topic4\", \"Topic4\", \"Topic4\", \"Topic4\", \"Topic4\", \"Topic4\", \"Topic4\", \"Topic4\", \"Topic4\", \"Topic4\", \"Topic4\", \"Topic4\", \"Topic4\", \"Topic4\", \"Topic4\", \"Topic4\", \"Topic4\", \"Topic4\", \"Topic4\", \"Topic4\", \"Topic4\", \"Topic4\", \"Topic4\", \"Topic4\", \"Topic4\", \"Topic4\", \"Topic4\", \"Topic4\", \"Topic4\", \"Topic4\", \"Topic4\", \"Topic4\", \"Topic4\", \"Topic4\", \"Topic4\", \"Topic4\", \"Topic4\", \"Topic4\", \"Topic4\", \"Topic4\", \"Topic4\", \"Topic4\", \"Topic4\", \"Topic4\", \"Topic4\", \"Topic4\", \"Topic5\", \"Topic5\", \"Topic5\", \"Topic5\", \"Topic5\", \"Topic5\", \"Topic5\", \"Topic5\", \"Topic5\", \"Topic5\", \"Topic5\", \"Topic5\", \"Topic5\", \"Topic5\", \"Topic5\", \"Topic5\", \"Topic5\", \"Topic5\", \"Topic5\", \"Topic5\", \"Topic5\", \"Topic5\", \"Topic5\", \"Topic5\", \"Topic5\", \"Topic5\", \"Topic5\", \"Topic5\", \"Topic5\", \"Topic5\", \"Topic5\", \"Topic5\", \"Topic5\", \"Topic5\", \"Topic5\", \"Topic5\", \"Topic5\", \"Topic5\", \"Topic5\", \"Topic5\", \"Topic5\", \"Topic5\", \"Topic5\", \"Topic5\", \"Topic5\", \"Topic5\", \"Topic5\", \"Topic5\", \"Topic5\", \"Topic5\", \"Topic5\", \"Topic5\", \"Topic5\", \"Topic5\", \"Topic5\", \"Topic5\", \"Topic5\", \"Topic5\", \"Topic5\", \"Topic5\", \"Topic5\", \"Topic5\", \"Topic5\", \"Topic5\", \"Topic5\", \"Topic5\", \"Topic5\", \"Topic5\", \"Topic5\", \"Topic5\", \"Topic5\", \"Topic5\", \"Topic5\", \"Topic5\", \"Topic5\", \"Topic5\", \"Topic5\", \"Topic5\", \"Topic5\", \"Topic5\", \"Topic5\", \"Topic6\", \"Topic6\", \"Topic6\", \"Topic6\", \"Topic6\", \"Topic6\", \"Topic6\", \"Topic6\", \"Topic6\", \"Topic6\", \"Topic6\", \"Topic6\", \"Topic6\", \"Topic6\", \"Topic6\", \"Topic6\", \"Topic6\", \"Topic6\", \"Topic6\", \"Topic6\", \"Topic6\", \"Topic6\", \"Topic6\", \"Topic6\", \"Topic6\", \"Topic6\", \"Topic6\", \"Topic6\", \"Topic6\", \"Topic6\", \"Topic6\", \"Topic6\", \"Topic6\", \"Topic6\", \"Topic6\", \"Topic6\", \"Topic6\", \"Topic6\", \"Topic6\", \"Topic6\", \"Topic6\", \"Topic6\", \"Topic6\", \"Topic6\", \"Topic6\", \"Topic6\", \"Topic6\", \"Topic6\", \"Topic6\", \"Topic6\", \"Topic6\", \"Topic6\", \"Topic6\", \"Topic6\", \"Topic6\", \"Topic6\", \"Topic6\", \"Topic6\", \"Topic6\", \"Topic6\", \"Topic7\", \"Topic7\", \"Topic7\", \"Topic7\", \"Topic7\", \"Topic7\", \"Topic7\", \"Topic7\", \"Topic7\", \"Topic7\", \"Topic7\", \"Topic7\", \"Topic7\", \"Topic7\", \"Topic7\", \"Topic7\", \"Topic7\", \"Topic7\", \"Topic7\", \"Topic7\", \"Topic7\", \"Topic7\", \"Topic7\", \"Topic7\", \"Topic7\", \"Topic7\", \"Topic7\", \"Topic7\", \"Topic7\", \"Topic7\", \"Topic7\", \"Topic7\", \"Topic7\", \"Topic7\", \"Topic7\", \"Topic7\", \"Topic7\", \"Topic7\", \"Topic7\", \"Topic7\", \"Topic7\", \"Topic7\", \"Topic7\", \"Topic7\", \"Topic7\", \"Topic7\", \"Topic7\", \"Topic7\", \"Topic7\", \"Topic7\", \"Topic7\", \"Topic7\", \"Topic7\", \"Topic7\", \"Topic7\", \"Topic7\", \"Topic7\", \"Topic7\", \"Topic7\", \"Topic7\", \"Topic7\", \"Topic7\", \"Topic7\", \"Topic7\", \"Topic7\", \"Topic7\", \"Topic7\", \"Topic7\", \"Topic7\", \"Topic7\", \"Topic7\", \"Topic7\", \"Topic7\", \"Topic7\", \"Topic8\", \"Topic8\", \"Topic8\", \"Topic8\", \"Topic8\", \"Topic8\", \"Topic8\", \"Topic8\", \"Topic8\", \"Topic8\", \"Topic8\", \"Topic8\", \"Topic8\", \"Topic8\", \"Topic8\", \"Topic8\", \"Topic8\", \"Topic8\", \"Topic8\", \"Topic8\", \"Topic8\", \"Topic8\", \"Topic8\", \"Topic8\", \"Topic8\", \"Topic8\", \"Topic8\", \"Topic8\", \"Topic8\", \"Topic8\", \"Topic8\", \"Topic8\", \"Topic8\", \"Topic8\", \"Topic8\", \"Topic8\", \"Topic8\", \"Topic8\", \"Topic8\", \"Topic8\", \"Topic8\", \"Topic8\", \"Topic8\", \"Topic8\", \"Topic8\", \"Topic8\", \"Topic8\", \"Topic8\", \"Topic8\", \"Topic8\", \"Topic8\", \"Topic8\", \"Topic8\", \"Topic8\", \"Topic8\", \"Topic8\", \"Topic8\", \"Topic8\", \"Topic8\", \"Topic8\", \"Topic8\", \"Topic8\", \"Topic8\", \"Topic8\", \"Topic8\", \"Topic8\", \"Topic8\", \"Topic8\", \"Topic8\", \"Topic8\", \"Topic8\", \"Topic8\", \"Topic8\", \"Topic9\", \"Topic9\", \"Topic9\", \"Topic9\", \"Topic9\", \"Topic9\", \"Topic9\", \"Topic9\", \"Topic9\", \"Topic9\", \"Topic9\", \"Topic9\", \"Topic9\", \"Topic9\", \"Topic9\", \"Topic9\", \"Topic9\", \"Topic9\", \"Topic9\", \"Topic9\", \"Topic9\", \"Topic9\", \"Topic9\", \"Topic9\", \"Topic9\", \"Topic9\", \"Topic9\", \"Topic9\", \"Topic9\", \"Topic9\", \"Topic9\", \"Topic9\", \"Topic9\", \"Topic9\", \"Topic9\", \"Topic9\", \"Topic9\", \"Topic9\", \"Topic9\", \"Topic9\", \"Topic9\", \"Topic9\", \"Topic9\", \"Topic9\", \"Topic9\", \"Topic9\", \"Topic9\", \"Topic9\", \"Topic9\", \"Topic9\", \"Topic9\", \"Topic9\", \"Topic9\", \"Topic9\", \"Topic9\", \"Topic9\", \"Topic9\", \"Topic9\", \"Topic9\", \"Topic10\", \"Topic10\", \"Topic10\", \"Topic10\", \"Topic10\", \"Topic10\", \"Topic10\", \"Topic10\", \"Topic10\", \"Topic10\", \"Topic10\", \"Topic10\", \"Topic10\", \"Topic10\", \"Topic10\", \"Topic10\", \"Topic10\", \"Topic10\", \"Topic10\", \"Topic10\", \"Topic10\", \"Topic10\", \"Topic10\", \"Topic10\", \"Topic10\", \"Topic10\", \"Topic10\", \"Topic10\", \"Topic10\", \"Topic10\", \"Topic10\", \"Topic10\", \"Topic10\", \"Topic10\", \"Topic10\", \"Topic10\", \"Topic10\", \"Topic10\", \"Topic10\", \"Topic10\", \"Topic10\", \"Topic10\", \"Topic10\", \"Topic10\", \"Topic10\", \"Topic10\", \"Topic10\", \"Topic10\", \"Topic10\", \"Topic10\", \"Topic10\", \"Topic10\", \"Topic10\", \"Topic10\", \"Topic11\", \"Topic11\", \"Topic11\", \"Topic11\", \"Topic11\", \"Topic11\", \"Topic11\", \"Topic11\", \"Topic11\", \"Topic11\", \"Topic11\", \"Topic11\", \"Topic11\", \"Topic11\", \"Topic11\", \"Topic11\", \"Topic11\", \"Topic11\", \"Topic11\", \"Topic11\", \"Topic11\", \"Topic11\", \"Topic11\", \"Topic11\", \"Topic11\", \"Topic11\", \"Topic11\", \"Topic11\", \"Topic11\", \"Topic11\", \"Topic11\", \"Topic11\", \"Topic11\", \"Topic11\", \"Topic11\", \"Topic11\", \"Topic11\", \"Topic11\", \"Topic11\", \"Topic11\", \"Topic11\", \"Topic11\", \"Topic11\", \"Topic11\", \"Topic11\", \"Topic11\", \"Topic11\", \"Topic11\", \"Topic11\", \"Topic11\", \"Topic11\", \"Topic11\", \"Topic11\", \"Topic11\", \"Topic11\", \"Topic11\", \"Topic11\", \"Topic11\", \"Topic11\", \"Topic11\", \"Topic11\", \"Topic11\", \"Topic11\", \"Topic11\", \"Topic12\", \"Topic12\", \"Topic12\", \"Topic12\", \"Topic12\", \"Topic12\", \"Topic12\", \"Topic12\", \"Topic12\", \"Topic12\", \"Topic12\", \"Topic12\", \"Topic12\", \"Topic12\", \"Topic12\", \"Topic12\", \"Topic12\", \"Topic12\", \"Topic12\", \"Topic12\", \"Topic12\", \"Topic12\", \"Topic12\", \"Topic12\", \"Topic12\", \"Topic12\", \"Topic12\", \"Topic12\", \"Topic12\", \"Topic12\", \"Topic12\", \"Topic12\", \"Topic12\", \"Topic12\", \"Topic12\", \"Topic12\", \"Topic12\", \"Topic12\", \"Topic12\", \"Topic12\", \"Topic12\", \"Topic12\", \"Topic12\", \"Topic12\", \"Topic12\", \"Topic12\", \"Topic12\", \"Topic12\", \"Topic12\", \"Topic12\", \"Topic12\", \"Topic12\", \"Topic12\", \"Topic12\", \"Topic12\", \"Topic13\", \"Topic13\", \"Topic13\", \"Topic13\", \"Topic13\", \"Topic13\", \"Topic13\", \"Topic13\", \"Topic13\", \"Topic13\", \"Topic13\", \"Topic13\", \"Topic13\", \"Topic13\", \"Topic13\", \"Topic13\", \"Topic13\", \"Topic13\", \"Topic13\", \"Topic13\", \"Topic13\", \"Topic13\", \"Topic13\", \"Topic13\", \"Topic13\", \"Topic13\", \"Topic13\", \"Topic13\", \"Topic13\", \"Topic13\", \"Topic13\", \"Topic13\", \"Topic13\", \"Topic13\", \"Topic13\", \"Topic13\", \"Topic13\", \"Topic13\", \"Topic13\", \"Topic13\", \"Topic13\", \"Topic13\", \"Topic13\", \"Topic13\", \"Topic13\", \"Topic13\", \"Topic13\", \"Topic13\", \"Topic13\", \"Topic13\", \"Topic13\", \"Topic13\", \"Topic13\", \"Topic13\", \"Topic13\", \"Topic13\", \"Topic13\", \"Topic13\", \"Topic13\", \"Topic13\", \"Topic13\", \"Topic13\", \"Topic13\", \"Topic13\", \"Topic13\", \"Topic13\", \"Topic13\", \"Topic13\", \"Topic13\", \"Topic13\", \"Topic13\", \"Topic13\", \"Topic14\", \"Topic14\", \"Topic14\", \"Topic14\", \"Topic14\", \"Topic14\", \"Topic14\", \"Topic14\", \"Topic14\", \"Topic14\", \"Topic14\", \"Topic14\", \"Topic14\", \"Topic14\", \"Topic14\", \"Topic14\", \"Topic14\", \"Topic14\", \"Topic14\", \"Topic14\", \"Topic14\", \"Topic14\", \"Topic14\", \"Topic14\", \"Topic14\", \"Topic14\", \"Topic14\", \"Topic14\", \"Topic14\", \"Topic14\", \"Topic14\", \"Topic14\", \"Topic14\", \"Topic14\", \"Topic14\", \"Topic14\", \"Topic14\", \"Topic14\", \"Topic14\", \"Topic14\", \"Topic14\", \"Topic14\", \"Topic14\", \"Topic14\", \"Topic14\", \"Topic14\", \"Topic14\", \"Topic14\", \"Topic14\", \"Topic14\", \"Topic14\", \"Topic14\", \"Topic14\", \"Topic14\", \"Topic14\", \"Topic14\", \"Topic14\", \"Topic14\", \"Topic15\", \"Topic15\", \"Topic15\", \"Topic15\", \"Topic15\", \"Topic15\", \"Topic15\", \"Topic15\", \"Topic15\", \"Topic15\", \"Topic15\", \"Topic15\", \"Topic15\", \"Topic15\", \"Topic15\", \"Topic15\", \"Topic15\", \"Topic15\", \"Topic15\", \"Topic15\", \"Topic15\", \"Topic15\", \"Topic15\", \"Topic15\", \"Topic15\", \"Topic15\", \"Topic15\", \"Topic15\", \"Topic15\", \"Topic15\", \"Topic15\", \"Topic15\", \"Topic15\", \"Topic15\", \"Topic15\", \"Topic15\", \"Topic15\", \"Topic15\", \"Topic15\", \"Topic15\", \"Topic15\", \"Topic15\", \"Topic15\", \"Topic15\", \"Topic15\", \"Topic15\", \"Topic15\", \"Topic15\", \"Topic15\", \"Topic15\", \"Topic15\", \"Topic15\", \"Topic15\", \"Topic15\", \"Topic16\", \"Topic16\", \"Topic16\", \"Topic16\", \"Topic16\", \"Topic16\", \"Topic16\", \"Topic16\", \"Topic16\", \"Topic16\", \"Topic16\", \"Topic16\", \"Topic16\", \"Topic16\", \"Topic16\", \"Topic16\", \"Topic16\", \"Topic16\", \"Topic16\", \"Topic16\", \"Topic16\", \"Topic16\", \"Topic16\", \"Topic16\", \"Topic16\", \"Topic16\", \"Topic16\", \"Topic16\", \"Topic16\", \"Topic16\", \"Topic16\", \"Topic16\", \"Topic16\", \"Topic16\", \"Topic16\", \"Topic16\", \"Topic16\", \"Topic16\", \"Topic16\", \"Topic16\", \"Topic16\", \"Topic16\", \"Topic16\", \"Topic16\", \"Topic16\", \"Topic16\", \"Topic16\", \"Topic16\", \"Topic16\", \"Topic16\", \"Topic16\", \"Topic16\", \"Topic16\", \"Topic16\", \"Topic16\", \"Topic16\", \"Topic16\", \"Topic16\", \"Topic16\", \"Topic16\", \"Topic16\", \"Topic17\", \"Topic17\", \"Topic17\", \"Topic17\", \"Topic17\", \"Topic17\", \"Topic17\", \"Topic17\", \"Topic17\", \"Topic17\", \"Topic17\", \"Topic17\", \"Topic17\", \"Topic17\", \"Topic17\", \"Topic17\", \"Topic17\", \"Topic17\", \"Topic17\", \"Topic17\", \"Topic17\", \"Topic17\", \"Topic17\", \"Topic17\", \"Topic17\", \"Topic17\", \"Topic17\", \"Topic17\", \"Topic17\", \"Topic17\", \"Topic17\", \"Topic17\", \"Topic17\", \"Topic17\", \"Topic17\", \"Topic17\", \"Topic17\", \"Topic17\", \"Topic17\", \"Topic17\", \"Topic17\", \"Topic17\", \"Topic17\", \"Topic17\", \"Topic17\", \"Topic17\", \"Topic17\", \"Topic17\", \"Topic18\", \"Topic18\", \"Topic18\", \"Topic18\", \"Topic18\", \"Topic18\", \"Topic18\", \"Topic18\", \"Topic18\", \"Topic18\", \"Topic18\", \"Topic18\", \"Topic18\", \"Topic18\", \"Topic18\", \"Topic18\", \"Topic18\", \"Topic18\", \"Topic18\", \"Topic18\", \"Topic18\", \"Topic18\", \"Topic18\", \"Topic18\", \"Topic18\", \"Topic18\", \"Topic18\", \"Topic18\", \"Topic18\", \"Topic18\", \"Topic18\", \"Topic18\", \"Topic18\", \"Topic18\", \"Topic18\", \"Topic18\", \"Topic18\", \"Topic18\", \"Topic18\", \"Topic18\", \"Topic18\", \"Topic18\", \"Topic18\", \"Topic18\", \"Topic18\", \"Topic18\", \"Topic18\", \"Topic18\", \"Topic18\", \"Topic18\", \"Topic19\", \"Topic19\", \"Topic19\", \"Topic19\", \"Topic19\", \"Topic19\", \"Topic19\", \"Topic19\", \"Topic19\", \"Topic19\", \"Topic19\", \"Topic19\", \"Topic19\", \"Topic19\", \"Topic19\", \"Topic19\", \"Topic19\", \"Topic19\", \"Topic19\", \"Topic19\", \"Topic19\", \"Topic19\", \"Topic19\", \"Topic19\", \"Topic19\", \"Topic19\", \"Topic19\", \"Topic19\", \"Topic19\", \"Topic19\", \"Topic19\", \"Topic19\", \"Topic19\", \"Topic19\", \"Topic19\", \"Topic19\", \"Topic19\", \"Topic19\", \"Topic19\", \"Topic19\", \"Topic19\", \"Topic19\", \"Topic19\", \"Topic19\", \"Topic19\", \"Topic19\", \"Topic19\", \"Topic19\", \"Topic19\", \"Topic20\", \"Topic20\", \"Topic20\", \"Topic20\", \"Topic20\", \"Topic20\", \"Topic20\", \"Topic20\", \"Topic20\", \"Topic20\", \"Topic20\", \"Topic20\", \"Topic20\", \"Topic20\", \"Topic20\", \"Topic20\", \"Topic20\", \"Topic20\", \"Topic20\", \"Topic20\", \"Topic20\", \"Topic20\", \"Topic20\", \"Topic20\", \"Topic20\", \"Topic20\", \"Topic20\", \"Topic20\", \"Topic20\", \"Topic20\", \"Topic20\", \"Topic20\", \"Topic20\", \"Topic20\", \"Topic20\", \"Topic20\", \"Topic20\", \"Topic20\", \"Topic20\", \"Topic20\", \"Topic20\", \"Topic20\", \"Topic20\"], \"logprob\": [30.0, 29.0, 28.0, 27.0, 26.0, 25.0, 24.0, 23.0, 22.0, 21.0, 20.0, 19.0, 18.0, 17.0, 16.0, 15.0, 14.0, 13.0, 12.0, 11.0, 10.0, 9.0, 8.0, 7.0, 6.0, 5.0, 4.0, 3.0, 2.0, 1.0, -6.5752, -7.0369, -7.0442, -7.3827, -7.4471, -7.4497, -7.4667, -7.712, -7.7244, -7.76, -7.8499, -7.9428, -7.9274, -8.0007, -8.033, -8.0617, -8.077, -8.1069, -8.127, -8.1868, -8.2006, -8.2163, -8.2209, -8.2249, -8.2691, -8.2756, -8.2936, -8.2953, -8.3199, -8.3325, -7.615, -7.7865, -7.6791, -7.7534, -7.4285, -7.7601, -5.9062, -6.0144, -4.246, -6.3066, -5.2696, -3.988, -6.9717, -6.3461, -4.6545, -6.8093, -6.7799, -7.1174, -6.8433, -5.9253, -5.2351, -6.8409, -5.1549, -5.3056, -5.0537, -6.227, -4.8493, -5.0905, -6.4941, -4.8222, -5.2438, -5.7197, -5.092, -5.7302, -5.3668, -5.6337, -6.3705, -5.7134, -5.4262, -5.788, -5.8844, -6.0077, -5.6687, -5.762, -5.8651, -5.713, -5.9607, -5.8364, -5.577, -5.5931, -5.8471, -5.8351, -5.8789, -4.8507, -5.4036, -5.5412, -5.6253, -5.7305, -5.7329, -6.1888, -6.3111, -6.3665, -6.3753, -6.432, -6.4684, -6.515, -6.5709, -6.6157, -6.6241, -6.7315, -6.734, -6.7711, -6.7718, -6.812, -6.8706, -6.9038, -6.9808, -7.0384, -7.0781, -7.1229, -7.1272, -7.1511, -7.1624, -5.323, -6.4535, -5.6913, -5.7225, -6.5281, -6.4821, -6.242, -6.1084, -6.35, -5.9562, -6.3859, -5.4661, -5.7737, -6.0051, -5.6937, -5.1618, -5.432, -6.3448, -5.8976, -4.9442, -6.1211, -5.5459, -5.3405, -5.6661, -4.9337, -6.0841, -5.4144, -5.3788, -5.778, -5.9541, -5.7862, -5.971, -5.4665, -5.7797, -5.7739, -5.6386, -5.7872, -5.9093, -5.4208, -5.5482, -5.9299, -6.0114, -6.0309, -6.2238, -6.3117, -6.4991, -6.5102, -6.5452, -6.5615, -6.6193, -6.6358, -6.7371, -6.7491, -6.7768, -6.821, -6.8639, -6.9001, -6.907, -6.9072, -6.9235, -6.9705, -7.007, -7.0323, -7.0937, -6.3284, -7.1202, -7.1221, -4.9896, -5.1009, -6.3823, -4.0609, -5.0711, -5.6783, -6.3257, -5.7159, -5.6397, -4.8638, -4.9413, -5.7395, -4.9363, -5.2797, -6.1361, -4.9236, -5.3589, -4.5113, -5.5368, -4.6765, -4.9591, -5.2731, -5.9265, -5.6827, -5.2839, -5.703, -5.5711, -5.6626, -5.5066, -5.3621, -5.7192, -5.4588, -5.3435, -5.301, -5.4171, -5.1103, -5.4454, -5.5267, -5.5505, -6.8292, -6.9566, -6.7292, -7.0102, -7.0956, -7.1752, -7.2106, -7.2714, -7.2885, -7.4321, -7.4362, -7.5793, -7.6609, -7.6753, -7.6898, -7.7081, -7.7311, -7.7444, -7.7533, -7.8387, -7.8424, -7.8955, -7.8957, -7.9144, -7.9361, -7.9419, -7.9588, -7.9569, -7.9663, -7.9702, -4.9958, -6.3699, -5.523, -6.7588, -6.9707, -7.2348, -5.6257, -6.3332, -6.5757, -5.839, -5.6817, -5.6994, -6.0261, -5.7908, -5.6244, -5.9047, -6.3193, -6.617, -6.3947, -6.1069, -6.447, -4.3801, -6.1476, -5.6512, -6.1556, -5.2482, -4.3228, -4.8016, -5.3397, -6.0877, -5.7683, -5.0317, -5.4118, -5.2948, -5.6031, -4.9042, -5.4967, -5.6942, -4.7305, -5.2783, -5.2147, -5.1475, -5.4517, -5.5758, -5.2215, -5.5465, -5.6458, -5.5778, -5.5321, -5.5164, -5.6561, -5.6659, -5.959, -6.2999, -6.3039, -6.545, -6.6259, -6.6428, -6.8172, -6.9542, -6.9733, -6.5144, -7.0537, -7.0666, -7.1709, -7.2068, -7.2543, -7.2898, -7.3102, -7.3125, -7.3761, -7.4251, -7.4392, -7.4412, -7.4606, -7.4701, -7.4902, -7.4994, -7.515, -7.5537, -7.5572, -7.5588, -4.8165, -7.0354, -6.5805, -7.2226, -5.599, -6.935, -5.6123, -6.3653, -5.2374, -6.9452, -6.824, -5.3195, -6.5153, -6.438, -5.1721, -6.839, -5.2161, -4.3333, -5.2287, -5.1432, -5.725, -5.7655, -5.9722, -5.8058, -6.1401, -6.269, -4.9249, -6.2104, -5.6172, -5.5252, -5.906, -5.9275, -4.971, -5.5772, -4.9647, -5.4961, -5.7844, -5.4081, -5.2142, -5.1791, -5.0778, -5.3647, -5.4823, -5.2397, -5.4062, -5.4715, -5.347, -5.5956, -5.6565, -5.6296, -5.6486, -4.6148, -4.9029, -5.075, -5.4318, -5.6145, -5.6415, -5.7025, -5.6934, -5.8875, -5.8945, -6.2698, -6.2791, -6.3064, -6.4202, -6.6105, -6.6374, -6.661, -5.854, -6.8379, -6.8519, -6.9184, -6.9596, -6.98, -6.9979, -7.0254, -7.0455, -7.0712, -7.1805, -7.1874, -7.2011, -5.4592, -5.565, -5.9086, -4.7738, -5.3661, -4.9613, -6.7136, -5.7358, -4.4319, -5.5316, -4.8233, -5.1609, -5.2193, -4.7025, -5.9412, -4.6441, -5.5446, -5.5934, -5.5166, -5.4992, -5.451, -5.3732, -5.4547, -4.961, -5.3913, -5.3842, -5.4192, -5.3659, -5.5357, -5.5847, -5.1936, -5.8842, -6.0827, -6.2323, -6.1601, -6.4375, -6.5678, -6.599, -6.6182, -6.6904, -6.7703, -6.8169, -6.8726, -6.4566, -7.1211, -7.1212, -7.1516, -7.2535, -7.2548, -7.2696, -7.2921, -7.3464, -5.1907, -7.417, -7.421, -7.4231, -7.4268, -7.4379, -7.5277, -7.5905, -5.4461, -5.2994, -6.2334, -5.0467, -6.7909, -3.7947, -4.3162, -4.8219, -6.652, -5.761, -4.6828, -5.3799, -5.2438, -6.2543, -4.0758, -5.2782, -4.04, -4.1712, -5.2268, -5.8797, -5.9752, -5.2317, -4.3026, -5.2927, -4.5748, -5.8193, -4.678, -4.0492, -5.1914, -5.4775, -5.5479, -5.0653, -5.4078, -4.7037, -5.3364, -4.12, -4.8154, -4.7018, -5.1928, -4.535, -4.8738, -4.739, -5.19, -5.2819, -5.7155, -5.736, -6.0257, -6.3048, -6.3308, -6.3735, -6.3944, -6.5405, -6.5823, -6.6267, -6.6917, -6.7548, -6.6833, -6.8159, -6.8705, -6.9548, -7.0135, -7.0154, -7.0577, -7.0644, -7.0882, -7.0899, -7.0951, -7.1222, -7.1541, -7.1898, -7.2092, -7.2281, -7.3053, -7.3129, -6.4279, -6.2918, -6.0524, -5.4393, -6.0993, -6.0968, -4.9927, -5.8898, -6.0316, -5.4367, -6.5224, -6.5319, -6.7907, -6.4575, -6.228, -6.0003, -5.8828, -5.51, -5.3344, -5.7039, -5.251, -6.1715, -5.8746, -5.2215, -5.1517, -5.2008, -5.3048, -5.8176, -5.3639, -5.9239, -5.5464, -5.413, -5.9106, -5.4287, -5.5137, -5.329, -5.7086, -5.8241, -5.7813, -5.799, -5.8885, -5.8819, -5.8897, -5.0555, -5.2261, -5.3601, -5.4011, -5.4972, -5.8903, -5.9259, -6.099, -6.1503, -6.2069, -6.2447, -6.2449, -6.2981, -6.4052, -6.4262, -6.4294, -6.4843, -6.6454, -6.6655, -6.6667, -6.6668, -6.667, -4.4777, -6.678, -6.7152, -6.7281, -6.7381, -6.761, -6.7619, -6.805, -5.5469, -3.5315, -5.7965, -5.5537, -5.4813, -6.3821, -5.821, -6.4127, -5.9367, -5.0636, -4.9232, -4.849, -5.5714, -5.5562, -5.0366, -5.3131, -4.9669, -5.7638, -5.549, -5.3119, -5.6578, -6.0356, -5.4975, -5.8981, -5.8305, -5.5818, -5.6762, -5.8343, -5.7938, -4.3402, -4.585, -4.8025, -4.9983, -5.0608, -5.0992, -5.1661, -5.2085, -5.6495, -5.6643, -5.7468, -5.8012, -5.8692, -5.8709, -5.916, -5.9206, -5.9467, -5.9587, -5.9818, -5.9936, -5.9977, -6.0664, -6.0693, -6.0953, -6.1391, -6.1401, -6.1436, -6.1669, -6.244, -6.3134, -4.11, -4.1285, -5.432, -4.2854, -4.3913, -4.9346, -5.0483, -5.4977, -5.5489, -5.4105, -5.7569, -5.3153, -5.1675, -5.575, -5.3942, -5.2979, -5.4536, -5.6087, -5.3722, -5.2302, -5.5323, -5.0724, -5.3239, -5.5053, -4.3115, -4.6478, -4.9526, -5.4609, -5.526, -5.5654, -5.6543, -3.8836, -5.8319, -6.134, -6.1342, -3.5166, -6.1708, -6.2342, -6.2413, -6.2557, -5.8723, -6.2971, -6.3701, -6.3987, -6.4297, -6.4485, -6.4935, -6.4986, -6.5329, -6.5547, -5.6456, -6.5728, -6.6046, -6.6121, -4.3677, -5.3494, -4.2096, -3.6519, -5.7475, -5.8415, -6.1454, -5.9406, -4.7872, -5.6534, -6.1323, -5.9121, -4.6261, -5.3189, -5.7768, -5.9668, -3.9234, -4.6379, -5.4181, -5.5889, -5.3148, -5.0636, -4.5779, -5.222, -4.5975, -5.4439, -5.5122, -5.062, -5.0503, -4.9981, -5.3833, -5.2481, -5.5133, -5.5077, -4.81, -5.0132, -5.2646, -5.4281, -5.4655, -5.7113, -5.7508, -5.7638, -5.8034, -5.9366, -5.9803, -5.9853, -6.0278, -5.0788, -6.0679, -6.0733, -6.1072, -6.1202, -6.16, -6.1644, -6.2144, -6.2616, -6.2848, -6.3044, -6.3597, -6.3952, -6.4404, -6.4879, -6.509, -6.5838, -4.4183, -4.1912, -5.7097, -6.1714, -4.9109, -5.4344, -4.9551, -5.2636, -4.9534, -5.2921, -4.9367, -5.7453, -5.531, -5.591, -5.3233, -5.6796, -5.6871, -5.5562, -5.7342, -5.6665, -5.364, -5.3766, -5.5772, -5.6116, -5.7241, -5.1105, -5.5066, -5.5364, -5.7781, -5.8832, -6.0255, -6.033, -6.04, -6.0946, -6.1347, -6.1384, -6.2429, -6.3292, -6.292, -6.3622, -6.3864, -6.4004, -6.4109, -6.4232, -6.4285, -6.4288, -6.4641, -6.498, -6.5016, -6.6262, -6.6306, -6.6449, -6.6786, -6.6857, -6.7164, -5.6848, -5.8747, -5.4948, -6.1591, -4.3172, -4.8403, -5.1409, -5.7243, -5.6594, -5.7651, -5.9868, -5.7018, -5.4536, -5.188, -4.2424, -4.875, -5.1744, -5.4476, -4.5706, -4.9866, -5.2134, -5.0846, -5.4641, -5.0944, -5.4398, -4.7125, -4.8633, -4.7717, -5.2308, -4.7699, -5.1812, -5.2914, -5.2949, -5.4314, -5.2491, -5.2808, -5.1837, -5.2953, -5.3948, -5.3302, -5.3936, -5.4245, -4.5002, -4.77, -5.3357, -5.347, -5.3572, -5.4197, -5.5628, -5.6378, -5.9979, -6.0292, -6.0558, -6.1319, -6.2245, -6.2442, -6.2458, -6.2555, -6.3364, -6.3489, -6.3574, -6.3799, -6.3808, -6.4233, -6.4241, -6.4376, -6.4528, -6.4551, -6.456, -6.5067, -6.5396, -6.5416, -5.7634, -6.1659, -4.387, -5.8396, -4.2461, -5.567, -4.6792, -5.3995, -6.0004, -5.5712, -5.5968, -4.7048, -4.8705, -4.4156, -5.0473, -5.054, -5.0217, -5.5527, -5.0773, -5.3987, -5.0016, -5.5659, -5.3195, -5.3933, -5.2413, -5.5031, -5.5293, -5.5722, -4.8058, -4.8828, -4.9133, -4.9295, -5.1498, -5.2318, -5.2951, -5.3285, -5.3729, -5.3873, -5.5923, -5.6706, -5.7006, -5.7018, -5.7021, -5.8104, -5.8173, -5.8468, -5.8477, -5.8888, -5.899, -5.9664, -6.0124, -6.0801, -6.0846, -6.0906, -6.1298, -6.1413, -6.1697, -6.1883, -5.257, -5.2831, -4.7838, -5.3189, -3.9668, -4.8682, -4.655, -4.0784, -5.2599, -5.4553, -5.0796, -5.1071, -5.2134, -5.5987, -5.0578, -4.4578, -5.347, -5.2974, -5.4372, -5.4744, -5.18, -5.0544, -5.3521, -5.0805, -4.7954, -5.0946, -5.627, -5.7208, -5.7357, -5.7731, -5.8226, -5.8292, -5.878, -5.8791, -5.891, -5.959, -5.9614, -6.0174, -6.0186, -6.0208, -6.0384, -6.0437, -6.0482, -6.0858, -6.2425, -6.2512, -6.26, -6.2998, -6.3332, -6.3388, -6.3454, -6.3484, -6.3662, -6.3958, -5.0505, -5.304, -5.7678, -4.6291, -5.9164, -5.9339, -5.7971, -4.7081, -6.0083, -5.7776, -4.5665, -5.2019, -5.7948, -4.6429, -5.161, -5.1766, -4.8961, -5.1078, -4.9216, -5.5963, -5.3374, -5.7719, -5.1415, -5.3506, -5.3474, -5.6905, -5.5546, -5.5787, -5.6375, -5.6963, -5.7511, -3.5975, -4.464, -4.7855, -4.9214, -5.1053, -5.0799, -5.2554, -5.3266, -5.427, -5.4518, -5.5017, -5.6385, -5.7135, -5.7595, -5.8114, -5.8555, -5.8727, -5.9011, -5.9174, -5.9232, -4.6982, -6.0057, -6.0278, -6.132, -6.157, -6.1582, -6.1618, -6.2002, -6.2057, -6.2124, -4.7633, -5.1605, -5.0412, -5.1056, -4.8388, -5.4712, -4.3738, -5.2416, -4.6625, -5.063, -4.6808, -4.7626, -5.1017, -5.2534, -5.1029, -5.2397, -5.4863, -5.6247, -3.0001, -3.6325, -3.924, -4.645, -4.9145, -4.931, -5.0207, -5.0621, -5.0717, -5.0913, -5.1295, -5.3009, -3.7073, -5.6008, -5.6534, -5.7073, -5.8105, -5.9322, -5.953, -6.327, -6.3413, -6.3595, -6.4446, -6.5204, -6.5301, -6.5366, -6.5532, -6.5586, -5.4095, -6.6601, -4.102, -2.5642, -3.0587, -5.9479, -4.9664, -4.8384, -4.9555, -4.0379, -4.8484, -4.6813, -3.5002, -5.1996, -5.27, -5.2374, -5.0904, -5.1027, -4.9531, -4.9677, -4.7637, -5.1241, -3.3891, -4.4562, -4.9057, -5.1157, -5.3633, -5.3649, -5.3713, -5.4502, -5.4739, -5.627, -5.6455, -5.7373, -5.7426, -5.8271, -5.8519, -5.8606, -5.8804, -5.8913, -5.9014, -5.9331, -5.9452, -5.9805, -5.9896, -5.9918, -6.0109, -6.0315, -6.0413, -6.0499, -6.1663, -6.1827, -5.0604, -4.5782, -5.2391, -3.8563, -4.8639, -5.6834, -5.0654, -5.0899, -5.8582, -4.851, -4.5959, -5.2401, -5.3283, -5.5826, -5.3858, -5.522, -5.552, -5.7702, -5.7079, -4.3772, -4.8009, -4.9755, -4.9759, -5.0325, -5.0519, -5.0661, -5.1084, -5.2004, -5.4267, -5.4288, -5.5516, -5.5651, -5.58, -5.5833, -5.6496, -5.6643, -5.7107, -5.7363, -5.7705, -5.9779, -6.0163, -6.0256, -6.0655, -6.1007, -6.1166, -6.1203, -6.1248, -6.1262, -6.1357, -5.0576, -4.4243, -5.5215, -4.1461, -5.1584, -5.4698, -5.6945, -5.5191, -5.4211, -5.7776, -5.6389, -5.6984, -5.7215], \"loglift\": [30.0, 29.0, 28.0, 27.0, 26.0, 25.0, 24.0, 23.0, 22.0, 21.0, 20.0, 19.0, 18.0, 17.0, 16.0, 15.0, 14.0, 13.0, 12.0, 11.0, 10.0, 9.0, 8.0, 7.0, 6.0, 5.0, 4.0, 3.0, 2.0, 1.0, 1.6322, 1.6301, 1.6301, 1.6278, 1.6273, 1.6273, 1.6271, 1.6247, 1.6246, 1.6242, 1.6231, 1.6218, 1.621, 1.621, 1.6205, 1.6201, 1.6198, 1.6194, 1.619, 1.618, 1.6178, 1.6175, 1.6174, 1.6173, 1.6165, 1.6164, 1.616, 1.616, 1.6155, 1.6152, 1.6139, 1.5926, 1.5836, 1.5834, 1.5361, 1.5687, 1.3543, 1.3598, 1.1376, 1.3685, 1.2094, 1.0048, 1.4451, 1.3397, 1.0401, 1.3969, 1.3854, 1.449, 1.3832, 1.1782, 0.9632, 1.3608, 0.9356, 0.9242, 0.8355, 1.1787, 0.7127, 0.7911, 1.2367, 0.6052, 0.731, 0.9092, 0.6167, 0.8707, 0.7042, 0.7959, 1.1492, 0.7991, 0.6104, 0.8004, 0.8392, 0.9211, 0.6678, 0.7094, 0.7967, 0.5844, 0.8688, 0.7064, 0.33, -0.0132, 0.6584, 0.5532, 0.3457, 2.0299, 2.0292, 2.029, 2.0288, 2.0286, 2.0286, 2.0272, 2.0268, 2.0265, 2.0265, 2.0262, 2.0261, 2.0259, 2.0256, 2.0253, 2.0253, 2.0246, 2.0246, 2.0244, 2.0244, 2.0241, 2.0237, 2.0235, 2.0229, 2.0224, 2.0221, 2.0217, 2.0217, 2.0214, 2.0213, 2.0136, 2.015, 1.987, 1.9383, 1.9761, 1.9643, 1.909, 1.8862, 1.9056, 1.7824, 1.8998, 1.5637, 1.6722, 1.7462, 1.5902, 1.3437, 1.3899, 1.8507, 1.4839, 0.4394, 1.6048, 0.9535, 0.6962, 1.0232, 0.0592, 1.5498, 0.5605, 0.3159, 1.0165, 1.3034, 0.9374, 1.3176, 0.1135, 0.8077, 0.7689, -0.0766, -0.0784, 0.5991, 2.1996, 2.1993, 2.1983, 2.198, 2.1979, 2.1968, 2.1967, 2.1957, 2.1957, 2.1955, 2.1954, 2.195, 2.1949, 2.1942, 2.1941, 2.1939, 2.1935, 2.1932, 2.1929, 2.1928, 2.1928, 2.1927, 2.1922, 2.1919, 2.1917, 2.191, 2.1908, 2.1907, 2.1907, 2.1905, 2.1843, 2.186, 2.1401, 2.1416, 2.1594, 2.1756, 2.1342, 2.1246, 2.06, 2.0591, 2.1148, 2.0479, 2.0328, 2.1268, 1.97, 2.0025, 1.8341, 1.9891, 1.7786, 1.8387, 1.9016, 2.0423, 1.9337, 1.7321, 1.8746, 1.7399, 1.7943, 1.6401, 1.4371, 1.79, 1.4058, 1.228, 1.0707, 1.2897, 0.4696, 0.9583, 1.0712, 0.9439, 2.3841, 2.3828, 2.3827, 2.382, 2.3812, 2.3801, 2.3796, 2.3787, 2.3785, 2.3761, 2.376, 2.3733, 2.3715, 2.3712, 2.3709, 2.3705, 2.3699, 2.3696, 2.3694, 2.3672, 2.3671, 2.3657, 2.3656, 2.3652, 2.3645, 2.3644, 2.3639, 2.3639, 2.3637, 2.3635, 2.3276, 2.3321, 2.2754, 2.3246, 2.3305, 2.3372, 2.2562, 2.2877, 2.269, 2.2117, 2.1525, 2.1328, 2.1698, 2.1364, 2.1142, 2.1232, 2.1701, 2.2038, 2.1363, 2.0363, 2.1151, 1.5269, 2.0223, 1.8598, 2.0132, 1.558, 1.1046, 1.2694, 1.5046, 1.8565, 1.6453, 1.1076, 1.234, 1.1348, 1.375, 0.6757, 1.2375, 1.43, 0.2624, 0.8122, 0.6745, 0.5613, 1.0145, 1.1826, 0.4731, 0.8419, 1.1636, 0.846, 0.4427, 0.0457, 1.1262, 0.9844, 2.6306, 2.6285, 2.6284, 2.6264, 2.6256, 2.6255, 2.6235, 2.6217, 2.6214, 2.6213, 2.6202, 2.62, 2.6183, 2.6177, 2.6168, 2.6161, 2.6157, 2.6156, 2.6143, 2.6133, 2.613, 2.6129, 2.6125, 2.6122, 2.6118, 2.6115, 2.6112, 2.6102, 2.6101, 2.6101, 2.5369, 2.5973, 2.5576, 2.5851, 2.4075, 2.5536, 2.3996, 2.4819, 2.3382, 2.5457, 2.523, 2.2386, 2.455, 2.4384, 2.1673, 2.516, 2.1327, 1.8913, 2.0998, 2.0407, 2.1393, 2.1377, 2.2028, 2.1375, 2.2516, 2.2333, 1.4989, 2.1872, 1.7929, 1.6603, 1.9187, 1.8814, 0.7378, 1.4316, 0.5973, 1.2623, 1.628, 1.1237, 0.8143, 0.7025, 0.3057, 0.8337, 0.9967, 0.1877, 0.5686, 0.4177, -0.3541, 0.7409, 1.1367, 0.8365, 0.8639, 2.7609, 2.7604, 2.76, 2.7589, 2.7582, 2.7581, 2.7579, 2.7578, 2.7569, 2.7569, 2.7544, 2.7543, 2.7541, 2.7531, 2.7511, 2.7508, 2.7505, 2.7493, 2.7482, 2.748, 2.7471, 2.7464, 2.7461, 2.7458, 2.7453, 2.745, 2.7445, 2.7425, 2.7424, 2.7421, 2.7369, 2.721, 2.7148, 2.6751, 2.6911, 2.6087, 2.7219, 2.608, 2.4496, 2.492, 2.352, 2.4204, 2.2801, 1.8859, 2.4129, 1.7276, 2.1926, 2.1968, 2.1409, 2.0838, 2.0365, 1.9306, 1.9939, 1.162, 1.6601, 1.1873, 1.2202, 0.7734, 0.9588, 1.0815, 2.921, 2.9187, 2.9173, 2.916, 2.9152, 2.9133, 2.9123, 2.912, 2.9117, 2.9107, 2.9095, 2.9088, 2.9078, 2.9069, 2.903, 2.903, 2.9023, 2.8999, 2.8998, 2.8995, 2.8989, 2.8974, 2.897, 2.8954, 2.8953, 2.8952, 2.8951, 2.8948, 2.892, 2.8899, 2.8895, 2.8652, 2.8736, 2.8489, 2.8825, 2.8199, 2.8109, 2.7843, 2.8668, 2.8197, 2.7461, 2.7749, 2.7251, 2.817, 2.5222, 2.584, 2.313, 2.2561, 2.515, 2.6756, 2.6861, 2.4497, 2.0452, 2.4081, 2.0684, 2.5945, 1.9614, 1.5129, 2.1666, 2.3622, 2.3916, 1.9861, 2.2691, 1.599, 2.1881, 0.8729, 1.5882, 1.4212, 2.0039, 0.8925, 1.4235, 1.1426, 1.6079, 1.8108, 3.0484, 3.0477, 3.0461, 3.0434, 3.0431, 3.0426, 3.0413, 3.0404, 3.0398, 3.0391, 3.0381, 3.037, 3.0367, 3.0359, 3.0349, 3.0332, 3.0319, 3.0319, 3.0309, 3.0307, 3.0302, 3.0301, 3.03, 3.0293, 3.0285, 3.0276, 3.0271, 3.0258, 3.0243, 3.0241, 3.0048, 2.9836, 2.9703, 2.9321, 2.9653, 2.9621, 2.8474, 2.9131, 2.9162, 2.7532, 2.9323, 2.9332, 2.9815, 2.8734, 2.7068, 2.5466, 2.48, 2.2649, 2.153, 2.2927, 1.9294, 2.6355, 2.3757, 1.5777, 1.4198, 1.4386, 1.5531, 2.0998, 1.1306, 2.1174, 1.1877, 0.71, 1.9797, 0.7105, 0.9137, 0.2509, 1.287, 1.2686, 0.7615, 0.5038, 1.0957, 0.4155, 0.514, 3.0974, 3.0968, 3.0962, 3.096, 3.0956, 3.093, 3.0928, 3.0913, 3.0908, 3.0902, 3.0898, 3.0898, 3.0892, 3.0879, 3.0876, 3.0875, 3.0868, 3.0844, 3.084, 3.084, 3.084, 3.084, 3.084, 3.0838, 3.0832, 3.083, 3.0828, 3.0824, 3.0824, 3.0815, 3.0661, 3.0144, 3.0572, 3.0443, 3.0149, 3.0494, 2.9665, 3.026, 2.913, 2.6918, 2.5891, 2.5613, 2.7225, 2.67, 2.2756, 2.2183, 1.3785, 2.2979, 1.7333, 1.2596, 1.8416, 2.5835, 0.913, 2.033, 1.7392, -0.0019, 0.3523, 1.5868, 0.5779, 3.2568, 3.2563, 3.2557, 3.255, 3.2548, 3.2546, 3.2543, 3.2542, 3.2516, 3.2515, 3.2509, 3.2504, 3.2498, 3.2498, 3.2494, 3.2494, 3.2491, 3.249, 3.2488, 3.2487, 3.2486, 3.2479, 3.2479, 3.2476, 3.2471, 3.2471, 3.247, 3.2468, 3.2458, 3.2449, 3.2428, 3.1207, 3.1825, 3.0675, 2.985, 2.8926, 2.8956, 3.0233, 3.0344, 2.944, 3.1181, 2.8386, 2.6398, 2.9067, 2.7376, 2.5943, 2.7124, 2.8079, 2.2185, 1.3582, 2.346, 0.3112, 1.3654, 1.3875, 3.5471, 3.5461, 3.5448, 3.5417, 3.5411, 3.5408, 3.54, 3.5396, 3.5381, 3.5341, 3.5341, 3.5337, 3.5335, 3.5324, 3.5323, 3.5321, 3.5313, 3.5313, 3.5299, 3.5294, 3.5287, 3.5284, 3.5274, 3.5273, 3.5265, 3.526, 3.5256, 3.5256, 3.5248, 3.5246, 3.5239, 3.521, 3.4974, 3.4809, 3.5119, 3.5055, 3.5076, 3.492, 3.3823, 3.4561, 3.4947, 3.4597, 3.2396, 3.3161, 3.4067, 3.4329, 2.4871, 2.7245, 3.0794, 3.1756, 2.9251, 2.7214, 1.9539, 2.6721, 1.3094, 2.7174, 2.8597, 1.7823, 1.5955, 1.0304, 1.5799, 0.4465, 2.377, 0.3815, 3.6286, 3.6276, 3.626, 3.6248, 3.6245, 3.622, 3.6216, 3.6214, 3.621, 3.6193, 3.6186, 3.6186, 3.6179, 3.6178, 3.6173, 3.6172, 3.6167, 3.6165, 3.6158, 3.6157, 3.6148, 3.614, 3.6135, 3.6131, 3.612, 3.6112, 3.6102, 3.6091, 3.6086, 3.6068, 3.596, 3.4938, 3.5315, 3.569, 3.326, 3.291, 3.1115, 3.179, 2.9883, 3.0286, 2.6393, 3.2578, 2.7479, 2.741, 2.2628, 2.8571, 2.8215, 2.4614, 2.8634, 2.5864, 1.1304, 1.0947, 1.7615, 1.7987, 1.697, 3.9678, 3.9637, 3.9633, 3.9597, 3.9579, 3.9551, 3.9549, 3.9547, 3.9536, 3.9527, 3.9526, 3.95, 3.9476, 3.9467, 3.9467, 3.946, 3.9455, 3.9452, 3.9448, 3.9447, 3.9447, 3.9435, 3.9424, 3.9423, 3.9378, 3.9377, 3.9371, 3.9358, 3.9355, 3.9343, 3.9084, 3.9059, 3.8862, 3.8996, 3.7272, 3.7772, 3.71, 3.7941, 3.7758, 3.792, 3.8419, 3.7623, 3.6829, 3.5228, 3.1787, 3.3894, 3.484, 3.5922, 3.2058, 3.3512, 3.4515, 3.3736, 3.5161, 3.2613, 3.4993, 2.8927, 2.8825, 2.6671, 3.1727, 2.5423, 3.0319, 3.0826, 2.9715, 3.2157, 2.6166, 2.624, 2.1653, 1.967, 2.8346, 1.9521, 2.3331, 2.7708, 3.9749, 3.9735, 3.9688, 3.9687, 3.9686, 3.9679, 3.9661, 3.965, 3.9588, 3.9581, 3.9576, 3.9558, 3.9536, 3.953, 3.953, 3.9528, 3.9505, 3.9502, 3.9499, 3.9492, 3.9492, 3.9479, 3.9479, 3.9475, 3.947, 3.9469, 3.9469, 3.9452, 3.9441, 3.944, 3.9186, 3.9229, 3.7234, 3.8581, 3.6152, 3.7605, 3.3384, 3.5818, 3.7806, 3.6028, 3.5793, 3.079, 3.0329, 2.7134, 3.1069, 2.9031, 2.7686, 3.1119, 2.5003, 2.9027, 2.3223, 3.1003, 2.5318, 2.3829, 1.6514, 2.4386, 2.4531, 2.6931, 4.0851, 4.0844, 4.0842, 4.0841, 4.0821, 4.0813, 4.0806, 4.0801, 4.0796, 4.0795, 4.0766, 4.0753, 4.0748, 4.0748, 4.0748, 4.0728, 4.0727, 4.0721, 4.0721, 4.0713, 4.071, 4.0696, 4.0685, 4.0669, 4.0668, 4.0666, 4.0656, 4.0653, 4.0646, 4.064, 4.0467, 3.9761, 3.8982, 3.9118, 3.5691, 3.7269, 3.5491, 3.284, 3.7498, 3.8281, 3.5935, 3.4946, 3.5716, 3.8721, 3.3162, 2.2764, 3.5161, 3.3673, 3.4999, 3.5675, 2.4577, 1.7931, 2.9856, 0.948, 4.4344, 4.431, 4.4215, 4.4193, 4.4189, 4.418, 4.4166, 4.4165, 4.4151, 4.415, 4.4147, 4.4126, 4.4126, 4.4107, 4.4107, 4.4106, 4.41, 4.4099, 4.4097, 4.4084, 4.4024, 4.402, 4.4017, 4.4, 4.3985, 4.3982, 4.3979, 4.3978, 4.397, 4.3956, 4.3563, 4.3607, 4.3478, 4.2478, 4.3336, 4.3311, 4.2743, 3.8968, 4.3178, 4.2176, 3.5509, 3.8856, 4.2027, 3.1347, 3.5843, 3.1095, 2.3614, 2.6482, 2.074, 3.382, 2.5982, 3.8649, 1.7164, 2.0696, 1.7453, 3.4835, 2.6711, 2.3858, 2.3761, 2.8808, 2.1341, 4.4458, 4.4416, 4.4388, 4.4374, 4.4351, 4.4335, 4.4329, 4.4317, 4.4299, 4.4295, 4.4285, 4.4255, 4.4237, 4.4226, 4.4212, 4.42, 4.4195, 4.4186, 4.4181, 4.418, 4.4155, 4.4153, 4.4146, 4.4109, 4.41, 4.4099, 4.4098, 4.4083, 4.4081, 4.4078, 4.4025, 4.375, 4.2403, 4.1921, 4.0667, 4.117, 3.5788, 3.9898, 3.589, 3.7421, 3.426, 3.3004, 3.3467, 3.4777, 3.0402, 2.7094, 1.6976, 1.9084, 4.4784, 4.4778, 4.4767, 4.4721, 4.4693, 4.4691, 4.468, 4.4675, 4.4673, 4.4671, 4.4665, 4.4638, 4.4632, 4.4579, 4.4566, 4.4553, 4.4525, 4.4489, 4.4482, 4.4337, 4.433, 4.4322, 4.4279, 4.4239, 4.4233, 4.4229, 4.422, 4.4217, 4.4195, 4.4155, 4.394, 4.3215, 4.2634, 4.3908, 4.2324, 4.2146, 4.1784, 3.989, 4.0924, 4.0459, 3.5885, 4.1489, 4.1754, 4.0506, 3.6813, 3.3888, 2.9411, 2.9685, 1.3593, 2.003, 5.1686, 5.156, 5.1504, 5.145, 5.1371, 5.137, 5.1368, 5.1338, 5.1329, 5.1263, 5.1254, 5.1209, 5.1206, 5.1161, 5.1147, 5.1142, 5.113, 5.1124, 5.1118, 5.1098, 5.1091, 5.1068, 5.1063, 5.1061, 5.1049, 5.1035, 5.1028, 5.1022, 5.0937, 5.0925, 4.9529, 4.8861, 4.9444, 4.4262, 4.7174, 4.959, 4.6671, 4.5791, 5.0237, 4.2683, 3.812, 4.3504, 4.3848, 4.7022, 4.3761, 4.1307, 3.0671, 4.1423, 2.477, 5.6844, 5.6721, 5.6654, 5.6654, 5.663, 5.6621, 5.6615, 5.6595, 5.6549, 5.6419, 5.6417, 5.6334, 5.6324, 5.6313, 5.6311, 5.626, 5.6248, 5.6211, 5.6189, 5.6159, 5.5958, 5.5917, 5.5907, 5.5861, 5.582, 5.5802, 5.5797, 5.5792, 5.579, 5.5778, 5.5123, 5.4213, 5.5027, 5.0577, 5.3142, 5.1204, 5.1651, 4.9319, 4.3799, 4.9945, 4.1682, 3.4966, 3.5247]}, \"token.table\": {\"Topic\": [1, 6, 1, 6, 1, 3, 6, 7, 8, 9, 18, 4, 18, 12, 14, 16, 11, 15, 18, 19, 18, 7, 8, 20, 13, 17, 2, 5, 7, 8, 10, 9, 6, 12, 3, 6, 8, 9, 11, 1, 2, 3, 4, 5, 6, 7, 8, 9, 10, 11, 12, 13, 6, 1, 2, 6, 9, 10, 12, 13, 14, 3, 9, 14, 1, 2, 3, 5, 6, 9, 10, 12, 15, 8, 20, 2, 3, 13, 15, 1, 9, 13, 15, 9, 13, 16, 3, 6, 3, 1, 1, 2, 5, 10, 12, 14, 1, 4, 7, 11, 16, 1, 2, 4, 5, 7, 8, 11, 1, 2, 3, 4, 5, 7, 8, 5, 1, 2, 3, 6, 7, 8, 12, 16, 3, 4, 7, 1, 3, 6, 7, 8, 14, 1, 2, 4, 7, 8, 7, 8, 12, 5, 6, 9, 10, 12, 13, 19, 10, 10, 14, 11, 10, 1, 2, 3, 11, 10, 5, 10, 5, 10, 20, 1, 3, 5, 9, 10, 1, 2, 3, 4, 5, 7, 8, 9, 11, 1, 1, 2, 4, 5, 7, 8, 16, 1, 5, 14, 1, 9, 9, 13, 19, 2, 2, 2, 5, 9, 13, 2, 20, 8, 5, 5, 17, 1, 3, 4, 6, 8, 9, 12, 13, 9, 12, 1, 4, 7, 11, 12, 1, 7, 19, 5, 10, 5, 10, 5, 10, 10, 10, 1, 2, 3, 4, 5, 7, 8, 11, 5, 5, 8, 11, 1, 13, 1, 6, 12, 18, 11, 1, 2, 3, 4, 6, 8, 9, 10, 11, 1, 16, 4, 4, 5, 1, 5, 5, 2, 2, 1, 2, 4, 5, 7, 8, 11, 1, 2, 3, 4, 7, 8, 11, 1, 2, 3, 4, 5, 8, 11, 2, 2, 17, 16, 17, 1, 5, 6, 11, 13, 15, 1, 3, 3, 7, 18, 19, 1, 2, 3, 4, 5, 7, 8, 10, 13, 14, 16, 17, 1, 18, 2, 5, 10, 12, 1, 5, 6, 7, 8, 9, 18, 2, 3, 4, 5, 8, 9, 10, 16, 2, 3, 6, 7, 8, 9, 10, 16, 4, 7, 18, 4, 5, 7, 16, 17, 17, 17, 5, 1, 5, 10, 14, 2, 3, 7, 13, 2, 13, 15, 1, 2, 3, 4, 6, 8, 9, 1, 3, 4, 5, 9, 17, 18, 20, 1, 8, 19, 4, 8, 17, 7, 8, 16, 18, 7, 18, 15, 1, 4, 6, 9, 12, 13, 16, 1, 2, 4, 5, 7, 10, 15, 11, 13, 13, 12, 14, 1, 2, 3, 4, 6, 7, 10, 13, 7, 16, 18, 3, 4, 7, 8, 10, 11, 1, 2, 3, 4, 12, 13, 1, 5, 6, 8, 9, 14, 4, 5, 17, 7, 4, 4, 8, 2, 16, 2, 1, 2, 3, 4, 7, 8, 10, 12, 14, 17, 5, 8, 9, 10, 11, 12, 13, 15, 7, 1, 8, 19, 18, 1, 4, 5, 8, 11, 13, 15, 1, 2, 5, 10, 12, 6, 7, 8, 19, 2, 2, 13, 15, 2, 2, 12, 2, 14, 13, 6, 19, 8, 8, 1, 5, 9, 10, 13, 14, 10, 6, 19, 11, 3, 7, 3, 12, 6, 7, 19, 11, 15, 5, 2, 3, 6, 8, 13, 14, 16, 14, 1, 2, 5, 6, 7, 9, 12, 13, 7, 9, 13, 19, 3, 20, 1, 2, 3, 4, 5, 7, 11, 16, 16, 16, 14, 6, 7, 8, 9, 3, 6, 1, 3, 4, 6, 8, 9, 14, 14, 3, 1, 5, 16, 17, 1, 3, 4, 6, 7, 8, 9, 6, 14, 1, 2, 1, 2, 4, 5, 6, 12, 16, 15, 3, 6, 9, 10, 13, 15, 14, 7, 2, 7, 8, 17, 20, 3, 5, 1, 2, 3, 5, 9, 12, 14, 19, 3, 1, 3, 4, 6, 7, 8, 9, 10, 12, 14, 7, 18, 18, 19, 11, 2, 3, 6, 16, 15, 20, 8, 1, 3, 7, 8, 14, 16, 17, 1, 4, 6, 8, 9, 18, 1, 2, 3, 4, 5, 6, 7, 8, 10, 11, 14, 17, 1, 9, 10, 13, 1, 2, 6, 14, 1, 2, 4, 5, 6, 9, 10, 16, 1, 6, 10, 14, 1, 5, 6, 6, 6, 6, 6, 6, 6, 5, 11, 12, 1, 2, 3, 4, 5, 6, 8, 9, 11, 12, 16, 8, 8, 12, 8, 18, 10, 13, 1, 2, 5, 8, 9, 16, 19, 8, 3, 6, 7, 8, 9, 18, 3, 5, 10, 2, 3, 6, 7, 11, 15, 17, 1, 2, 3, 4, 6, 7, 9, 12, 13, 19, 19, 1, 2, 4, 5, 6, 7, 8, 9, 10, 12, 13, 6, 4, 6, 4, 1, 2, 3, 17, 4, 14, 6, 14, 1, 5, 6, 9, 11, 14, 15, 1, 11, 1, 1, 2, 3, 8, 19, 6, 5, 19, 13, 7, 11, 13, 15, 1, 2, 3, 6, 9, 12, 4, 3, 13, 12, 8, 3, 6, 8, 18, 3, 6, 12, 12, 3, 7, 18, 3, 18, 3, 7, 10, 14, 9, 11, 13, 14, 15, 19, 5, 12, 2, 12, 2, 1, 4, 5, 6, 3, 7, 13, 15, 1, 5, 6, 13, 15, 2, 16, 4, 18, 1, 4, 5, 7, 15, 17, 1, 3, 4, 5, 7, 18, 1, 6, 12, 1, 12, 2, 9, 2, 3, 4, 9, 10, 11, 13, 13, 1, 15, 14, 4, 8, 9, 17, 3, 4, 6, 8, 4, 8, 3, 6, 7, 8, 16, 1, 6, 6, 18, 6, 7, 9, 12, 19, 1, 6, 4, 17, 4, 1, 8, 9, 14, 1, 2, 3, 4, 5, 7, 8, 12, 3, 3, 15, 2, 3, 10, 20, 6, 18, 11, 2, 7, 10, 1, 2, 3, 4, 5, 6, 7, 8, 10, 11, 1, 2, 3, 5, 16, 1, 2, 12, 14, 2, 4, 9, 11, 16, 12, 1, 2, 3, 4, 6, 8, 16, 2, 10, 7, 17, 19, 1, 4, 6, 8, 9, 3, 6, 10, 16, 1, 2, 4, 5, 12, 1, 2, 4, 5, 6, 7, 10, 17, 2, 11, 13, 1, 5, 1, 6, 14, 1, 2, 3, 4, 5, 11, 3, 6, 14, 3, 3, 6, 7, 10, 11, 9, 1, 2, 3, 4, 5, 6, 7, 8, 5, 13, 15, 1, 5, 10, 14, 14, 14, 5, 10, 19, 1, 2, 3, 4, 5, 6, 7, 8, 9, 10, 11, 12, 13, 15, 16, 17, 1, 13, 15, 20, 16, 15, 9, 16, 4, 5, 6, 7, 18, 15, 1, 2, 5, 12, 12, 13, 1, 2, 5, 6, 9, 10, 16, 12, 20, 3, 18, 3, 5, 19, 3, 6, 9, 13, 8, 8, 9, 2, 5, 13, 1, 4, 5, 8, 10, 15, 17, 9, 19, 3, 11, 13, 15, 11, 15, 8, 19, 17, 19, 7, 1, 4, 10, 2, 3, 9, 10, 14, 1, 3, 10, 16, 16, 15, 11, 1, 2, 6, 9, 15, 1, 3, 11, 15, 1, 2, 4, 5, 7, 8, 11, 20, 1, 2, 3, 4, 5, 6, 7, 8, 11, 16, 11, 12, 18, 1, 6, 10, 3, 3, 4, 7, 8, 9, 1, 2, 3, 4, 5, 7, 9, 11, 16, 1, 4, 7, 9, 12, 10, 2, 10, 4, 5, 7, 8, 10, 15, 16, 15, 2, 5, 8, 9, 10, 17, 17, 16, 1, 5, 14, 11, 14, 8, 4, 7, 7, 1, 2, 5, 10, 1, 2, 4, 5, 7, 11, 18, 20, 15, 8, 11, 13, 1, 12, 14, 2, 6, 2, 7, 8, 17, 1, 2, 3, 4, 5, 6, 7, 8, 10, 12, 16, 1, 12, 1, 2, 3, 4, 5, 6, 7, 8, 9, 11, 12, 14, 15, 16, 18, 1, 2, 6, 9, 10, 11, 11, 11, 13, 10, 2, 1, 3, 4, 5, 6, 7, 8, 10, 11, 13, 1, 9, 4, 17, 14, 5, 13, 16, 1, 2, 3, 9, 10, 12, 14, 16, 7, 14, 6, 7, 12, 2, 3, 9, 10, 20, 12, 20, 1, 16, 1, 2, 3, 4, 6, 8, 9, 11, 1, 12, 12, 16, 3, 4, 7, 8, 1, 2, 3, 6, 7, 8, 9, 10, 12, 13, 11, 1, 11, 11, 3, 8, 8, 12, 18, 13, 3, 7, 18, 18, 1, 3, 6, 8, 9, 10, 13, 3, 6, 7, 8, 11, 2, 1, 8, 20, 16, 5, 20, 2, 10, 13, 15, 2, 10, 10, 10, 1, 2, 3, 4, 6, 14, 16, 15, 5, 13, 15, 2, 2, 10, 2, 10, 1, 2, 3, 4, 6, 7, 8, 9, 11, 12, 13, 15, 1, 20, 19, 3, 2, 1, 2, 19, 18, 7, 18, 5, 1, 2, 3, 4, 5, 6, 7, 11, 3, 7, 8, 8, 5, 6, 8, 12, 1, 5, 10, 14, 20, 2, 13, 15, 4, 5, 1, 2, 3, 4, 5, 7, 8, 1, 2, 5, 20, 1, 2, 4, 9, 10, 18, 1, 2, 3, 4, 5, 6, 7, 8, 9, 10, 11, 13, 16, 1, 2, 3, 4, 5, 10, 15, 9, 9, 9, 1, 2, 6, 14, 4, 11, 13, 16, 18, 17, 10, 10, 1, 2, 4, 5, 8, 10, 11, 15, 16, 17, 14, 15, 1, 2, 3, 4, 5, 6, 7, 8, 12, 14, 1, 6, 6, 3, 1, 3, 6, 8, 14, 1, 2, 4, 5, 9, 4, 1, 2, 3, 4, 5, 6, 7, 8, 11, 15, 1, 2, 3, 4, 5, 6, 7, 8, 10, 11, 15, 16, 1, 2, 3, 4, 5, 6, 8, 9, 10, 11, 13, 15, 16, 1, 2, 3, 4, 5, 6, 7, 8, 11, 1, 5, 8, 17, 16, 1, 2, 3, 4, 5, 6, 8, 9, 11, 12, 1, 2, 3, 4, 5, 7, 8, 16, 5, 2, 1, 2, 4, 5, 7, 10, 11, 13, 14, 1, 2, 4, 16, 9, 5, 1, 3, 4, 5, 6, 7, 8, 13, 7, 4, 2, 3, 4, 6, 7, 8, 11, 16, 3, 6, 8, 1, 3, 4, 7, 8, 9, 16, 17, 19, 18, 14, 1, 2, 10, 1, 2, 3, 4, 5, 6, 7, 8, 11, 16, 11, 5, 1, 2, 3, 4, 5, 6, 7, 8, 9, 10, 11, 12, 16, 14, 5, 2, 19, 1, 2, 19, 9, 11, 16, 10, 2, 4, 6, 16, 18, 2, 13, 20, 2, 3, 4, 6, 8, 1, 3, 6, 7, 10, 11, 14, 18, 5, 12, 12, 7, 13, 1, 3, 7, 8, 2, 3, 6, 7, 8, 3, 1, 2, 3, 4, 5, 6, 7, 8, 9, 11, 4, 4, 5, 9, 10, 17, 20, 1, 5, 6, 9, 10, 14, 6, 10, 2, 9, 9, 7, 9, 13, 1, 4, 9, 3, 4, 8, 18, 13, 15, 2, 9, 16, 1, 2, 2, 3, 11, 12, 7, 8, 18, 3, 5, 17, 17, 19, 3, 7, 1, 2, 3, 4, 5, 7, 8, 11, 12, 1, 11, 15, 12, 15, 20, 10, 1, 2, 3, 4, 5, 6, 8, 10, 13, 14, 16, 18, 11, 12, 1, 2, 3, 4, 5, 6, 8, 9, 10, 11, 14, 3, 9, 1, 5, 6, 8, 9, 10, 12, 13, 14, 13, 10, 14, 10, 6, 20, 1, 3, 4, 5, 8, 9, 10, 16, 11, 1, 2, 3, 4, 5, 6, 7, 8, 11, 18, 2, 10, 15, 17, 1, 2, 4, 5, 7, 10, 11, 16, 1, 2, 3, 5, 6, 7, 8, 9, 10, 13, 6, 9, 12, 8, 16, 1, 5, 11, 13, 16, 6, 20, 12, 20, 1, 5, 9, 10, 12, 13, 15, 7, 15, 15, 1, 9, 10, 19, 3, 19, 1, 2, 3, 5, 6, 7, 8, 9, 10, 11, 12, 2, 9, 9, 1, 2, 4, 11, 10, 17, 2, 3, 4, 16, 18, 8, 20, 18, 20, 9, 9, 17, 1, 13, 15, 10, 8, 4, 3, 8, 19, 16, 9, 13, 4, 16, 3, 7, 9, 10, 12, 13, 14, 16, 2, 4, 5, 12, 10, 10, 10, 7, 4, 6, 7, 8, 9, 17, 19, 16, 17, 1, 16, 1, 2, 3, 4, 5, 6, 8, 9, 10, 11, 16, 2, 2, 1, 12, 12, 5, 1, 2, 10, 14, 1, 2, 6, 15, 15, 13, 11, 15, 1, 2, 3, 4, 5, 6, 10, 12, 1, 2, 3, 4, 5, 1, 2, 3, 4, 6, 9, 10, 12, 14, 15, 13, 15, 11, 3, 5, 6, 8, 6, 3, 4, 5, 11, 2, 3, 4, 10, 17, 14, 11, 20, 11, 20, 5, 11, 18, 11, 13, 15, 3, 6, 9, 12, 19, 5, 8, 19, 3, 1, 2, 6, 11, 15, 1, 2, 5, 11, 15, 4, 11, 15, 11, 1, 10, 11, 11, 13, 15, 1, 2, 3, 4, 5, 6, 7, 8, 9, 16, 19, 3, 8, 12, 4, 1, 2, 3, 4, 5, 6, 7, 8, 11, 15, 7, 8, 1, 2, 3, 8, 11, 15, 1, 5, 6, 10, 14, 2, 1, 10, 12, 3, 7, 8, 7, 3, 12, 1, 2, 4, 8, 9, 10, 14, 15, 18, 15, 14, 5, 20, 8, 4, 18, 1, 6, 13, 12, 3, 4, 10, 15, 16, 4, 8, 9, 16, 3, 7, 9, 16, 3, 7, 3, 19, 13, 5, 6, 1, 6, 1, 2, 3, 4, 5, 8, 11, 12, 1, 2, 3, 4, 6, 7, 8, 12, 16, 20, 3, 1, 3, 6, 7, 9, 8, 3, 8, 9, 20, 14, 9, 12, 13, 1, 3, 6, 9, 10, 8, 15, 5, 17, 16, 13, 19, 1, 2, 3, 4, 6, 11, 15, 2, 20, 6, 16, 1, 2, 4, 6, 7, 8, 8, 19, 19, 2, 14, 20, 1, 2, 4, 5, 7, 11, 4, 17, 2, 1, 2, 4, 7, 15, 6, 17, 18, 9, 2, 3, 5, 8, 9, 12, 1, 2, 10, 2, 2, 10, 4, 1, 3, 5, 6, 7, 9, 10, 12, 14, 1, 5, 6, 9, 10, 12, 18, 10, 1, 2, 3, 6, 8, 16, 3, 6, 8, 16, 1, 2, 3, 6, 9, 10, 12, 20, 12, 16, 16, 17, 16, 17, 20, 5, 17, 1, 2, 3, 4, 5, 6, 7, 8, 11, 15, 17, 13, 6, 1, 2, 3, 4, 12, 6, 14, 4, 5, 9, 10, 13, 17, 13, 13, 5, 9, 10, 12, 1, 9, 11, 4, 1, 2, 4, 5, 9, 18, 3, 8, 1, 3, 4, 5, 7, 8, 17, 3, 4, 5, 7, 8, 11, 17, 1, 5, 9, 10, 15, 1, 2, 4, 5, 7, 10, 12, 13, 4, 8, 14, 16, 18, 8, 15, 9, 9, 2, 5, 13, 1, 2, 4, 5, 7, 12, 2, 6, 9, 12, 1, 8, 11, 11, 15, 15, 1, 11, 11, 15, 7, 19, 3, 4, 7, 2, 20, 18, 19, 16, 11, 15, 1, 2, 3, 4, 5, 6, 7, 8, 9, 10, 11, 14, 15, 18, 5, 6, 10, 3, 5, 8, 9, 14, 1, 6, 6, 10, 15, 1, 2, 3, 4, 8, 10, 14, 1, 4, 6, 7, 8, 14, 15, 16, 4, 14, 16, 1, 13, 1, 2, 3, 4, 6, 7, 8, 9, 13, 16, 4, 1, 10, 6, 7, 8, 3, 4, 8, 9, 11, 12, 13, 15, 16, 1, 2, 4, 5, 12, 3, 7, 2, 3, 4, 6, 8, 9, 10, 12, 20, 18, 20, 2, 6, 14, 18, 3, 15, 12, 16, 4, 8, 16, 18, 14, 5, 15, 5, 9, 1, 2, 3, 4, 5, 8, 10, 11, 12, 15, 17, 5, 8, 17, 8, 17, 8, 7, 1, 2, 3, 4, 5, 6, 7, 8, 9, 10, 11, 12, 5, 1, 3, 4, 7, 8, 12, 16, 17, 18, 1, 2, 18, 4, 17, 4, 8, 3, 7, 8, 6, 14, 19, 14, 16, 15, 3, 6, 7, 16, 4, 9, 7, 1, 4, 5, 8, 13, 16, 13, 1, 2, 3, 4, 5, 7, 3, 4, 1, 2, 3, 4, 5, 6, 7, 8, 11, 12, 18, 1, 2, 3, 4, 5, 8, 8, 4, 1, 2, 3, 6, 8, 9, 10, 5, 6, 9, 10, 13, 1, 5, 9, 10, 3, 8, 9, 16, 9, 4, 6, 7, 8, 11, 17, 18, 1, 4, 2, 5, 13, 17, 17, 18, 11, 13, 15, 1, 3, 5, 7, 10, 11, 12, 12, 14, 16, 1, 2, 3, 4, 6, 8, 9, 10, 13, 14, 1, 2, 6, 7, 9, 10, 12, 14, 1, 4, 5, 6, 8, 9, 11, 4, 4, 19, 17, 4, 15, 11, 1, 2, 3, 4, 5, 7, 8, 10, 11, 16, 1, 4, 13, 13, 1, 3, 4, 5, 8, 9, 13, 17, 3, 15, 1, 3, 12, 14, 20, 2, 9, 12, 19, 2, 9, 12, 16, 1, 2, 3, 4, 7, 8, 16, 1, 4, 11, 17, 5, 5, 7, 7, 1, 4, 8, 9, 10, 13, 18, 1, 2, 3, 4, 5, 6, 7, 8, 10, 11, 17, 18, 12, 1, 18, 3, 7, 12, 3, 8, 12, 16, 1, 2, 3, 4, 6, 7, 8, 9, 18, 1, 2, 3, 4, 5, 7, 8, 11, 3, 4, 5, 18, 5, 13, 18, 1, 9, 11, 13, 15, 11, 5, 10, 3, 4, 6, 8, 9, 6, 9, 8, 19, 4, 7, 8, 16, 7, 8, 12, 1, 2, 4, 5, 7, 8, 16, 1, 2, 3, 4, 5, 7, 1, 2, 4, 5, 7, 8, 11, 1, 2, 3, 5, 6, 7, 8, 10, 11, 15, 1, 2, 3, 4, 5, 6, 8, 9, 10, 11, 12, 6, 9, 13, 14, 1, 2, 4, 19, 1, 2, 3, 4, 5, 6, 7, 8, 9, 11, 12, 13, 17, 17, 9, 2, 3, 10, 14, 15, 16, 2, 16, 6, 20, 15, 1, 2, 4, 5, 7, 19, 1, 2, 4, 5, 10, 15, 3, 17, 19, 4, 7, 19, 19, 4, 18, 5, 14, 1, 3, 4, 6, 7, 9, 14, 18, 1, 2, 10, 12, 4, 5, 10, 1, 2, 3, 4, 5, 6, 7, 10, 11, 16, 1, 2, 10, 10, 10, 1, 2, 4, 5, 7, 8, 11, 17, 16, 15, 8, 19, 3, 4, 5, 6, 8, 9, 18, 1, 6, 9, 10, 14, 13, 3, 6, 8, 9, 10, 12, 13, 16, 3, 7, 19, 7, 1, 2, 3, 4, 5, 6, 7, 8, 12, 14, 18, 3, 6, 7, 8, 3, 6, 7, 1, 2, 3, 4, 6, 7, 8, 9, 3, 1, 9, 14, 15, 16, 9, 15, 2, 3, 4, 6, 7, 8, 14, 3, 15, 18, 18, 6, 7, 14, 2, 5, 14, 3, 4, 5, 6, 7, 8, 10, 1, 5, 3, 12, 2, 3, 19, 8, 13, 20, 5, 1, 2, 3, 4, 5, 7, 8, 16, 1, 6, 9, 10, 12, 13, 15, 1, 2, 4, 5, 12, 19, 8, 1, 5, 6, 8, 20, 5, 12, 20, 4, 14, 1, 10, 14, 5, 1, 2, 3, 4, 5, 6, 7, 8, 9, 11, 12, 1, 4, 5, 15, 1, 2, 9, 10, 13, 16, 17, 17, 3, 3, 3, 5, 7, 3, 5, 7, 20, 15, 3, 11, 8, 17, 8, 6, 15, 16, 2, 5, 12, 16, 2, 5, 10, 12, 16, 1, 2, 3, 4, 5, 7, 9, 7, 1, 2, 3, 5, 6, 8, 9, 11, 1, 2, 3, 4, 5, 7, 8, 9, 1, 2, 3, 4, 7, 9, 10, 11, 13, 2, 1, 2, 3, 4, 5, 6, 7, 8, 9, 11, 17, 19, 7, 16, 7, 3, 11, 1, 3, 4, 5, 9, 11, 12, 13, 1, 2, 4, 5, 6, 8, 9, 10, 11, 12, 14, 1, 9, 10, 12, 13, 20, 18], \"Freq\": [0.9091226842104556, 0.09009323897581091, 0.02623244471905334, 0.9574842322454469, 0.03956695870249849, 0.1924392991439699, 0.4640125156929368, 0.26258072593476267, 0.012589486859885882, 0.016186483105567563, 0.012589486859885882, 0.9853893790755043, 0.9382356058818418, 0.9429349819737597, 0.017791226074976598, 0.035582452149953196, 0.13038630182991856, 0.4726503441334548, 0.03259657545747964, 0.35856233003227606, 0.9839189198902794, 0.892997226833359, 0.09112216600340399, 0.8873035086825843, 0.9806521000570414, 0.9434246850586684, 0.016870838562966978, 0.014059032135805815, 0.9250843145360227, 0.03655348355309512, 0.0056236128543223265, 0.9886500165395096, 0.9949092857083575, 0.994680931389781, 0.15340179464837944, 0.763813102520056, 0.07989676804603096, 0.9863732025561803, 0.987354229325696, 0.19233385238587655, 0.1470951540613486, 0.17679172290014916, 0.17928956513892677, 0.0233131942285911, 0.04634885043065135, 0.07132727281842753, 0.06050328978372452, 0.04496116029799712, 0.026643650546961255, 0.01692981961838163, 0.01387690132654232, 0.0005550760530616928, 0.9961255709363078, 0.45254268871376785, 0.00488355419475289, 0.18231935660410792, 0.06185835313353661, 0.04395198775277601, 0.0016278513982509635, 0.16278513982509635, 0.08953182690380299, 0.03918819007681848, 0.9535792918692496, 0.9657143798948565, 0.09600356502749569, 0.2430728561334465, 0.07353464555297541, 0.06332150033728438, 0.036767322776487706, 0.032682064690211295, 0.08374779076866644, 0.3697158568080153, 0.9814321536263602, 0.9882330728592648, 0.9420666849247381, 0.06069030510951729, 0.2731063729928278, 0.5886959595623177, 0.07282836613142075, 0.07838315608200289, 0.06632420899246398, 0.6089768280217147, 0.24117894179077812, 0.3611971147258629, 0.06483025136105232, 0.5742107977693205, 0.46096751132471064, 0.5363179699066345, 0.9842558940624148, 0.9708522164766296, 0.2348989373314146, 0.10777715948147258, 0.01658110145868809, 0.4007099519182955, 0.07737847347387775, 0.15752046385753685, 0.3796310830261053, 0.05875242951594487, 0.5197330303333585, 0.03389563241304512, 0.004519417655072682, 0.23509321434926927, 0.09199299691927929, 0.06854380162612966, 0.0402845149907955, 0.5423377988313066, 0.018037842533192017, 0.004208829924411471, 0.46474753878483643, 0.1374878135571808, 0.01645980866529629, 0.13651958951804571, 0.09875885199177775, 0.140392485674586, 0.005809344234810456, 0.9963131948828011, 0.17867875778432193, 0.21607663732057536, 0.06232979922708904, 0.05401915933014384, 0.10803831866028768, 0.058174479278616444, 0.058174479278616444, 0.261785156753774, 0.11339461331166507, 0.2892719727338395, 0.5970573517226447, 0.017015707575019606, 0.7657068408758823, 0.008507853787509803, 0.11060209923762743, 0.07444372064071077, 0.023396597915651955, 0.18412146418891698, 0.05193169502764325, 0.004721063184331204, 0.717601604018343, 0.03304744229031843, 0.9711409701954494, 0.003407512176124384, 0.020445073056746303, 0.00874791122457139, 0.09272785898045674, 0.22044736285919903, 0.08048078326605679, 0.1434657440829708, 0.44964263694296946, 0.001749582244914278, 0.9972831735757024, 0.9904371575975065, 0.9745559063862712, 0.9908425248234113, 0.9911287432142344, 0.17545571889696418, 0.7811384745412788, 0.03845604797741681, 0.007210508995765651, 0.9971270890210917, 0.12816573071174397, 0.8706430672487435, 0.23755523789547, 0.7611805157918229, 0.9208927525316434, 0.15573192112891707, 0.08009070229487163, 0.022247417304131007, 0.008898966921652403, 0.7297152875754971, 0.22636122605609052, 0.04960106547045808, 0.06493230388859966, 0.2976063928227485, 0.2534163526763404, 0.04328820259239978, 0.018938588634174903, 0.006312862878058301, 0.037877177268349806, 0.9795586236359698, 0.1948327262629172, 0.03837614305178672, 0.5844981787887515, 0.02361608803186875, 0.002952011003983594, 0.11512842915536016, 0.04132815405577031, 0.11773402543733757, 0.07064041526240254, 0.8005913729738955, 0.9866714486863106, 0.9833630191180114, 0.9873443064414238, 0.979911744685312, 0.958400698693162, 0.9971747436158138, 0.9941390169531837, 0.9974685843814388, 0.11398855770807571, 0.04274570914052839, 0.8264170433835489, 0.5069588978479209, 0.4707475480016409, 0.9909924434960861, 0.9719559576416238, 0.05797745366505254, 0.9276392586408406, 0.0006658571936232733, 0.6552034785253009, 0.0845638635901557, 0.1251811524011754, 0.03795386003652658, 0.07923700604116952, 0.005326857548986186, 0.01198542948521892, 0.9341132268182701, 0.06578262160692043, 0.3227402569990173, 0.20538016354482921, 0.007335005840886757, 0.43643284753276207, 0.02200501752266027, 0.954529871387316, 0.03718947550859673, 0.8944825144452418, 0.19576588662383632, 0.7998434796345313, 0.817338929573346, 0.17246601266226566, 0.8883341164838263, 0.0960361207009542, 0.9946000907769349, 0.987226317450762, 0.2878635139288525, 0.0206538844074513, 0.012908677754657063, 0.21299318295184153, 0.320780642203228, 0.05163471101862825, 0.04388950436583401, 0.04905297546769684, 0.9815238387565687, 0.06704558304641726, 0.24136409896710218, 0.6905695053780979, 0.973001609275326, 0.9929626194098963, 0.01599496592124917, 0.19993707401561464, 0.10396727848811961, 0.6797860516530898, 0.9958870516962476, 0.1333872834883219, 0.17350375972541118, 0.4513103576672545, 0.10931739774606831, 0.024069885742253574, 0.004011647623708929, 0.0742154810386152, 0.02507279764818081, 0.005014559529636161, 0.9896939794578524, 0.938717645786645, 0.9897976599612626, 0.9868958474210429, 0.9704926480545166, 0.06931173329540904, 0.9149148794993994, 0.9782053459906395, 0.9977535321016624, 0.9928813601335634, 0.37606441603633145, 0.5028198337320037, 0.05532418783402269, 0.0035015308755710563, 0.03291439023036793, 0.0035015308755710563, 0.024510716128997394, 0.1965486581666185, 0.0933606126291438, 0.12480839793580276, 0.4107866955682327, 0.0009827432908330925, 0.002948229872499278, 0.1709973326049581, 0.387603018236065, 0.06043706105551949, 0.06527202593996105, 0.3134668900079611, 0.00966992976888312, 0.020951514499246756, 0.14182563661028574, 0.9983664619741187, 0.9878780078948353, 0.9974589812265724, 0.9728479324025139, 0.9875741166249445, 0.3894923813323507, 0.014249721268256733, 0.3514931246169994, 0.023749535447094555, 0.1923712371214659, 0.02612448899180401, 0.992459866016155, 0.9881280310347478, 0.9884559554817274, 0.3487869628447112, 0.6459017830457615, 0.9732183606030542, 0.15306073368754117, 0.044526758890921066, 0.013914612153412833, 0.19480457014777966, 0.2087191823011925, 0.03061214673750823, 0.1419290439648109, 0.022263379445460533, 0.0333950691681908, 0.03896091402955593, 0.1001852075045724, 0.0166975345840954, 0.986160347665393, 0.9174326936499333, 0.3053043903834468, 0.0907661701139977, 0.1856580752331771, 0.4125735005181714, 0.015954743297720893, 0.058500725424976606, 0.055841601542023125, 0.5690525109520451, 0.21272991063627855, 0.055841601542023125, 0.03456861047839527, 0.4828033099231617, 0.05645084854486199, 0.10250285656830203, 0.008913291875504525, 0.1574681564672466, 0.025254326980596153, 0.04010981343977036, 0.12478608625706335, 0.4917175625080453, 0.008780670759072238, 0.03219579278326487, 0.061464695313505666, 0.14927140290422805, 0.0848798173376983, 0.011707561012096317, 0.15805207366330026, 0.03880264561278558, 0.22311521227351708, 0.737250266642926, 0.6881088894782557, 0.06659118285273441, 0.22936962982608522, 0.011098530475455736, 0.9795345409346689, 0.9677974343064352, 0.9758335010343133, 0.9869921731959397, 0.048402222366707756, 0.8833405581924166, 0.048402222366707756, 0.9702482148782057, 0.07405661147875199, 0.044433966887251194, 0.029622644591500796, 0.8294340485620223, 0.05632303659108193, 0.1577045024550294, 0.7659932976387143, 0.08980222800857378, 0.009553428511550402, 0.6630079387015979, 0.0974449708178141, 0.024838914130031045, 0.04203508545082177, 0.07069537098547297, 0.08257883086997822, 0.19170085737673515, 0.017695463757852477, 0.6075442556862684, 0.08847731878926238, 0.008847731878926238, 0.9791910494715845, 0.8686596637738031, 0.12356164272608995, 0.2471232854521799, 0.6001565503838655, 0.9001866487899461, 0.06388421378509296, 0.02903827899322407, 0.07548688331909933, 0.7397714565271735, 0.05284081832336954, 0.12832770164246887, 0.99272254726769, 0.9891291531907215, 0.993498244703656, 0.1060039165398187, 0.06674320671025621, 0.26697282684102486, 0.21593390406259363, 0.01570428393182499, 0.3180117496194561, 0.003926070982956248, 0.060220524347732, 0.16275817391278918, 0.06673085130424357, 0.6038328252164479, 0.0797515052172667, 0.013020653913023135, 0.00813790869563946, 0.048913070343595356, 0.9293483365283117, 0.973770660266496, 0.9930064025012937, 0.9889476481425445, 0.1700993802064162, 0.4903765915860648, 0.16703452650900333, 0.019921549033183883, 0.03064853697412905, 0.0965428914685065, 0.02451882957930324, 0.9734597792585565, 0.8918840861978737, 0.023470633847312468, 0.0834511425682221, 0.003643948503508721, 0.025507639524561046, 0.8599718468280582, 0.003643948503508721, 0.05101527904912209, 0.054659227552630814, 0.7431723015764422, 0.015957687457162868, 0.00911867854695021, 0.10942414256340252, 0.1208224907470903, 0.9444469277542838, 0.18207537215394795, 0.2549055210155271, 0.10196220840621084, 0.014566029772315836, 0.02549055210155271, 0.4187733559540803, 0.698781578239057, 0.05402950347209203, 0.2449337490734839, 0.9829903389404705, 0.9669622882774525, 0.039237037939260325, 0.954767923188668, 0.18363918471514676, 0.803421433128767, 0.9965525073117499, 0.3384031429470013, 0.1733284390704153, 0.04539554356606115, 0.0907910871321223, 0.0247612055814879, 0.03920524217068917, 0.00412686759691465, 0.25380235721025096, 0.02063433798457325, 0.006190301395371975, 0.03833219360895242, 0.0747477775374572, 0.5998988299801054, 0.06708133881566673, 0.034498974248057174, 0.045998632330742896, 0.12841284858999058, 0.013416267763133346, 0.9900293280508342, 0.08146099409481271, 0.9141733781751203, 0.992199529458608, 0.978813554228555, 0.0611048277856819, 0.7994548301960049, 0.025460344910700792, 0.11202551760708349, 0.13126499359665775, 0.5338109739597415, 0.3325379837781996, 0.1160151413571265, 0.23041896130651512, 0.3399888170326902, 0.15952081936604895, 0.15307553373509747, 0.663598137558453, 0.23807438337148623, 0.08893583286865865, 0.00820946149556849, 0.9983280498224073, 0.982378726623253, 0.0048234634695086065, 0.011254748095520083, 0.9956095798448314, 0.9983214432624615, 0.9791971253626702, 0.9971196009973462, 0.9662491862434316, 0.9816102048459224, 0.9888451207007337, 0.9758161792307488, 0.991670370857375, 0.9904666784663996, 0.09925282139208598, 0.360699277741971, 0.004841601043516389, 0.10893602347911877, 0.33407047200263085, 0.08956961930505321, 0.9956071105960331, 0.9882789614585403, 0.9328524801898301, 0.988668870409991, 0.9914893494397913, 0.005245975393861329, 0.990128949626817, 0.9769086696758889, 0.9985589527433765, 0.9873473972593511, 0.943864322365902, 0.9782126414030986, 0.01270406027796232, 0.9830310768904926, 0.041023824910022225, 0.7411637700410683, 0.08341511065037853, 0.0902524148020489, 0.00957222581233852, 0.030084138267349632, 0.002734921660668148, 0.9642220012252651, 0.053659917792966624, 0.053659917792966624, 0.053659917792966624, 0.06558434396918143, 0.09539540940971844, 0.11924426176214806, 0.08943319632161104, 0.4650526208723774, 0.046302797908389155, 0.10996914503242423, 0.8218746628739074, 0.017363549215645934, 0.9926141487590913, 0.9227030730936425, 0.3352497142121552, 0.2670791595116334, 0.0028015296452269236, 0.09618585115279105, 0.22318852840307826, 0.05229522004423591, 0.016809177871361543, 0.003735372860302565, 0.9801384903456815, 0.9730520435144286, 0.9717743713363833, 0.8584067462409685, 0.044020858781588124, 0.039618772903429314, 0.05722711641606456, 0.9350341128616675, 0.061798231597179176, 0.17243622610122625, 0.03736118232193235, 0.2155452826265328, 0.09771386145736154, 0.38510757162607195, 0.06035267913542918, 0.03161330811855814, 0.9894640945752339, 0.987150227166227, 0.00971778598274227, 0.9814963842569694, 0.8422838940876439, 0.12386527854230057, 0.9842125512103752, 0.09912734998402303, 0.06407011645308806, 0.33243928348300406, 0.39046504932731024, 0.07374107742713909, 0.03868384389620411, 0.05034340265495955, 0.9397435162259116, 0.04651209580421328, 0.9457459480190034, 0.014511249403784553, 0.03482699856908293, 0.7719984682813382, 0.0522404978536244, 0.014511249403784553, 0.06094724749589513, 0.04933824797286748, 0.9850366077293623, 0.056926318618713036, 0.04879398738746831, 0.23990377132171922, 0.03659549054060124, 0.5570646893402632, 0.052860153003090674, 0.983089739952279, 0.9905373847919168, 0.034976230473911574, 0.21685262893825177, 0.6575531329095377, 0.034976230473911574, 0.04197147656869389, 0.9738751050639368, 0.020611113334686494, 0.7864298796588959, 0.030689946523273986, 0.05754364973113872, 0.05754364973113872, 0.01918121657704624, 0.01918121657704624, 0.015344973261636993, 0.0076724866308184965, 0.9967963361269828, 0.1633009865938068, 0.053562723602768626, 0.10973826299103816, 0.08883573670703089, 0.0914485524925318, 0.09667418406353362, 0.05486913149551908, 0.0026128157855009088, 0.05617553938826954, 0.2821841048340981, 0.014807675230045756, 0.9810084839905313, 0.9783914756707967, 0.9578850957318669, 0.9747280225676473, 0.09144573013499041, 0.25719111600466055, 0.0628689394678059, 0.5772511714771269, 0.4161793590667963, 0.5410331667868352, 0.9827892009741103, 0.13205659165987274, 0.3692693581600145, 0.19074841017537172, 0.10760166727841482, 0.0293459092577495, 0.16629348579391381, 0.9604109044023155, 0.20096080841649502, 0.46687864581609956, 0.02029907155722172, 0.04059814311444344, 0.2557683016209937, 0.014209350090055204, 0.4296695501091062, 0.11332768919908304, 0.0026268007430251036, 0.09418956949990014, 0.1444740408663807, 0.019138119699182898, 0.16811524755360663, 0.018012347952172138, 0.0007505144980071724, 0.009006173976086069, 0.0003752572490035862, 0.9843845538501095, 0.7645927750156704, 0.006766307743501507, 0.21652184779204822, 0.00902174365800201, 0.3238886605208304, 0.011777769473484741, 0.4475552399924202, 0.21494429289109654, 0.17901666401048355, 0.04212156800246672, 0.1474254880086335, 0.08775326667180566, 0.028081045334977812, 0.045631698669338944, 0.05967222133682785, 0.41068528802405047, 0.39393080693848165, 0.050829781540449245, 0.025414890770224623, 0.5273589834821609, 0.9878040808260473, 0.9875400801065423, 0.990939188087779, 0.9797908062569967, 0.9938967733650867, 0.9866629022087244, 0.9941968639461403, 0.9894459361934966, 0.9823527639076773, 0.9823634798468875, 0.9892096151699645, 0.9811429318842672, 0.14303664437077376, 0.03988521814185038, 0.32870921158283584, 0.0316331040435365, 0.01650422819662774, 0.04538662754072629, 0.3245831545336789, 0.03438380874297446, 0.004126057049156935, 0.023380989945222634, 0.00825211409831387, 0.9855261004296869, 0.8823159323328119, 0.10694738573731054, 0.06472332234631313, 0.9061265128483837, 0.9862103482615504, 0.9837426072501659, 0.18175672387988973, 0.030292787313314952, 0.2524398942776246, 0.030292787313314952, 0.11107355348215482, 0.3837086393019894, 0.9169902933809817, 0.9621061759724818, 0.3778032965527279, 0.20723071909921906, 0.0187031334927093, 0.1952607136638851, 0.15860257201817488, 0.042643144363377204, 0.9870709201040402, 0.8318722194179698, 0.15649081355387554, 0.19922196841139572, 0.06791658014024854, 0.02263886004674951, 0.09961098420569786, 0.5025826930378392, 0.08149989616829824, 0.02263886004674951, 0.11777859756902471, 0.2650018445303056, 0.11988178681132872, 0.027341460149952163, 0.10726265135750465, 0.0021031892423040125, 0.0021031892423040125, 0.01472232469612809, 0.33861346801094605, 0.0021031892423040125, 0.9512883929689321, 0.2705555207770829, 0.10232548542210186, 0.06763888019427072, 0.36420935489222694, 0.032952274966439585, 0.029483614443656467, 0.01734330261391557, 0.08324785254679473, 0.003468660522783114, 0.019077632875307126, 0.006937321045566228, 0.9817403454430744, 0.8789792897713602, 0.10896437476504466, 0.9554692458511637, 0.9505555354431653, 0.023763888386079134, 0.023763888386079134, 0.9692162249854486, 0.9749211921494416, 0.9726802052180025, 0.9910979141010509, 0.9819487756452545, 0.16154180753544428, 0.01700440079320466, 0.005668133597734887, 0.12753300594903497, 0.28624074668561184, 0.38826715144483975, 0.011336267195469775, 0.07383756176977237, 0.9106632618271926, 0.9823229396830317, 0.052573947582869915, 0.1990299444208647, 0.6759507546368989, 0.003755281970204994, 0.0675950754636899, 0.9903520447988194, 0.3372958220713954, 0.6132651310389007, 0.9851255799563121, 0.9809891718032714, 0.38172997544379406, 0.06267208552062291, 0.5526538450454929, 0.006639975761034248, 0.023239915163619868, 0.22907916375568155, 0.17927934554792468, 0.4481983638698117, 0.1095596000570651, 0.9665411069177821, 0.046068911981980265, 0.9367345436335986, 0.9852916551229736, 0.9744840361207018, 0.2084725144695018, 0.20045434083605942, 0.5051449389068697, 0.08018173633442377, 0.9579713595467072, 0.03980490413628977, 0.9970431447265508, 0.9933603576326836, 0.08874544990422864, 0.10617759184970212, 0.8050480098455026, 0.07688757502874048, 0.9175250620096363, 0.8191620239871666, 0.17471061276185043, 0.004944639983825955, 0.9922950426018876, 0.06566298789445438, 0.39784045606640006, 0.39011539866705247, 0.11973838968988738, 0.027037700897716507, 0.9660133922042763, 0.3595784500951784, 0.6365510400333564, 0.08639450842009685, 0.907142338411017, 0.9919120732810887, 0.018582650822327507, 0.23228313527909386, 0.6364557906647171, 0.10685024222838317, 0.10813653520174216, 0.06654556012414901, 0.6321828211794157, 0.1830002903414098, 0.05919289071689961, 0.05179377937728716, 0.11098667009418677, 0.20717511750914863, 0.5623324618105463, 0.07766834435420919, 0.9061306841324406, 0.1464715728950002, 0.852198242298183, 0.016876708814052496, 0.16876708814052496, 0.07715066886423998, 0.6630135605520624, 0.03857533443211999, 0.03375341762810499, 0.059827571749304975, 0.008158305238541589, 0.20667706604305355, 0.01087774031805545, 0.7097725557531182, 0.9967889026285582, 0.16776600871278083, 0.2839117070523983, 0.5463149514493119, 0.5338697761341415, 0.4591280074753617, 0.33241588585694465, 0.6648317717138893, 0.06682199161612219, 0.013364398323224438, 0.031183596087523687, 0.09800558770364588, 0.2628331670234139, 0.0356383955285985, 0.4900279385182294, 0.9673433659133888, 0.9946794168732429, 0.9839316360598994, 0.9848277258429938, 0.16694511495807213, 0.7075292967270677, 0.11924651068433724, 0.007949767378955816, 0.0756137078556559, 0.07116584268767615, 0.7072105617087817, 0.14677955054333205, 0.06943564550184948, 0.9200223028995057, 0.3200012623922844, 0.11716581654520648, 0.3275603473306848, 0.1675597161345426, 0.06677191695587036, 0.9850220444226724, 0.9890198750771255, 0.9929674615581736, 0.9505048960261624, 0.9981328764622555, 0.9687916438972556, 0.8713197539273394, 0.08232942556793758, 0.04116471278396879, 0.03739282468605291, 0.9597491669420247, 0.5740334560771888, 0.4214930971196142, 0.9914967171189683, 0.12117855012606733, 0.08078570008404488, 0.11108033761556171, 0.6866784507143815, 0.4897670980383114, 0.08447947760922839, 0.03208081428198547, 0.2887273285378692, 0.08020203570496366, 0.018179128093125097, 0.0021387209521323645, 0.004277441904264729, 0.9966856712518664, 0.9885419473354121, 0.009624191420511663, 0.2784275527888232, 0.29905181595836566, 0.3093639475431369, 0.11343344743248353, 0.9968549394641424, 0.976922054884896, 0.9827324495421569, 0.9931495195443919, 0.980144025260251, 0.9878045115866306, 0.40452136800129146, 0.2298604107380047, 0.014417767698620368, 0.14211799588640076, 0.12646441952789864, 0.014829703918580949, 0.033366833816807134, 0.00865066061917222, 0.0020596810998029097, 0.02348036453775317, 0.10170828835352252, 0.3207722940380326, 0.3833620099478926, 0.019559286221831253, 0.16820986150774878, 0.1703823832051414, 0.6994645205263699, 0.09326193607018265, 0.03407647664102828, 0.07021393537095869, 0.6836620022961767, 0.059127524522912575, 0.09977769763241497, 0.08499581650168683, 0.9800144322618164, 0.0024340699928172187, 0.7521276277805207, 0.13387384960494703, 0.012170349964086094, 0.04868139985634438, 0.036511049892258285, 0.012170349964086094, 0.8826474189306784, 0.11284989831077166, 0.21598090372697948, 0.026997612965872435, 0.7559331630444283, 0.08493568988210486, 0.7750381701742068, 0.09024417049973642, 0.04246784494105243, 0.9868589932423032, 0.8532414501685687, 0.14523258726273508, 0.06597474967797787, 0.9236464954916901, 0.2207371089128602, 0.14988322210132482, 0.00545029898550272, 0.6077083368835533, 0.01090059797100544, 0.3983256075744812, 0.3627942153495275, 0.05890730816242328, 0.0579722715249245, 0.05890730816242328, 0.004675183187493911, 0.0579722715249245, 0.9800121592740069, 0.9983623155395511, 0.9689651011876134, 0.02236073310432954, 0.9312608803393265, 0.05894056204679282, 0.25762394037350694, 0.5213817840892402, 0.2177535686490356, 0.6140292771159626, 0.1737818708818762, 0.027032735470514074, 0.16219641282308445, 0.01737818708818762, 0.001930909676465291, 0.9405182169491966, 0.0361539127877231, 0.02324180107782199, 0.9926873847619915, 0.868339444223359, 0.06704091297312698, 0.06065606411854346, 0.003192424427291761, 0.9862274154180961, 0.9912779891253565, 0.20439311542101582, 0.23880982557781916, 0.08850011183178004, 0.115190621749301, 0.06461912927399813, 0.05689292903471574, 0.16646449606453864, 0.06461912927399813, 0.9866539773626753, 0.8744452554102545, 0.11659270072136728, 0.07265055792118294, 0.7896799774041624, 0.0031587199096166497, 0.13266623620389928, 0.9872443944903198, 0.9939015255231601, 0.9253971893728632, 0.03896409218412055, 0.029223069138090415, 0.22080584643588855, 0.12040003831248253, 0.07736897768816567, 0.058678719033159354, 0.1616924702247058, 0.05128954700676151, 0.030426002461638187, 0.0321646311737318, 0.06389460516944019, 0.03955380320012964, 0.08041157793432949, 0.004346571780234026, 0.0026079430681404158, 0.043031060624316865, 0.009127800738491456, 0.003911914602210624, 0.2660140546542634, 0.0339592410196932, 0.6961644409037107, 0.9051905913544431, 0.9584350765071996, 0.9620018472088937, 0.9423068876848295, 0.05108892764556305, 0.08739086213163347, 0.8593434776277291, 0.043695431065816734, 0.9814150813835386, 0.9972192582076442, 0.9951259591353057, 0.29026435511363574, 0.013345487591431528, 0.10342752883359434, 0.593874197818703, 0.9775529853484267, 0.9727447516560211, 0.6700901317546474, 0.04769324781171867, 0.0023846623905859335, 0.042923923030546804, 0.12400244431046854, 0.035769935858789, 0.07630919649874987, 0.12845786517447455, 0.8349761236340847, 0.9246992292877642, 0.07151007373158709, 0.9956730015812673, 0.9826388914376586, 0.9266873144153923, 0.0584782214785406, 0.1169564429570812, 0.051168443793723026, 0.7675266569058453, 0.9661783564495288, 0.9274955321689918, 0.05587322482945734, 0.04790376223909381, 0.31935841492729206, 0.6227489091082196, 0.08643875969837334, 0.18285122243886667, 0.25599171141441335, 0.06981592129484, 0.06981592129484, 0.016622838403533333, 0.3158339296671333, 0.11142357866842026, 0.835676840013152, 0.010867144623268021, 0.984080318662604, 0.0012074605136964468, 0.0024149210273928935, 0.9906180956785756, 0.008766531820164387, 0.9690121610855693, 0.9308022954159986, 0.9788730002082082, 0.9680520223237694, 0.994019572152035, 0.98487316849487, 0.984087438495254, 0.9965322431251105, 0.11562790912944504, 0.04204651241070729, 0.03679069835936888, 0.7883721077007616, 0.010511628102676822, 0.1970723302823679, 0.09095646013032364, 0.7023859976730548, 0.9684752293721852, 0.9698793655654439, 0.9765539652837952, 0.9784071892234316, 0.2947647297298804, 0.02679679361180731, 0.03445302035803797, 0.06124981396984528, 0.5818732327135302, 0.2814607903509916, 0.03671227700230325, 0.0734245540046065, 0.6057525705380036, 0.6526698597768426, 0.0006819956737480068, 0.11252928616842113, 0.19436876701818195, 0.03205379666615632, 0.0027279826949920274, 0.004091974042488041, 0.8808616295365168, 0.2709734711944039, 0.1250942871280984, 0.022709424432485553, 0.42031680475041056, 0.01154716496567062, 0.00038490549885568734, 0.0334867784004448, 0.0050037714851239356, 0.10661882318302539, 0.0038490549885568733, 0.03578716016090938, 0.19682938088500157, 0.7694239434595517, 0.4336891731006854, 0.4161894345369735, 0.14912820689076198, 0.9937989017289846, 0.8443835372378425, 0.006277944514779498, 0.14125375158253872, 0.007847430643474373, 0.988917782781565, 0.24459015716220278, 0.16822490447355123, 0.025455084229550517, 0.31099472471755196, 0.06419108197017087, 0.021028113059193904, 0.016601141888837292, 0.13944959186623326, 0.00774719954812407, 0.06526879278985999, 0.07614692492150332, 0.7777864474124982, 0.021756264263286664, 0.05439066065821666, 0.9917266311425352, 0.3009939706019624, 0.6964174221770896, 0.041515572217871624, 0.041515572217871624, 0.1328498310971892, 0.2906090055251013, 0.04981868666144595, 0.0996373733228919, 0.3487308066301216, 0.9776871754563027, 0.059541713631891424, 0.12801468430856658, 0.2798460540698897, 0.08038131340305342, 0.029770856815945712, 0.4197690811048346, 0.9894464738108494, 0.9929943269444873, 0.2961673480198485, 0.005434263266419238, 0.6955856981016625, 0.9809247798452755, 0.9876299317966695, 0.9865988365997452, 0.9403309598780107, 0.04586980292087857, 0.9771879909961183, 0.2975165075840166, 0.07083726371048014, 0.6063669773617101, 0.022667924387353648, 0.2861008396452598, 0.06148658395884969, 0.17191146943596752, 0.023841736637104982, 0.020077251904930513, 0.026351393125221296, 0.4090740075629592, 0.9632335473852693, 0.9863085240406076, 0.9858866559802992, 0.961823284010054, 0.03260417911898488, 0.12528743823105015, 0.8701782073502029, 0.00227795342238273, 0.9919318434316554, 0.9805319467019047, 0.027894991466183655, 0.8982187252111137, 0.06694797951884077, 0.9839198353160343, 0.23067539292850123, 0.031346133533838146, 0.13181451024485785, 0.0265236514517092, 0.06831849616349339, 0.028131145479085518, 0.4243784232273472, 0.01044871117794605, 0.024112410410644727, 0.017682434301139468, 0.007233723123193418, 0.9913261882397193, 0.9884474651186604, 0.13368739907611746, 0.01909819986801678, 0.022468470432960914, 0.3606189504490227, 0.017974776346368734, 0.06965225834217884, 0.005617117608240229, 0.11458919920810068, 0.1202063168163409, 0.03819639973603356, 0.05504775256075425, 0.004493694086592183, 0.008987388173184367, 0.005617117608240229, 0.022468470432960914, 0.2031507303289931, 0.30472609549348967, 0.04767823262823308, 0.062188999080304015, 0.3524043281217228, 0.029021532904141875, 0.9764230004265062, 0.974588903628875, 0.022404342612158044, 0.9934793865267778, 0.9970844907205131, 0.07416796583780226, 0.011286429584013389, 0.05965684208692791, 0.6255906683710278, 0.017735817917735323, 0.025797553334887743, 0.035471635835470645, 0.012898776667443872, 0.08867908958867662, 0.04837041250291452, 0.9898995434052938, 0.9815509720271469, 0.2171065509150747, 0.7770129190644779, 0.9833083239392133, 0.17544462224862173, 0.8097444103782541, 0.9817211513080544, 0.07062513396350208, 0.578453478177255, 0.018497058895202922, 0.023541711321167356, 0.20683074946454177, 0.10257459932794348, 0.9632370952439211, 0.990253016091262, 0.967972261447309, 0.981767208528617, 0.9821547062389214, 0.9691926186430719, 0.9748244747531117, 0.03835256249360074, 0.9417684790095293, 0.01562511805294845, 0.0028409305550815365, 0.9322176356362905, 0.985863740360786, 0.8735599621779909, 0.9729552000028203, 0.9555795742849359, 0.04231381056495648, 0.05328405774846371, 0.6300056239671298, 0.03761227605773909, 0.04074663239588401, 0.0454481669031014, 0.13007578803301434, 0.018806138028869546, 0.9862836659152638, 0.9872326401507372, 0.9777865745483423, 0.9588070244633624, 0.6254114978048473, 0.012834937454950224, 0.26019918658671815, 0.10034587464779265, 0.02940489033312888, 0.011026833874923331, 0.3228411917824775, 0.3553090915253073, 0.10965573686729313, 0.047782946791334435, 0.08025084653416424, 0.012864639520743886, 0.011639435756863516, 0.018990658340145735, 0.9712309440020207, 0.9765674724073365, 0.9891170160955669, 0.9690269605332397, 0.5432934196257718, 0.4535752402380297, 0.9672177282755465, 0.970485920060669, 0.9820848262789971, 0.9789500664726537, 0.7555317951994271, 0.023427342486803945, 0.21963133581378697, 0.9671408671604896, 0.020395183000610436, 0.20395183000610437, 0.09032152471698908, 0.01748158542909466, 0.34380451343886165, 0.24474219600732525, 0.08158073200244174, 0.1006255181577189, 0.7105393731136885, 0.05339313208368758, 0.1006255181577189, 0.034910894054718804, 0.9924371719689299, 0.9809975600154324, 0.9745705535513656, 0.9222708416810272, 0.9595160267516832, 0.968132274257602, 0.9635575216441061, 0.9365662203728949, 0.058535388773305934, 0.09896102385792345, 0.8906492147213111, 0.01470735542254649, 0.9837586627081096, 0.9987074046459996, 0.9881003048711972, 0.4789560027736075, 0.19577763617023372, 0.06642455512918645, 0.041952350607907224, 0.09264477425912845, 0.03146426295593042, 0.09264477425912845, 0.9779714585178217, 0.9677289074864932, 0.0344883135575549, 0.9541766750923522, 0.9986473238946799, 0.3046259185309299, 0.6932865732083232, 0.17322535155824179, 0.8252717220463407, 0.994808910701718, 0.44698913952407043, 0.026712498377932496, 0.023150831927541495, 0.06767166255742899, 0.016027499026759498, 0.044520830629887494, 0.007123332900781999, 0.06054832965664699, 0.016027499026759498, 0.27068665022971594, 0.021369998702346, 0.9939420827358568, 0.9419026626867469, 0.9510835086792818, 0.9970651271190077, 0.9907017507381233, 0.4971105543368418, 0.09559818352631574, 0.4015123708105261, 0.9855463360327061, 0.03887754676623521, 0.9330611223896451, 0.9912450392336517, 0.6329252541115524, 0.03693125225198193, 0.038204743708946824, 0.18720324417383943, 0.017828880397508517, 0.042025218079841505, 0.005093965827859577, 0.038204743708946824, 0.02660243374617995, 0.1596146024770797, 0.8140344726331065, 0.9798792230762803, 0.004061233781224334, 0.8569203278383345, 0.1360513316710152, 0.9865588456911162, 0.05920928268019948, 0.3552556960811969, 0.5380321773983344, 0.04633769948885177, 0.9293915398455059, 0.11730103441781482, 0.04938990922855361, 0.8211072409247038, 0.9657550378351455, 0.9842510567344422, 0.3972078789470811, 0.12158868497625132, 0.001090481479607635, 0.09541712946566808, 0.1303125368131124, 0.24344999032240452, 0.010632194426174442, 0.05674038459623788, 0.2682272726367609, 0.6705681815919022, 0.9548825052518495, 0.1731956039546617, 0.09212532125247962, 0.08107028270218206, 0.07001524415188451, 0.578547017465572, 0.9782892748347392, 0.2315106835504985, 0.04960943218939254, 0.05751818224857106, 0.12150716000010636, 0.22072602437889144, 0.01222261372782135, 0.006470795502964244, 0.015098522840249902, 0.02804011384617839, 0.03666784118346405, 0.202751592426213, 0.011503636449714211, 0.007189772781071383, 0.08305831522019524, 0.24052303782514875, 0.09690136775689445, 0.11247480186068107, 0.43086501020476287, 0.01903419723796141, 0.01730381567087401, 0.9965908341537945, 0.9955327112161124, 0.9860128625065468, 0.34986443649114857, 0.221281780344829, 0.08372824121155692, 0.34089355350419603, 0.9647556494383135, 0.7341334400172324, 0.2565373359168024, 0.0081873617845788, 0.9646383765272498, 0.9526551370678751, 0.9831743043473685, 0.9904251687490827, 0.07176701815317131, 0.06486634333075099, 0.012421214680356573, 0.5520539857936255, 0.08832863772698007, 0.04140404893452191, 0.04416431886349004, 0.01932188950277689, 0.04140404893452191, 0.06348620836626694, 0.9722356494021761, 0.9877986946682211, 0.325026702794655, 0.11440939938371855, 0.035102883901822736, 0.3809312956753357, 0.01170096130060758, 0.028602349845929638, 0.01170096130060758, 0.0065005340558931, 0.08190672910425306, 0.00390032043353586, 0.9838185126489446, 0.9782944778807615, 0.99139005301975, 0.9940087368163787, 0.15191529553854724, 0.1701451310031729, 0.24914108468321747, 0.012153223643083778, 0.41320960386484845, 0.21884970010632301, 0.6269748165208172, 0.0437699400212646, 0.0875398800425292, 0.022476455686595335, 0.9635013613945711, 0.35670794798864236, 0.07219940430231038, 0.04575011757770162, 0.2754538329157452, 0.08649631604534214, 0.010484401944889955, 0.13105502431112445, 0.007148455871515879, 0.01453519360541562, 0.9771946869123481, 0.07609000293762011, 0.046969137615814886, 0.46593384514888364, 0.0403934583496008, 0.05730234789129416, 0.008454444770846678, 0.0018787655046325954, 0.22827000881286033, 0.0018787655046325954, 0.0385146928449682, 0.02724209981717263, 0.006575679266214084, 0.0936426884216807, 0.02390877151191848, 0.36162016911776695, 0.01793157863393886, 0.057779531153802986, 0.062760525218786, 0.2231485341112391, 0.003984795251986413, 0.00896578931696943, 0.00597719287797962, 0.07073011572275884, 0.00298859643898981, 0.06574912165777581, 0.28567937228778134, 0.11256902417962245, 0.0009459581863833819, 0.43324884936358893, 0.13432606246644022, 0.011351498236600583, 0.006621707304683673, 0.007567665491067055, 0.007567665491067055, 0.1256809931969108, 0.13964554799656756, 0.23739743159416488, 0.4957416953878149, 0.9566713652700626, 0.432345664549694, 0.0671445918429449, 0.0933473593914112, 0.17932519040981626, 0.11136176208098178, 0.020470912147239298, 0.03439113240736202, 0.040941824294478596, 0.009826037830674863, 0.010644874316564435, 0.15516550973226886, 0.02655986202624422, 0.0013978874750654852, 0.2278556584356741, 0.08946479840419105, 0.3983979303936633, 0.10064789820471494, 0.0013978874750654852, 0.9738406439789831, 0.9936868849877937, 0.15325659856387666, 0.09649489539207048, 0.04824744769603524, 0.18447553530837005, 0.07662829928193833, 0.011352340634361234, 0.16460893919823788, 0.2582657494317181, 0.983300759532188, 0.14713317738410317, 0.6526068351714254, 0.18747614537651855, 0.009492463057038913, 0.9938000768537986, 0.977827374674442, 0.019400070509191476, 0.22892083200845942, 0.06790024678217017, 0.06596023973125102, 0.09312033844411909, 0.4791817415770295, 0.04656016922205954, 0.9493881236877033, 0.9880866229061024, 0.9798175992311687, 0.006405530022568286, 0.1497292642775337, 0.020817972573346933, 0.21378456450321656, 0.38112903634281303, 0.19857143069961689, 0.026422811343094182, 0.0024020737584631077, 0.2157394495603151, 0.17798504588725994, 0.6040704587688822, 0.3765760744939493, 0.10242869226235421, 0.04820173753522551, 0.04217652034332232, 0.24703390486803073, 0.015063042979757971, 0.12652956102996696, 0.006025217191903189, 0.030126085959515943, 0.9843498420780133, 0.964554558852588, 0.8286643804952968, 0.1041749506908373, 0.06629315043962374, 0.4966848147299611, 0.11839042138814716, 0.08278080245499352, 0.20579584967861517, 0.008786789087401548, 0.004162163251927049, 0.030984993097679138, 0.02404805434446739, 0.025435442095109742, 0.002774775501284699, 0.9751195162571235, 0.9929473903240487, 0.3584480041056439, 0.26335849690402446, 0.11217932646826997, 0.10823552202211986, 0.05521326224610163, 0.045134650883718, 0.0052584059282001555, 0.008325809386316912, 0.0004382004940166796, 0.0236628266769007, 0.007887608892300233, 0.009202210374350272, 0.0013146014820500389, 0.9624593467498759, 0.9869176903271512, 0.3490132924122034, 0.6373286209266323, 0.29816733402657963, 0.1325188151229243, 0.5466401123820627, 0.9934430536984228, 0.07646796995367115, 0.9176156394440538, 0.9937611149493135, 0.27010266368156255, 0.2025769977611719, 0.04726796614427345, 0.027010266368156257, 0.4524219616666173, 0.9824658506702048, 0.009974272595636597, 0.9288641441997506, 0.8349662371730641, 0.03036240862447506, 0.05692951617089073, 0.06072481724895012, 0.01518120431223753, 0.20675695034391312, 0.0843905919771074, 0.13080541756451647, 0.08017106237825203, 0.06751247358168591, 0.06751247358168591, 0.34178189750728494, 0.02109764799427685, 0.03483175713040464, 0.9626231061493646, 0.9963638675785939, 0.9879118490246307, 0.9729708995102755, 0.044078744244511955, 0.0652365414818777, 0.8357329908759467, 0.052894493093414346, 0.16337323973088727, 0.18204446712870295, 0.4356619726156994, 0.1913800808276108, 0.02800684109672353, 0.9943194418393845, 0.4653224370466492, 0.16332509379783053, 0.030816055433552928, 0.20261556447561052, 0.003852006929194116, 0.010785619401743525, 0.061632110867105856, 0.010785619401743525, 0.007704013858388232, 0.0431424776069741, 0.9730344240623442, 0.49853391839339933, 0.048875874352294055, 0.01955034974091762, 0.0879765738341293, 0.33235594559559956, 0.00977517487045881, 0.23707937236697482, 0.03992915745127997, 0.029946868088459977, 0.1447431957608899, 0.3443889830172897, 0.20214135959710483, 0.9548856362392573, 0.04075731374191952, 0.07690210880274134, 0.91769849837938, 0.9935720378268523, 0.9941691886602559, 0.9887354591744444, 0.9647602814993016, 0.7595964943867061, 0.22704422689360884, 0.013355542758447579, 0.08990664553810705, 0.7853609919064057, 0.08726233243404508, 0.03437607035280564, 0.3969136950301328, 0.5953705425451992, 0.017285343674629354, 0.9679792457792438, 0.011523562449752903, 0.11253469422607337, 0.8857569481019968, 0.9955504596798246, 0.010997046417078691, 0.9677400847029248, 0.010997046417078691, 0.7861789343066771, 0.06047530263897516, 0.1451407263335404, 0.9972782397375448, 0.04005989058051291, 0.9514224012871816, 0.9795235777972545, 0.947743580332962, 0.17851839332258732, 0.8199743150918841, 0.3940924785478366, 0.11473578489367393, 0.024035559681283472, 0.32470680626035786, 0.024489060807345427, 0.0693856722874787, 0.010884027025486857, 0.03083807657221276, 0.006349015764867333, 0.08151924357645729, 0.10869232476860971, 0.8016058951684967, 0.4374273195504411, 0.32331584488510867, 0.2092043702197762, 0.9933783818431613, 0.2575406029809681, 0.34037122934511727, 0.17122969819815714, 0.072389791108164, 0.029234338716758537, 0.05150812059619361, 0.04733178649379954, 0.004872389786126423, 0.0034802784186617306, 0.004176334102394077, 0.0020881670511970385, 0.015313225042111616, 0.01252923429308383, 0.9835448920070806, 0.10876776228197639, 0.17899576627506353, 0.40166992527753487, 0.03597044106962999, 0.14730752057086566, 0.027406050338765704, 0.04624770994666713, 0.023980294046419992, 0.006851512584691426, 0.016272342388642138, 0.006851512584691426, 0.014095336310820326, 0.9826463028114742, 0.08984723607772802, 0.006091338039168001, 0.3380692611738241, 0.004568503529376001, 0.25431336313526404, 0.05939054588188801, 0.05786771137209601, 0.13248660235190401, 0.05786771137209601, 0.9910704748037226, 0.9290673304655963, 0.06924725444464072, 0.9939526845476148, 0.23715004148248417, 0.7509751313611999, 0.06286748605558216, 0.01571687151389554, 0.20431932968064204, 0.48722301693076175, 0.018336350099544797, 0.13097392928246285, 0.05500905029863439, 0.020955828685194054, 0.967059434574043, 0.28132215234603464, 0.054320334294457914, 0.09091508581914534, 0.1572430729576413, 0.018869168754916957, 0.052033162324164946, 0.2653119485539839, 0.0777638469899608, 0.0017153789777197236, 0.9574441731468056, 0.09263981692930776, 0.10807978641752572, 0.10035980167341674, 0.6793586574815902, 0.3885268051261282, 0.19021624834300027, 0.24444811489185567, 0.12869950419802997, 0.026711217852421316, 0.007284877596114904, 0.012950893504204274, 0.9639656739685829, 0.3104874779430404, 0.017912739112098484, 0.08657823904180934, 0.04030366300222159, 0.18659103241769254, 0.05672367385497853, 0.04926003255827083, 0.09105642381983396, 0.025376380408806184, 0.13434554334073862, 0.10213024828533065, 0.2042604965706613, 0.6893791759259819, 0.18405403921685065, 0.7822296666716152, 0.06911994559273972, 0.7948793743165068, 0.0848290241365442, 0.04084360421389165, 0.006283631417521793, 0.4681311069553907, 0.5201456743948786, 0.2959998036405637, 0.6659995581912684, 0.08883952835287644, 0.03454870547056306, 0.17767905670575287, 0.09377505770581401, 0.019742117411750318, 0.5478437581760713, 0.029613176117625477, 0.9537256878506528, 0.037771314370322884, 0.9883311305523883, 0.028986016702470817, 0.5971119440708988, 0.24927974364124905, 0.12174127015037743, 0.7415460040989721, 0.25813310269268014, 0.17177306337851903, 0.03463166600373367, 0.28397966123061613, 0.03463166600373367, 0.1648467301777723, 0.03186113272343498, 0.1461456305357561, 0.002770533280298694, 0.031168499403360306, 0.015237933041642816, 0.08173073176881147, 0.8764697282097642, 0.12046266406674484, 0.9803989985663526, 0.7751130313053584, 0.12135608065891974, 0.09003838242435981, 0.011744136837959976, 0.9875665361564652, 0.97485530387475, 0.017860978348755475, 0.03572195669751095, 0.8879457807667008, 0.053582935046266426, 0.0025515683355364963, 0.9857360908151208, 0.9212270256489583, 0.9601153057682069, 0.8883319337519813, 0.9955303180173657, 0.981769426534198, 0.9769658117888045, 0.07451216958210256, 0.9189834248459317, 0.971718195561033, 0.9907493230952694, 0.9799311279253275, 0.9905865123713979, 0.857870934216727, 0.14128309193292604, 0.9150213329046352, 0.9829982343020479, 0.9874817267126044, 0.970808945501046, 0.9470657162267396, 0.04509836743936855, 0.2331364474869892, 0.10048984805473672, 0.0763722845215999, 0.1165682237434946, 0.34970467123048377, 0.03617634529970522, 0.06029390883284203, 0.024117563533136814, 0.023735710457576362, 0.015823806971717574, 0.22153329760404605, 0.7358070241848672, 0.9922970796546182, 0.9915170549906168, 0.9906985124273208, 0.971328639902265, 0.9660130647549666, 0.13616542991508643, 0.3890440854716755, 0.006484068091194592, 0.0842928851855297, 0.37607594928928634, 0.9162606958079554, 0.9700914648254441, 0.980388180834371, 0.9874184173240289, 0.9479816567229111, 0.26233800475376945, 0.19654790951771442, 0.1315801904721101, 0.042763561903435776, 0.04934257142704128, 0.18585701904185548, 0.0888166285686743, 0.00822376190450688, 0.029605542856224767, 0.003289504761802752, 0.9750956520719551, 0.9881049724688988, 0.9890320809865633, 0.9809068050485489, 0.9850677604315775, 0.9952772410258319, 0.9821069420974088, 0.03640500290869158, 0.2948805235604018, 0.6552900523564484, 0.007281000581738316, 0.2141867537013444, 0.02570241044416133, 0.042837350740268884, 0.7111000222884635, 0.9791752575010275, 0.9662859246348505, 0.9604434545548538, 0.03601662954580702, 0.6075641132859753, 0.20366169413077176, 0.005473550570143921, 0.02463097756564765, 0.09738358722714394, 0.008210325855215882, 0.052454859630545914, 0.00045612921417866016, 0.6322507956134852, 0.24463109803028582, 0.04479160949850304, 0.07063292267071633, 0.005168262634442658, 0.03924681438533918, 0.06868192517434357, 0.01962340719266959, 0.0765312880514114, 0.007849362877067837, 0.04709617726240702, 0.05102085870094094, 0.02354808863120351, 0.07260660661287749, 0.5926268972186217, 0.6353895038851289, 0.3621720172145235, 0.9766170374961238, 0.04487182928863095, 0.06543808437925346, 0.4842418244064756, 0.40571612315137145, 0.9915493190476202, 0.07935326506097472, 0.28170409096646026, 0.10315924457926713, 0.5356345391615793, 0.08353207604246196, 0.08732898858984658, 0.7973516349507732, 0.030375300379077076, 0.9838874967918542, 0.961603337701582, 0.953024078618921, 0.031767469287297366, 0.979072108740129, 0.9812409344530414, 0.9793001810804283, 0.9907166152492928, 0.9920715349833223, 0.12704316029665477, 0.40835301523924744, 0.4582628282129333, 0.9937938591092619, 0.985969700624473, 0.983959216364553, 0.193954734604619, 0.8035267576477073, 0.053996471666224795, 0.9089406063814507, 0.026998235833112397, 0.9911146084326535, 0.057746303344818777, 0.026398310100488584, 0.029698098863049655, 0.4388719054206227, 0.44547148294574485, 0.06160294860181508, 0.03080147430090754, 0.1078051600531764, 0.6262966441184533, 0.16940810865499148, 0.07396263475997664, 0.8468721680017325, 0.07396263475997664, 0.9971995244842977, 0.19436234361644159, 0.011779535976754036, 0.7892289104425204, 0.9087609773930667, 0.009466260181177778, 0.06626382126824444, 0.10038752924980743, 0.1029781751659315, 0.07707171600469086, 0.04533630353217109, 0.005828953311279141, 0.01942984437093047, 0.5123002299135334, 0.11722672770461383, 0.006476614790310156, 0.011657906622558282, 0.9489804050835393, 0.08053060765663256, 0.8697305626916317, 0.04026530382831628, 0.9802710164991296, 0.3947380829878226, 0.2827865824719392, 0.05524879246238401, 0.09523147121805665, 0.02980526961786506, 0.008723493546692213, 0.0036347889777884218, 0.10104713358251813, 0.022535691662288214, 0.005815662364461475, 0.9817118851148274, 0.9907249820335169, 0.11188531912757654, 0.12307385104033419, 0.02517419680370472, 0.3412502233391084, 0.3104817605790249, 0.08671112232387182, 0.23635609801187907, 0.1986396993929622, 0.14583674132647856, 0.010057706298377832, 0.4073371050843022, 0.990322833050814, 0.30625066377049354, 0.5946960563915398, 0.09614846420701541, 0.040478659172161216, 0.9420487952793883, 0.014719512426240443, 0.9880245568855942, 0.9964683157025682, 0.976679748032109, 0.1337970229541791, 0.07922192148602711, 0.3142469552279076, 0.15492286868378635, 0.07306021648155833, 0.039610960743013554, 0.00880243572066968, 0.16284506083238906, 0.03256901216647781, 0.9660505882193939, 0.9653326267792731, 0.9873517048426899, 0.842065891256025, 0.9739753295592033, 0.9583291620141932, 0.9633474149092626, 0.7539725898625617, 0.16092695593904477, 0.0834436067832084, 0.976491149852062, 0.0015866895448480374, 0.936146831460342, 0.014280205903632336, 0.003173379089696075, 0.042840617710897005, 0.8298014802461064, 0.02127696103195145, 0.07801552378382198, 0.06383088309585434, 0.07782203991857174, 0.6781634907189823, 0.027793585685204195, 0.21123125120755187, 0.03056332057841447, 0.9649276925470854, 0.9296854323091168, 0.06901594912338423, 0.9664438290617526, 0.9810451182801221, 0.9977648012759377, 0.43020714951682787, 0.5668611852457026, 0.39344981990951877, 0.0683457433645643, 0.07388729012385328, 0.28169529359719064, 0.0517211030866973, 0.0655749699849198, 0.060033423225630794, 0.00461795563274083, 0.262596847748427, 0.10049264332969415, 0.03768474124863531, 0.11903592870600677, 0.002392681984040337, 0.41453215373498836, 0.045460957696766405, 0.015552432896262191, 0.002392681984040337, 0.9444874431008339, 0.9860895272316007, 0.05250721401243576, 0.692737221232249, 0.017900186595148554, 0.05787726999098032, 0.1784051930649806, 0.9670971469000001, 0.1549429742113806, 0.1549429742113806, 0.6867742640720653, 0.9709492478727509, 0.9935602911372596, 0.9928385374029618, 0.9657452367380477, 0.9717063680757956, 0.17135825198840882, 0.0805791780183589, 0.7313325397362447, 0.0040799583806764, 0.0112198855468601, 0.9638876139942146, 0.996616410894473, 0.926663760622493, 0.06915401198675321, 0.9751239857097455, 0.9779488121902025, 0.9859666583186089, 0.03209956114504999, 0.009629868343514997, 0.19259736687029994, 0.7639695552521898, 0.003209956114504999, 0.16029950545083613, 0.8335574283443479, 0.44927956604929786, 0.4991995178325532, 0.08884864770786642, 0.8884864770786641, 0.4511956925576139, 0.3353481498739022, 0.014807580643782695, 0.010452409866199549, 0.15243097721541007, 0.03658343453169842, 0.5366904711966921, 0.45012749197141916, 0.9080704060342862, 0.02520585821810093, 0.9326167540697344, 0.8902372759631954, 0.4316600135177987, 0.12982256045648083, 0.2836622945974106, 0.06945506984421723, 0.04868346017118031, 0.035701204125532224, 0.1798805304745462, 0.8094623871354579, 0.9941849630293627, 0.7599701181249995, 0.2024041018121858, 0.03437050785489947, 0.9547359521159162, 0.9710613503360838, 0.19863101226725546, 0.7181275058893082, 0.07639654317971364, 0.9737953282500675, 0.23953050130312006, 0.18664714387256107, 0.04355100023693092, 0.4666178596814027, 0.012443142924837405, 0.04666178596814027, 0.9878561284176839, 0.9571470225692137, 0.04072966053486016, 0.9958210640953857, 0.8661908337782503, 0.13039431906339252, 0.9899942894756119, 0.11436783008387363, 0.0921296409008982, 0.02541507335197192, 0.11119094591487715, 0.04447637836595086, 0.20014370264677886, 0.07306833588691927, 0.311334648561656, 0.02541507335197192, 0.22621854718484788, 0.06525535014947535, 0.02610214005979014, 0.1348610569755824, 0.12180998694568733, 0.40893352760337887, 0.01305107002989507, 0.995620572788371, 0.014993421620686518, 0.012494518017238766, 0.43480922699990904, 0.22490132431029777, 0.0424813612586118, 0.26988158917235733, 0.40774035201936326, 0.1512585176846025, 0.013152914581269782, 0.42089326660063303, 0.005192536830264313, 0.06231044196317176, 0.04500198586229071, 0.09865819977502195, 0.5832949705996912, 0.04327114025220261, 0.1592377961281056, 0.8837759069520172, 0.9749675424238464, 0.9586381967664533, 0.9670174745945559, 0.9959215121399926, 0.36359871342472505, 0.630950708589964, 0.962362974543432, 0.028519888544543872, 0.9696762105144916, 0.5104936866556677, 0.10457136063683203, 0.008242077685661639, 0.04842220640326213, 0.16484155371323275, 0.04172551828366204, 0.04687681683720057, 0.03863473915153893, 0.01493876580526172, 0.0041210388428308195, 0.01751441508203098, 0.9549461761193285, 0.997211243233311, 0.44256870064251197, 0.0226958308021801, 0.01134791540109005, 0.05673957700545025, 0.4652645314446921, 0.10227580093045191, 0.8863902747305832, 0.1945081966512316, 0.14935450814291, 0.07988729505318441, 0.11462090159804719, 0.0972540983256158, 0.36122950806657295, 0.9681171112699181, 0.9913270795459718, 0.05840608263310854, 0.8322866775217967, 0.10221064460793995, 0.007300760329138568, 0.09175059588758624, 0.03058353196252875, 0.8665334056049813, 0.9584448201987719, 0.09296558070995081, 0.01487449291359213, 0.12271456653713507, 0.6470404417412576, 0.09668420393834884, 0.022311739370388196, 0.988799210074365, 0.9862046703346498, 0.018068092751801365, 0.25788096018480133, 0.09034046375900683, 0.13797452646830136, 0.4681278576603081, 0.022995754411383556, 0.003285107773054794, 0.327274650121111, 0.09062990311046151, 0.007552491925871792, 0.08811240580183757, 0.025174973086239307, 0.43804453170056395, 0.025174973086239307, 0.11208705041492809, 0.08406528781119607, 0.28862415481843984, 0.5156004319086692, 0.9782905852826824, 0.2749977146395013, 0.17398893868537676, 0.010576835178442356, 0.4748998995120618, 0.003701892312454825, 0.05605722644574449, 0.0042307340713769424, 0.0005288417589221178, 0.8709379758479683, 0.03883162949640623, 0.03605794167523435, 0.049926380781093724, 0.0027736878211718735, 0.9639103233093719, 0.9848360545417052, 0.9959040035599154, 0.9930378617384985, 0.052978322425787636, 0.26489161212893814, 0.6798884711309413, 0.16588209192562028, 0.30549951929635066, 0.04423522451349874, 0.37738175913078614, 0.08432339672885697, 0.020735261490702536, 0.5313948345047257, 0.033212177156545356, 0.4141753857169186, 0.019536574797967856, 0.15357383700715552, 0.8387494175006186, 0.9890398375512405, 0.9767559616566112, 0.010069649089243413, 0.9891197483940193, 0.039230595005182035, 0.9415342801243688, 0.398146797296136, 0.5927963426409136, 0.9825637075396405, 0.9342920346490498, 0.36317904957528796, 0.0136192143590733, 0.6219441223976807, 0.993909306485363, 0.940082430422261, 0.9968832839179833, 0.0018529429069107496, 0.9771876497319836, 0.9501054900973838, 0.048902488460894754, 0.16069228866682664, 0.1153435446258817, 0.034504479161588546, 0.05224963987326265, 0.15477723509626862, 0.12125859819643973, 0.05520716665854167, 0.05619300892030134, 0.00788673809407738, 0.01971684523519345, 0.0867541190348512, 0.01873100297343378, 0.1005559106994866, 0.01478763392639509, 0.016526766111742062, 0.9321096087022523, 0.04958029833522619, 0.7202116117419946, 0.0020460557151761208, 0.02046055715176121, 0.028644780012465693, 0.22711218438454941, 0.0227865690768832, 0.9760247087931637, 0.9156864742477856, 0.08275359099292365, 0.9641741343130669, 0.38198811641897545, 0.23134491557768938, 0.05111108599972207, 0.04304091452608175, 0.045730971683961855, 0.010760228631520437, 0.23403497273556947, 0.09237545653153216, 0.7706752373487826, 0.06070387143500685, 0.018475091306306434, 0.005278597516087552, 0.03695018261261287, 0.005278597516087552, 0.007917896274131328, 0.9384898456377482, 0.031492947840192895, 0.025194358272154313, 0.984921360638334, 0.9759548900451119, 0.09374813813034742, 0.006859619863196153, 0.33040502341061473, 0.018292319635189742, 0.05373368892836987, 0.17034722660270446, 0.17034722660270446, 0.014862509703591665, 0.04573079908797435, 0.09374813813034742, 0.9695822759166925, 0.9786795022996724, 0.9921107721137115, 0.3819606504722358, 0.5876317699572859, 0.029381588497864295, 0.07019806710656265, 0.08142975784361267, 0.20497835595116295, 0.1347802888446003, 0.4155725572708509, 0.008423768052787519, 0.008423768052787519, 0.005615845368525012, 0.07019806710656265, 0.7770256152125947, 0.044191030249057524, 0.033143272686793145, 0.06628654537358629, 0.07733430293585067, 0.9835852850615018, 0.015273063432632015, 0.014399522467481767, 0.010285373191058404, 0.3044470464553288, 0.5080974356382851, 0.045255642040656976, 0.08228298552846723, 0.024684895658540172, 0.008228298552846723, 0.8958037593120305, 0.12233998408986103, 0.8155998939324068, 0.6185873038892137, 0.1017413328765154, 0.2767364254241219, 0.9797852153858647, 0.9940401828413492, 0.9872288118307229, 0.09587898638428989, 0.8948705395867056, 0.8340268030852155, 0.07552211209039353, 0.08865639245394023, 0.0032835700908866753, 0.9785262491309087, 0.4382090892336244, 0.549753221038547, 0.9732210161433191, 0.9951005917059362, 0.21134781105134307, 0.054793876939237096, 0.005870772529203975, 0.21721858358054705, 0.22700320446255368, 0.08806158793805961, 0.054793876939237096, 0.003913848352802649, 0.0234830901168159, 0.035224635175223847, 0.07827696705605298, 0.055735893852425035, 0.8708733414441412, 0.06966986731553129, 0.891543034599417, 0.1080658223756869, 0.976179259945255, 0.9962743584206677, 0.33884627602567946, 0.15198252086445915, 0.031143959193536713, 0.21177892251604966, 0.03799563021611479, 0.054813368180624614, 0.07785989798384178, 0.025538046538700104, 0.0037372751032244056, 0.004983033470965874, 0.03612699266450259, 0.023669408987087904, 0.9900505730338574, 0.09248199455000171, 0.665507686271581, 0.192217478868631, 0.0018133724421568963, 0.023573841748039653, 0.010880234652941377, 0.01450697953725517, 0.0018133724421568963, 0.9874670247769343, 0.9840320431192031, 0.27651424784819606, 0.7213415161257288, 0.9888216431259662, 0.9732917593961523, 0.9768561582428964, 0.9865362215370149, 0.028507621609971858, 0.9407515131290713, 0.014253810804985929, 0.3237996246745699, 0.6678367258913005, 0.9413657837314447, 0.9695605750593871, 0.9692116738806664, 0.9802662635181212, 0.6960866564382547, 0.030019909711622845, 0.267364820869141, 0.005628733070929284, 0.03664892660851866, 0.9602018771431888, 0.9736940701220057, 0.010952302991532142, 0.7557089064157178, 0.06023766645342678, 0.03285690897459643, 0.08761842393225713, 0.04928536346189464, 0.972627951771438, 0.379690143772897, 0.16145702375389545, 0.039624983851688625, 0.1738767948118874, 0.15022008803475986, 0.09403540943908197, 0.05533837752349508, 0.9315293549788338, 0.25270501394429684, 0.002807833488269965, 0.01684700092961979, 0.1123133395307986, 0.1768935097610078, 0.05334883627712934, 0.11792900650733854, 0.014039167441349825, 0.019654834417889754, 0.019654834417889754, 0.21339534510851735, 0.0865232314872632, 0.04085819264676317, 0.04085819264676317, 0.7570782755135529, 0.0048068461937368434, 0.06969926980918424, 0.9811131598475352, 0.9624498132806245, 0.01196736890516696, 0.13828959623748488, 0.5704445844796251, 0.010637661249037297, 0.11701427373941027, 0.055847721557445815, 0.09307953592907636, 0.11000871163074247, 0.004074396727064536, 0.22001742326148493, 0.30150535780277565, 0.3666957054358082, 0.023673498893729657, 0.11363279468990235, 0.21779618982231283, 0.6391844701307007, 0.07218772069922084, 0.008020857855468983, 0.917294471107271, 0.0021875066878551774, 0.9941920677274949, 0.5857071099664173, 0.021054830750426766, 0.2545720445278873, 0.0038281510455321394, 0.005742226568298209, 0.07273486986511064, 0.05550819016021602, 0.9488850264814787, 0.04413418727820831, 0.9942299376769387, 0.16532398163096662, 0.7488203873873194, 0.0777995207675137, 0.9720835022225923, 0.9487509029896124, 0.97039243474234, 0.926061981275684, 0.05556371887654104, 0.10822506885355733, 0.03267171889918712, 0.743281604956507, 0.038797666192784706, 0.04696559591758149, 0.022461806743191145, 0.00816792972479678, 0.2245508321180191, 0.19247214181544495, 0.5613770802950477, 0.37443529917028445, 0.05260661228012261, 0.03816558145812817, 0.026819057240846822, 0.20423743591106425, 0.020630044031420634, 0.0010315022015710317, 0.1536938280340837, 0.029913563845559918, 0.09696120694767697, 0.3095886064861046, 0.04127848086481395, 0.17781499449458316, 0.012701071035327367, 0.061917721297220916, 0.1285983442326896, 0.07779406009138012, 0.19051606552991052, 0.01956945861123525, 0.0156555668889882, 0.19960847783459956, 0.0313111337779764, 0.078277834444941, 0.6497060258930104, 0.9952894278478291, 0.9921433943156046, 0.17538426135261856, 0.7892291760867834, 0.9831108126466739, 0.9872739235731688, 0.9750930380263333, 0.9735562662581969, 0.30567990673742496, 0.13331414434803998, 0.01683259398333838, 0.25181560599074215, 0.16563272479604965, 0.055884212024683425, 0.008079645112002423, 0.016159290224004846, 0.04511135187534686, 0.0013466075186670703, 0.9903125480110279, 0.9761584421995877, 0.9865175719229169, 0.9714270535219985, 0.05691536136796037, 0.022766144547184147, 0.11383072273592074, 0.3452865256322929, 0.015177429698122765, 0.07968150591514452, 0.2997542365379246, 0.06070971879249106, 0.9862240695881358, 0.011019263347353472, 0.3780618794748457, 0.07561237589496914, 0.018903093973742284, 0.2457402216586497, 0.264643315632392, 0.16611606566492174, 0.3841434018501315, 0.4464369264744772, 0.9473699548200808, 0.2826901855639063, 0.17373667654448408, 0.5241547190664095, 0.017668136597744143, 0.19448704029297867, 0.0364663200549335, 0.1250273830454863, 0.4723256692829482, 0.06598667438511777, 0.10071650300886395, 0.003472982862374619, 0.8304810264239184, 0.08249811520767401, 0.03849912043024787, 0.043998994777426144, 0.9767069877552901, 0.9952244910372946, 0.965086241634136, 0.9771109859113574, 0.0987029479420891, 0.2377843745877601, 0.5608122042164153, 0.026918985802387937, 0.04935147397104455, 0.008972995267462645, 0.013459492901193968, 0.48328740815043064, 0.043575094177497845, 0.097449756069677, 0.2107450009311714, 0.055459210771360894, 0.006338195516726959, 0.0760583462007235, 0.004753646637545219, 0.0007922744395908699, 0.015053214352226528, 0.0015845488791817399, 0.0031690977583634797, 0.981696205034621, 0.20702689193283003, 0.7763508447481126, 0.012203450392983792, 0.9762760314387035, 0.9857137817823418, 0.055095394167920454, 0.9366217008546477, 0.9910789362625445, 0.9400502201627143, 0.1074842135305021, 0.02675162647870274, 0.17054161880173, 0.07595551089488814, 0.2015926138216528, 0.222134041296371, 0.0960192307539152, 0.055414083420169964, 0.043949100643583074, 0.43302992576647126, 0.1382310512218703, 0.014105209308354112, 0.16714673030399624, 0.16996777216566705, 0.04161036745964463, 0.014105209308354112, 0.021157813962531167, 0.16994903508803735, 0.18918854849423028, 0.028859270109289365, 0.6124578434304743, 0.18544391354705836, 0.06622996912394942, 0.7417756541882334, 0.9871401308068114, 0.0432749025532966, 0.93368880660446, 0.006556803417166151, 0.015736328201198763, 0.9965828140712883, 0.9584945475480938, 0.015974909125801563, 0.03405642674932634, 0.043516545290805876, 0.6167997289044659, 0.020812260791254984, 0.28380355624438613, 0.9902468552388638, 0.9841214084900005, 0.18698989094744473, 0.7947070365266401, 0.07264335469608922, 0.8998402646225245, 0.0171844494979996, 0.009373336089817963, 0.964912629648294, 0.033272849298217035, 0.9721881029818098, 0.41566507266066943, 0.1546881434787423, 0.2922941606837584, 0.06453247703407654, 0.04934836479076441, 0.014235105228105118, 0.008541063136863071, 0.3838651857292758, 0.2941699542123361, 0.029645034145429218, 0.1801505921145314, 0.07449264990389906, 0.0364861958712975, 0.5512576635917105, 0.17991356835460678, 0.14660776936854636, 0.04326641176693831, 0.028948030894426352, 0.004980306390438943, 0.044822757513950484, 0.09342697421082226, 0.09342697421082226, 0.023899923635326625, 0.3041808462677934, 0.034763525287747815, 0.04562712694016901, 0.017381762643873908, 0.05431800826210596, 0.13470866049002278, 0.19554482974358148, 0.03243670002473332, 0.09151783221264043, 0.023169071446238084, 0.13438061438818089, 0.3000394752287832, 0.049813503609411884, 0.11700381080350232, 0.08688401792339281, 0.049813503609411884, 0.09615164650188805, 0.01969371072930237, 0.026221417440869955, 0.0655535436021749, 0.8128639406669687, 0.09177496104304485, 0.214392835924865, 0.07656886997316607, 0.24502038391413142, 0.44409944584436317, 0.36084985168853667, 0.12123039636780235, 0.08113596840240939, 0.16006200770436405, 0.14995947467371384, 0.008839716401818921, 0.04262006122305551, 0.037253090550522595, 0.012312462131104927, 0.0236778117905864, 0.0012628166288312745, 0.00031570415720781863, 0.9780665882276596, 0.9904699541837841, 0.9883824424841682, 0.05062866631385937, 0.6866512868817177, 0.04113579138001074, 0.06328583289232421, 0.028478624801545897, 0.12657166578464843, 0.09018294942044795, 0.9018294942044796, 0.9871622004814693, 0.005706139887176123, 0.9617711238888508, 0.1865961459161918, 0.10047484780102636, 0.0669832318673509, 0.5853058594123282, 0.05900903759742818, 0.9578761913134075, 0.10634169099669678, 0.07423853899769398, 0.07624498599763166, 0.6721597449791211, 0.0321031519990028, 0.03812249299881583, 0.9900401037687567, 0.9684008517084445, 0.9524703949528649, 0.1817606769393171, 0.3453452861847025, 0.4544016923482928, 0.9249314650148776, 0.9918419198008441, 0.9376920191050792, 0.9515298687823653, 0.038061194751294616, 0.035718469197600265, 0.010205276913600075, 0.015307915370400113, 0.23472136901280174, 0.14287387679040106, 0.1632844306176012, 0.05612902302480042, 0.3367741381488025, 0.16762365469498572, 0.012894127284229671, 0.10315301827383737, 0.7091770006326319, 0.9823030283073365, 0.12729393363897898, 0.8685939001247978, 0.22582419274650123, 0.5266027984046071, 0.09129063111028773, 0.09609540116872393, 0.0028828620350617178, 0.0009609540116872394, 0.03075052837399166, 0.0028828620350617178, 0.022101942268806504, 0.9706751336403917, 0.08671897922000106, 0.9116610635948829, 0.9958145080872077, 0.9971522651782375, 0.9959881271676667, 0.22843132188138776, 0.11866562175656507, 0.21953140024964538, 0.09789913794916619, 0.1334988244761357, 0.020766483807398886, 0.005933281087828254, 0.17503179209093347, 0.9751081179083735, 0.9795543955474862, 0.9691583030560026, 0.9296178295897997, 0.02602483713590402, 0.048796569629820034, 0.061808988197772044, 0.16590833674138813, 0.3903725570385603, 0.16590833674138813, 0.1366303949634961, 0.12148831434296524, 0.28094172691810715, 0.15439139947751834, 0.14426737328227124, 0.2986587727597896, 0.9771363452427165, 0.07375134483350376, 0.1145499611243782, 0.026676018344033277, 0.43780053635207555, 0.06590545708525869, 0.02510684079438426, 0.2385149875466505, 0.01726095304613918, 0.9173460253509675, 0.08094229635449714, 0.9701400965974551, 0.9687156015444391, 0.1223592091615139, 0.09759603587882656, 0.13158470509035822, 0.2762793254480215, 0.023306516030764553, 0.13692578168074174, 0.1034226648865177, 0.09613937862690378, 0.0019422096692303793, 0.007768838676921517, 0.003398866921153164, 0.808299278394442, 0.15738519603353318, 0.011658162669150606, 0.01943027111525101, 0.3888229724603064, 0.5664334660532858, 0.043202552495589595, 0.11954649089617106, 0.023403281286552006, 0.28842962882885714, 0.09614320960961906, 0.10499850523155765, 0.2624962630788941, 0.07906513948159462, 0.025933365749963033, 0.9951042028954515, 0.07887927669465505, 0.012135273337639238, 0.4186669301485537, 0.4854109335055696, 0.9721763087547203, 0.9857871721214977, 0.9753125508795003, 0.04026364731033675, 0.7928841316497083, 0.03303683881873785, 0.010324012130855577, 0.10530492373472689, 0.003097203639256673, 0.014453616983197807, 0.32818607253512033, 0.011316761121900701, 0.6450553839483399, 0.9467219370041379, 0.2498377956718613, 0.07495133870155839, 0.6745620483140254, 0.1296988148717098, 0.037056804249059945, 0.8152496934793189, 0.03579024101598749, 0.04000085760610366, 0.018947774655522786, 0.027369007835755136, 0.8694923258589902, 0.00842123318023235, 0.9905779476919498, 0.981349768338275, 0.010666845308024728, 0.9913933419643036, 0.9769405129453256, 0.06339591377798244, 0.5494312527425146, 0.3592435114085672, 0.9937012524149161, 0.9707379296287011, 0.908492486288931, 0.9851872867286824, 0.4906428474227067, 0.059004719462535694, 0.07548351498810872, 0.1568143445175498, 0.05049953467514316, 0.11907258702349545, 0.04571536823223486, 0.0026578702460601663, 0.06989018554384412, 0.09734704415035429, 0.1472686052531001, 0.052417639157883084, 0.09734704415035429, 0.4617744402003986, 0.06989018554384412, 0.05796682899678592, 0.07866926792420946, 0.02898341449839296, 0.20702438927423544, 0.1490575602774495, 0.4720156075452568, 0.989590495992542, 0.08683323190867613, 0.1302498478630142, 0.010854153988584516, 0.651249239315071, 0.10854153988584515, 0.2724126124336681, 0.10896504497346725, 0.5993077473540699, 0.9712403188953942, 0.991261040658047, 0.09411357981310056, 0.12897046122536002, 0.7738227673521602, 0.9887698952237919, 0.4492213587127789, 0.12667437303769438, 0.050291616758248815, 0.17923478453691682, 0.10890214756673428, 0.0037813245682893847, 0.02420047723705206, 0.0098314438775524, 0.003403192111460446, 0.04197270270801217, 0.0026469271978025693, 0.03269997055713886, 0.037604966140709684, 0.9057891844327463, 0.0228899793899972, 0.11215001286912703, 0.03271042042016205, 0.19626252252097232, 0.19626252252097232, 0.4486000514765081, 0.014018751608640878, 0.9782742287840105, 0.9576168057032495, 0.9966516153779444, 0.9936151306379717, 0.8672763775718894, 0.058584232127372654, 0.07351746776768334, 0.3226330835715686, 0.008449914093541082, 0.6683113873982492, 0.9166232931255438, 0.9831275148333076, 0.10123114039079499, 0.8857724784194562, 0.8824621800172054, 0.11313617692528276, 0.9838714888165252, 0.9913430239765776, 0.9903460945552174, 0.9668164678247513, 0.2817015038456239, 0.6788544436935527, 0.02309028720046098, 0.00923611488018439, 0.16243936484761567, 0.46926927622644526, 0.21400741718019206, 0.15212575438110038, 0.966909739490889, 0.03965650751830411, 0.643655622027859, 0.10981802081991907, 0.08388876590410484, 0.04728275896413182, 0.04728275896413182, 0.028979755494145307, 0.9832009268776591, 0.2640467626639414, 0.6189948698515348, 0.04328635453507236, 0.006492953180260855, 0.01082158863376809, 0.05194362544208684, 0.002164317726753618, 0.002164317726753618, 0.34920402309440257, 0.0545986746206232, 0.10180377871970367, 0.1552649809523972, 0.0409490059654674, 0.2229445880342114, 0.07166076043956796, 0.00341241716378895, 0.2482808707660118, 0.365267450550675, 0.04208150351966301, 0.03029868253415737, 0.020199121689438247, 0.0740634461946069, 0.1506517826003936, 0.03366520281573041, 0.034506832886123676, 0.9944817855602172, 0.5320351899763963, 0.13918089946598303, 0.0020059331408622833, 0.1186586604094689, 0.05030263107085418, 0.010955481000094008, 0.12837972101518613, 0.0035489586338332702, 0.0006172101971883948, 0.014195834535333081, 0.9835309945666187, 0.9528941079353623, 0.17255298932390228, 0.8177511233176239, 0.9694915461575028, 0.993471526025356, 0.9780879726295567, 0.224806754471958, 0.11144810774105567, 0.09552694949233342, 0.09234271784258898, 0.11208495407100455, 0.34580755716224704, 0.016558004578671126, 0.001273692659897779, 0.39592249825138104, 0.03925385452748735, 0.1461867685851253, 0.12452946953547711, 0.019626927263743675, 0.00338395297650753, 0.07580054667376868, 0.05008250405231145, 0.06632547833954759, 0.0791844996502762, 0.9792882932849529, 0.03263164443254619, 0.029368479989291565, 0.13378974217343936, 0.02284215110278233, 0.7798963019378539, 0.8942929113668412, 0.9220912344421857], \"Term\": [\"abuse\", \"abuse\", \"academic\", \"academic\", \"access\", \"access\", \"access\", \"access\", \"access\", \"access\", \"access\", \"accessories\", \"accusing\", \"acid\", \"acid\", \"acid\", \"adams\", \"adams\", \"adams\", \"adams\", \"adaptec\", \"adapter\", \"adapter\", \"additives\", \"adirondack\", \"adjustable\", \"advance\", \"advance\", \"advance\", \"advance\", \"advance\", \"aerospace\", \"agencies\", \"aids\", \"algorithm\", \"algorithm\", \"algorithm\", \"allocation\", \"alomar\", \"also\", \"also\", \"also\", \"also\", \"also\", \"also\", \"also\", \"also\", \"also\", \"also\", \"also\", \"also\", \"also\", \"amendment\", \"american\", \"american\", \"american\", \"american\", \"american\", \"american\", \"american\", \"american\", \"ames\", \"ames\", \"ammunition\", \"among\", \"among\", \"among\", \"among\", \"among\", \"among\", \"among\", \"among\", \"amour\", \"amplifier\", \"amps\", \"andrew\", \"andrew\", \"andrew\", \"andrew\", \"angeles\", \"angeles\", \"angeles\", \"angeles\", \"annual\", \"annual\", \"annual\", \"anonymous\", \"anonymous\", \"ansi\", \"answering\", \"anti\", \"anti\", \"anti\", \"anti\", \"anti\", \"anti\", \"anybody\", \"anybody\", \"anybody\", \"anybody\", \"anybody\", \"anyone\", \"anyone\", \"anyone\", \"anyone\", \"anyone\", \"anyone\", \"anyone\", \"anything\", \"anything\", \"anything\", \"anything\", \"anything\", \"anything\", \"anything\", \"apartment\", \"appears\", \"appears\", \"appears\", \"appears\", \"appears\", \"appears\", \"appears\", \"appears\", \"apple\", \"apple\", \"apple\", \"application\", \"application\", \"application\", \"application\", \"application\", \"application\", \"appreciate\", \"appreciate\", \"appreciate\", \"appreciate\", \"appreciate\", \"appreciated\", \"appreciated\", \"appreciated\", \"april\", \"april\", \"april\", \"april\", \"april\", \"april\", \"april\", \"arab\", \"arabs\", \"archer\", \"arena\", \"argic\", \"argument\", \"argument\", \"argument\", \"argument\", \"armenia\", \"armenian\", \"armenian\", \"armenians\", \"armenians\", \"armies\", \"army\", \"army\", \"army\", \"army\", \"army\", \"around\", \"around\", \"around\", \"around\", \"around\", \"around\", \"around\", \"around\", \"around\", \"arrest\", \"asking\", \"asking\", \"asking\", \"asking\", \"asking\", \"asking\", \"asking\", \"assault\", \"assault\", \"assault\", \"assertion\", \"astro\", \"astronomy\", \"astros\", \"asynchronous\", \"atheism\", \"atheist\", \"atheists\", \"atlanta\", \"atlanta\", \"atlanta\", \"attribute\", \"attribute\", \"audio\", \"aunt\", \"autos\", \"autos\", \"available\", \"available\", \"available\", \"available\", \"available\", \"available\", \"available\", \"available\", \"avenue\", \"avenue\", \"average\", \"average\", \"average\", \"average\", \"average\", \"award\", \"award\", \"awfully\", \"azerbaijan\", \"azerbaijan\", \"azerbaijani\", \"azerbaijani\", \"azerbaijanis\", \"azerbaijanis\", \"azeri\", \"azeris\", \"back\", \"back\", \"back\", \"back\", \"back\", \"back\", \"back\", \"back\", \"balcony\", \"ball\", \"ball\", \"ball\", \"balloon\", \"baltimore\", \"banks\", \"banks\", \"banks\", \"banks\", \"baseball\", \"based\", \"based\", \"based\", \"based\", \"based\", \"based\", \"based\", \"based\", \"based\", \"batf\", \"batman\", \"batteries\", \"battery\", \"beaten\", \"beating\", \"beating\", \"bedroom\", \"belief\", \"beliefs\", \"believe\", \"believe\", \"believe\", \"believe\", \"believe\", \"believe\", \"believe\", \"best\", \"best\", \"best\", \"best\", \"best\", \"best\", \"best\", \"better\", \"better\", \"better\", \"better\", \"better\", \"better\", \"better\", \"bible\", \"biblical\", \"bike\", \"biker\", \"bikes\", \"bill\", \"bill\", \"bill\", \"bill\", \"bill\", \"bill\", \"billion\", \"binaries\", \"binary\", \"bios\", \"bios\", \"bird\", \"black\", \"black\", \"black\", \"black\", \"black\", \"black\", \"black\", \"black\", \"black\", \"black\", \"black\", \"black\", \"blame\", \"blaster\", \"blood\", \"blood\", \"blood\", \"blood\", \"board\", \"board\", \"board\", \"board\", \"board\", \"board\", \"board\", \"book\", \"book\", \"book\", \"book\", \"book\", \"book\", \"book\", \"book\", \"books\", \"books\", \"books\", \"books\", \"books\", \"books\", \"books\", \"books\", \"boot\", \"boot\", \"boot\", \"bought\", \"bought\", \"bought\", \"bought\", \"brake\", \"brakes\", \"braking\", \"braves\", \"broke\", \"broke\", \"broke\", \"bronx\", \"bruce\", \"bruce\", \"bruce\", \"bruce\", \"buffalo\", \"buffalo\", \"buffalo\", \"build\", \"build\", \"build\", \"build\", \"build\", \"build\", \"build\", \"building\", \"building\", \"building\", \"building\", \"building\", \"building\", \"burnt\", \"burrows\", \"burst\", \"burst\", \"burst\", \"buying\", \"buying\", \"buying\", \"cable\", \"cable\", \"cable\", \"cable\", \"cache\", \"cadre\", \"calgary\", \"california\", \"california\", \"california\", \"california\", \"california\", \"california\", \"california\", \"came\", \"came\", \"came\", \"came\", \"came\", \"came\", \"came\", \"campbell\", \"campbell\", \"canadiens\", \"cancer\", \"candida\", \"cannot\", \"cannot\", \"cannot\", \"cannot\", \"cannot\", \"cannot\", \"cannot\", \"cape\", \"card\", \"card\", \"card\", \"cards\", \"cards\", \"cards\", \"cards\", \"cards\", \"cards\", \"care\", \"care\", \"care\", \"care\", \"care\", \"carrier\", \"carry\", \"carry\", \"carry\", \"carry\", \"carry\", \"carry\", \"cars\", \"cars\", \"cars\", \"cartridges\", \"cassette\", \"catalog\", \"catalog\", \"categories\", \"categories\", \"catholic\", \"cause\", \"cause\", \"cause\", \"cause\", \"cause\", \"cause\", \"cause\", \"cause\", \"cause\", \"cause\", \"center\", \"center\", \"center\", \"center\", \"center\", \"center\", \"center\", \"center\", \"centris\", \"chain\", \"chain\", \"char\", \"chastity\", \"cheap\", \"cheap\", \"cheap\", \"cheap\", \"chicago\", \"chicago\", \"chicago\", \"children\", \"children\", \"children\", \"children\", \"children\", \"chip\", \"chip\", \"chip\", \"chip\", \"christ\", \"christian\", \"christian\", \"christian\", \"christianity\", \"christians\", \"chronic\", \"church\", \"cigarettes\", \"cincinnati\", \"cipher\", \"ciphertext\", \"circuit\", \"circuits\", \"city\", \"city\", \"city\", \"city\", \"city\", \"city\", \"civilians\", \"classified\", \"cleaner\", \"clemens\", \"client\", \"client\", \"clients\", \"clinical\", \"clipper\", \"clone\", \"cmap\", \"coach\", \"coach\", \"coat\", \"code\", \"code\", \"code\", \"code\", \"code\", \"code\", \"code\", \"collaboration\", \"college\", \"college\", \"college\", \"college\", \"college\", \"college\", \"college\", \"college\", \"colorado\", \"colorado\", \"colorado\", \"colorado\", \"colormap\", \"columns\", \"come\", \"come\", \"come\", \"come\", \"come\", \"come\", \"come\", \"come\", \"comic\", \"comics\", \"commander\", \"communications\", \"communications\", \"communications\", \"communications\", \"comp\", \"comp\", \"company\", \"company\", \"company\", \"company\", \"company\", \"company\", \"company\", \"compass\", \"compiled\", \"compound\", \"compound\", \"compress\", \"compress\", \"compromise\", \"computer\", \"computer\", \"computer\", \"computer\", \"computer\", \"computer\", \"concealed\", \"concealed\", \"conclusion\", \"conclusion\", \"condition\", \"condition\", \"condition\", \"condition\", \"condition\", \"condition\", \"condition\", \"conductor\", \"conference\", \"conference\", \"conference\", \"conference\", \"conference\", \"conference\", \"confidential\", \"config\", \"connected\", \"connected\", \"connected\", \"connected\", \"connected\", \"contest\", \"contest\", \"continue\", \"continue\", \"continue\", \"continue\", \"continue\", \"continue\", \"continue\", \"continue\", \"contrib\", \"control\", \"control\", \"control\", \"control\", \"control\", \"control\", \"control\", \"control\", \"control\", \"control\", \"controller\", \"controller\", \"controllers\", \"cooling\", \"cooper\", \"copies\", \"copies\", \"copies\", \"copies\", \"copper\", \"copper\", \"coprocessor\", \"copy\", \"copy\", \"copy\", \"copy\", \"copy\", \"copy\", \"corn\", \"cost\", \"cost\", \"cost\", \"cost\", \"cost\", \"cost\", \"could\", \"could\", \"could\", \"could\", \"could\", \"could\", \"could\", \"could\", \"could\", \"could\", \"could\", \"countersteering\", \"country\", \"country\", \"country\", \"country\", \"court\", \"court\", \"court\", \"court\", \"cover\", \"cover\", \"cover\", \"cover\", \"cover\", \"cover\", \"cover\", \"cover\", \"crime\", \"crime\", \"crime\", \"crime\", \"crimes\", \"crowd\", \"crypt\", \"cryptanalysis\", \"crypto\", \"cryptographic\", \"cryptography\", \"cryptology\", \"cryptosystem\", \"ctrl\", \"cubs\", \"cure\", \"current\", \"current\", \"current\", \"current\", \"current\", \"current\", \"current\", \"current\", \"current\", \"current\", \"current\", \"cursor\", \"cycle\", \"cycle\", \"cylinders\", \"cylinders\", \"cyprus\", \"dallas\", \"dark\", \"dark\", \"dark\", \"dark\", \"dark\", \"dark\", \"darken\", \"darkness\", \"data\", \"data\", \"data\", \"data\", \"data\", \"data\", \"database\", \"daughter\", \"daughter\", \"dave\", \"dave\", \"dave\", \"dave\", \"dave\", \"dave\", \"dave\", \"david\", \"david\", \"david\", \"david\", \"david\", \"david\", \"david\", \"david\", \"david\", \"david\", \"davidian\", \"days\", \"days\", \"days\", \"days\", \"days\", \"days\", \"days\", \"days\", \"days\", \"days\", \"days\", \"deaf\", \"dealer\", \"dealer\", \"dealership\", \"dealing\", \"dealing\", \"dealing\", \"debugger\", \"deck\", \"declined\", \"decrypt\", \"deeds\", \"defense\", \"defense\", \"defense\", \"defense\", \"defense\", \"defense\", \"defense\", \"defensive\", \"defensive\", \"deficit\", \"define\", \"define\", \"define\", \"define\", \"define\", \"denning\", \"dennis\", \"dennis\", \"denver\", \"deskjet\", \"detroit\", \"detroit\", \"detroit\", \"development\", \"development\", \"development\", \"development\", \"development\", \"development\", \"diagnosed\", \"diego\", \"diego\", \"diet\", \"digest\", \"digital\", \"digital\", \"digital\", \"digital\", \"directory\", \"directory\", \"disease\", \"diseases\", \"disk\", \"disk\", \"disk\", \"disks\", \"disks\", \"display\", \"display\", \"display\", \"district\", \"division\", \"division\", \"division\", \"division\", \"division\", \"divorce\", \"doctor\", \"doctor\", \"doctors\", \"doctors\", \"doctrine\", \"door\", \"door\", \"door\", \"door\", \"doug\", \"doug\", \"doug\", \"doug\", \"draft\", \"draft\", \"draft\", \"draft\", \"draft\", \"dragon\", \"dragon\", \"drive\", \"drive\", \"driver\", \"driver\", \"driver\", \"driver\", \"driver\", \"driver\", \"drivers\", \"drivers\", \"drivers\", \"drivers\", \"drivers\", \"drives\", \"drug\", \"drug\", \"drug\", \"drugs\", \"drugs\", \"earth\", \"earth\", \"east\", \"east\", \"east\", \"east\", \"east\", \"east\", \"east\", \"echl\", \"economy\", \"edmonton\", \"election\", \"electrical\", \"electrical\", \"electrical\", \"electrical\", \"electronic\", \"electronic\", \"electronic\", \"electronic\", \"electronics\", \"electronics\", \"email\", \"email\", \"email\", \"email\", \"email\", \"employer\", \"encrypt\", \"encrypted\", \"encrypting\", \"encryption\", \"enemies\", \"energy\", \"energy\", \"energy\", \"enforcement\", \"enforcement\", \"engine\", \"engine\", \"engines\", \"england\", \"england\", \"england\", \"england\", \"enough\", \"enough\", \"enough\", \"enough\", \"enough\", \"enough\", \"enough\", \"enough\", \"entries\", \"entry\", \"entry\", \"escape\", \"escape\", \"escape\", \"escape\", \"escrow\", \"esdi\", \"espn\", \"eternal\", \"ethernet\", \"ethnic\", \"even\", \"even\", \"even\", \"even\", \"even\", \"even\", \"even\", \"even\", \"even\", \"even\", \"event\", \"event\", \"event\", \"event\", \"event\", \"evidence\", \"evidence\", \"evidence\", \"evidence\", \"excellent\", \"excellent\", \"excellent\", \"excellent\", \"excellent\", \"exhaust\", \"exist\", \"exist\", \"exist\", \"exist\", \"exist\", \"exist\", \"exist\", \"existence\", \"existence\", \"exit\", \"exit\", \"exit\", \"expensive\", \"expensive\", \"expensive\", \"expensive\", \"exploration\", \"export\", \"export\", \"expose\", \"expose\", \"face\", \"face\", \"face\", \"face\", \"face\", \"fact\", \"fact\", \"fact\", \"fact\", \"fact\", \"fact\", \"fact\", \"fairing\", \"faith\", \"fans\", \"fans\", \"favor\", \"favor\", \"federal\", \"federal\", \"federal\", \"feel\", \"feel\", \"feel\", \"feel\", \"feel\", \"feel\", \"file\", \"file\", \"file\", \"filename\", \"files\", \"files\", \"files\", \"files\", \"finals\", \"financial\", \"find\", \"find\", \"find\", \"find\", \"find\", \"find\", \"find\", \"find\", \"fingers\", \"finland\", \"finland\", \"fire\", \"fire\", \"fire\", \"fire\", \"firearm\", \"firearms\", \"fired\", \"fired\", \"fired\", \"first\", \"first\", \"first\", \"first\", \"first\", \"first\", \"first\", \"first\", \"first\", \"first\", \"first\", \"first\", \"first\", \"first\", \"first\", \"first\", \"flames\", \"flames\", \"flames\", \"flavor\", \"fleet\", \"fleury\", \"flight\", \"flight\", \"floor\", \"floor\", \"floor\", \"floppies\", \"floppy\", \"flyers\", \"food\", \"food\", \"food\", \"food\", \"foods\", \"football\", \"force\", \"force\", \"force\", \"force\", \"force\", \"force\", \"force\", \"fork\", \"fork\", \"format\", \"format\", \"formats\", \"forwards\", \"fossil\", \"francisco\", \"francisco\", \"francisco\", \"francisco\", \"frequencies\", \"frequency\", \"frequency\", \"friday\", \"friday\", \"friday\", \"front\", \"front\", \"front\", \"front\", \"front\", \"front\", \"front\", \"fundamentalist\", \"fundamentalist\", \"game\", \"game\", \"game\", \"game\", \"games\", \"games\", \"gamma\", \"gangs\", \"garage\", \"garrett\", \"gateway\", \"gays\", \"gear\", \"genocide\", \"german\", \"german\", \"german\", \"german\", \"german\", \"germany\", \"germany\", \"germany\", \"ghost\", \"gifs\", \"gilmour\", \"glutamate\", \"goal\", \"goal\", \"goal\", \"goal\", \"goal\", \"goals\", \"goals\", \"goals\", \"goals\", \"going\", \"going\", \"going\", \"going\", \"going\", \"going\", \"going\", \"goldin\", \"good\", \"good\", \"good\", \"good\", \"good\", \"good\", \"good\", \"good\", \"good\", \"good\", \"gordon\", \"gordon\", \"gordon\", \"government\", \"government\", \"government\", \"graphic\", \"graphics\", \"graphics\", \"graphics\", \"graphics\", \"gravity\", \"great\", \"great\", \"great\", \"great\", \"great\", \"great\", \"great\", \"great\", \"great\", \"greatly\", \"greatly\", \"greatly\", \"greatly\", \"greatly\", \"greece\", \"greek\", \"greek\", \"green\", \"green\", \"green\", \"green\", \"green\", \"green\", \"green\", \"gretzky\", \"ground\", \"ground\", \"ground\", \"ground\", \"ground\", \"ground\", \"grounded\", \"guidelines\", \"guns\", \"guns\", \"guns\", \"habs\", \"handgun\", \"handles\", \"hanging\", \"hanging\", \"hangs\", \"happened\", \"happened\", \"happened\", \"happened\", \"hard\", \"hard\", \"hard\", \"hard\", \"hard\", \"hard\", \"hard\", \"harley\", \"hartford\", \"hash\", \"hawks\", \"hawks\", \"health\", \"health\", \"health\", \"heaven\", \"hellman\", \"hello\", \"hello\", \"hello\", \"helmet\", \"help\", \"help\", \"help\", \"help\", \"help\", \"help\", \"help\", \"help\", \"help\", \"help\", \"help\", \"henrik\", \"hicnet\", \"high\", \"high\", \"high\", \"high\", \"high\", \"high\", \"high\", \"high\", \"high\", \"high\", \"high\", \"high\", \"high\", \"high\", \"high\", \"history\", \"history\", \"history\", \"history\", \"history\", \"history\", \"hitter\", \"hockey\", \"hockey\", \"holocaust\", \"holy\", \"home\", \"home\", \"home\", \"home\", \"home\", \"home\", \"home\", \"home\", \"home\", \"home\", \"homeland\", \"homicides\", \"honda\", \"honda\", \"horror\", \"houston\", \"houston\", \"hulk\", \"human\", \"human\", \"human\", \"human\", \"human\", \"human\", \"hussein\", \"icon\", \"icons\", \"idaho\", \"ieee\", \"iisi\", \"illness\", \"image\", \"image\", \"image\", \"image\", \"immaculate\", \"immune\", \"impaired\", \"implied\", \"impulse\", \"include\", \"include\", \"include\", \"include\", \"include\", \"include\", \"include\", \"include\", \"income\", \"infection\", \"infections\", \"infinity\", \"info\", \"info\", \"info\", \"info\", \"information\", \"information\", \"information\", \"information\", \"information\", \"information\", \"information\", \"information\", \"information\", \"information\", \"ingr\", \"inner\", \"inning\", \"innings\", \"input\", \"input\", \"inputs\", \"intake\", \"intellect\", \"intentional\", \"interface\", \"interface\", \"interface\", \"interleave\", \"international\", \"international\", \"international\", \"international\", \"international\", \"international\", \"international\", \"internet\", \"internet\", \"internet\", \"internet\", \"internet\", \"interpretation\", \"intervention\", \"intrinsics\", \"invaded\", \"invalid\", \"investigator\", \"isaiah\", \"islam\", \"islam\", \"islanders\", \"islanders\", \"israel\", \"israel\", \"israeli\", \"israelis\", \"issue\", \"issue\", \"issue\", \"issue\", \"issue\", \"issue\", \"issue\", \"jagr\", \"jays\", \"jersey\", \"jersey\", \"jesus\", \"jewish\", \"jewish\", \"jews\", \"jews\", \"jobs\", \"john\", \"john\", \"john\", \"john\", \"john\", \"john\", \"john\", \"john\", \"john\", \"john\", \"john\", \"joke\", \"joshua\", \"joystick\", \"jpeg\", \"judas\", \"judges\", \"judges\", \"judges\", \"jumper\", \"jumpers\", \"jumpers\", \"karina\", \"keep\", \"keep\", \"keep\", \"keep\", \"keep\", \"keep\", \"keep\", \"keep\", \"keyboard\", \"keyboard\", \"keyboard\", \"keyboards\", \"keys\", \"keys\", \"keys\", \"kidney\", \"killed\", \"killed\", \"killed\", \"killed\", \"kingman\", \"kings\", \"kings\", \"kings\", \"kits\", \"knife\", \"know\", \"know\", \"know\", \"know\", \"know\", \"know\", \"know\", \"koresh\", \"koresh\", \"koresh\", \"lamp\", \"land\", \"land\", \"land\", \"land\", \"land\", \"laptop\", \"last\", \"last\", \"last\", \"last\", \"last\", \"last\", \"last\", \"last\", \"last\", \"last\", \"last\", \"last\", \"last\", \"later\", \"later\", \"later\", \"later\", \"later\", \"later\", \"later\", \"launch\", \"launched\", \"launches\", \"laws\", \"laws\", \"laws\", \"laws\", \"lawyers\", \"league\", \"league\", \"league\", \"leagues\", \"lean\", \"lebanese\", \"lebanon\", \"left\", \"left\", \"left\", \"left\", \"left\", \"left\", \"left\", \"left\", \"left\", \"left\", \"legislative\", \"lemieux\", \"less\", \"less\", \"less\", \"less\", \"less\", \"less\", \"less\", \"less\", \"less\", \"less\", \"letting\", \"libertarians\", \"liberties\", \"libraries\", \"license\", \"license\", \"license\", \"license\", \"license\", \"life\", \"life\", \"life\", \"life\", \"life\", \"lighter\", \"like\", \"like\", \"like\", \"like\", \"like\", \"like\", \"like\", \"like\", \"like\", \"lindros\", \"line\", \"line\", \"line\", \"line\", \"line\", \"line\", \"line\", \"line\", \"line\", \"line\", \"line\", \"line\", \"list\", \"list\", \"list\", \"list\", \"list\", \"list\", \"list\", \"list\", \"list\", \"list\", \"list\", \"list\", \"list\", \"little\", \"little\", \"little\", \"little\", \"little\", \"little\", \"little\", \"little\", \"little\", \"lock\", \"lock\", \"lock\", \"lock\", \"logo\", \"long\", \"long\", \"long\", \"long\", \"long\", \"long\", \"long\", \"long\", \"long\", \"long\", \"looking\", \"looking\", \"looking\", \"looking\", \"looking\", \"looking\", \"looking\", \"looking\", \"lopez\", \"lord\", \"lost\", \"lost\", \"lost\", \"lost\", \"lost\", \"lost\", \"lost\", \"lost\", \"lotus\", \"love\", \"love\", \"love\", \"love\", \"lunar\", \"lyuda\", \"machine\", \"machine\", \"machine\", \"machine\", \"machine\", \"machine\", \"machine\", \"mack\", \"macs\", \"magazines\", \"mail\", \"mail\", \"mail\", \"mail\", \"mail\", \"mail\", \"mail\", \"mail\", \"mailing\", \"mailing\", \"mailing\", \"main\", \"main\", \"main\", \"main\", \"main\", \"main\", \"main\", \"main\", \"main\", \"maine\", \"mainstream\", \"majority\", \"majority\", \"majority\", \"make\", \"make\", \"make\", \"make\", \"make\", \"make\", \"make\", \"make\", \"make\", \"make\", \"males\", \"mamma\", \"many\", \"many\", \"many\", \"many\", \"many\", \"many\", \"many\", \"many\", \"many\", \"many\", \"many\", \"many\", \"many\", \"marijuana\", \"marina\", \"marriage\", \"marriage\", \"married\", \"married\", \"married\", \"mars\", \"mask\", \"mask\", \"massacre\", \"master\", \"master\", \"master\", \"master\", \"master\", \"matthew\", \"matthew\", \"mcnulty\", \"meaning\", \"meaning\", \"meaning\", \"meaning\", \"meaning\", \"media\", \"media\", \"media\", \"media\", \"media\", \"media\", \"media\", \"media\", \"medical\", \"medical\", \"medicine\", \"megs\", \"memorial\", \"memory\", \"memory\", \"memory\", \"memory\", \"message\", \"message\", \"message\", \"message\", \"message\", \"microsoft\", \"might\", \"might\", \"might\", \"might\", \"might\", \"might\", \"might\", \"might\", \"might\", \"might\", \"mild\", \"miles\", \"miles\", \"miles\", \"miles\", \"miles\", \"miles\", \"military\", \"military\", \"military\", \"military\", \"military\", \"military\", \"militia\", \"militia\", \"mission\", \"mission\", \"missions\", \"modem\", \"molecular\", \"moncton\", \"money\", \"money\", \"money\", \"monitor\", \"monitor\", \"monitor\", \"monitor\", \"montreal\", \"montreal\", \"moon\", \"moon\", \"moon\", \"moral\", \"moral\", \"morality\", \"morris\", \"morris\", \"morris\", \"motherboard\", \"motherboard\", \"motherboard\", \"motif\", \"motorcycle\", \"motorcycle\", \"motorcycles\", \"motto\", \"mouse\", \"mouse\", \"much\", \"much\", \"much\", \"much\", \"much\", \"much\", \"much\", \"much\", \"much\", \"murphy\", \"murphy\", \"murphy\", \"murray\", \"murray\", \"murray\", \"muslim\", \"must\", \"must\", \"must\", \"must\", \"must\", \"must\", \"must\", \"must\", \"must\", \"must\", \"must\", \"must\", \"myers\", \"myers\", \"name\", \"name\", \"name\", \"name\", \"name\", \"name\", \"name\", \"name\", \"name\", \"name\", \"name\", \"nasa\", \"nasa\", \"national\", \"national\", \"national\", \"national\", \"national\", \"national\", \"national\", \"national\", \"national\", \"navy\", \"nazi\", \"nazi\", \"nazis\", \"ncsl\", \"ncsl\", \"near\", \"near\", \"near\", \"near\", \"near\", \"near\", \"near\", \"near\", \"neck\", \"need\", \"need\", \"need\", \"need\", \"need\", \"need\", \"need\", \"need\", \"need\", \"netware\", \"neutral\", \"neutral\", \"neutral\", \"neutral\", \"never\", \"never\", \"never\", \"never\", \"never\", \"never\", \"never\", \"newest\", \"news\", \"news\", \"news\", \"news\", \"news\", \"news\", \"news\", \"news\", \"news\", \"news\", \"newsletter\", \"newsletter\", \"newsletter\", \"nick\", \"nick\", \"night\", \"night\", \"night\", \"night\", \"night\", \"nist\", \"nist\", \"nolan\", \"nolan\", \"north\", \"north\", \"north\", \"north\", \"north\", \"north\", \"north\", \"norton\", \"norton\", \"nubus\", \"nuclear\", \"nuclear\", \"nuclear\", \"nuclear\", \"null\", \"null\", \"number\", \"number\", \"number\", \"number\", \"number\", \"number\", \"number\", \"number\", \"number\", \"number\", \"number\", \"objective\", \"objective\", \"observatory\", \"obviously\", \"obviously\", \"obviously\", \"obviously\", \"occupied\", \"offenses\", \"offer\", \"offer\", \"offer\", \"offer\", \"offer\", \"offset\", \"omniscient\", \"optical\", \"optimistic\", \"orbit\", \"orbital\", \"orchid\", \"ottawa\", \"ottawa\", \"otto\", \"ottoman\", \"outlet\", \"outlets\", \"output\", \"output\", \"override\", \"oxford\", \"ozone\", \"pace\", \"pack\", \"pack\", \"page\", \"page\", \"page\", \"page\", \"page\", \"page\", \"page\", \"page\", \"pain\", \"pain\", \"pain\", \"pain\", \"palestine\", \"palestinian\", \"palestinians\", \"palette\", \"panasonic\", \"panel\", \"panel\", \"panel\", \"panel\", \"panel\", \"panicking\", \"paperback\", \"paranoia\", \"paranoid\", \"parliament\", \"part\", \"part\", \"part\", \"part\", \"part\", \"part\", \"part\", \"part\", \"part\", \"part\", \"partition\", \"passage\", \"passages\", \"patent\", \"patient\", \"patients\", \"payload\", \"peace\", \"peace\", \"peace\", \"peace\", \"penalty\", \"penalty\", \"penalty\", \"penalty\", \"penguins\", \"pennsylvania\", \"pens\", \"pens\", \"people\", \"people\", \"people\", \"people\", \"people\", \"people\", \"people\", \"people\", \"perhaps\", \"perhaps\", \"perhaps\", \"perhaps\", \"perhaps\", \"period\", \"period\", \"period\", \"period\", \"period\", \"period\", \"period\", \"period\", \"period\", \"period\", \"philadelphia\", \"philadelphia\", \"phillies\", \"phone\", \"phone\", \"phone\", \"phone\", \"phones\", \"pick\", \"pick\", \"pick\", \"pick\", \"picture\", \"picture\", \"picture\", \"picture\", \"pipes\", \"pistol\", \"pitch\", \"pitch\", \"pitched\", \"pitcher\", \"pitchers\", \"pitching\", \"pitt\", \"pittsburgh\", \"pittsburgh\", \"pittsburgh\", \"pixel\", \"plaintext\", \"planetary\", \"plants\", \"plants\", \"plastic\", \"plastic\", \"plastic\", \"platforms\", \"play\", \"play\", \"play\", \"play\", \"play\", \"played\", \"played\", \"played\", \"played\", \"played\", \"player\", \"player\", \"player\", \"players\", \"playing\", \"playing\", \"playing\", \"playoffs\", \"playoffs\", \"playoffs\", \"please\", \"please\", \"please\", \"please\", \"please\", \"please\", \"please\", \"please\", \"please\", \"please\", \"pliers\", \"plug\", \"plug\", \"plug\", \"plugs\", \"point\", \"point\", \"point\", \"point\", \"point\", \"point\", \"point\", \"point\", \"point\", \"point\", \"pointer\", \"pointers\", \"points\", \"points\", \"points\", \"points\", \"points\", \"points\", \"police\", \"police\", \"police\", \"police\", \"police\", \"pope\", \"population\", \"population\", \"population\", \"port\", \"port\", \"port\", \"ports\", \"postscript\", \"potvin\", \"power\", \"power\", \"power\", \"power\", \"power\", \"power\", \"power\", \"power\", \"power\", \"powerpc\", \"practicing\", \"prediction\", \"predicts\", \"preferably\", \"premises\", \"prep\", \"president\", \"president\", \"president\", \"prevention\", \"price\", \"price\", \"price\", \"price\", \"price\", \"prices\", \"prices\", \"prices\", \"prices\", \"print\", \"print\", \"print\", \"print\", \"printer\", \"printer\", \"printf\", \"printf\", \"prints\", \"prison\", \"privacy\", \"private\", \"private\", \"probably\", \"probably\", \"probably\", \"probably\", \"probably\", \"probably\", \"probably\", \"probably\", \"problem\", \"problem\", \"problem\", \"problem\", \"problem\", \"problem\", \"problem\", \"problem\", \"problem\", \"profile\", \"prog\", \"program\", \"program\", \"program\", \"program\", \"program\", \"programmers\", \"project\", \"project\", \"project\", \"promo\", \"prophecy\", \"propulsion\", \"protein\", \"providence\", \"public\", \"public\", \"public\", \"public\", \"public\", \"publisher\", \"puck\", \"pulled\", \"pulled\", \"punisher\", \"qemm\", \"quadra\", \"quality\", \"quality\", \"quality\", \"quality\", \"quality\", \"quebec\", \"quebec\", \"queen\", \"queen\", \"quest\", \"quest\", \"question\", \"question\", \"question\", \"question\", \"question\", \"question\", \"radius\", \"radius\", \"reactor\", \"reagan\", \"reagan\", \"realizes\", \"really\", \"really\", \"really\", \"really\", \"really\", \"really\", \"rear\", \"rear\", \"reasoning\", \"reasons\", \"reasons\", \"reasons\", \"reboot\", \"recchi\", \"receiver\", \"receiver\", \"receiver\", \"recognition\", \"reference\", \"reference\", \"reference\", \"reference\", \"reference\", \"reference\", \"reform\", \"religion\", \"religion\", \"religions\", \"religious\", \"religious\", \"repair\", \"report\", \"report\", \"report\", \"report\", \"report\", \"report\", \"report\", \"report\", \"report\", \"reported\", \"reported\", \"reported\", \"reported\", \"reported\", \"reported\", \"reported\", \"republic\", \"request\", \"request\", \"request\", \"request\", \"request\", \"request\", \"requests\", \"requests\", \"requests\", \"requests\", \"research\", \"research\", \"research\", \"research\", \"research\", \"research\", \"research\", \"residue\", \"restaurant\", \"restraint\", \"revenues\", \"ride\", \"rider\", \"rider\", \"riders\", \"riding\", \"riding\", \"right\", \"right\", \"right\", \"right\", \"right\", \"right\", \"right\", \"right\", \"right\", \"right\", \"right\", \"riley\", \"ripem\", \"risk\", \"risk\", \"risk\", \"risk\", \"risk\", \"rkba\", \"rkba\", \"road\", \"road\", \"road\", \"road\", \"road\", \"road\", \"rochester\", \"rockefeller\", \"rocket\", \"rocket\", \"rocket\", \"rocket\", \"roger\", \"roger\", \"roger\", \"rolling\", \"room\", \"room\", \"room\", \"room\", \"room\", \"room\", \"routines\", \"rows\", \"running\", \"running\", \"running\", \"running\", \"running\", \"running\", \"running\", \"runs\", \"runs\", \"runs\", \"runs\", \"runs\", \"runs\", \"runs\", \"russian\", \"russian\", \"russian\", \"russian\", \"sabres\", \"said\", \"said\", \"said\", \"said\", \"said\", \"said\", \"said\", \"said\", \"sale\", \"sale\", \"sale\", \"sale\", \"sale\", \"sampling\", \"sanderson\", \"satellite\", \"satellites\", \"saturday\", \"saturday\", \"saturday\", \"says\", \"says\", \"says\", \"says\", \"says\", \"says\", \"science\", \"science\", \"science\", \"science\", \"scope\", \"scope\", \"score\", \"scored\", \"scored\", \"scorer\", \"scores\", \"scores\", \"scoring\", \"scoring\", \"scratch\", \"scratches\", \"screen\", \"screen\", \"screen\", \"scripture\", \"scrolls\", \"scsi\", \"scsi\", \"seagate\", \"season\", \"season\", \"second\", \"second\", \"second\", \"second\", \"second\", \"second\", \"second\", \"second\", \"second\", \"second\", \"second\", \"second\", \"second\", \"second\", \"secret\", \"secret\", \"secret\", \"section\", \"section\", \"section\", \"section\", \"section\", \"secure\", \"secure\", \"security\", \"security\", \"selanne\", \"self\", \"self\", \"self\", \"self\", \"self\", \"self\", \"self\", \"sell\", \"sell\", \"sell\", \"sell\", \"sell\", \"sell\", \"sell\", \"sell\", \"selling\", \"selling\", \"selling\", \"senator\", \"senators\", \"send\", \"send\", \"send\", \"send\", \"send\", \"send\", \"send\", \"send\", \"send\", \"send\", \"sensor\", \"serbs\", \"serdar\", \"serial\", \"serial\", \"serial\", \"series\", \"series\", \"series\", \"series\", \"series\", \"series\", \"series\", \"series\", \"series\", \"serious\", \"serious\", \"serious\", \"serious\", \"serious\", \"server\", \"server\", \"service\", \"service\", \"service\", \"service\", \"service\", \"service\", \"service\", \"service\", \"shadows\", \"shaft\", \"shaft\", \"shall\", \"shall\", \"shall\", \"shameful\", \"shareware\", \"sharks\", \"shipped\", \"shipped\", \"shipping\", \"shipping\", \"shipping\", \"shipping\", \"shotgun\", \"shots\", \"shots\", \"shouting\", \"shuttle\", \"side\", \"side\", \"side\", \"side\", \"side\", \"side\", \"side\", \"side\", \"side\", \"side\", \"side\", \"signal\", \"signal\", \"signal\", \"signals\", \"signals\", \"simm\", \"simms\", \"since\", \"since\", \"since\", \"since\", \"since\", \"since\", \"since\", \"since\", \"since\", \"since\", \"since\", \"since\", \"sister\", \"size\", \"size\", \"size\", \"size\", \"size\", \"size\", \"size\", \"size\", \"skepticism\", \"slaughter\", \"slave\", \"slave\", \"sleeve\", \"slide\", \"slip\", \"slots\", \"slower\", \"slower\", \"slower\", \"smokeless\", \"smokeless\", \"snapped\", \"socialist\", \"sockets\", \"soderstrom\", \"software\", \"software\", \"software\", \"software\", \"solar\", \"solar\", \"solaris\", \"sold\", \"sold\", \"sold\", \"sold\", \"sold\", \"sold\", \"somalia\", \"something\", \"something\", \"something\", \"something\", \"something\", \"something\", \"sony\", \"sony\", \"soon\", \"soon\", \"soon\", \"soon\", \"soon\", \"soon\", \"soon\", \"soon\", \"soon\", \"soon\", \"soon\", \"sound\", \"sound\", \"sound\", \"sound\", \"sound\", \"sound\", \"soundblaster\", \"sounding\", \"source\", \"source\", \"source\", \"source\", \"source\", \"source\", \"source\", \"south\", \"south\", \"south\", \"south\", \"south\", \"soviet\", \"soviet\", \"soviet\", \"soviet\", \"space\", \"space\", \"space\", \"space\", \"spacecraft\", \"speed\", \"speed\", \"speed\", \"speed\", \"speed\", \"speed\", \"speed\", \"spending\", \"spending\", \"spirit\", \"sports\", \"sports\", \"sports\", \"spots\", \"sqrt\", \"stadium\", \"standings\", \"standings\", \"started\", \"started\", \"started\", \"started\", \"started\", \"started\", \"started\", \"stat\", \"stat\", \"stat\", \"state\", \"state\", \"state\", \"state\", \"state\", \"state\", \"state\", \"state\", \"state\", \"state\", \"states\", \"states\", \"states\", \"states\", \"states\", \"states\", \"states\", \"states\", \"station\", \"station\", \"station\", \"station\", \"station\", \"station\", \"stats\", \"stealth\", \"steam\", \"steam\", \"steering\", \"stereo\", \"stevens\", \"stewart\", \"still\", \"still\", \"still\", \"still\", \"still\", \"still\", \"still\", \"still\", \"still\", \"still\", \"stimulus\", \"stomach\", \"storm\", \"streak\", \"street\", \"street\", \"street\", \"street\", \"street\", \"street\", \"street\", \"street\", \"string\", \"string\", \"strip\", \"strip\", \"strip\", \"strip\", \"strip\", \"studies\", \"studies\", \"studies\", \"studio\", \"study\", \"study\", \"study\", \"study\", \"stuff\", \"stuff\", \"stuff\", \"stuff\", \"stuff\", \"stuff\", \"stuff\", \"stupid\", \"stupid\", \"stupid\", \"stupid\", \"suck\", \"sumgait\", \"summaries\", \"sunview\", \"supply\", \"supply\", \"supply\", \"supply\", \"supply\", \"supply\", \"supply\", \"sure\", \"sure\", \"sure\", \"sure\", \"sure\", \"sure\", \"sure\", \"sure\", \"sure\", \"sure\", \"sure\", \"sure\", \"surgery\", \"surrender\", \"surrender\", \"svga\", \"svga\", \"symptoms\", \"sync\", \"sync\", \"syndrome\", \"syntax\", \"system\", \"system\", \"system\", \"system\", \"system\", \"system\", \"system\", \"system\", \"system\", \"take\", \"take\", \"take\", \"take\", \"take\", \"take\", \"take\", \"take\", \"tape\", \"tape\", \"tape\", \"tape\", \"tapes\", \"tapes\", \"tapes\", \"taxes\", \"team\", \"team\", \"team\", \"team\", \"teams\", \"tear\", \"tear\", \"technology\", \"technology\", \"technology\", \"technology\", \"technology\", \"telecommunications\", \"telescope\", \"temp\", \"temp\", \"thanks\", \"thanks\", \"thanks\", \"thanks\", \"thanx\", \"thanx\", \"therapy\", \"thing\", \"thing\", \"thing\", \"thing\", \"thing\", \"thing\", \"thing\", \"things\", \"things\", \"things\", \"things\", \"things\", \"things\", \"think\", \"think\", \"think\", \"think\", \"think\", \"think\", \"think\", \"third\", \"third\", \"third\", \"third\", \"third\", \"third\", \"third\", \"third\", \"third\", \"third\", \"three\", \"three\", \"three\", \"three\", \"three\", \"three\", \"three\", \"three\", \"three\", \"three\", \"three\", \"thursday\", \"thursday\", \"thursday\", \"thursday\", \"till\", \"till\", \"till\", \"till\", \"time\", \"time\", \"time\", \"time\", \"time\", \"time\", \"time\", \"time\", \"time\", \"time\", \"time\", \"time\", \"tire\", \"tires\", \"titan\", \"title\", \"title\", \"title\", \"title\", \"title\", \"title\", \"titles\", \"titles\", \"tobacco\", \"tobacco\", \"tocchet\", \"told\", \"told\", \"told\", \"told\", \"told\", \"tongues\", \"took\", \"took\", \"took\", \"took\", \"took\", \"took\", \"toolkit\", \"torque\", \"toshiba\", \"tower\", \"tower\", \"tower\", \"towers\", \"toyota\", \"trades\", \"tragedy\", \"tragedy\", \"transfer\", \"transfer\", \"transfer\", \"transfer\", \"transfer\", \"transfer\", \"transfer\", \"transfer\", \"treatment\", \"treatment\", \"treatment\", \"treatment\", \"trinity\", \"troops\", \"troops\", \"true\", \"true\", \"true\", \"true\", \"true\", \"true\", \"true\", \"true\", \"true\", \"truetype\", \"truth\", \"truth\", \"turkey\", \"turkish\", \"turks\", \"turn\", \"turn\", \"turn\", \"turn\", \"turn\", \"turn\", \"turn\", \"turn\", \"udel\", \"unassisted\", \"unclear\", \"uniforms\", \"unit\", \"unit\", \"unit\", \"unit\", \"unit\", \"unit\", \"unit\", \"united\", \"united\", \"united\", \"united\", \"united\", \"univ\", \"university\", \"university\", \"university\", \"university\", \"university\", \"university\", \"university\", \"university\", \"unix\", \"unix\", \"unsigned\", \"upgraded\", \"used\", \"used\", \"used\", \"used\", \"used\", \"used\", \"used\", \"used\", \"used\", \"used\", \"used\", \"user\", \"user\", \"user\", \"user\", \"users\", \"users\", \"users\", \"using\", \"using\", \"using\", \"using\", \"using\", \"using\", \"using\", \"using\", \"uuencode\", \"vancouver\", \"vancouver\", \"vancouver\", \"vancouver\", \"variables\", \"venus\", \"vernon\", \"version\", \"version\", \"version\", \"version\", \"version\", \"version\", \"version\", \"vesa\", \"vesa\", \"vesa\", \"veto\", \"vice\", \"vice\", \"vice\", \"victim\", \"victim\", \"victim\", \"video\", \"video\", \"video\", \"video\", \"video\", \"video\", \"villages\", \"violent\", \"violent\", \"visual\", \"vitamin\", \"void\", \"void\", \"void\", \"voltage\", \"volvo\", \"walker\", \"walls\", \"want\", \"want\", \"want\", \"want\", \"want\", \"want\", \"want\", \"want\", \"washington\", \"washington\", \"washington\", \"washington\", \"washington\", \"washington\", \"washington\", \"water\", \"water\", \"water\", \"water\", \"water\", \"water\", \"watts\", \"wave\", \"wave\", \"wave\", \"wave\", \"wave\", \"waves\", \"waves\", \"waves\", \"wealth\", \"weapon\", \"weapons\", \"weapons\", \"weapons\", \"weaver\", \"well\", \"well\", \"well\", \"well\", \"well\", \"well\", \"well\", \"well\", \"well\", \"well\", \"well\", \"went\", \"went\", \"went\", \"went\", \"west\", \"west\", \"west\", \"west\", \"west\", \"west\", \"wheel\", \"wheels\", \"widget\", \"widgets\", \"window\", \"window\", \"window\", \"windows\", \"windows\", \"windows\", \"winmarks\", \"winnipeg\", \"wins\", \"wins\", \"wire\", \"wire\", \"wires\", \"wiretap\", \"wiring\", \"wolverine\", \"woman\", \"woman\", \"woman\", \"woman\", \"women\", \"women\", \"women\", \"women\", \"wont\", \"word\", \"word\", \"word\", \"word\", \"word\", \"word\", \"word\", \"wordperfect\", \"words\", \"words\", \"words\", \"words\", \"words\", \"words\", \"words\", \"words\", \"work\", \"work\", \"work\", \"work\", \"work\", \"work\", \"work\", \"work\", \"world\", \"world\", \"world\", \"world\", \"world\", \"world\", \"world\", \"world\", \"world\", \"worship\", \"would\", \"would\", \"would\", \"would\", \"would\", \"would\", \"would\", \"would\", \"would\", \"would\", \"wrap\", \"xdefaults\", \"xlib\", \"xlib\", \"xputimage\", \"xterm\", \"yankees\", \"year\", \"year\", \"year\", \"year\", \"year\", \"year\", \"year\", \"year\", \"years\", \"years\", \"years\", \"years\", \"years\", \"years\", \"years\", \"years\", \"years\", \"years\", \"yeast\", \"york\", \"york\", \"york\", \"york\", \"york\", \"yount\", \"zinc\"]}, \"R\": 30, \"lambda.step\": 0.01, \"plot.opts\": {\"xlab\": \"PC1\", \"ylab\": \"PC2\"}, \"topic.order\": [18, 7, 9, 10, 5, 4, 20, 16, 14, 1, 12, 2, 19, 13, 6, 8, 15, 3, 17, 11]};\n",
       "\n",
       "function LDAvis_load_lib(url, callback){\n",
       "  var s = document.createElement('script');\n",
       "  s.src = url;\n",
       "  s.async = true;\n",
       "  s.onreadystatechange = s.onload = callback;\n",
       "  s.onerror = function(){console.warn(\"failed to load library \" + url);};\n",
       "  document.getElementsByTagName(\"head\")[0].appendChild(s);\n",
       "}\n",
       "\n",
       "if(typeof(LDAvis) !== \"undefined\"){\n",
       "   // already loaded: just create the visualization\n",
       "   !function(LDAvis){\n",
       "       new LDAvis(\"#\" + \"ldavis_el887625280322075046123928125\", ldavis_el887625280322075046123928125_data);\n",
       "   }(LDAvis);\n",
       "}else if(typeof define === \"function\" && define.amd){\n",
       "   // require.js is available: use it to load d3/LDAvis\n",
       "   require.config({paths: {d3: \"https://d3js.org/d3.v5\"}});\n",
       "   require([\"d3\"], function(d3){\n",
       "      window.d3 = d3;\n",
       "      LDAvis_load_lib(\"https://cdn.jsdelivr.net/gh/bmabey/pyLDAvis@3.3.1/pyLDAvis/js/ldavis.v3.0.0.js\", function(){\n",
       "        new LDAvis(\"#\" + \"ldavis_el887625280322075046123928125\", ldavis_el887625280322075046123928125_data);\n",
       "      });\n",
       "    });\n",
       "}else{\n",
       "    // require.js not available: dynamically load d3 & LDAvis\n",
       "    LDAvis_load_lib(\"https://d3js.org/d3.v5.js\", function(){\n",
       "         LDAvis_load_lib(\"https://cdn.jsdelivr.net/gh/bmabey/pyLDAvis@3.3.1/pyLDAvis/js/ldavis.v3.0.0.js\", function(){\n",
       "                 new LDAvis(\"#\" + \"ldavis_el887625280322075046123928125\", ldavis_el887625280322075046123928125_data);\n",
       "            })\n",
       "         });\n",
       "}\n",
       "</script>"
      ],
      "text/plain": [
       "<IPython.core.display.HTML object>"
      ]
     },
     "execution_count": 96,
     "metadata": {},
     "output_type": "execute_result"
    }
   ],
   "source": [
    "import pyLDAvis.gensim_models\n",
    "\n",
    "pyLDAvis.enable_notebook()\n",
    "vis = pyLDAvis.gensim_models.prepare(ldamodel, corpus, dictionary)\n",
    "pyLDAvis.display(vis)"
   ]
  },
  {
   "cell_type": "code",
   "execution_count": 97,
   "metadata": {},
   "outputs": [
    {
     "name": "stdout",
     "output_type": "stream",
     "text": [
      "0 번째 문서의 topic 비율은  [(0, 0.23375575), (6, 0.17070535), (12, 0.2972339), (17, 0.28538674)]\n",
      "1 번째 문서의 topic 비율은  [(2, 0.05882811), (6, 0.38454646), (11, 0.047093105), (13, 0.09000181), (16, 0.055350535), (17, 0.345743)]\n",
      "2 번째 문서의 topic 비율은  [(0, 0.24619749), (17, 0.73925614)]\n",
      "3 번째 문서의 topic 비율은  [(1, 0.017805321), (3, 0.4039655), (6, 0.055324227), (9, 0.30071715), (17, 0.21041375)]\n",
      "4 번째 문서의 topic 비율은  [(8, 0.0671257), (11, 0.65415573), (17, 0.24722628)]\n",
      "5 번째 문서의 topic 비율은  [(5, 0.053972457), (6, 0.66026723), (9, 0.18977498), (12, 0.059575796)]\n",
      "6 번째 문서의 topic 비율은  [(3, 0.025229674), (7, 0.024935847), (8, 0.113978475), (9, 0.47931907), (14, 0.041016668), (15, 0.056635603), (19, 0.24971002)]\n",
      "7 번째 문서의 topic 비율은  [(0, 0.13695526), (12, 0.053616814), (15, 0.18578279), (17, 0.61051136)]\n",
      "8 번째 문서의 topic 비율은  [(1, 0.16774239), (6, 0.0579454), (8, 0.07481113), (10, 0.2610358), (17, 0.4163219)]\n",
      "9 번째 문서의 topic 비율은  [(3, 0.06738132), (9, 0.7368607), (13, 0.04074479), (19, 0.14388151)]\n"
     ]
    }
   ],
   "source": [
    "### 문서별 토픽 분포보기\n",
    "for i, topic_list in enumerate(ldamodel[corpus]):\n",
    "    if i == 10:\n",
    "        break\n",
    "    print(i,'번째 문서의 topic 비율은 ',topic_list)"
   ]
  },
  {
   "cell_type": "code",
   "execution_count": 98,
   "metadata": {},
   "outputs": [],
   "source": [
    "def make_topictable_per_doc(ldamodel, corpus):\n",
    "    topic_table = pd.DataFrame()\n",
    "\n",
    "    # 몇 번째 문서인지를 의미하는 문서 번호와 해당 문서의 토픽 비중을 한 줄씩 꺼내온다.\n",
    "    for i, topic_list in enumerate(ldamodel[corpus]):\n",
    "        doc = topic_list[0] if ldamodel.per_word_topics else topic_list            \n",
    "        doc = sorted(doc, key=lambda x: (x[1]), reverse=True)\n",
    "        # 각 문서에 대해서 비중이 높은 토픽순으로 토픽을 정렬한다.\n",
    "        # EX) 정렬 전 0번 문서 : (2번 토픽, 48.5%), (8번 토픽, 25%), (10번 토픽, 5%), (12번 토픽, 21.5%), \n",
    "        # Ex) 정렬 후 0번 문서 : (2번 토픽, 48.5%), (8번 토픽, 25%), (12번 토픽, 21.5%), (10번 토픽, 5%)\n",
    "        # 48 > 25 > 21 > 5 순으로 정렬이 된 것.\n",
    "\n",
    "        # 모든 문서에 대해서 각각 아래를 수행\n",
    "        for j, (topic_num, prop_topic) in enumerate(doc): #  몇 번 토픽인지와 비중을 나눠서 저장한다.\n",
    "            if j == 0:  # 정렬을 한 상태이므로 가장 앞에 있는 것이 가장 비중이 높은 토픽\n",
    "                topic_table = topic_table.append(pd.Series([int(topic_num), round(prop_topic,4), topic_list]), ignore_index=True)\n",
    "                # 가장 비중이 높은 토픽과, 가장 비중이 높은 토픽의 비중과, 전체 토픽의 비중을 저장한다.\n",
    "            else:\n",
    "                break\n",
    "    return(topic_table)\n"
   ]
  },
  {
   "cell_type": "code",
   "execution_count": 99,
   "metadata": {},
   "outputs": [
    {
     "name": "stderr",
     "output_type": "stream",
     "text": [
      "C:\\Users\\vmuser\\AppData\\Local\\Temp\\ipykernel_8876\\2753814633.py:16: FutureWarning: The frame.append method is deprecated and will be removed from pandas in a future version. Use pandas.concat instead.\n",
      "  topic_table = topic_table.append(pd.Series([int(topic_num), round(prop_topic,4), topic_list]), ignore_index=True)\n",
      "C:\\Users\\vmuser\\AppData\\Local\\Temp\\ipykernel_8876\\2753814633.py:16: FutureWarning: The frame.append method is deprecated and will be removed from pandas in a future version. Use pandas.concat instead.\n",
      "  topic_table = topic_table.append(pd.Series([int(topic_num), round(prop_topic,4), topic_list]), ignore_index=True)\n"
     ]
    },
    {
     "data": {
      "text/html": [
       "<div>\n",
       "<style scoped>\n",
       "    .dataframe tbody tr th:only-of-type {\n",
       "        vertical-align: middle;\n",
       "    }\n",
       "\n",
       "    .dataframe tbody tr th {\n",
       "        vertical-align: top;\n",
       "    }\n",
       "\n",
       "    .dataframe thead th {\n",
       "        text-align: right;\n",
       "    }\n",
       "</style>\n",
       "<table border=\"1\" class=\"dataframe\">\n",
       "  <thead>\n",
       "    <tr style=\"text-align: right;\">\n",
       "      <th></th>\n",
       "      <th>문서 번호</th>\n",
       "      <th>가장 비중이 높은 토픽</th>\n",
       "      <th>가장 높은 토픽의 비중</th>\n",
       "      <th>각 토픽의 비중</th>\n",
       "    </tr>\n",
       "  </thead>\n",
       "  <tbody>\n",
       "    <tr>\n",
       "      <th>0</th>\n",
       "      <td>0</td>\n",
       "      <td>12</td>\n",
       "      <td>0.2972</td>\n",
       "      <td>[(0, 0.23376156), (6, 0.17066287), (12, 0.2972...</td>\n",
       "    </tr>\n",
       "    <tr>\n",
       "      <th>1</th>\n",
       "      <td>1</td>\n",
       "      <td>6</td>\n",
       "      <td>0.3846</td>\n",
       "      <td>[(2, 0.058833312), (6, 0.38463426), (11, 0.047...</td>\n",
       "    </tr>\n",
       "    <tr>\n",
       "      <th>2</th>\n",
       "      <td>2</td>\n",
       "      <td>17</td>\n",
       "      <td>0.7393</td>\n",
       "      <td>[(0, 0.24618088), (17, 0.7392728)]</td>\n",
       "    </tr>\n",
       "    <tr>\n",
       "      <th>3</th>\n",
       "      <td>3</td>\n",
       "      <td>3</td>\n",
       "      <td>0.4040</td>\n",
       "      <td>[(1, 0.017805187), (3, 0.4039732), (6, 0.05528...</td>\n",
       "    </tr>\n",
       "    <tr>\n",
       "      <th>4</th>\n",
       "      <td>4</td>\n",
       "      <td>11</td>\n",
       "      <td>0.6542</td>\n",
       "      <td>[(8, 0.067186035), (11, 0.6541859), (17, 0.247...</td>\n",
       "    </tr>\n",
       "    <tr>\n",
       "      <th>5</th>\n",
       "      <td>5</td>\n",
       "      <td>6</td>\n",
       "      <td>0.6605</td>\n",
       "      <td>[(5, 0.053967286), (6, 0.6604782), (9, 0.18958...</td>\n",
       "    </tr>\n",
       "    <tr>\n",
       "      <th>6</th>\n",
       "      <td>6</td>\n",
       "      <td>9</td>\n",
       "      <td>0.4793</td>\n",
       "      <td>[(3, 0.025229456), (7, 0.02493606), (8, 0.1139...</td>\n",
       "    </tr>\n",
       "    <tr>\n",
       "      <th>7</th>\n",
       "      <td>7</td>\n",
       "      <td>17</td>\n",
       "      <td>0.6105</td>\n",
       "      <td>[(0, 0.13695353), (12, 0.05361709), (15, 0.185...</td>\n",
       "    </tr>\n",
       "    <tr>\n",
       "      <th>8</th>\n",
       "      <td>8</td>\n",
       "      <td>17</td>\n",
       "      <td>0.4162</td>\n",
       "      <td>[(1, 0.16772518), (6, 0.058040794), (8, 0.0748...</td>\n",
       "    </tr>\n",
       "    <tr>\n",
       "      <th>9</th>\n",
       "      <td>9</td>\n",
       "      <td>9</td>\n",
       "      <td>0.7368</td>\n",
       "      <td>[(3, 0.067380965), (9, 0.73684776), (13, 0.040...</td>\n",
       "    </tr>\n",
       "  </tbody>\n",
       "</table>\n",
       "</div>"
      ],
      "text/plain": [
       "   문서 번호  가장 비중이 높은 토픽  가장 높은 토픽의 비중  \\\n",
       "0      0            12        0.2972   \n",
       "1      1             6        0.3846   \n",
       "2      2            17        0.7393   \n",
       "3      3             3        0.4040   \n",
       "4      4            11        0.6542   \n",
       "5      5             6        0.6605   \n",
       "6      6             9        0.4793   \n",
       "7      7            17        0.6105   \n",
       "8      8            17        0.4162   \n",
       "9      9             9        0.7368   \n",
       "\n",
       "                                            각 토픽의 비중  \n",
       "0  [(0, 0.23376156), (6, 0.17066287), (12, 0.2972...  \n",
       "1  [(2, 0.058833312), (6, 0.38463426), (11, 0.047...  \n",
       "2                 [(0, 0.24618088), (17, 0.7392728)]  \n",
       "3  [(1, 0.017805187), (3, 0.4039732), (6, 0.05528...  \n",
       "4  [(8, 0.067186035), (11, 0.6541859), (17, 0.247...  \n",
       "5  [(5, 0.053967286), (6, 0.6604782), (9, 0.18958...  \n",
       "6  [(3, 0.025229456), (7, 0.02493606), (8, 0.1139...  \n",
       "7  [(0, 0.13695353), (12, 0.05361709), (15, 0.185...  \n",
       "8  [(1, 0.16772518), (6, 0.058040794), (8, 0.0748...  \n",
       "9  [(3, 0.067380965), (9, 0.73684776), (13, 0.040...  "
      ]
     },
     "execution_count": 99,
     "metadata": {},
     "output_type": "execute_result"
    }
   ],
   "source": [
    "topictable = make_topictable_per_doc(ldamodel, corpus)\n",
    "topictable = topictable.reset_index()\n",
    "topictable.columns = ['문서 번호','가장 비중이 높은 토픽','가장 높은 토픽의 비중','각 토픽의 비중']\n",
    "topictable[:10]"
   ]
  },
  {
   "cell_type": "code",
   "execution_count": 105,
   "metadata": {},
   "outputs": [
    {
     "name": "stderr",
     "output_type": "stream",
     "text": [
      "C:\\Users\\vmuser\\AppData\\Local\\Temp\\ipykernel_8876\\1556855523.py:11: FutureWarning: The error_bad_lines argument has been deprecated and will be removed in a future version. Use on_bad_lines in the future.\n",
      "\n",
      "\n",
      "  data = pd.read_csv('abcnews-date-text.csv', error_bad_lines=False)\n"
     ]
    },
    {
     "name": "stdout",
     "output_type": "stream",
     "text": [
      "뉴스 제목 개수 : 1226258\n"
     ]
    }
   ],
   "source": [
    "\n",
    "import pandas as pd\n",
    "import urllib.request\n",
    "import nltk\n",
    "from nltk.corpus import stopwords\n",
    "from nltk.stem import WordNetLemmatizer\n",
    "from sklearn.feature_extraction.text import TfidfVectorizer\n",
    "from sklearn.decomposition import LatentDirichletAllocation\n",
    "\n",
    "#urllib.request.urlretrieve(\"https://www.kaggle.com/datasets/therohk/million-headlines?select=abcnews-date-text.csv\", filename=\"abcnews-date-text.csv\")\n",
    "\n",
    "data = pd.read_csv('abcnews-date-text.csv', error_bad_lines=False)\n",
    "print('뉴스 제목 개수 :',len(data))"
   ]
  },
  {
   "cell_type": "code",
   "execution_count": 106,
   "metadata": {},
   "outputs": [
    {
     "name": "stdout",
     "output_type": "stream",
     "text": [
      "   publish_date                                      headline_text\n",
      "0      20030219  aba decides against community broadcasting lic...\n",
      "1      20030219     act fire witnesses must be aware of defamation\n",
      "2      20030219     a g calls for infrastructure protection summit\n",
      "3      20030219           air nz staff in aust strike for pay rise\n",
      "4      20030219      air nz strike to affect australian travellers\n"
     ]
    }
   ],
   "source": [
    "print(data.head(5))"
   ]
  },
  {
   "cell_type": "code",
   "execution_count": 107,
   "metadata": {},
   "outputs": [
    {
     "data": {
      "text/html": [
       "<div>\n",
       "<style scoped>\n",
       "    .dataframe tbody tr th:only-of-type {\n",
       "        vertical-align: middle;\n",
       "    }\n",
       "\n",
       "    .dataframe tbody tr th {\n",
       "        vertical-align: top;\n",
       "    }\n",
       "\n",
       "    .dataframe thead th {\n",
       "        text-align: right;\n",
       "    }\n",
       "</style>\n",
       "<table border=\"1\" class=\"dataframe\">\n",
       "  <thead>\n",
       "    <tr style=\"text-align: right;\">\n",
       "      <th></th>\n",
       "      <th>headline_text</th>\n",
       "    </tr>\n",
       "  </thead>\n",
       "  <tbody>\n",
       "    <tr>\n",
       "      <th>0</th>\n",
       "      <td>aba decides against community broadcasting lic...</td>\n",
       "    </tr>\n",
       "    <tr>\n",
       "      <th>1</th>\n",
       "      <td>act fire witnesses must be aware of defamation</td>\n",
       "    </tr>\n",
       "    <tr>\n",
       "      <th>2</th>\n",
       "      <td>a g calls for infrastructure protection summit</td>\n",
       "    </tr>\n",
       "    <tr>\n",
       "      <th>3</th>\n",
       "      <td>air nz staff in aust strike for pay rise</td>\n",
       "    </tr>\n",
       "    <tr>\n",
       "      <th>4</th>\n",
       "      <td>air nz strike to affect australian travellers</td>\n",
       "    </tr>\n",
       "  </tbody>\n",
       "</table>\n",
       "</div>"
      ],
      "text/plain": [
       "                                       headline_text\n",
       "0  aba decides against community broadcasting lic...\n",
       "1     act fire witnesses must be aware of defamation\n",
       "2     a g calls for infrastructure protection summit\n",
       "3           air nz staff in aust strike for pay rise\n",
       "4      air nz strike to affect australian travellers"
      ]
     },
     "execution_count": 107,
     "metadata": {},
     "output_type": "execute_result"
    }
   ],
   "source": [
    "text = data[['headline_text']]\n",
    "text.head(5)"
   ]
  },
  {
   "cell_type": "code",
   "execution_count": 108,
   "metadata": {},
   "outputs": [
    {
     "name": "stderr",
     "output_type": "stream",
     "text": [
      "[nltk_data] Downloading package punkt to\n",
      "[nltk_data]     C:\\Users\\vmuser\\AppData\\Roaming\\nltk_data...\n",
      "[nltk_data]   Unzipping tokenizers\\punkt.zip.\n",
      "[nltk_data] Downloading package stopwords to\n",
      "[nltk_data]     C:\\Users\\vmuser\\AppData\\Roaming\\nltk_data...\n",
      "[nltk_data]   Package stopwords is already up-to-date!\n"
     ]
    },
    {
     "data": {
      "text/plain": [
       "True"
      ]
     },
     "execution_count": 108,
     "metadata": {},
     "output_type": "execute_result"
    }
   ],
   "source": [
    "nltk.download('punkt')\n",
    "nltk.download('stopwords')"
   ]
  },
  {
   "cell_type": "code",
   "execution_count": 109,
   "metadata": {},
   "outputs": [
    {
     "name": "stderr",
     "output_type": "stream",
     "text": [
      "C:\\Users\\vmuser\\AppData\\Local\\Temp\\ipykernel_8876\\443543600.py:1: SettingWithCopyWarning: \n",
      "A value is trying to be set on a copy of a slice from a DataFrame.\n",
      "Try using .loc[row_indexer,col_indexer] = value instead\n",
      "\n",
      "See the caveats in the documentation: https://pandas.pydata.org/pandas-docs/stable/user_guide/indexing.html#returning-a-view-versus-a-copy\n",
      "  text['headline_text'] = text.apply(lambda row: nltk.word_tokenize(row['headline_text']), axis=1)\n"
     ]
    }
   ],
   "source": [
    "text['headline_text'] = text.apply(lambda row: nltk.word_tokenize(row['headline_text']), axis=1)"
   ]
  },
  {
   "cell_type": "code",
   "execution_count": 110,
   "metadata": {},
   "outputs": [
    {
     "name": "stdout",
     "output_type": "stream",
     "text": [
      "                                       headline_text\n",
      "0  [aba, decides, against, community, broadcastin...\n",
      "1  [act, fire, witnesses, must, be, aware, of, de...\n",
      "2  [a, g, calls, for, infrastructure, protection,...\n",
      "3  [air, nz, staff, in, aust, strike, for, pay, r...\n",
      "4  [air, nz, strike, to, affect, australian, trav...\n"
     ]
    }
   ],
   "source": [
    "print(text.head(5))"
   ]
  },
  {
   "cell_type": "code",
   "execution_count": 111,
   "metadata": {},
   "outputs": [
    {
     "name": "stderr",
     "output_type": "stream",
     "text": [
      "C:\\Users\\vmuser\\AppData\\Local\\Temp\\ipykernel_8876\\105725454.py:2: SettingWithCopyWarning: \n",
      "A value is trying to be set on a copy of a slice from a DataFrame.\n",
      "Try using .loc[row_indexer,col_indexer] = value instead\n",
      "\n",
      "See the caveats in the documentation: https://pandas.pydata.org/pandas-docs/stable/user_guide/indexing.html#returning-a-view-versus-a-copy\n",
      "  text['headline_text'] = text['headline_text'].apply(lambda x: [word for word in x if word not in (stop_words)])\n"
     ]
    }
   ],
   "source": [
    "stop_words = stopwords.words('english')\n",
    "text['headline_text'] = text['headline_text'].apply(lambda x: [word for word in x if word not in (stop_words)])"
   ]
  },
  {
   "cell_type": "code",
   "execution_count": 112,
   "metadata": {},
   "outputs": [
    {
     "name": "stdout",
     "output_type": "stream",
     "text": [
      "                                       headline_text\n",
      "0   [aba, decides, community, broadcasting, licence]\n",
      "1    [act, fire, witnesses, must, aware, defamation]\n",
      "2     [g, calls, infrastructure, protection, summit]\n",
      "3          [air, nz, staff, aust, strike, pay, rise]\n",
      "4  [air, nz, strike, affect, australian, travellers]\n"
     ]
    }
   ],
   "source": [
    "print(text.head(5))"
   ]
  },
  {
   "cell_type": "code",
   "execution_count": 113,
   "metadata": {},
   "outputs": [
    {
     "name": "stderr",
     "output_type": "stream",
     "text": [
      "[nltk_data] Downloading package wordnet to\n",
      "[nltk_data]     C:\\Users\\vmuser\\AppData\\Roaming\\nltk_data...\n",
      "[nltk_data]   Unzipping corpora\\wordnet.zip.\n",
      "[nltk_data] Downloading package omw-1.4 to\n",
      "[nltk_data]     C:\\Users\\vmuser\\AppData\\Roaming\\nltk_data...\n",
      "[nltk_data]   Unzipping corpora\\omw-1.4.zip.\n"
     ]
    },
    {
     "data": {
      "text/plain": [
       "True"
      ]
     },
     "execution_count": 113,
     "metadata": {},
     "output_type": "execute_result"
    }
   ],
   "source": [
    "nltk.download('wordnet')\n",
    "nltk.download('omw-1.4')"
   ]
  },
  {
   "cell_type": "code",
   "execution_count": 114,
   "metadata": {},
   "outputs": [
    {
     "name": "stdout",
     "output_type": "stream",
     "text": [
      "                                       headline_text\n",
      "0       [aba, decide, community, broadcast, licence]\n",
      "1      [act, fire, witness, must, aware, defamation]\n",
      "2      [g, call, infrastructure, protection, summit]\n",
      "3          [air, nz, staff, aust, strike, pay, rise]\n",
      "4  [air, nz, strike, affect, australian, travellers]\n"
     ]
    },
    {
     "name": "stderr",
     "output_type": "stream",
     "text": [
      "C:\\Users\\vmuser\\AppData\\Local\\Temp\\ipykernel_8876\\306918692.py:1: SettingWithCopyWarning: \n",
      "A value is trying to be set on a copy of a slice from a DataFrame.\n",
      "Try using .loc[row_indexer,col_indexer] = value instead\n",
      "\n",
      "See the caveats in the documentation: https://pandas.pydata.org/pandas-docs/stable/user_guide/indexing.html#returning-a-view-versus-a-copy\n",
      "  text['headline_text'] = text['headline_text'].apply(lambda x: [WordNetLemmatizer().lemmatize(word, pos='v') for word in x])\n"
     ]
    }
   ],
   "source": [
    "text['headline_text'] = text['headline_text'].apply(lambda x: [WordNetLemmatizer().lemmatize(word, pos='v') for word in x])\n",
    "print(text.head(5))"
   ]
  },
  {
   "cell_type": "code",
   "execution_count": 115,
   "metadata": {},
   "outputs": [
    {
     "name": "stdout",
     "output_type": "stream",
     "text": [
      "0       [decide, community, broadcast, licence]\n",
      "1      [fire, witness, must, aware, defamation]\n",
      "2    [call, infrastructure, protection, summit]\n",
      "3                   [staff, aust, strike, rise]\n",
      "4      [strike, affect, australian, travellers]\n",
      "Name: headline_text, dtype: object\n"
     ]
    }
   ],
   "source": [
    "tokenized_doc = text['headline_text'].apply(lambda x: [word for word in x if len(word) > 3])\n",
    "print(tokenized_doc[:5])"
   ]
  },
  {
   "cell_type": "code",
   "execution_count": 116,
   "metadata": {},
   "outputs": [
    {
     "name": "stderr",
     "output_type": "stream",
     "text": [
      "C:\\Users\\vmuser\\AppData\\Local\\Temp\\ipykernel_8876\\371581730.py:7: SettingWithCopyWarning: \n",
      "A value is trying to be set on a copy of a slice from a DataFrame.\n",
      "Try using .loc[row_indexer,col_indexer] = value instead\n",
      "\n",
      "See the caveats in the documentation: https://pandas.pydata.org/pandas-docs/stable/user_guide/indexing.html#returning-a-view-versus-a-copy\n",
      "  text['headline_text'] = detokenized_doc\n"
     ]
    }
   ],
   "source": [
    "# 역토큰화 (토큰화 작업을 역으로 되돌림)\n",
    "detokenized_doc = []\n",
    "for i in range(len(text)):\n",
    "    t = ' '.join(tokenized_doc[i])\n",
    "    detokenized_doc.append(t)\n",
    "\n",
    "text['headline_text'] = detokenized_doc"
   ]
  },
  {
   "cell_type": "code",
   "execution_count": 117,
   "metadata": {},
   "outputs": [
    {
     "data": {
      "text/plain": [
       "0       decide community broadcast licence\n",
       "1       fire witness must aware defamation\n",
       "2    call infrastructure protection summit\n",
       "3                   staff aust strike rise\n",
       "4      strike affect australian travellers\n",
       "Name: headline_text, dtype: object"
      ]
     },
     "execution_count": 117,
     "metadata": {},
     "output_type": "execute_result"
    }
   ],
   "source": [
    "text['headline_text'][:5]"
   ]
  },
  {
   "cell_type": "code",
   "execution_count": 118,
   "metadata": {},
   "outputs": [
    {
     "name": "stdout",
     "output_type": "stream",
     "text": [
      "TF-IDF 행렬의 크기 : (1226258, 1000)\n"
     ]
    }
   ],
   "source": [
    "# 상위 1,000개의 단어를 보존 \n",
    "vectorizer = TfidfVectorizer(stop_words='english', max_features= 1000)\n",
    "X = vectorizer.fit_transform(text['headline_text'])\n",
    "\n",
    "# TF-IDF 행렬의 크기 확인\n",
    "print('TF-IDF 행렬의 크기 :',X.shape)"
   ]
  },
  {
   "cell_type": "code",
   "execution_count": 129,
   "metadata": {},
   "outputs": [],
   "source": [
    "lda_model = LatentDirichletAllocation(n_components=10,learning_method='online',random_state=777,max_iter=1)"
   ]
  },
  {
   "cell_type": "code",
   "execution_count": 130,
   "metadata": {},
   "outputs": [],
   "source": [
    "lda_top = lda_model.fit_transform(X)"
   ]
  },
  {
   "cell_type": "code",
   "execution_count": 131,
   "metadata": {},
   "outputs": [
    {
     "name": "stdout",
     "output_type": "stream",
     "text": [
      "[[1.00000865e-01 1.00000439e-01 1.00001997e-01 ... 1.00006873e-01\n",
      "  1.00003405e-01 1.00005209e-01]\n",
      " [1.00001642e-01 1.00000829e-01 6.40533260e+02 ... 1.00009111e-01\n",
      "  1.00004890e-01 5.79474578e+02]\n",
      " [1.00001468e-01 1.00000275e-01 1.00001496e-01 ... 1.00004592e-01\n",
      "  1.00001786e-01 1.00005396e-01]\n",
      " ...\n",
      " [1.00002822e-01 1.00000923e-01 1.00001462e-01 ... 1.00009141e-01\n",
      "  1.00005015e-01 1.00008595e-01]\n",
      " [1.00004695e-01 1.00002038e-01 1.00001419e-01 ... 1.00004812e-01\n",
      "  1.00002548e-01 1.00007925e-01]\n",
      " [1.07423402e+02 2.03964360e+02 1.00002187e-01 ... 1.00006822e-01\n",
      "  1.00003052e-01 1.00006310e-01]]\n",
      "(10, 1000)\n"
     ]
    }
   ],
   "source": [
    "print(lda_model.components_)\n",
    "print(lda_model.components_.shape) "
   ]
  },
  {
   "cell_type": "code",
   "execution_count": 132,
   "metadata": {},
   "outputs": [
    {
     "name": "stdout",
     "output_type": "stream",
     "text": [
      "Topic 1: [('queensland', 12908.75), ('sydney', 10948.96), ('melbourne', 8900.08), ('change', 7262.83), ('crash', 6153.23)]\n",
      "Topic 2: [('australia', 19355.9), ('australian', 13286.11), ('leave', 4930.96), ('speak', 4845.83), ('perth', 4709.2)]\n",
      "Topic 3: [('donald', 9114.15), ('live', 7908.02), ('federal', 4711.88), ('rise', 4630.85), ('victorian', 4567.89)]\n",
      "Topic 4: [('health', 6349.63), ('tasmania', 6141.91), ('report', 5567.09), ('plan', 4834.44), ('time', 4744.41)]\n",
      "Topic 5: [('state', 6086.17), ('open', 6074.01), ('coast', 6015.08), ('restrictions', 5961.35), ('woman', 5921.79)]\n",
      "Topic 6: [('trump', 15903.94), ('police', 13931.38), ('home', 7318.39), ('test', 7241.0), ('market', 6529.05)]\n",
      "Topic 7: [('government', 9187.9), ('record', 6384.64), ('border', 6378.89), ('help', 5807.23), ('people', 5620.56)]\n",
      "Topic 8: [('coronavirus', 48038.98), ('covid', 19540.99), ('victoria', 10827.28), ('china', 8358.46), ('death', 7181.89)]\n",
      "Topic 9: [('case', 10138.89), ('charge', 8386.79), ('court', 8195.91), ('murder', 7177.55), ('years', 5828.17)]\n",
      "Topic 10: [('election', 9987.75), ('news', 8582.48), ('kill', 6939.16), ('world', 6872.76), ('school', 6214.29)]\n"
     ]
    },
    {
     "name": "stderr",
     "output_type": "stream",
     "text": [
      "C:\\Users\\vmuser\\AppData\\Roaming\\Python\\Python310\\site-packages\\sklearn\\utils\\deprecation.py:87: FutureWarning: Function get_feature_names is deprecated; get_feature_names is deprecated in 1.0 and will be removed in 1.2. Please use get_feature_names_out instead.\n",
      "  warnings.warn(msg, category=FutureWarning)\n"
     ]
    }
   ],
   "source": [
    "# 단어 집합. 1,000개의 단어가 저장됨.\n",
    "terms = vectorizer.get_feature_names()\n",
    "\n",
    "def get_topics(components, feature_names, n=5):\n",
    "    for idx, topic in enumerate(components):\n",
    "        print(\"Topic %d:\" % (idx+1), [(feature_names[i], topic[i].round(2)) for i in topic.argsort()[:-n - 1:-1]])\n",
    "\n",
    "get_topics(lda_model.components_,terms)"
   ]
  },
  {
   "cell_type": "code",
   "execution_count": 133,
   "metadata": {},
   "outputs": [
    {
     "name": "stderr",
     "output_type": "stream",
     "text": [
      "C:\\Users\\vmuser\\AppData\\Roaming\\Python\\Python310\\site-packages\\pyLDAvis\\_prepare.py:247: FutureWarning: In a future version of pandas all arguments of DataFrame.drop except for the argument 'labels' will be keyword-only.\n",
      "  by='saliency', ascending=False).head(R).drop('saliency', 1)\n"
     ]
    },
    {
     "data": {
      "text/html": [
       "\n",
       "<link rel=\"stylesheet\" type=\"text/css\" href=\"https://cdn.jsdelivr.net/gh/bmabey/pyLDAvis@3.3.1/pyLDAvis/js/ldavis.v1.0.0.css\">\n",
       "\n",
       "\n",
       "<div id=\"ldavis_el887625290979769609850577985\"></div>\n",
       "<script type=\"text/javascript\">\n",
       "\n",
       "var ldavis_el887625290979769609850577985_data = {\"mdsDat\": {\"x\": [0.03579989776776732, 0.24902547816146872, 0.26598493034828646, -0.1047201583226866, -0.18311502526425993, 0.018535431064244268, 0.027655434494644398, -0.20076015849910936, 0.04110688547109532, -0.14951271522145054], \"y\": [-0.18271876323389485, 0.17992378894228814, 0.16320922203589888, 0.0056115165244537595, 0.14402795679083474, -0.1899572843043196, -0.09927724208568964, 0.10444996963999603, -0.24240744964164665, 0.11713828533207872], \"topics\": [1, 2, 3, 4, 5, 6, 7, 8, 9, 10], \"cluster\": [1, 1, 1, 1, 1, 1, 1, 1, 1, 1], \"Freq\": [10.980874793996733, 10.943603364371896, 10.562281017403368, 10.08809938722435, 9.8600760120006, 9.756543675580913, 9.717016009165489, 9.427268032402871, 9.332936011883003, 9.331301695970769]}, \"tinfo\": {\"Term\": [\"coronavirus\", \"australia\", \"covid\", \"trump\", \"australian\", \"police\", \"queensland\", \"case\", \"donald\", \"government\", \"sydney\", \"election\", \"charge\", \"court\", \"live\", \"victoria\", \"news\", \"melbourne\", \"murder\", \"health\", \"tasmania\", \"record\", \"border\", \"state\", \"open\", \"kill\", \"coast\", \"world\", \"restrictions\", \"report\", \"queensland\", \"sydney\", \"melbourne\", \"change\", \"crash\", \"year\", \"brisbane\", \"morrison\", \"protest\", \"island\", \"dead\", \"child\", \"game\", \"rule\", \"beach\", \"drug\", \"monday\", \"students\", \"turn\", \"wednesday\", \"hong\", \"lead\", \"history\", \"star\", \"weather\", \"launch\", \"investigation\", \"head\", \"free\", \"india\", \"trump\", \"police\", \"home\", \"test\", \"market\", \"house\", \"family\", \"indigenous\", \"life\", \"jail\", \"finance\", \"royal\", \"talk\", \"high\", \"bank\", \"australians\", \"beat\", \"price\", \"power\", \"christmas\", \"want\", \"baby\", \"officer\", \"race\", \"young\", \"trade\", \"residents\", \"share\", \"centre\", \"campaign\", \"election\", \"news\", \"kill\", \"world\", \"school\", \"make\", \"adelaide\", \"labor\", \"australias\", \"tell\", \"budget\", \"premier\", \"allege\", \"workers\", \"meet\", \"vote\", \"season\", \"country\", \"service\", \"extend\", \"black\", \"support\", \"build\", \"force\", \"bushfires\", \"party\", \"mark\", \"league\", \"emergency\", \"river\", \"care\", \"case\", \"charge\", \"court\", \"murder\", \"years\", \"attack\", \"face\", \"bushfire\", \"trial\", \"sentence\", \"break\", \"regional\", \"climate\", \"abuse\", \"need\", \"aboriginal\", \"inquiry\", \"body\", \"issue\", \"green\", \"cost\", \"stab\", \"drop\", \"cancer\", \"delay\", \"ease\", \"like\", \"energy\", \"light\", \"start\", \"government\", \"record\", \"border\", \"help\", \"people\", \"north\", \"fight\", \"national\", \"final\", \"business\", \"close\", \"guilty\", \"commission\", \"west\", \"president\", \"train\", \"deal\", \"risk\", \"flood\", \"road\", \"mother\", \"continue\", \"fish\", \"group\", \"despite\", \"plead\", \"catch\", \"tree\", \"university\", \"study\", \"fund\", \"state\", \"open\", \"coast\", \"restrictions\", \"woman\", \"warn\", \"miss\", \"women\", \"water\", \"tasmanian\", \"gold\", \"claim\", \"hear\", \"travel\", \"storm\", \"friday\", \"search\", \"public\", \"question\", \"northern\", \"play\", \"grow\", \"join\", \"russia\", \"east\", \"urge\", \"super\", \"protesters\", \"economy\", \"challenge\", \"australia\", \"australian\", \"leave\", \"speak\", \"perth\", \"work\", \"interview\", \"announce\", \"community\", \"assault\", \"children\", \"michael\", \"hotel\", \"wall\", \"video\", \"david\", \"cricket\", \"port\", \"city\", \"doctor\", \"sexual\", \"social\", \"crisis\", \"george\", \"investigate\", \"film\", \"hold\", \"battle\", \"steal\", \"international\", \"donald\", \"live\", \"federal\", \"rise\", \"victorian\", \"drum\", \"release\", \"farm\", \"street\", \"save\", \"park\", \"review\", \"program\", \"look\", \"peter\", \"violence\", \"bring\", \"media\", \"land\", \"future\", \"food\", \"grand\", \"award\", \"debate\", \"turnbull\", \"tourism\", \"mount\", \"victims\", \"domestic\", \"send\", \"council\", \"victoria\", \"china\", \"death\", \"south\", \"canberra\", \"shoot\", \"scott\", \"return\", \"lose\", \"amid\", \"fall\", \"chinese\", \"john\", \"fear\", \"tuesday\", \"drought\", \"million\", \"rain\", \"outback\", \"number\", \"johnson\", \"company\", \"appeal\", \"club\", \"post\", \"increase\", \"inquest\", \"long\", \"facebook\", \"track\", \"coronavirus\", \"covid\", \"health\", \"tasmania\", \"report\", \"plan\", \"time\", \"arrest\", \"minister\", \"accuse\", \"hospital\", \"darwin\", \"update\", \"farmers\", \"concern\", \"reveal\", \"rescue\", \"industry\", \"thursday\", \"second\", \"rural\", \"parliament\", \"sport\", \"zealand\", \"near\", \"deaths\", \"mental\", \"drive\", \"town\", \"latest\", \"result\", \"ahead\"], \"Freq\": [34211.0, 18264.0, 13897.0, 13839.0, 12537.0, 12122.0, 11029.0, 10325.0, 9164.0, 9285.0, 9354.0, 9192.0, 8541.0, 8347.0, 7951.0, 7684.0, 7899.0, 7604.0, 7309.0, 6795.0, 6573.0, 6453.0, 6447.0, 6201.0, 6189.0, 6387.0, 6129.0, 6325.0, 6074.0, 5958.0, 11028.23397486881, 9353.945553213569, 7603.536651413102, 6204.802906595074, 5256.841852763531, 5220.142551081965, 4251.18486064218, 3964.295705199031, 3944.4770587474623, 3647.2581724584043, 3642.260743294929, 3203.0261480043496, 3031.937131454941, 2911.0084050367404, 2898.0061041462222, 2829.2530814922447, 2597.024771346729, 2596.214949783488, 2563.1340869474275, 2459.4320615769257, 2407.7428784807507, 2314.562826199181, 2314.366341465496, 2299.4736427395524, 2296.5518728082047, 2232.4225103716044, 2199.2332388318855, 2167.2382873197466, 2149.577930667173, 2127.626994913486, 13838.185127823614, 12121.839542778314, 6367.804399535735, 6300.4703130122125, 5680.995980064235, 5516.984738210399, 4607.883542240829, 4200.30490401815, 4140.961493840941, 4057.433113468587, 3707.0148216607836, 3627.532226821066, 3270.889504452977, 3245.7687402603256, 3031.4199614997015, 2980.097681059035, 2968.0971250956536, 2890.8434354011706, 2885.136227940823, 2772.1708685381373, 2649.188051486001, 2635.4537447875405, 2632.0281464036125, 2508.1338057626986, 2503.7173199851914, 2459.068562518627, 2346.6147335760866, 2305.3161737498745, 2300.504115927008, 2269.5428242064613, 9191.871986120872, 7898.585845874208, 6386.209590458396, 6325.105832052329, 5719.099608912685, 5621.583801844482, 5613.614526604799, 3620.8479584346715, 3474.0481865794527, 3352.058579150572, 3277.248997571334, 3197.878280943978, 3118.677901772498, 3094.4370208617997, 3044.728520331696, 3024.139000191198, 3011.0696165340314, 2965.2490290422975, 2859.657299521473, 2782.9520276835483, 2775.6869787498767, 2725.8453645754075, 2665.6306639154955, 2663.5062683885385, 2613.8492340449025, 2552.336372790334, 2551.5225788181665, 2534.768983792621, 2304.326772551781, 2270.19333231713, 2481.082931636238, 10324.775340215892, 8540.55428305487, 8346.177713944659, 7309.1461537068635, 5935.029295864981, 5934.565730047391, 5800.197163348658, 5462.463548514794, 4664.906144346036, 4529.2801724537, 3939.919208040466, 3653.2044084884583, 3584.010616718714, 3452.844222218498, 3406.955011348796, 2866.5399751438854, 2832.6996560493644, 2699.5701657142836, 2435.1887438224335, 2376.19702456945, 2344.4501856849615, 2299.798578219648, 2244.793972760166, 2217.8893720258684, 2191.6273204221116, 2185.6361453740656, 2180.517948121197, 2114.14851249371, 2036.4044676868505, 2026.5232063540257, 9285.10648132187, 6452.194177769609, 6446.383118600753, 5868.671857436472, 5680.024732109102, 4975.90800617284, 4495.150224804437, 4423.273633533468, 3851.9060861695266, 3791.486453809306, 3776.5797325731783, 3695.91131684221, 3590.8722513017606, 3562.3791345313057, 3473.461340843889, 3281.0913300464076, 3116.0767558001803, 3087.8454983913734, 3040.7462469453008, 2611.610320384263, 2525.3496227058595, 2461.9190312355863, 2052.3357569019986, 1972.3182328125715, 1941.3344805502002, 1927.6879758333191, 1915.3064000699978, 1913.0005429501157, 1898.6777387492027, 1886.6404393264822, 2354.402750667026, 6201.149221293287, 6188.764195411262, 6128.719470805893, 6073.975234389141, 6033.668446102156, 5446.083779308816, 4818.797289159746, 4725.672373180947, 4332.20874220407, 4080.141961657938, 4011.645774039348, 3655.4290435489065, 3568.3453080225117, 3376.302493067053, 3247.53189619394, 3242.2239491474065, 3218.3026043307405, 2975.2803743705986, 2881.013453597733, 2764.857685360257, 2401.0688848218288, 2326.8026877696248, 2247.032939547855, 2214.273969084195, 2196.560530624071, 2166.0429986472054, 2094.001494114189, 2090.6414097879046, 2071.11221982234, 2065.4863447613743, 18263.877848747266, 12536.534721450906, 4652.766363809456, 4572.437871425557, 4443.518995583808, 4293.166051059264, 4125.502898539253, 3483.26982172409, 3262.837670424023, 3226.7889056134636, 3133.29569104635, 2962.0782172235718, 2923.734663619408, 2868.6220537648423, 2855.900403431046, 2621.6784500564354, 2559.1555428643987, 2479.6859761741434, 2476.0501300652886, 2438.5910980803565, 2412.3150698660593, 2397.588525702654, 2373.8499227440984, 2358.1752371756525, 2319.705406432126, 2145.2026015674683, 2094.858705747322, 2034.722098600723, 2028.0402564801327, 2008.8711180650275, 9163.256836623948, 7950.628870735622, 4737.266856663614, 4655.799678846053, 4592.4959377193545, 4309.773802618386, 3738.1387399921023, 3643.036825690489, 3371.478067323523, 3356.8418597306027, 3270.005201252721, 3247.9308655464915, 3243.906576285875, 2977.891688704768, 2688.5086808224137, 2630.428746034703, 2591.4672663912243, 2582.7190357198833, 2550.923298231857, 2498.6857205721735, 2494.533699358815, 2305.4065146274897, 2195.772031952709, 2159.823181722927, 2119.628127466339, 2091.7789180034565, 1967.52206126511, 1963.4009789192405, 1925.1096041048045, 1871.4065379419342, 2489.356949854337, 7683.272551089532, 5931.342960185456, 5096.422064522716, 4971.578355908201, 4368.426530727185, 3770.49908378323, 3145.2828140992137, 3066.5221667534665, 2809.086376468719, 2652.096062093813, 2481.6952297839875, 2363.610155473943, 2329.2199455393743, 2204.228036290453, 2156.4723591140682, 2118.0869646195483, 2108.460856208978, 1704.980672849253, 1631.4864451654205, 1607.40417591667, 1587.0706713521954, 1586.023243624415, 1583.492226995343, 1570.8266299389645, 1563.9094527371542, 1562.5748157393682, 1523.3440320853497, 1484.320909560242, 1454.4696742289875, 1414.7773082957376, 34089.50709224725, 13866.712402863493, 6794.702292591302, 6572.418478190241, 5957.310412864804, 5173.302515748959, 5076.967805668007, 5046.521860974185, 4884.527605130613, 4413.012185391714, 4311.790618907929, 3777.5824838437165, 3760.07865898491, 3715.6149603445574, 3708.749798599154, 3503.735825544048, 3421.2214678902574, 3245.9261457871676, 3158.247208338324, 3143.354604171027, 3102.568598963579, 3096.2793534736124, 2914.153171629006, 2856.8060161768285, 2823.805945760637, 2750.1904010153835, 2712.371803966833, 2444.817129796837, 2437.0409188598187, 2414.4677218402303, 2336.199260514686, 2320.8731953496913], \"Total\": [34211.0, 18264.0, 13897.0, 13839.0, 12537.0, 12122.0, 11029.0, 10325.0, 9164.0, 9285.0, 9354.0, 9192.0, 8541.0, 8347.0, 7951.0, 7684.0, 7899.0, 7604.0, 7309.0, 6795.0, 6573.0, 6453.0, 6447.0, 6201.0, 6189.0, 6387.0, 6129.0, 6325.0, 6074.0, 5958.0, 11029.090797913768, 9354.802347476769, 7604.393448965722, 6205.659712480813, 5257.6986133610735, 5220.99931692934, 4252.041630926374, 3965.1525292232877, 3945.3338443679004, 3648.1149401110206, 3643.1174956531963, 3203.882936959432, 3032.7938804128185, 2911.865186537579, 2898.862872582107, 2830.109854460802, 2597.8815022646677, 2597.0717173707226, 2563.9908301496203, 2460.288787643636, 2408.5996393449414, 2315.4195919972744, 2315.223083222036, 2300.3303801587585, 2297.40865164364, 2233.2792691933887, 2200.089994421469, 2168.0950388395277, 2150.434689098913, 2128.4837805174966, 13839.040361337959, 12122.694827038142, 6368.659600460325, 6301.325531883629, 5681.851148431758, 5517.839927724414, 4608.738737479755, 4201.160096183928, 4141.8166677403415, 4058.288308359625, 3707.8699957437007, 3628.387418208967, 3271.7446610224943, 3246.623952365154, 3032.275133966513, 2980.952864395845, 2968.952323084482, 2891.698601482934, 2885.9914072469983, 2773.026067039752, 2650.043234704147, 2636.3089223014, 2632.8833170601106, 2508.988981324555, 2504.572493016509, 2459.923756342259, 2347.4699308841505, 2306.171334915361, 2301.359302461137, 2270.3980013994915, 9192.7221730847, 7899.43602590193, 6387.059785922596, 6325.955982311123, 5719.949804174382, 5622.433955986427, 5614.464697260791, 3621.698108073962, 3474.898328932814, 3352.9087621675826, 3278.0991706501745, 3198.7284511015587, 3119.528090171568, 3095.28719177616, 3045.5786659591104, 3024.9891458687284, 3011.919785792465, 2966.0991604686687, 2860.5074737484997, 2783.8021639568365, 2776.5371520149442, 2726.6955376157325, 2666.4808187567082, 2664.356432056171, 2614.6994234136996, 2553.1865254387344, 2552.3727191257667, 2535.6191201035954, 2305.17694360431, 2271.0434821374984, 3766.728052550395, 10325.615764567023, 8541.3946356272, 8347.018083238354, 7309.98649098707, 5935.869636308348, 5935.406084772623, 5801.037528634217, 5463.303937707112, 4665.746490097865, 4530.120504963866, 3940.7595536692256, 3654.0447823339, 3584.8509771659647, 3453.6845758167724, 3407.79535873997, 2867.380322497457, 2833.5400229124125, 2700.4104988456797, 2436.0290979000133, 2377.037367707556, 2345.2905377273323, 2300.638911083988, 2245.6343144145712, 2218.729703024411, 2192.4676810588376, 2186.476564131687, 2181.3582822028316, 2114.988845572504, 2037.2448071198048, 2027.363549328609, 9285.94763351348, 6453.035346373782, 6447.224333721815, 5869.512997159082, 5680.865858940995, 4976.749138904909, 4495.9913491705, 4424.114770667699, 3852.747222481061, 3792.3275748399346, 3777.420862729888, 3696.7524255455482, 3591.713395600449, 3563.2202594436985, 3474.3024616604594, 3281.932448971641, 3116.9178829944176, 3088.6866292101618, 3041.5873814619385, 2612.4514394757657, 2526.190737969611, 2462.7601633669324, 2053.176874108589, 1973.1593543644785, 1942.1756144575927, 1928.529062124225, 1916.1475059583138, 1913.8416580354585, 1899.5188516489586, 1887.4815483298762, 3593.6256532305024, 6201.989543676028, 6189.604499185389, 6129.559758700051, 6074.81562717486, 6034.508757031527, 5446.924095242252, 4819.637577235246, 4726.512657932706, 4333.049043356207, 4080.9822413776133, 4012.486042197221, 3656.2693423172504, 3569.1856173325323, 3377.142807653425, 3248.372182233513, 3243.0642249057, 3219.142880540358, 2976.1206818733467, 2881.853745860586, 2765.697987001711, 2401.9091646744487, 2327.642968034908, 2247.873211745112, 2215.1142473310265, 2197.400827716337, 2166.8833044220146, 2094.8417758343703, 2091.4817051719015, 2071.952519457084, 2066.326629613418, 18264.725736871173, 12537.382568728026, 4653.614201111131, 4573.285681902796, 4444.366823163946, 4294.013885142883, 4126.350691520475, 3484.1176606263407, 3263.6855131932675, 3227.6367319179603, 3134.143515946508, 2962.9260311727935, 2924.5825258627633, 2869.46991880102, 2856.748215481035, 2622.5262552485406, 2560.0033486852967, 2480.5338036626026, 2476.897952815918, 2439.4389321147237, 2413.1628837613857, 2398.4363641960495, 2374.6977641139138, 2359.0230572297673, 2320.5532415318353, 2146.0504119068073, 2095.706523326415, 2035.5699099936064, 2028.8880755899459, 2009.7189399967926, 9164.098508130453, 7951.4705503540545, 4738.10852363507, 4656.641343633501, 4593.337606482358, 4310.61544120895, 3738.980384738765, 3643.878461912639, 3372.3197203459645, 3357.6834985855494, 3270.8468503347376, 3248.7725006578444, 3244.7482035199314, 2978.733324405814, 2689.3503112494773, 2631.2703643431314, 2592.3089038451194, 2583.5606814359794, 2551.7649430658134, 2499.52735178255, 2495.375326742445, 2306.2481599920225, 2196.6136507303736, 2160.6648037537275, 2120.469735420685, 2092.6205884639185, 1968.3636881499083, 1964.2426232929797, 1925.951212881821, 1872.2481767015956, 3098.2579424487467, 7684.14381252076, 5932.214205293746, 5097.293302239113, 4972.449604892069, 4369.297755119185, 3771.370303825808, 3146.1540619085345, 3067.3933941182104, 2809.9575986026935, 2652.967303079599, 2482.566448942313, 2364.4813761629002, 2330.091152769342, 2205.0992624085206, 2157.343554788655, 2118.9581818750917, 2109.332070728532, 1705.8519170892146, 1632.3576548379647, 1608.2753851312193, 1587.9418804565298, 1586.8944540468713, 1584.3634482839045, 1571.6978455337264, 1564.7806665086143, 1563.4460301759266, 1524.2152449031257, 1485.1921240892561, 1455.3408760361203, 1415.6485213444107, 34211.88359866734, 13897.251958517738, 6795.537476043882, 6573.253648528425, 5958.1456063355445, 5174.137718858127, 5077.802976269485, 5047.3570417817655, 4885.362781149233, 4413.84737476603, 4312.62579787331, 3778.4176529232527, 3760.913866695667, 3716.450140304551, 3709.584973781958, 3504.570986363399, 3422.0566350649915, 3246.7613174276435, 3159.0823564829943, 3144.1897826850586, 3103.4037370469186, 3097.114511676912, 2914.9883361171483, 2857.6411842351663, 2824.6411160021357, 2751.0255960038808, 2713.206942707371, 2445.6522983549858, 2437.8760825655204, 2415.3029072925683, 2337.034424234046, 2321.7083685195166], \"Category\": [\"Default\", \"Default\", \"Default\", \"Default\", \"Default\", \"Default\", \"Default\", \"Default\", \"Default\", \"Default\", \"Default\", \"Default\", \"Default\", \"Default\", \"Default\", \"Default\", \"Default\", \"Default\", \"Default\", \"Default\", \"Default\", \"Default\", \"Default\", \"Default\", \"Default\", \"Default\", \"Default\", \"Default\", \"Default\", \"Default\", \"Topic1\", \"Topic1\", \"Topic1\", \"Topic1\", \"Topic1\", \"Topic1\", \"Topic1\", \"Topic1\", \"Topic1\", \"Topic1\", \"Topic1\", \"Topic1\", \"Topic1\", \"Topic1\", \"Topic1\", \"Topic1\", \"Topic1\", \"Topic1\", \"Topic1\", \"Topic1\", \"Topic1\", \"Topic1\", \"Topic1\", \"Topic1\", \"Topic1\", \"Topic1\", \"Topic1\", \"Topic1\", \"Topic1\", \"Topic1\", \"Topic2\", \"Topic2\", \"Topic2\", \"Topic2\", \"Topic2\", \"Topic2\", \"Topic2\", \"Topic2\", \"Topic2\", \"Topic2\", \"Topic2\", \"Topic2\", \"Topic2\", \"Topic2\", \"Topic2\", \"Topic2\", \"Topic2\", \"Topic2\", \"Topic2\", \"Topic2\", \"Topic2\", \"Topic2\", \"Topic2\", \"Topic2\", \"Topic2\", \"Topic2\", \"Topic2\", \"Topic2\", \"Topic2\", \"Topic2\", \"Topic3\", \"Topic3\", \"Topic3\", \"Topic3\", \"Topic3\", \"Topic3\", \"Topic3\", \"Topic3\", \"Topic3\", \"Topic3\", \"Topic3\", \"Topic3\", \"Topic3\", \"Topic3\", \"Topic3\", \"Topic3\", \"Topic3\", \"Topic3\", \"Topic3\", \"Topic3\", \"Topic3\", \"Topic3\", \"Topic3\", \"Topic3\", \"Topic3\", \"Topic3\", \"Topic3\", \"Topic3\", \"Topic3\", \"Topic3\", \"Topic3\", \"Topic4\", \"Topic4\", \"Topic4\", \"Topic4\", \"Topic4\", \"Topic4\", \"Topic4\", \"Topic4\", \"Topic4\", \"Topic4\", \"Topic4\", \"Topic4\", \"Topic4\", \"Topic4\", \"Topic4\", \"Topic4\", \"Topic4\", \"Topic4\", \"Topic4\", \"Topic4\", \"Topic4\", \"Topic4\", \"Topic4\", \"Topic4\", \"Topic4\", \"Topic4\", \"Topic4\", \"Topic4\", \"Topic4\", \"Topic4\", \"Topic5\", \"Topic5\", \"Topic5\", \"Topic5\", \"Topic5\", \"Topic5\", \"Topic5\", \"Topic5\", \"Topic5\", \"Topic5\", \"Topic5\", \"Topic5\", \"Topic5\", \"Topic5\", \"Topic5\", \"Topic5\", \"Topic5\", \"Topic5\", \"Topic5\", \"Topic5\", \"Topic5\", \"Topic5\", \"Topic5\", \"Topic5\", \"Topic5\", \"Topic5\", \"Topic5\", \"Topic5\", \"Topic5\", \"Topic5\", \"Topic5\", \"Topic6\", \"Topic6\", \"Topic6\", \"Topic6\", \"Topic6\", \"Topic6\", \"Topic6\", \"Topic6\", \"Topic6\", \"Topic6\", \"Topic6\", \"Topic6\", \"Topic6\", \"Topic6\", \"Topic6\", \"Topic6\", \"Topic6\", \"Topic6\", \"Topic6\", \"Topic6\", \"Topic6\", \"Topic6\", \"Topic6\", \"Topic6\", \"Topic6\", \"Topic6\", \"Topic6\", \"Topic6\", \"Topic6\", \"Topic6\", \"Topic7\", \"Topic7\", \"Topic7\", \"Topic7\", \"Topic7\", \"Topic7\", \"Topic7\", \"Topic7\", \"Topic7\", \"Topic7\", \"Topic7\", \"Topic7\", \"Topic7\", \"Topic7\", \"Topic7\", \"Topic7\", \"Topic7\", \"Topic7\", \"Topic7\", \"Topic7\", \"Topic7\", \"Topic7\", \"Topic7\", \"Topic7\", \"Topic7\", \"Topic7\", \"Topic7\", \"Topic7\", \"Topic7\", \"Topic7\", \"Topic8\", \"Topic8\", \"Topic8\", \"Topic8\", \"Topic8\", \"Topic8\", \"Topic8\", \"Topic8\", \"Topic8\", \"Topic8\", \"Topic8\", \"Topic8\", \"Topic8\", \"Topic8\", \"Topic8\", \"Topic8\", \"Topic8\", \"Topic8\", \"Topic8\", \"Topic8\", \"Topic8\", \"Topic8\", \"Topic8\", \"Topic8\", \"Topic8\", \"Topic8\", \"Topic8\", \"Topic8\", \"Topic8\", \"Topic8\", \"Topic8\", \"Topic9\", \"Topic9\", \"Topic9\", \"Topic9\", \"Topic9\", \"Topic9\", \"Topic9\", \"Topic9\", \"Topic9\", \"Topic9\", \"Topic9\", \"Topic9\", \"Topic9\", \"Topic9\", \"Topic9\", \"Topic9\", \"Topic9\", \"Topic9\", \"Topic9\", \"Topic9\", \"Topic9\", \"Topic9\", \"Topic9\", \"Topic9\", \"Topic9\", \"Topic9\", \"Topic9\", \"Topic9\", \"Topic9\", \"Topic9\", \"Topic9\", \"Topic9\", \"Topic10\", \"Topic10\", \"Topic10\", \"Topic10\", \"Topic10\", \"Topic10\", \"Topic10\", \"Topic10\", \"Topic10\", \"Topic10\", \"Topic10\", \"Topic10\", \"Topic10\", \"Topic10\", \"Topic10\", \"Topic10\", \"Topic10\", \"Topic10\", \"Topic10\", \"Topic10\", \"Topic10\", \"Topic10\", \"Topic10\", \"Topic10\", \"Topic10\", \"Topic10\", \"Topic10\", \"Topic10\", \"Topic10\", \"Topic10\"], \"logprob\": [30.0, 29.0, 28.0, 27.0, 26.0, 25.0, 24.0, 23.0, 22.0, 21.0, 20.0, 19.0, 18.0, 17.0, 16.0, 15.0, 14.0, 13.0, 12.0, 11.0, 10.0, 9.0, 8.0, 7.0, 6.0, 5.0, 4.0, 3.0, 2.0, 1.0, -2.9238, -3.0885, -3.2957, -3.499, -3.6648, -3.6718, -3.8771, -3.947, -3.952, -4.0303, -4.0317, -4.1602, -4.2151, -4.2558, -4.2603, -4.2843, -4.3699, -4.3702, -4.3831, -4.4244, -4.4456, -4.4851, -4.4852, -4.4916, -4.4929, -4.5212, -4.5362, -4.5508, -4.559, -4.5693, -2.6935, -2.8259, -3.4696, -3.4803, -3.5838, -3.6131, -3.7931, -3.8857, -3.9, -3.9203, -4.0107, -4.0323, -4.1358, -4.1435, -4.2119, -4.2289, -4.233, -4.2593, -4.2613, -4.3013, -4.3466, -4.3518, -4.3531, -4.4013, -4.4031, -4.4211, -4.4679, -4.4857, -4.4878, -4.5013, -3.0671, -3.2187, -3.4313, -3.4409, -3.5416, -3.5588, -3.5602, -3.9987, -4.0401, -4.0758, -4.0984, -4.1229, -4.148, -4.1558, -4.172, -4.1788, -4.1831, -4.1985, -4.2347, -4.2619, -4.2645, -4.2826, -4.305, -4.3058, -4.3246, -4.3484, -4.3487, -4.3553, -4.4506, -4.4656, -4.3767, -2.9049, -3.0947, -3.1177, -3.2504, -3.4586, -3.4587, -3.4816, -3.5416, -3.6994, -3.7289, -3.8683, -3.9439, -3.963, -4.0003, -4.0137, -4.1864, -4.1983, -4.2464, -4.3495, -4.374, -4.3874, -4.4067, -4.4309, -4.4429, -4.4548, -4.4576, -4.4599, -4.4908, -4.5283, -4.5332, -2.9882, -3.3522, -3.3531, -3.447, -3.4797, -3.612, -3.7136, -3.7297, -3.8681, -3.8839, -3.8878, -3.9094, -3.9382, -3.9462, -3.9715, -4.0285, -4.0801, -4.0892, -4.1045, -4.2567, -4.2902, -4.3157, -4.4976, -4.5374, -4.5533, -4.5603, -4.5667, -4.568, -4.5755, -4.5818, -4.3603, -3.3813, -3.3833, -3.3931, -3.4021, -3.4087, -3.5112, -3.6335, -3.6531, -3.74, -3.7999, -3.8169, -3.9099, -3.934, -3.9893, -4.0282, -4.0298, -4.0372, -4.1157, -4.1479, -4.1891, -4.3302, -4.3616, -4.3965, -4.4111, -4.4192, -4.4332, -4.467, -4.4686, -4.478, -4.4807, -2.2971, -2.6734, -3.6645, -3.682, -3.7106, -3.745, -3.7848, -3.954, -4.0194, -4.0305, -4.0599, -4.1161, -4.1291, -4.1482, -4.1526, -4.2382, -4.2623, -4.2939, -4.2953, -4.3106, -4.3214, -4.3275, -4.3375, -4.3441, -4.3606, -4.4388, -4.4625, -4.4917, -4.4949, -4.5044, -2.9565, -3.0985, -3.6163, -3.6336, -3.6473, -3.7109, -3.8532, -3.8789, -3.9564, -3.9607, -3.9869, -3.9937, -3.995, -4.0805, -4.1828, -4.2046, -4.2195, -4.2229, -4.2353, -4.256, -4.2576, -4.3365, -4.3852, -4.4017, -4.4205, -4.4337, -4.495, -4.4971, -4.5168, -4.545, -4.2597, -3.1226, -3.3814, -3.5331, -3.5579, -3.6873, -3.8345, -4.0158, -4.0411, -4.1288, -4.1863, -4.2527, -4.3015, -4.3161, -4.3713, -4.3932, -4.4112, -4.4157, -4.6281, -4.6722, -4.6871, -4.6998, -4.7005, -4.7021, -4.7101, -4.7145, -4.7153, -4.7408, -4.7667, -4.787, -4.8147, -1.6327, -2.5322, -3.2454, -3.2786, -3.3769, -3.518, -3.5368, -3.5428, -3.5754, -3.677, -3.7002, -3.8324, -3.8371, -3.849, -3.8508, -3.9077, -3.9315, -3.9841, -4.0115, -4.0162, -4.0293, -4.0313, -4.0919, -4.1118, -4.1234, -4.1498, -4.1637, -4.2675, -4.2707, -4.28, -4.313, -4.3196], \"loglift\": [30.0, 29.0, 28.0, 27.0, 26.0, 25.0, 24.0, 23.0, 22.0, 21.0, 20.0, 19.0, 18.0, 17.0, 16.0, 15.0, 14.0, 13.0, 12.0, 11.0, 10.0, 9.0, 8.0, 7.0, 6.0, 5.0, 4.0, 3.0, 2.0, 1.0, 2.2089, 2.2089, 2.2089, 2.2089, 2.2089, 2.2089, 2.2088, 2.2088, 2.2088, 2.2088, 2.2088, 2.2087, 2.2087, 2.2087, 2.2087, 2.2087, 2.2087, 2.2087, 2.2087, 2.2087, 2.2087, 2.2086, 2.2086, 2.2086, 2.2086, 2.2086, 2.2086, 2.2086, 2.2086, 2.2086, 2.2124, 2.2123, 2.2123, 2.2123, 2.2123, 2.2123, 2.2122, 2.2122, 2.2122, 2.2122, 2.2122, 2.2122, 2.2122, 2.2122, 2.2121, 2.2121, 2.2121, 2.2121, 2.2121, 2.2121, 2.2121, 2.2121, 2.2121, 2.2121, 2.2121, 2.2121, 2.2121, 2.212, 2.212, 2.212, 2.2478, 2.2478, 2.2477, 2.2477, 2.2477, 2.2477, 2.2477, 2.2476, 2.2476, 2.2476, 2.2476, 2.2476, 2.2476, 2.2476, 2.2476, 2.2476, 2.2476, 2.2476, 2.2476, 2.2476, 2.2476, 2.2476, 2.2476, 2.2476, 2.2476, 2.2475, 2.2475, 2.2475, 2.2475, 2.2475, 1.8304, 2.2937, 2.2937, 2.2937, 2.2937, 2.2937, 2.2937, 2.2937, 2.2937, 2.2936, 2.2936, 2.2936, 2.2936, 2.2936, 2.2936, 2.2936, 2.2935, 2.2935, 2.2935, 2.2935, 2.2935, 2.2935, 2.2934, 2.2934, 2.2934, 2.2934, 2.2934, 2.2934, 2.2934, 2.2934, 2.2934, 2.3166, 2.3165, 2.3165, 2.3165, 2.3165, 2.3165, 2.3165, 2.3165, 2.3165, 2.3165, 2.3165, 2.3164, 2.3164, 2.3164, 2.3164, 2.3164, 2.3164, 2.3164, 2.3164, 2.3164, 2.3163, 2.3163, 2.3163, 2.3162, 2.3162, 2.3162, 2.3162, 2.3162, 2.3162, 2.3162, 1.8938, 2.3271, 2.3271, 2.3271, 2.3271, 2.3271, 2.3271, 2.3271, 2.3271, 2.327, 2.327, 2.327, 2.327, 2.327, 2.327, 2.327, 2.327, 2.327, 2.3269, 2.3269, 2.3269, 2.3269, 2.3269, 2.3269, 2.3269, 2.3268, 2.3268, 2.3268, 2.3268, 2.3268, 2.3268, 2.3312, 2.3312, 2.3311, 2.3311, 2.3311, 2.3311, 2.3311, 2.331, 2.331, 2.331, 2.331, 2.331, 2.331, 2.331, 2.331, 2.331, 2.331, 2.3309, 2.3309, 2.3309, 2.3309, 2.3309, 2.3309, 2.3309, 2.3309, 2.3309, 2.3309, 2.3309, 2.3309, 2.3309, 2.3615, 2.3615, 2.3614, 2.3614, 2.3614, 2.3614, 2.3613, 2.3613, 2.3613, 2.3613, 2.3613, 2.3613, 2.3613, 2.3613, 2.3613, 2.3612, 2.3612, 2.3612, 2.3612, 2.3612, 2.3612, 2.3612, 2.3612, 2.3612, 2.3612, 2.3612, 2.3611, 2.3611, 2.3611, 2.3611, 2.1427, 2.3715, 2.3715, 2.3714, 2.3714, 2.3714, 2.3714, 2.3713, 2.3713, 2.3713, 2.3713, 2.3713, 2.3713, 2.3712, 2.3712, 2.3712, 2.3712, 2.3712, 2.3711, 2.3711, 2.3711, 2.3711, 2.3711, 2.3711, 2.3711, 2.3711, 2.3711, 2.371, 2.371, 2.371, 2.371, 2.368, 2.3694, 2.3717, 2.3717, 2.3717, 2.3716, 2.3716, 2.3716, 2.3716, 2.3716, 2.3716, 2.3716, 2.3716, 2.3716, 2.3716, 2.3716, 2.3716, 2.3715, 2.3715, 2.3715, 2.3715, 2.3715, 2.3715, 2.3715, 2.3715, 2.3715, 2.3715, 2.3715, 2.3715, 2.3714, 2.3714, 2.3714]}, \"token.table\": {\"Topic\": [4, 4, 10, 3, 10, 3, 9, 7, 9, 10, 7, 4, 7, 7, 2, 3, 8, 2, 2, 7, 1, 2, 3, 4, 5, 4, 8, 1, 3, 3, 4, 3, 5, 2, 9, 4, 2, 3, 4, 5, 2, 6, 1, 4, 1, 7, 9, 9, 2, 7, 6, 4, 5, 9, 6, 5, 7, 9, 10, 5, 1, 6, 9, 4, 4, 8, 3, 4, 6, 9, 1, 7, 7, 10, 7, 1, 5, 9, 10, 8, 4, 5, 7, 8, 8, 10, 4, 9, 1, 8, 4, 6, 6, 3, 3, 4, 3, 4, 9, 9, 2, 8, 10, 9, 8, 5, 7, 5, 2, 5, 5, 8, 3, 1, 6, 2, 5, 8, 10, 8, 1, 7, 6, 5, 8, 4, 5, 6, 5, 1, 10, 6, 5, 2, 1, 7, 2, 1, 10, 7, 2, 9, 1, 2, 10, 9, 4, 7, 7, 7, 1, 1, 4, 2, 9, 9, 6, 3, 3, 8, 10, 1, 1, 3, 7, 2, 4, 4, 8, 9, 8, 9, 3, 3, 2, 8, 3, 1, 10, 7, 9, 10, 6, 1, 1, 5, 8, 4, 5, 10, 4, 3, 5, 6, 9, 2, 6, 9, 8, 10, 3, 5, 7, 8, 10, 6, 5, 2, 7, 9, 2, 3, 5, 2, 8, 1, 6, 6, 1, 6, 2, 9, 5, 4, 8, 10, 10, 2, 6, 10, 9, 10, 8, 8, 5, 3, 5, 2, 1, 10, 6, 8, 3, 9, 6, 3, 10, 8, 4, 3, 7, 2, 9, 7, 9, 7, 10, 4, 1, 4, 6, 7, 6, 8, 1, 5, 6, 3, 1, 2, 10, 6, 3, 2, 10, 10, 8, 10, 9, 2, 5, 6, 5, 4, 2, 9, 1, 8, 5, 10, 6, 8, 9, 8, 7, 8, 3, 7, 2, 6, 6, 1, 1, 5, 6, 6, 7, 3, 3, 1, 4, 2, 10], \"Freq\": [0.9998673623814486, 0.9998017839204061, 0.9998080190151398, 0.9999172321341664, 0.9996948934116268, 0.9998307147246945, 0.9996353882392459, 0.9996792127203478, 0.9991394346509437, 0.9999292616355827, 0.9998027250366611, 0.999931582647114, 0.9999602656573316, 0.9999694857578184, 0.9996803490564289, 0.9997414805131608, 0.9997206378417208, 0.9995035019263762, 0.9995794794633808, 0.9997200243574006, 0.9997023410143792, 0.9996792393474704, 0.9998065388699897, 0.9998479865021058, 0.9998100990971555, 0.9998072570379184, 0.9994950818387508, 0.999755028050808, 0.9996646926792161, 0.9998196803992265, 0.9997613279945653, 0.9997325033204825, 0.9996499313907526, 0.9998246997225834, 0.9997029831355245, 0.999671116755044, 0.34114488279289124, 0.6586618320693877, 0.9999403653417808, 0.9994011390277912, 0.9998438738093819, 0.9993579768104396, 0.9998936918053231, 0.9999537972843973, 0.999724416597983, 0.9996351424430023, 0.9997953200522223, 0.9997964136373612, 0.9996299829085822, 0.9996374687883701, 0.9996528312882863, 0.9997626185380132, 0.9998885846334888, 0.9995559925619867, 0.9999086788085789, 0.9998013773589722, 0.9997899573379554, 0.9994363493774963, 0.9998423074855833, 0.9996913368267687, 0.0019291542311505735, 0.0016368581355216986, 0.9964373899988341, 0.9994497322585103, 0.19623930973270085, 0.803354674218244, 0.9996294255824896, 0.9998780303063679, 0.0021587001580994406, 0.997823169745498, 0.9998671256356729, 0.9996080674324852, 0.9997061671912703, 0.9998894635369572, 0.9997993327054449, 0.9996932584099937, 0.999705515824005, 0.999746276668336, 0.9996271950339646, 0.9996923151834692, 0.9997866873647088, 0.9993946919893127, 0.9998200684145254, 0.9995061074883628, 0.9998801291660627, 0.9997332824639772, 0.9997175344131056, 0.9995478051981924, 0.9996078405016495, 0.9998572266031744, 0.9997820401373126, 0.9998175900767483, 0.9995402793026679, 0.9999214407798798, 0.999489434593047, 0.9995324582564235, 0.9997118459180676, 0.9998211477465719, 0.999078651566654, 0.9997718292928053, 0.9998397094038446, 0.9997589211819711, 0.9998788789604173, 0.9995014907368297, 0.9997660408938418, 0.9997795037637955, 0.9995105371705253, 0.9998060546311731, 0.9997653650897417, 0.9994268033487861, 0.9998068832526337, 0.9998495910661523, 0.9998662220820449, 0.9997978598926456, 0.9996718458741807, 0.011130819918330074, 0.6550487521937248, 0.1722494382361579, 0.16139688881578607, 0.9997890193991381, 0.9997382346298093, 0.9995663216488572, 0.9998788675668626, 0.9998979497245859, 0.9994587919835882, 0.9995635879680947, 0.9994124375398702, 0.9997237686175511, 0.9997964630954594, 0.9994949304251377, 0.9999209075005802, 0.9996678185279088, 0.999912599706427, 0.9998078150182133, 0.9994717212216396, 0.9996628710563472, 0.9998964302535062, 0.9997510423338333, 0.9998548916825525, 0.9998008174303129, 0.9998477796138677, 0.9997147134168255, 0.9997727112031932, 0.9997238628956365, 0.9997655148151615, 0.99920270781493, 0.9998094175808191, 0.9996422683876414, 0.9999150117024237, 0.9997615906750452, 0.9995045682566474, 0.9996943791165235, 0.9995775510641887, 0.999682548832972, 0.9995317124104587, 0.9994068545781669, 0.9996115387022055, 0.9998340729603108, 0.999807242886312, 0.9997002298084343, 0.9994605615351042, 0.9994271790317336, 0.9998187836024517, 0.9997558307954508, 0.9998680163235311, 0.9998028237834131, 0.9993889751906818, 0.999835752702454, 0.9999408222226223, 0.999197326682575, 0.9997538133407896, 0.9996592124368106, 0.9999228170593334, 0.9998539715132615, 0.9998501987451761, 0.999782981123684, 0.9998099980258011, 0.9999482603092065, 0.9995551600991531, 0.9996874605835412, 0.9993684869504346, 0.9999257412058254, 0.9998677126184223, 0.9996606841905994, 0.99970933546319, 0.9995286428883957, 0.9998152332558775, 0.9998650488631837, 0.999748024017123, 0.9997730274481584, 0.9997666060733575, 0.9999448029073847, 0.9998494722390058, 0.999747627179471, 0.9992069858539088, 0.999664505808371, 0.9999023363794135, 0.9991682859243862, 0.9997410914134818, 0.9996401451503617, 0.999535276632979, 0.9998475832799973, 0.999917463346627, 0.9998697413096346, 0.9997801143069732, 0.9996214824907536, 0.9997256654646198, 0.9999426837804585, 0.9997848029074168, 0.9995011016397869, 0.9996564760225867, 0.9997722685396105, 0.9996251156383671, 0.9997584113771139, 0.999769410914807, 0.9996619185041072, 0.9997696823401753, 0.9996234420599365, 0.9999010981110089, 0.9997037511491302, 0.9996058247637131, 0.9995005914167109, 0.999839556686395, 0.9997140751150749, 0.999737793559237, 0.9998077243472656, 0.9996912280602944, 0.9997998138855932, 0.9998657363079116, 0.9995573774081719, 0.9998717497015659, 0.9998370738199852, 0.9997622176813895, 0.9998622733454924, 0.9997776954114839, 0.9995405274510569, 0.9998271969886429, 0.9998932257875709, 0.999702875482842, 0.9998699050845048, 0.9994969797461377, 0.9997964374587904, 0.9998339488619833, 0.9996331832816113, 0.9996449736520654, 0.9996946180981301, 0.9996215932347307, 0.9993333273242682, 0.9997526544906172, 0.9998225931051896, 0.9995181080526263, 0.9994920867770634, 0.9996366562508014, 0.9998180630503425, 0.9999095808046748, 0.9997188712903103, 0.9996609468021184, 0.9997222897166044, 0.9994216569192697, 0.9998206787683791, 0.9998404473807866, 0.9995622845830529, 0.9998854250028527, 0.9996086609647352, 0.999587336243526, 0.9997448725629651, 0.9995981673441494, 0.9997449155557937, 0.9999142314880671, 0.9997723963512906, 0.9998092803662451, 0.9997593125087254, 0.9997289630490884, 0.9997896423733511, 0.9996573826317718, 0.9998418654143854, 0.9997034395688642, 0.9996406369578069, 0.9995418909887358, 0.9996244776530666, 0.9997158841669843, 0.999661605173807, 0.9995602258776609, 0.9998400062885009, 0.9999248241705498, 0.9993772179745443, 0.9996135594020192, 0.9997784757722129, 0.9997268510136089, 0.9997570094056768, 0.9995923617943744, 0.9993673779001412, 0.9998511463933176, 0.9997087942152412, 0.9997380884052083, 0.9995172049363128, 0.9996730084568801, 0.9998362349791713, 0.9996063329494081, 0.9998303454892901, 0.9997578971883977, 0.9998221249652961, 0.999476164078742, 0.9996575402712015, 0.999915692055143, 0.9998915356903053, 0.9997638840558036, 0.9995841446378289, 0.9998488793924908, 0.9998085966174904, 0.9998534947090096, 0.9997714208639977, 0.999775624652002], \"Term\": [\"aboriginal\", \"abuse\", \"accuse\", \"adelaide\", \"ahead\", \"allege\", \"amid\", \"announce\", \"appeal\", \"arrest\", \"assault\", \"attack\", \"australia\", \"australian\", \"australians\", \"australias\", \"award\", \"baby\", \"bank\", \"battle\", \"beach\", \"beat\", \"black\", \"body\", \"border\", \"break\", \"bring\", \"brisbane\", \"budget\", \"build\", \"bushfire\", \"bushfires\", \"business\", \"campaign\", \"canberra\", \"cancer\", \"care\", \"care\", \"case\", \"catch\", \"centre\", \"challenge\", \"change\", \"charge\", \"child\", \"children\", \"china\", \"chinese\", \"christmas\", \"city\", \"claim\", \"climate\", \"close\", \"club\", \"coast\", \"commission\", \"community\", \"company\", \"concern\", \"continue\", \"coronavirus\", \"coronavirus\", \"coronavirus\", \"cost\", \"council\", \"council\", \"country\", \"court\", \"covid\", \"covid\", \"crash\", \"cricket\", \"crisis\", \"darwin\", \"david\", \"dead\", \"deal\", \"death\", \"deaths\", \"debate\", \"delay\", \"despite\", \"doctor\", \"domestic\", \"donald\", \"drive\", \"drop\", \"drought\", \"drug\", \"drum\", \"ease\", \"east\", \"economy\", \"election\", \"emergency\", \"energy\", \"extend\", \"face\", \"facebook\", \"fall\", \"family\", \"farm\", \"farmers\", \"fear\", \"federal\", \"fight\", \"film\", \"final\", \"finance\", \"fish\", \"flood\", \"food\", \"force\", \"free\", \"friday\", \"fund\", \"fund\", \"fund\", \"fund\", \"future\", \"game\", \"george\", \"gold\", \"government\", \"grand\", \"green\", \"group\", \"grow\", \"guilty\", \"head\", \"health\", \"hear\", \"help\", \"high\", \"history\", \"hold\", \"home\", \"hong\", \"hospital\", \"hotel\", \"house\", \"increase\", \"india\", \"indigenous\", \"industry\", \"inquest\", \"inquiry\", \"international\", \"interview\", \"investigate\", \"investigation\", \"island\", \"issue\", \"jail\", \"john\", \"johnson\", \"join\", \"kill\", \"labor\", \"land\", \"latest\", \"launch\", \"lead\", \"league\", \"leave\", \"life\", \"light\", \"like\", \"live\", \"long\", \"look\", \"lose\", \"make\", \"mark\", \"market\", \"media\", \"meet\", \"melbourne\", \"mental\", \"michael\", \"million\", \"minister\", \"miss\", \"monday\", \"morrison\", \"mother\", \"mount\", \"murder\", \"national\", \"near\", \"need\", \"news\", \"north\", \"northern\", \"number\", \"officer\", \"open\", \"outback\", \"park\", \"parliament\", \"party\", \"people\", \"perth\", \"peter\", \"plan\", \"play\", \"plead\", \"police\", \"port\", \"post\", \"power\", \"premier\", \"president\", \"price\", \"program\", \"protest\", \"protesters\", \"public\", \"queensland\", \"question\", \"race\", \"rain\", \"record\", \"regional\", \"release\", \"report\", \"rescue\", \"residents\", \"restrictions\", \"result\", \"return\", \"reveal\", \"review\", \"rise\", \"risk\", \"river\", \"road\", \"royal\", \"rule\", \"rural\", \"russia\", \"save\", \"school\", \"scott\", \"search\", \"season\", \"second\", \"send\", \"sentence\", \"service\", \"sexual\", \"share\", \"shoot\", \"social\", \"south\", \"speak\", \"sport\", \"stab\", \"star\", \"start\", \"state\", \"steal\", \"storm\", \"street\", \"students\", \"study\", \"super\", \"support\", \"sydney\", \"talk\", \"tasmania\", \"tasmanian\", \"tell\", \"test\", \"thursday\", \"time\", \"tourism\", \"town\", \"track\", \"trade\", \"train\", \"travel\", \"tree\", \"trial\", \"trump\", \"tuesday\", \"turn\", \"turnbull\", \"university\", \"update\", \"urge\", \"victims\", \"victoria\", \"victorian\", \"video\", \"violence\", \"vote\", \"wall\", \"want\", \"warn\", \"water\", \"weather\", \"wednesday\", \"west\", \"woman\", \"women\", \"work\", \"workers\", \"world\", \"year\", \"years\", \"young\", \"zealand\"]}, \"R\": 30, \"lambda.step\": 0.01, \"plot.opts\": {\"xlab\": \"PC1\", \"ylab\": \"PC2\"}, \"topic.order\": [1, 6, 10, 9, 7, 5, 2, 3, 8, 4]};\n",
       "\n",
       "function LDAvis_load_lib(url, callback){\n",
       "  var s = document.createElement('script');\n",
       "  s.src = url;\n",
       "  s.async = true;\n",
       "  s.onreadystatechange = s.onload = callback;\n",
       "  s.onerror = function(){console.warn(\"failed to load library \" + url);};\n",
       "  document.getElementsByTagName(\"head\")[0].appendChild(s);\n",
       "}\n",
       "\n",
       "if(typeof(LDAvis) !== \"undefined\"){\n",
       "   // already loaded: just create the visualization\n",
       "   !function(LDAvis){\n",
       "       new LDAvis(\"#\" + \"ldavis_el887625290979769609850577985\", ldavis_el887625290979769609850577985_data);\n",
       "   }(LDAvis);\n",
       "}else if(typeof define === \"function\" && define.amd){\n",
       "   // require.js is available: use it to load d3/LDAvis\n",
       "   require.config({paths: {d3: \"https://d3js.org/d3.v5\"}});\n",
       "   require([\"d3\"], function(d3){\n",
       "      window.d3 = d3;\n",
       "      LDAvis_load_lib(\"https://cdn.jsdelivr.net/gh/bmabey/pyLDAvis@3.3.1/pyLDAvis/js/ldavis.v3.0.0.js\", function(){\n",
       "        new LDAvis(\"#\" + \"ldavis_el887625290979769609850577985\", ldavis_el887625290979769609850577985_data);\n",
       "      });\n",
       "    });\n",
       "}else{\n",
       "    // require.js not available: dynamically load d3 & LDAvis\n",
       "    LDAvis_load_lib(\"https://d3js.org/d3.v5.js\", function(){\n",
       "         LDAvis_load_lib(\"https://cdn.jsdelivr.net/gh/bmabey/pyLDAvis@3.3.1/pyLDAvis/js/ldavis.v3.0.0.js\", function(){\n",
       "                 new LDAvis(\"#\" + \"ldavis_el887625290979769609850577985\", ldavis_el887625290979769609850577985_data);\n",
       "            })\n",
       "         });\n",
       "}\n",
       "</script>"
      ],
      "text/plain": [
       "<IPython.core.display.HTML object>"
      ]
     },
     "execution_count": 133,
     "metadata": {},
     "output_type": "execute_result"
    }
   ],
   "source": [
    "import pyLDAvis.sklearn\n",
    "\n",
    "pyLDAvis.enable_notebook()\n",
    "vis = pyLDAvis.sklearn.prepare(lda_model, X, vectorizer)\n",
    "pyLDAvis.display(vis)"
   ]
  },
  {
   "cell_type": "code",
   "execution_count": null,
   "metadata": {},
   "outputs": [],
   "source": []
  },
  {
   "cell_type": "code",
   "execution_count": null,
   "metadata": {},
   "outputs": [],
   "source": []
  }
 ],
 "metadata": {
  "interpreter": {
   "hash": "26de051ba29f2982a8de78e945f0abaf191376122a1563185a90213a26c5da77"
  },
  "kernelspec": {
   "display_name": "Python 3.10.2 64-bit",
   "language": "python",
   "name": "python3"
  },
  "language_info": {
   "codemirror_mode": {
    "name": "ipython",
    "version": 3
   },
   "file_extension": ".py",
   "mimetype": "text/x-python",
   "name": "python",
   "nbconvert_exporter": "python",
   "pygments_lexer": "ipython3",
   "version": "3.10.2"
  },
  "orig_nbformat": 4
 },
 "nbformat": 4,
 "nbformat_minor": 2
}
