{
 "cells": [
  {
   "cell_type": "code",
   "execution_count": 1,
   "metadata": {},
   "outputs": [
    {
     "name": "stdout",
     "output_type": "stream",
     "text": [
      "Defaulting to user installation because normal site-packages is not writeable\n",
      "Collecting konlpy\n",
      "  Downloading konlpy-0.6.0-py2.py3-none-any.whl (19.4 MB)\n",
      "     ---------------------------------------- 19.4/19.4 MB 8.6 MB/s eta 0:00:00\n",
      "Requirement already satisfied: lxml>=4.1.0 in c:\\users\\user\\appdata\\roaming\\python\\python310\\site-packages (from konlpy) (4.8.0)\n",
      "Collecting JPype1>=0.7.0\n",
      "  Downloading JPype1-1.4.0-cp310-cp310-win_amd64.whl (344 kB)\n",
      "     -------------------------------------- 344.5/344.5 kB 7.1 MB/s eta 0:00:00\n",
      "Requirement already satisfied: numpy>=1.6 in c:\\users\\user\\appdata\\roaming\\python\\python310\\site-packages (from konlpy) (1.22.3)\n",
      "Installing collected packages: JPype1, konlpy\n",
      "Successfully installed JPype1-1.4.0 konlpy-0.6.0\n"
     ]
    },
    {
     "name": "stderr",
     "output_type": "stream",
     "text": [
      "WARNING: There was an error checking the latest version of pip.\n"
     ]
    }
   ],
   "source": [
    "### 형태소 분석(knolPy) 라이브러리 설치\n",
    "! pip install konlpy"
   ]
  },
  {
   "cell_type": "code",
   "execution_count": 2,
   "metadata": {},
   "outputs": [
    {
     "data": {
      "text/plain": [
       "[('아버지', 'Noun'),\n",
       " ('가', 'Josa'),\n",
       " ('방', 'Noun'),\n",
       " ('에', 'Josa'),\n",
       " ('들어가다', 'Verb')]"
      ]
     },
     "execution_count": 2,
     "metadata": {},
     "output_type": "execute_result"
    }
   ],
   "source": [
    "### 사용\n",
    "from konlpy.tag import Twitter\n",
    "twitter = Twitter()\n",
    "malist = twitter.pos('아버지가 방에 들어가신다',norm=True,stem=True)\n",
    "malist"
   ]
  },
  {
   "cell_type": "code",
   "execution_count": 3,
   "metadata": {},
   "outputs": [
    {
     "data": {
      "text/plain": [
       "[('아버지', 'Noun'),\n",
       " ('가', 'Josa'),\n",
       " ('방', 'Noun'),\n",
       " ('에', 'Josa'),\n",
       " ('들어가다', 'Verb')]"
      ]
     },
     "execution_count": 3,
     "metadata": {},
     "output_type": "execute_result"
    }
   ],
   "source": [
    "### 사용\n",
    "from konlpy.tag import Twitter,Okt\n",
    "twitter = Okt()\n",
    "malist = twitter.pos('아버지가 방에 들어가신다',norm=True,stem=True)\n",
    "malist"
   ]
  },
  {
   "cell_type": "code",
   "execution_count": 7,
   "metadata": {},
   "outputs": [
    {
     "data": {
      "text/plain": [
       "[('그렇다', 'Adjective'), ('ㅋㅋ', 'KoreanParticle'), ('?', 'Punctuation')]"
      ]
     },
     "execution_count": 7,
     "metadata": {},
     "output_type": "execute_result"
    }
   ],
   "source": [
    "### 사용\n",
    "from konlpy.tag import Twitter,Okt\n",
    "twitter = Okt()\n",
    "malist = twitter.pos('그래욬ㅋㅋ?',norm=True,stem=True)\n",
    "malist"
   ]
  },
  {
   "cell_type": "code",
   "execution_count": 22,
   "metadata": {},
   "outputs": [
    {
     "name": "stderr",
     "output_type": "stream",
     "text": [
      "C:\\Users\\user\\AppData\\Roaming\\Python\\Python310\\site-packages\\konlpy\\tag\\_okt.py:17: UserWarning: \"Twitter\" has changed to \"Okt\" since KoNLPy v0.4.5.\n",
      "  warn('\"Twitter\" has changed to \"Okt\" since KoNLPy v0.4.5.')\n"
     ]
    },
    {
     "name": "stdout",
     "output_type": "stream",
     "text": [
      "것(1030) 그(896) 말(833) 안(445) 용이(344) 눈(323) 평산(320) 사람(315) 내(303) 놈(295) 이(289) 길(278) 소리(272) 일(268) 거(257) 얼굴(255) 생각(242) 못(241) 수(234) 치수(228) 집(222) 나(222) 댁(221) 때(213) 네(206) 강청댁(198) 머(193) 봉(187) 서방(185) 년(183) 최(174) 제(173) 더(172) 어디(164) 강(159) 마을(149) 니(148) 날(140) 뒤(138) 기(136) 칠성(136) 포수(136) 녀(135) 김(135) 임(134) 양반(132) 아이(131) 서희(131) 하나(123) 속(122) \n"
     ]
    }
   ],
   "source": [
    "### Twitter를 이용한 카운팅\n",
    "from konlpy.tag import Twitter\n",
    "\n",
    "fp = open('data_text/토지1.txt','r',encoding='utf-8')\n",
    "text = fp.read()\n",
    "# print(text)\n",
    "\n",
    "## 텍스트 한줄 처리\n",
    "twitter = Twitter()\n",
    "word_dic = {}\n",
    "lines = text.split('\\n')\n",
    "for line in lines:\n",
    "    malist = twitter.pos(line)\n",
    "    for word in malist:\n",
    "        if word[1] == 'Noun':   # 명사 찾기 조건\n",
    "            if not (word[0] in word_dic):\n",
    "                word_dic[word[0]] = 0\n",
    "            word_dic[word[0]] += 1      # 카운트 처리\n",
    "\n",
    "## 정렬 : 가장 많이 사용된 명사부터 출력\n",
    "keys = sorted(word_dic.items(),key=lambda x:x[1], reverse=True)\n",
    "\n",
    "## 많이 사용된 명사 출력\n",
    "for word, count in keys[:50]:\n",
    "    print('{0}({1}) '.format(word,count),end=\"\")\n",
    "print()"
   ]
  },
  {
   "cell_type": "code",
   "execution_count": null,
   "metadata": {},
   "outputs": [],
   "source": [
    "### Word2Vec으로 문장을 벡터로 변환"
   ]
  },
  {
   "cell_type": "code",
   "execution_count": 23,
   "metadata": {},
   "outputs": [
    {
     "name": "stdout",
     "output_type": "stream",
     "text": [
      "gensim               4.2.0\n"
     ]
    },
    {
     "name": "stderr",
     "output_type": "stream",
     "text": [
      "WARNING: There was an error checking the latest version of pip.\n"
     ]
    }
   ],
   "source": [
    "# 라이브러리 있는지 확인\n",
    "!pip list | findstr gensim"
   ]
  },
  {
   "cell_type": "code",
   "execution_count": 26,
   "metadata": {},
   "outputs": [
    {
     "name": "stderr",
     "output_type": "stream",
     "text": [
      "C:\\Users\\user\\AppData\\Roaming\\Python\\Python310\\site-packages\\konlpy\\tag\\_okt.py:17: UserWarning: \"Twitter\" has changed to \"Okt\" since KoNLPy v0.4.5.\n",
      "  warn('\"Twitter\" has changed to \"Okt\" since KoNLPy v0.4.5.')\n"
     ]
    },
    {
     "name": "stdout",
     "output_type": "stream",
     "text": [
      "ok\n"
     ]
    }
   ],
   "source": [
    "## Gensim의 Word2Vec로 '토지'읽어오기\n",
    "from konlpy.tag import Twitter\n",
    "from gensim.models import word2vec\n",
    "\n",
    "# 토지 읽어오기\n",
    "fp = open('data_text/토지1.txt','r',encoding='utf-8')\n",
    "text = fp.read()\n",
    "\n",
    "# 텍스트를 한줄씩 처리하기\n",
    "twitter = Twitter()\n",
    "results = []\n",
    "lines = text.split('\\n')\n",
    "for line in lines:\n",
    "    # 형태소 분석하기\n",
    "    # 단어의 기본형 사용\n",
    "    malist = twitter.pos(line,norm=True,stem=True)\n",
    "    r = []\n",
    "    for word in malist:\n",
    "        # 어미/조사/구두점 등은 대상에서 제외\n",
    "        if not word[1] in ['Josa','Eomi','Punctuation']:\n",
    "            r.append(word[0])\n",
    "    rl = (\" \".join(r)).strip()\n",
    "    results.append(rl)\n",
    "    # print(rl)\n",
    "\n",
    "# 파일로 출력하기\n",
    "wakati_file = 'data_text/toji.wakati'\n",
    "with open(wakati_file,'w',encoding='utf-8') as fp:\n",
    "    fp.write('\\n'.join(results))\n",
    "\n",
    "# Word2Vec 모델 만들기\n",
    "data = word2vec.LineSentence(wakati_file)\n",
    "model = word2vec.Word2Vec(data,hs=1,min_count=2,sg=1,vector_size=200,window=10)\n",
    "model.save(\"data_text/toji.model\")\n",
    "print('ok')"
   ]
  },
  {
   "cell_type": "code",
   "execution_count": 49,
   "metadata": {},
   "outputs": [
    {
     "data": {
      "text/plain": [
       "[('하인', 0.8215736746788025),\n",
       " ('최씨', 0.8038226962089539),\n",
       " ('구걸', 0.8036032915115356),\n",
       " ('천하다', 0.7992435693740845),\n",
       " ('서성대다', 0.7948043346405029),\n",
       " ('절간', 0.7935255765914917),\n",
       " ('계집', 0.791433572769165),\n",
       " ('어무님', 0.7888969779014587),\n",
       " ('들고나다', 0.7888922691345215),\n",
       " ('피장파장', 0.78848797082901)]"
      ]
     },
     "execution_count": 49,
     "metadata": {},
     "output_type": "execute_result"
    }
   ],
   "source": [
    "model = word2vec.Word2Vec.load('data_text/toji.model')\n",
    "model.wv.most_similar(positive=['종'])"
   ]
  },
  {
   "cell_type": "code",
   "execution_count": null,
   "metadata": {},
   "outputs": [],
   "source": [
    "### wiki.txt\n",
    "from konlpy.tag import Twitter, Okt\n",
    "from gensim.models import word2vec\n",
    "\n",
    "# 파일열기\n",
    "read_file = open('data_text/wiki.txt','r',encoding='utf-8')\n",
    "wakati_file = \"data_text/wiki.wakati\"\n",
    "write_file = open(wakati_file,'w',encoding='utf-8')\n",
    "\n",
    "# 형태소 분석\n",
    "twitter = Twitter()\n",
    "i=0\n",
    "# 텍스트를 한 줄씩 처리하기\n",
    "while True:\n",
    "    line = read_file.readline()\n",
    "    if not line: break\n",
    "    if i % 20000 == 0:\n",
    "        print('current - ' + str(i))\n",
    "    i += 1\n",
    "    # 형태소 분석\n",
    "    malist = twitter.pos(line, norm=True, stem=True)\n",
    "    # 필요한 어구만 대상으로 하기\n",
    "    r = []\n",
    "    for word in malist:\n",
    "        # 어미/조사/구두점 등은 대상에서 제외\n",
    "        if not word[1] in ['Josa','Eomi','Punctuation']:\n",
    "            write_file.write(word[0] + \" \")\n",
    "write_file.close()"
   ]
  },
  {
   "cell_type": "code",
   "execution_count": 1,
   "metadata": {},
   "outputs": [
    {
     "name": "stdout",
     "output_type": "stream",
     "text": [
      "ok\n"
     ]
    }
   ],
   "source": [
    "from gensim.models import word2vec\n",
    "data = word2vec.Text8Corpus('data_text/wiki.wakati')\n",
    "model = word2vec.Word2Vec(data, vector_size=100)\n",
    "model.save('data_text/wiki.model')\n",
    "print('ok')"
   ]
  }
 ],
 "metadata": {
  "interpreter": {
   "hash": "26de051ba29f2982a8de78e945f0abaf191376122a1563185a90213a26c5da77"
  },
  "kernelspec": {
   "display_name": "Python 3.10.3 64-bit",
   "language": "python",
   "name": "python3"
  },
  "language_info": {
   "codemirror_mode": {
    "name": "ipython",
    "version": 3
   },
   "file_extension": ".py",
   "mimetype": "text/x-python",
   "name": "python",
   "nbconvert_exporter": "python",
   "pygments_lexer": "ipython3",
   "version": "3.10.3"
  },
  "orig_nbformat": 4
 },
 "nbformat": 4,
 "nbformat_minor": 2
}
