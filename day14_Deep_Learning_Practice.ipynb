{
  "nbformat": 4,
  "nbformat_minor": 0,
  "metadata": {
    "colab": {
      "name": "0531_Deep Learning Practice.ipynb",
      "provenance": []
    },
    "kernelspec": {
      "name": "python3",
      "display_name": "Python 3"
    },
    "language_info": {
      "name": "python"
    }
  },
  "cells": [
    {
      "cell_type": "code",
      "execution_count": null,
      "metadata": {
        "colab": {
          "base_uri": "https://localhost:8080/"
        },
        "id": "UjWu5ySarbP-",
        "outputId": "fe560829-c21e-4e86-ecec-7593e752e36c"
      },
      "outputs": [
        {
          "output_type": "stream",
          "name": "stdout",
          "text": [
            "tf.Tensor(7234, shape=(), dtype=int32)\n"
          ]
        }
      ],
      "source": [
        "import tensorflow as tf \n",
        "\n",
        "a = tf.constant(1234) \n",
        "b= tf.constant(6000) \n",
        "\n",
        "def op():  \n",
        "  add_op = a + b \n",
        "  return add_op\n",
        "\n"
      ]
    },
    {
      "cell_type": "code",
      "source": [
        "a= tf.constant(2) \n",
        "b= tf.constant(3)\n",
        "c= tf.constant(4) \n",
        "\n",
        "calc1_op= a+b*c \n",
        "calc2_op= (a+b)*c  \n",
        "\n",
        "#세션시작 \n",
        "print(calc1_op)\n",
        "print(calc2_op)\n"
      ],
      "metadata": {
        "colab": {
          "base_uri": "https://localhost:8080/"
        },
        "id": "qif19XL01x2E",
        "outputId": "48cdeb77-132a-44c9-9682-adbc059381c2"
      },
      "execution_count": null,
      "outputs": [
        {
          "output_type": "stream",
          "name": "stdout",
          "text": [
            "tf.Tensor(14, shape=(), dtype=int32)\n",
            "tf.Tensor(20, shape=(), dtype=int32)\n"
          ]
        }
      ]
    },
    {
      "cell_type": "code",
      "source": [
        "## \n",
        "%matplotlib inline\n",
        "import matplotlib.pyplot as plt\n",
        "import numpy as np\n",
        "import pandas as pd  \n",
        "import tensorflow as tf\n"
      ],
      "metadata": {
        "id": "J1L2L1tI54Jm"
      },
      "execution_count": null,
      "outputs": []
    },
    {
      "cell_type": "code",
      "source": [
        "x= np.arange(-20,20,0.1) \n",
        "y= np.sin(x) \n",
        "plt.plot(x,y)"
      ],
      "metadata": {
        "colab": {
          "base_uri": "https://localhost:8080/",
          "height": 283
        },
        "id": "luUEEUvq6HGq",
        "outputId": "3a3f2ac1-d840-4082-c253-044a0e9305c6"
      },
      "execution_count": null,
      "outputs": [
        {
          "output_type": "execute_result",
          "data": {
            "text/plain": [
              "[<matplotlib.lines.Line2D at 0x7f93edbc0f50>]"
            ]
          },
          "metadata": {},
          "execution_count": 22
        },
        {
          "output_type": "display_data",
          "data": {
            "text/plain": [
              "<Figure size 432x288 with 1 Axes>"
            ],
            "image/png": "[encoded data removed]"
          },
          "metadata": {
            "needs_background": "light"
          }
        }
      ]
    },
    {
      "cell_type": "code",
      "source": [
        "a= tf.constant(100) \n",
        "b= tf.constant(50) \n",
        "\n",
        "v= tf.Variable(0) \n",
        "v= a+b \n",
        "\n",
        "print(v)\n"
      ],
      "metadata": {
        "colab": {
          "base_uri": "https://localhost:8080/"
        },
        "id": "fCXzG4CV9dUn",
        "outputId": "cd56e088-8f26-474e-9262-3e574545d237"
      },
      "execution_count": null,
      "outputs": [
        {
          "output_type": "stream",
          "name": "stdout",
          "text": [
            "tf.Tensor(150, shape=(), dtype=int32)\n"
          ]
        }
      ]
    },
    {
      "cell_type": "code",
      "source": [
        "import tensorflow.compat.v1 as tf1\n",
        "tf1.disable_v2_behavior()"
      ],
      "metadata": {
        "id": "Cpt0Lku2BA7s"
      },
      "execution_count": null,
      "outputs": []
    },
    {
      "cell_type": "code",
      "source": [
        "#colab은 Python 3.7을 사용 \n",
        "#####################여기까지 코드테스트 \n",
        "\n",
        "#상수 정의하기\n",
        "a= tf.constant(120, name=\"a\")\n",
        "b= tf.constant(130, name=\"b\")\n",
        "c= tf.constant(140, name= \"c\")\n",
        "\n",
        "#변수 정의하기 \n",
        "v = tf.Variable(0, name=\"v\") \n",
        "\n",
        "calc_op= a+b+c \n",
        "assign_op= tf1.assign(v,calc_op) \n",
        "\n",
        "sess= tf1.Session() \n",
        "sess.run(assign_op)\n",
        " \n",
        "print(sess.run(v))\n"
      ],
      "metadata": {
        "colab": {
          "base_uri": "https://localhost:8080/"
        },
        "id": "qDodRyed-cKU",
        "outputId": "5d391ded-344e-47da-cd16-f936792d8307"
      },
      "execution_count": null,
      "outputs": [
        {
          "output_type": "stream",
          "name": "stdout",
          "text": [
            "390\n"
          ]
        }
      ]
    },
    {
      "cell_type": "code",
      "source": [
        "#tensorflow 플레이스홀더 기능\n",
        "#템플릿처럼 값을 넣을 공간을 만들어두는 기능 \n",
        "import tensorflow.compat.v1 as tf \n",
        "tf.disable_v2_behavior()  ##세션을 사용할 수 있도록 Version1을 로드 \n",
        "\n",
        "#플레이스 홀더정의 \n",
        "a= tf.placeholder(tf.int32,[3]) #정수자료형 3개를 가진 배열 \n",
        "# [x,y,z]\n",
        "\n",
        "#배열을 모든 값을 2배하는 연산을 정의\n",
        "b= tf.constant(2) \n",
        "x2_op= a*b\n",
        "\n",
        "#세션시작하기 \n",
        "sess= tf.Session() \n",
        "\n",
        "#플레이스홀더에 값을 넣고 실행하기 \n",
        "r1= sess.run(x2_op,feed_dict={a:[1,2,3]}) \n",
        "r2= sess.run(x2_op,feed_dict={a:[10,20,10]})\n",
        "print(r1) #[2,4,6]\n",
        "print(r2) #[20,40,20] "
      ],
      "metadata": {
        "colab": {
          "base_uri": "https://localhost:8080/"
        },
        "id": "Y9BB5FUlB_VX",
        "outputId": "2e17a438-6a2c-4677-a080-8d9d9b1348f1"
      },
      "execution_count": null,
      "outputs": [
        {
          "output_type": "stream",
          "name": "stdout",
          "text": [
            "[2 4 6]\n",
            "[20 40 20]\n"
          ]
        }
      ]
    },
    {
      "cell_type": "code",
      "source": [
        "import tensorflow.compat.v1 as tf #텐서플로우 버전 1가동 \n",
        "tf.disable_v2_behavior()  ##세션을 사용할 수 있도록 Version1을 로드 \n",
        "\n",
        "a= tf.placeholder(tf.int32,[None]) #배열의 크기를 None으로 지정 \n",
        "b= tf.constant(10) # 배열의 모든 값을 10배 연산하는 연산 정의하기 ㄷ\n",
        "x10_op = a*b  \n",
        "\n",
        "#세션시작 \n",
        "sess=tf.Session() \n",
        "\n",
        "r1= sess.run(x10_op,feed_dict={a:[1,2,3,4,5]}) \n",
        "r2= sess.run(x10_op,feed_dict={a:[10,20]})\n",
        "print(r1) \n",
        "print(r2)\n"
      ],
      "metadata": {
        "colab": {
          "base_uri": "https://localhost:8080/"
        },
        "id": "iAyLi2KgFNEE",
        "outputId": "2e708db2-b3aa-48b6-937f-3394e8880087"
      },
      "execution_count": null,
      "outputs": [
        {
          "output_type": "stream",
          "name": "stdout",
          "text": [
            "[10 20 30 40 50]\n",
            "[100 200]\n"
          ]
        }
      ]
    },
    {
      "cell_type": "code",
      "source": [
        "import pandas as pd \n",
        "import numpy as np \n",
        "import tensorflow.compat.v1 as tf #텐서플로우 버전 1가동 \n",
        "tf.disable_v2_behavior()  ##세션을 사용할 수 있도록 Version1을 로드 \n",
        "\n",
        "##키, 몸무게, 레이블이 적힌 CSV 파일 읽기 \n",
        "csv= pd.read_csv('/content/sample_data/bmi.csv')\n",
        "\n",
        "#데이터를 정규화\n",
        "\n",
        "\n"
      ],
      "metadata": {
        "colab": {
          "base_uri": "https://localhost:8080/",
          "height": 143
        },
        "id": "Icc46QXxG_MI",
        "outputId": "77fc4a53-fa9b-45ea-b85f-82bad5a0f5f7"
      },
      "execution_count": null,
      "outputs": [
        {
          "output_type": "execute_result",
          "data": {
            "text/plain": [
              "       height  weight   label\n",
              "0         135      58     fat\n",
              "1         170      57  normal\n",
              "2         194      41    thin\n",
              "3         197      54    thin\n",
              "4         125      73     fat\n",
              "...       ...     ...     ...\n",
              "19995     132      43  normal\n",
              "19996     168      64  normal\n",
              "19997     131      41  normal\n",
              "19998     191      63    thin\n",
              "19999     127      43     fat\n",
              "\n",
              "[20000 rows x 3 columns]"
            ],
            "text/html": [
              "\n",
              "  <div id=\"df-404d26b0-0c90-43ab-82a8-288e75113d3d\">\n",
              "    <div class=\"colab-df-container\">\n",
              "      <div>\n",
              "<style scoped>\n",
              "    .dataframe tbody tr th:only-of-type {\n",
              "        vertical-align: middle;\n",
              "    }\n",
              "\n",
              "    .dataframe tbody tr th {\n",
              "        vertical-align: top;\n",
              "    }\n",
              "\n",
              "    .dataframe thead th {\n",
              "        text-align: right;\n",
              "    }\n",
              "</style>\n",
              "<table border=\"1\" class=\"dataframe\">\n",
              "  <thead>\n",
              "    <tr style=\"text-align: right;\">\n",
              "      <th></th>\n",
              "      <th>height</th>\n",
              "      <th>weight</th>\n",
              "      <th>label</th>\n",
              "    </tr>\n",
              "  </thead>\n",
              "  <tbody>\n",
              "    <tr>\n",
              "      <th>0</th>\n",
              "      <td>135</td>\n",
              "      <td>58</td>\n",
              "      <td>fat</td>\n",
              "    </tr>\n",
              "    <tr>\n",
              "      <th>1</th>\n",
              "      <td>170</td>\n",
              "      <td>57</td>\n",
              "      <td>normal</td>\n",
              "    </tr>\n",
              "    <tr>\n",
              "      <th>2</th>\n",
              "      <td>194</td>\n",
              "      <td>41</td>\n",
              "      <td>thin</td>\n",
              "    </tr>\n",
              "    <tr>\n",
              "      <th>3</th>\n",
              "      <td>197</td>\n",
              "      <td>54</td>\n",
              "      <td>thin</td>\n",
              "    </tr>\n",
              "    <tr>\n",
              "      <th>4</th>\n",
              "      <td>125</td>\n",
              "      <td>73</td>\n",
              "      <td>fat</td>\n",
              "    </tr>\n",
              "    <tr>\n",
              "      <th>...</th>\n",
              "      <td>...</td>\n",
              "      <td>...</td>\n",
              "      <td>...</td>\n",
              "    </tr>\n",
              "    <tr>\n",
              "      <th>19995</th>\n",
              "      <td>132</td>\n",
              "      <td>43</td>\n",
              "      <td>normal</td>\n",
              "    </tr>\n",
              "    <tr>\n",
              "      <th>19996</th>\n",
              "      <td>168</td>\n",
              "      <td>64</td>\n",
              "      <td>normal</td>\n",
              "    </tr>\n",
              "    <tr>\n",
              "      <th>19997</th>\n",
              "      <td>131</td>\n",
              "      <td>41</td>\n",
              "      <td>normal</td>\n",
              "    </tr>\n",
              "    <tr>\n",
              "      <th>19998</th>\n",
              "      <td>191</td>\n",
              "      <td>63</td>\n",
              "      <td>thin</td>\n",
              "    </tr>\n",
              "    <tr>\n",
              "      <th>19999</th>\n",
              "      <td>127</td>\n",
              "      <td>43</td>\n",
              "      <td>fat</td>\n",
              "    </tr>\n",
              "  </tbody>\n",
              "</table>\n",
              "<p>20000 rows × 3 columns</p>\n",
              "</div>\n",
              "      <button class=\"colab-df-convert\" onclick=\"convertToInteractive('df-404d26b0-0c90-43ab-82a8-288e75113d3d')\"\n",
              "              title=\"Convert this dataframe to an interactive table.\"\n",
              "              style=\"display:none;\">\n",
              "        \n",
              "  <svg xmlns=\"http://www.w3.org/2000/svg\" height=\"24px\"viewBox=\"0 0 24 24\"\n",
              "       width=\"24px\">\n",
              "    <path d=\"M0 0h24v24H0V0z\" fill=\"none\"/>\n",
              "    <path d=\"M18.56 5.44l.94 2.06.94-2.06 2.06-.94-2.06-.94-.94-2.06-.94 2.06-2.06.94zm-11 1L8.5 8.5l.94-2.06 2.06-.94-2.06-.94L8.5 2.5l-.94 2.06-2.06.94zm10 10l.94 2.06.94-2.06 2.06-.94-2.06-.94-.94-2.06-.94 2.06-2.06.94z\"/><path d=\"M17.41 7.96l-1.37-1.37c-.4-.4-.92-.59-1.43-.59-.52 0-1.04.2-1.43.59L10.3 9.45l-7.72 7.72c-.78.78-.78 2.05 0 2.83L4 21.41c.39.39.9.59 1.41.59.51 0 1.02-.2 1.41-.59l7.78-7.78 2.81-2.81c.8-.78.8-2.07 0-2.86zM5.41 20L4 18.59l7.72-7.72 1.47 1.35L5.41 20z\"/>\n",
              "  </svg>\n",
              "      </button>\n",
              "      \n",
              "  <style>\n",
              "    .colab-df-container {\n",
              "      display:flex;\n",
              "      flex-wrap:wrap;\n",
              "      gap: 12px;\n",
              "    }\n",
              "\n",
              "    .colab-df-convert {\n",
              "      background-color: #E8F0FE;\n",
              "      border: none;\n",
              "      border-radius: 50%;\n",
              "      cursor: pointer;\n",
              "      display: none;\n",
              "      fill: #1967D2;\n",
              "      height: 32px;\n",
              "      padding: 0 0 0 0;\n",
              "      width: 32px;\n",
              "    }\n",
              "\n",
              "    .colab-df-convert:hover {\n",
              "      background-color: #E2EBFA;\n",
              "      box-shadow: 0px 1px 2px rgba(60, 64, 67, 0.3), 0px 1px 3px 1px rgba(60, 64, 67, 0.15);\n",
              "      fill: #174EA6;\n",
              "    }\n",
              "\n",
              "    [theme=dark] .colab-df-convert {\n",
              "      background-color: #3B4455;\n",
              "      fill: #D2E3FC;\n",
              "    }\n",
              "\n",
              "    [theme=dark] .colab-df-convert:hover {\n",
              "      background-color: #434B5C;\n",
              "      box-shadow: 0px 1px 3px 1px rgba(0, 0, 0, 0.15);\n",
              "      filter: drop-shadow(0px 1px 2px rgba(0, 0, 0, 0.3));\n",
              "      fill: #FFFFFF;\n",
              "    }\n",
              "  </style>\n",
              "\n",
              "      <script>\n",
              "        const buttonEl =\n",
              "          document.querySelector('#df-404d26b0-0c90-43ab-82a8-288e75113d3d button.colab-df-convert');\n",
              "        buttonEl.style.display =\n",
              "          google.colab.kernel.accessAllowed ? 'block' : 'none';\n",
              "\n",
              "        async function convertToInteractive(key) {\n",
              "          const element = document.querySelector('#df-404d26b0-0c90-43ab-82a8-288e75113d3d');\n",
              "          const dataTable =\n",
              "            await google.colab.kernel.invokeFunction('convertToInteractive',\n",
              "                                                     [key], {});\n",
              "          if (!dataTable) return;\n",
              "\n",
              "          const docLinkHtml = 'Like what you see? Visit the ' +\n",
              "            '<a target=\"_blank\" href=https://colab.research.google.com/notebooks/data_table.ipynb>data table notebook</a>'\n",
              "            + ' to learn more about interactive tables.';\n",
              "          element.innerHTML = '';\n",
              "          dataTable['output_type'] = 'display_data';\n",
              "          await google.colab.output.renderOutput(dataTable, element);\n",
              "          const docLink = document.createElement('div');\n",
              "          docLink.innerHTML = docLinkHtml;\n",
              "          element.appendChild(docLink);\n",
              "        }\n",
              "      </script>\n",
              "    </div>\n",
              "  </div>\n",
              "  "
            ]
          },
          "metadata": {},
          "execution_count": 41
        },
        {
          "output_type": "stream",
          "name": "stdout",
          "text": [
            "Error: Runtime no longer has a reference to this dataframe, please re-run this cell and try again.\n",
            "Error: Runtime no longer has a reference to this dataframe, please re-run this cell and try again.\n",
            "Error: Runtime no longer has a reference to this dataframe, please re-run this cell and try again.\n"
          ]
        }
      ]
    },
    {
      "cell_type": "code",
      "source": [
        "import pandas as pd \n",
        "import numpy as np \n",
        "import tensorflow.compat.v1 as tf #텐서플로우 버전 1가동 \n",
        "tf.disable_v2_behavior()  ##세션을 사용할 수 있도록 Version1을 로드 \n",
        "\n",
        "##키, 몸무게, 레이블이 적힌 CSV 파일 읽기 \n",
        "csv= pd.read_csv('/content/sample_data/bmi.csv')\n",
        "\n",
        "#데이터를 정규화\n",
        "csv['height']=csv['height']/200 \n",
        "csv['weight']=csv['weight']/100 \n",
        "\n",
        "#레이블은 배열로.. \n",
        "bclass= {\"thin\":[1,0,0],\"normal\":[0,1,0],\"fat\":[0,0,1]}\n",
        "csv[\"label_pat\"] =csv[\"label\"].apply(lambda x: np.array(bclass[x]))\n",
        "\n",
        "#테스트를 위한 데이터분류  \n",
        "test_csv= csv[15000:20000] \n",
        "test_pat= test_csv[[\"weight\",\"height\"]] \n",
        "test_ans =list(test_csv[\"label_pat\"]) \n",
        "\n",
        "#데이터플로우 그래프 구축하기 \n",
        "x= tf.placeholder(tf.float32, [None,2]) #키와 몸무게 \n",
        "y_= tf.placeholder(tf.float32, [None,3]) #정답레이블용 3개값:Thin(1,0,0) normal(0,1,0) fat(0,0,1) \n",
        "\n",
        "#변수선언\n",
        "W= tf.Variable(tf.zeros([2,3]))#가중치 \n",
        "b= tf.Variable(tf.zeros([3])) #바이어스 \n",
        "\n",
        "#소프트맥스 회귀 정의하기 \n",
        "y=tf.nn.softmax(tf.matmul(x,W)+b) \n",
        "\n",
        "#모델훈련\n",
        "cross_entropy= -tf.reduce_sum(y_*tf.log(y))\n",
        "optimizer =tf.train.GradientDescentOptimizer(0.01)#학습계수(0.01) 오차범위에 대핟 최적화 \n",
        "train= optimizer.minimize(cross_entropy)\n",
        "\n",
        "#정답률구하기 \n",
        "predict= tf.equal(tf.argmax(y,1),tf.argmax(y_,1))\n",
        "accuracy= tf.reduce_mean(tf.cast(predict, tf.float32))\n",
        "\n",
        "#세션시작하기\n",
        "sess= tf.Session() \n",
        "sess.run(tf.global_variables_initializer()) #변수초기화\n",
        "\n",
        "##학습시키기\n",
        "for step in range(3500): \n",
        "    i= (step *100 ) % 14000 \n",
        "    rows= csv[1+i:1+i+100] \n",
        "    x_pat= rows[['weight','height']]\n",
        "    y_ans= list(rows['label_pat']) \n",
        "    fd= {x:x_pat,y_:y_ans} \n",
        "    sess.run(train,feed_dict=fd)\n",
        "    if step % 500 ==0: \n",
        "        cre= sess.run(cross_entropy, feed_dict=fd) \n",
        "        acc= sess.run(accuracy, feed_dict={x:test_pat,y_:test_ans})\n",
        "        print(\"step=\",step,\"cre=\",cre,\"acc=\",acc)\n",
        "\n",
        "##최종적인 정답률 구하기\n",
        "acc= sess.run(accuracy, feed_dict={x:test_pat, y_:test_ans})\n",
        "print(\"정답률:\", acc) # 96% 정답률 \n"
      ],
      "metadata": {
        "colab": {
          "base_uri": "https://localhost:8080/"
        },
        "id": "9WjK1QY6QptE",
        "outputId": "a37258fd-497f-4975-848b-7faf9ffb3d2c"
      },
      "execution_count": 44,
      "outputs": [
        {
          "output_type": "stream",
          "name": "stdout",
          "text": [
            "step= 0 cre= 108.76378 acc= 0.3784\n",
            "step= 500 cre= 54.56773 acc= 0.8658\n",
            "step= 1000 cre= 43.975098 acc= 0.9406\n",
            "step= 1500 cre= 31.91398 acc= 0.9314\n",
            "step= 2000 cre= 33.842674 acc= 0.9358\n",
            "step= 2500 cre= 35.45199 acc= 0.936\n",
            "step= 3000 cre= 33.959587 acc= 0.9684\n",
            "정답률: 0.9682\n"
          ]
        }
      ]
    }
  ]
}