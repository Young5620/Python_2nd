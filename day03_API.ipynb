{
 "cells": [
  {
   "cell_type": "code",
   "execution_count": null,
   "metadata": {},
   "outputs": [],
   "source": [
    "## OpenWeatherMap의 API 접속사용\n",
    "# API key : 8d8f4d42f647bda065c6493d6a1e11af\n",
    "# 서울, 도쿄, 뉴욕 날씨를 알아와 출력하기"
   ]
  },
  {
   "cell_type": "code",
   "execution_count": 24,
   "metadata": {},
   "outputs": [
    {
     "name": "stdout",
     "output_type": "stream",
     "text": [
      "+ 도시 =  Seoul\n",
      "| 날씨 =  clear sky\n",
      "| 최저기온 =  23.7\n",
      "| 최저기온 =  19.7\n",
      "| 습도 =  35\n",
      "| 기압 =  1011\n",
      "| 풍향 =  210\n",
      "| 풍속 =  3.6\n",
      "\n",
      "+ 도시 =  Tokyo\n",
      "| 날씨 =  light rain\n",
      "| 최저기온 =  15.8\n",
      "| 최저기온 =  14.3\n",
      "| 습도 =  90\n",
      "| 기압 =  1011\n",
      "| 풍향 =  20\n",
      "| 풍속 =  6.2\n",
      "\n",
      "+ 도시 =  New York\n",
      "| 날씨 =  broken clouds\n",
      "| 최저기온 =  21.2\n",
      "| 최저기온 =  14.8\n",
      "| 습도 =  82\n",
      "| 기압 =  1010\n",
      "| 풍향 =  360\n",
      "| 풍속 =  3.1\n",
      "\n",
      "b'<?xml version=\"1.0\" encoding=\"UTF-8\"?>\\r\\n<response><header><resultCode>99</resultCode><resultMsg>\\xec\\xb5\\x9c\\xeb\\x8c\\x80 \\xec\\xa1\\xb0\\xed\\x9a\\x8c \\xea\\xb8\\xb0\\xea\\xb0\\x84\\xec\\x9d\\x80 \\xec\\x98\\xa4\\xeb\\x8a\\x98 \\xea\\xb8\\xb0\\xec\\xa4\\x80\\xec\\x9c\\xbc\\xeb\\xa1\\x9c 2\\xec\\x9d\\xbc \\xec\\xa0\\x84\\xea\\xb9\\x8c\\xec\\xa7\\x80\\xec\\x9e\\x85\\xeb\\x8b\\x88\\xeb\\x8b\\xa4.</resultMsg></header></response>\\r\\n'\n"
     ]
    }
   ],
   "source": [
    "import requests\n",
    "import json\n",
    "\n",
    "# APIkey 지정\n",
    "apikey = \"8d8f4d42f647bda065c6493d6a1e11af\"\n",
    "Cities = [\"Seoul, KR\", \"Tokyo, JP\", \"New York, US\"]\n",
    "api = \"http://api.openweathermap.org/data/2.5/weather?q={City}&APPID={key}\"\n",
    "\n",
    "# 켈빈 온도를 섭씨로 변환\n",
    "k2c = lambda k:k - 273.15\n",
    "\n",
    "# 각 도시의 정보 추출\n",
    "for name in Cities:\n",
    "    # API요청 url 구성\n",
    "    url = api.format(City=name, key=apikey)\n",
    "    # API요청\n",
    "    re = requests.get(url)\n",
    "    # 요청 결과를 Json으로\n",
    "    data = json.loads((re.text))\n",
    "    # 결과 보기\n",
    "    print(\"+ 도시 = \", data[\"name\"])\n",
    "    print(\"| 날씨 = \", data[\"weather\"][0][\"description\"])\n",
    "    print(\"| 최저기온 = \", round(k2c(data[\"main\"][\"temp_max\"]),1))\n",
    "    print(\"| 최저기온 = \", round(k2c(data[\"main\"][\"temp_min\"]),1))\n",
    "    print(\"| 습도 = \", data[\"main\"][\"humidity\"])\n",
    "    print(\"| 기압 = \", data[\"main\"][\"pressure\"])\n",
    "    print(\"| 풍향 = \", data[\"wind\"][\"deg\"])\n",
    "    print(\"| 풍속 = \", round(data[\"wind\"][\"speed\"],1))\n",
    "    print()\n",
    "    \n",
    "# http://bulk.openweathermap.org/sample/city.list.json.gz\n",
    "\n",
    "# API들\n",
    "# https://apistore.co.kr/main.do\n",
    "# https://developers.naver.com/main/    네이버 개발자 센터\n",
    "# https://developers.kakao.com/         카카오 개발자 센터\n",
    "# https://developer.auction.co.kr/\n",
    "# https://developers.coupangcorp.com/hc/ko\n",
    "# https://data.go.kr\n",
    "\n",
    "\n",
    "    "
   ]
  },
  {
   "cell_type": "code",
   "execution_count": 27,
   "metadata": {},
   "outputs": [
    {
     "name": "stdout",
     "output_type": "stream",
     "text": [
      "<?xml version=\"1.0\" encoding=\"UTF-8\"?>\n",
      "<response><header><resultCode>00</resultCode><resultMsg>NORMAL_SERVICE</resultMsg></header><body><dataType>XML</dataType><items><item><man-file>http://www.kma.go.kr/repositary/image/cht/img/ghmd_s24_2022051500.png</man-file><man-file>http://www.kma.go.kr/repositary/image/cht/img/ghmd_s24_2022051512.png</man-file></item></items><numOfRows>10</numOfRows><pageNo>1</pageNo><totalCount>2</totalCount></body></response>\n",
      "\n"
     ]
    }
   ],
   "source": [
    "url = 'http://apis.data.go.kr/1360000/WthrChartInfoService/getSurfaceChart'\n",
    "key = \"mJY7kBYAXhk/RKUGyE2bdK4xmdSva1vbOql8eXTkPHPez0ruFhHYIFsIM80Vs8cT8tXdcOzKLNL09WgMeOhRhA==\"\n",
    "params ={'serviceKey' : key, 'pageNo' : '1', 'numOfRows' : '10', 'dataType' : 'XML', 'code' : '24', 'time' : '20220515' }\n",
    "\n",
    "response = requests.get(url, params=params)\n",
    "print(response.text)"
   ]
  },
  {
   "cell_type": "code",
   "execution_count": 2,
   "metadata": {},
   "outputs": [
    {
     "name": "stdout",
     "output_type": "stream",
     "text": [
      "+ 서귀포\n",
      "|  구름많음\n",
      "|  구름많음\n",
      "|  구름많음\n",
      "|  구름많음\n",
      "+ 음\n",
      "|  맑음\n",
      "|  맑음\n"
     ]
    }
   ],
   "source": [
    "### 다양한 데이터 형식\n",
    "# 1. XML(Extensible Markup Language)\n",
    "#   : 범용적 데이터 형식으로 W3C에서 만듬\n",
    "# 계층구조로 데이터를 표현할 수 있다는 특징\n",
    "# 기본 구조 : <요소 속성=\"속성값\">내용</요소>\n",
    "# ex) \n",
    "# <products type=\"전자제품\">\n",
    "#   <product id=\"S001\" price=\"45000\">SD카드</product>\n",
    "#   <product id=\"S002\" price=\"32000\">마우스</product>\n",
    "# </products>\n",
    "from bs4 import BeautifulSoup\n",
    "import urllib.request as req\n",
    "import os.path\n",
    "\n",
    "# xml다운로드\n",
    "url = \"https://www.kma.go.kr/weather/forecast/mid-term-rss3.jsp?stnid=108\"\n",
    "savename = \"forecast.xml\"\n",
    "if not os.path.exists(\"data/\"+savename):\n",
    "    req.urlretrieve(url,\"data/\"+savename)\n",
    "    \n",
    "# beatifulsoup으로 분석\n",
    "xml = open(\"data/\"+savename, \"r\",encoding=\"utf-8\")    \n",
    "soup = BeautifulSoup(xml,'html.parser')\n",
    "\n",
    "# 각 지역별 정보 확인\n",
    "info = {}  # 지역정보를 저장할 공간\n",
    "for location in soup.find_all(\"location\"):\n",
    "    name = location.find('city').string\n",
    "    weather = location.find('wf').string\n",
    "    if not (weather in info):\n",
    "        info[weather]=[]\n",
    "    info[weather].append(name)\n",
    "for weather in info.keys():\n",
    "    print(\"+\", name)\n",
    "    for name in weather:\n",
    "        print(\"| \",weather)"
   ]
  },
  {
   "cell_type": "code",
   "execution_count": null,
   "metadata": {},
   "outputs": [],
   "source": [
    "## json의 구조\n",
    "# https://json.org/json-ko.html"
   ]
  },
  {
   "cell_type": "code",
   "execution_count": 64,
   "metadata": {},
   "outputs": [
    {
     "name": "stdout",
     "output_type": "stream",
     "text": [
      "Banana 1000\n",
      "Orange 1400\n",
      "Apple 2000\n"
     ]
    }
   ],
   "source": [
    "# YaML문석\n",
    "#  : 들여쓰기를 사용해서 계층 구조를 표현하는 것이 특징인 데이터 형식\n",
    "#    xml보다 간단하고 거의 json과 비슷\n",
    "#    파이썬에서 YAML을 다루기 위해서는 PyYAML이라는 모듈을 설치\n",
    "import yaml\n",
    "\n",
    "# yaml예제\n",
    "yaml_str = \"\"\"\n",
    "Date : 2022-05-16\n",
    "PriceList :\n",
    "    -\n",
    "    item_id: 1000\n",
    "    name: Banana\n",
    "    color: yellow\n",
    "    price: 1000\n",
    "    \n",
    "    -    \n",
    "    item_id: 1001\n",
    "    name: Orange\n",
    "    color: orange\n",
    "    price: 1400\n",
    "    \n",
    "    -  \n",
    "    item_id: 1002\n",
    "    name: Apple\n",
    "    color: red\n",
    "    price: 2000\"\"\"\n",
    "data1 = yaml.full_load(yaml_str)    \n",
    "data2 = yaml.safe_load(yaml_str)\n",
    "\n",
    "for item in data2['PriceList']:\n",
    "    print(item['name'],item['price'])"
   ]
  },
  {
   "cell_type": "code",
   "execution_count": 71,
   "metadata": {},
   "outputs": [
    {
     "name": "stdout",
     "output_type": "stream",
     "text": [
      "- age: '24'\n",
      "  gender: man\n",
      "  name: InSeong\n",
      "- age: '22'\n",
      "  gender: woman\n",
      "  name: GilJa\n",
      "- age: '31'\n",
      "  gender: man\n",
      "  name: SunShin\n",
      "- age: '23'\n",
      "  gender: man\n",
      "  name: BangWon\n",
      "\n",
      "InSeong\n",
      "GilJa\n",
      "SunShin\n",
      "BangWon\n"
     ]
    }
   ],
   "source": [
    "import yaml\n",
    "\n",
    "# 파이썬 데이터를 yaml데이터 출력\n",
    "customer = [\n",
    "    {\"name\":\"InSeong\", \"age\":\"24\", \"gender\":\"man\"},\n",
    "    {\"name\":\"GilJa\", \"age\":\"22\", \"gender\":\"woman\"},\n",
    "    {\"name\":\"SunShin\", \"age\":\"31\", \"gender\":\"man\"},\n",
    "    {\"name\":\"BangWon\", \"age\":\"23\", \"gender\":\"man\"}\n",
    "]\n",
    "\n",
    "# yaml데이터로 변환\n",
    "yaml_str1 = yaml.dump(customer)\n",
    "print(yaml_str1)\n",
    "\n",
    "# yaml데이터를 파이썬 데이터로 변환\n",
    "data = yaml.safe_load(yaml_str1)\n",
    "for name in data:\n",
    "    print(name['name'])"
   ]
  },
  {
   "cell_type": "code",
   "execution_count": 72,
   "metadata": {},
   "outputs": [
    {
     "name": "stdout",
     "output_type": "stream",
     "text": [
      "title =  #FF0000\n",
      "body =  #00FF00\n",
      "link =  #00FFFF\n"
     ]
    }
   ],
   "source": [
    "### YAML의 기본은 배열, 해시, 스칼라(문자열, 숫자, 블리언)\n",
    "### 배열을 나타낼 때는 각 행의 앞에 하이픈(-)을 붙인다. 하이픈 뒤에는 공백이 필요함\n",
    "\n",
    "# - banana\n",
    "# - kiwi\n",
    "# - mango\n",
    "\n",
    "# 예시(중첩 배열), 들여쓰기 다음에 바로 빈 요소를 사용함\n",
    "# - Yellow\n",
    "# -\n",
    "#  - Banana\n",
    "#  - Orange\n",
    "# - Red\n",
    "# -\n",
    "#  - Apple\n",
    "#  - StrawBerry\n",
    "\n",
    "### 해시표현(\"<키>:<값>\"), 해시표현 시에도 들여쓰기를 사용하여 계층구조를 표현\n",
    "# name: Gurum\n",
    "# age: 4\n",
    "# color: brown\n",
    "\n",
    "### YAML의 주석은 \"#\"\n",
    "\n",
    "### YAML에서 여러줄 문자열을 지정하는 방법\n",
    "# multi-line: |\n",
    "#   I like Banana\n",
    "#   I like Mango\n",
    "#   I like Orange\n",
    "\n",
    "### YAML은 앵커와 별칭 기능을 제공\n",
    "# \"&<이름>\"형태로 변수를 선언, \"*<이름>\" 형태로 참조\n",
    "#    앵커                        별칭\n",
    "\n",
    "# 색 정의\n",
    "# color_define:\n",
    "#     - &color1 \"#FF0000\"\n",
    "#     - &color2 \"#00FF00\"\n",
    "#     - &color3 \"#00FFFF\"\n",
    "\n",
    "# 색 설정\n",
    "# frame_color:\n",
    "#     title: *color1\n",
    "#     logo: *color2\n",
    "\n",
    "# article_color:\n",
    "#     title: *color2\n",
    "#     back: *color3\n",
    "\n",
    "import yaml\n",
    "\n",
    "# 문자열로 yaml을 정의\n",
    "yaml_str = \"\"\"\n",
    "# 색 정의\n",
    "color_def:\n",
    "    - &color1 \"#FF0000\"\n",
    "    - &color2 \"#00FF00\"\n",
    "    - &color3 \"#00FFFF\"\n",
    "\n",
    "# 색 설정(별칭 테스트)\n",
    "color:\n",
    "    title: *color1\n",
    "    body: *color2\n",
    "    link: *color3\n",
    "\n",
    "\"\"\"\n",
    "\n",
    "# YAML 데이터로 분석\n",
    "data = yaml.safe_load(yaml_str)\n",
    "\n",
    "# 별칭 확인\n",
    "print(\"title = \", data[\"color\"][\"title\"])\n",
    "print(\"body = \", data[\"color\"][\"body\"])\n",
    "print(\"link = \", data[\"color\"][\"link\"])"
   ]
  },
  {
   "cell_type": "code",
   "execution_count": 16,
   "metadata": {},
   "outputs": [
    {
     "name": "stdout",
     "output_type": "stream",
     "text": [
      "1 울산 1,140\n",
      "2 광주 1,488\n",
      "3 대전 1,500\n",
      "4 강원 1,515\n",
      "5 충북 1,632\n"
     ]
    }
   ],
   "source": [
    "### Excel 파일 읽기\n",
    "import openpyxl\n",
    "import os.path\n",
    "\n",
    "# 엑셀 파일 열기\n",
    "\n",
    "filename = \"stat_100701.xlsx\"\n",
    "book = openpyxl.load_workbook(\"data/\"+filename)\n",
    "\n",
    "# 맨 앞에 시트(sheet) 추출\n",
    "sheet = book.worksheets[0]\n",
    "sheet\n",
    "\n",
    "# 시트의 각 행을 순서대로 추출\n",
    "data = []\n",
    "for row in sheet.rows:\n",
    "    data.append([\n",
    "        row[0].value,\n",
    "        row[7].value\n",
    "    ])\n",
    "\n",
    "# 필요없는 줄(헤더, 연도, 계) 제거하기\n",
    "del data[0:4]\n",
    "del data[-4:]\n",
    "data\n",
    "\n",
    "# 데이터를 인구 순서로 정렬\n",
    "data = sorted(data, key=lambda x:x[1])\n",
    "data\n",
    "\n",
    "# 하위 5위까지를 출력합니다\n",
    "for i, a in enumerate(data):\n",
    "    if(i >= 5) : break\n",
    "    print(i+1, a[0], a[1])"
   ]
  },
  {
   "cell_type": "code",
   "execution_count": null,
   "metadata": {},
   "outputs": [],
   "source": [
    "import pandas\n",
    "\n",
    "data_test = pandas.read_excel(\"data/\"+filename)\n",
    "data_test"
   ]
  },
  {
   "cell_type": "code",
   "execution_count": null,
   "metadata": {},
   "outputs": [],
   "source": [
    "pip install openpyxl"
   ]
  },
  {
   "cell_type": "code",
   "execution_count": 10,
   "metadata": {},
   "outputs": [
    {
     "name": "stdout",
     "output_type": "stream",
     "text": [
      "서울 제외 인구 =  41596\n",
      "서울 제외 인구 =  41902\n",
      "서울 제외 인구 =  42047\n",
      "서울 제외 인구 =  42179\n"
     ]
    }
   ],
   "source": [
    "## Excel 데이터 쓰기\n",
    "import openpyxl\n",
    "\n",
    "filename = \"stat_100701_re.xlsx\"\n",
    "book = openpyxl.load_workbook(\"data/\"+filename)\n",
    "\n",
    "# 활성화된 시트 추출\n",
    "sheet = book.active\n",
    "sheet\n",
    "\n",
    "# 서울을 제외한 인구를 구해서 쓰기\n",
    "for i in range(0,4):\n",
    "    total = int(sheet[str(chr(i+66))+\"5\"].value)\n",
    "    seoul = int(sheet[str(chr(i+66))+\"6\"].value)\n",
    "    output = total-seoul\n",
    "    print(\"서울 제외 인구 = \", output)\n",
    "    \n",
    "    # 쓰기\n",
    "    sheet[str(chr(i+66))+\"24\"] = output\n",
    "    cell = sheet[str(chr(i+66))+\"24\"]\n",
    "    \n",
    "    # 폰트 색상 변경\n",
    "    cell.font = openpyxl.styles.Font(size=14, color=\"FF0000\")\n",
    "    cell.number_format = cell.number_format\n",
    "sheet[str(chr(65))+\"24\"] = \"서울제외인구\"\n",
    "\n",
    "# 엑셀파일 저장하기\n",
    "filename = \"population.xlsx\"\n",
    "book.save(\"data/\"+filename)\n",
    "    "
   ]
  },
  {
   "cell_type": "code",
   "execution_count": null,
   "metadata": {},
   "outputs": [],
   "source": [
    "pip list"
   ]
  }
 ],
 "metadata": {
  "interpreter": {
   "hash": "26de051ba29f2982a8de78e945f0abaf191376122a1563185a90213a26c5da77"
  },
  "kernelspec": {
   "display_name": "Python 3.10.3 64-bit",
   "language": "python",
   "name": "python3"
  },
  "language_info": {
   "codemirror_mode": {
    "name": "ipython",
    "version": 3
   },
   "file_extension": ".py",
   "mimetype": "text/x-python",
   "name": "python",
   "nbconvert_exporter": "python",
   "pygments_lexer": "ipython3",
   "version": "3.10.3"
  },
  "orig_nbformat": 4
 },
 "nbformat": 4,
 "nbformat_minor": 2
}
