{
 "cells": [
  {
   "cell_type": "code",
   "execution_count": 2,
   "metadata": {},
   "outputs": [],
   "source": [
    "import urllib.request as rq\n",
    "import urllib.parse as parse\n",
    "import selenium\n",
    "from selenium import webdriver\n",
    "from bs4 import BeautifulSoup"
   ]
  },
  {
   "cell_type": "code",
   "execution_count": 44,
   "metadata": {},
   "outputs": [
    {
     "name": "stdout",
     "output_type": "stream",
     "text": [
      "미국 환율 : 1,273.20 원\n"
     ]
    }
   ],
   "source": [
    "## 연습!\n",
    "# https://finance.naver.com/ 에 접속하여 달러 환율정보 확인\n",
    "\n",
    "url = 'https://finance.naver.com/'\n",
    "\n",
    "res = rq.urlopen(url).read()\n",
    "data = res.decode(\"euc-kr\")\n",
    "\n",
    "soup = BeautifulSoup(data, \"html.parser\")\n",
    "\n",
    "price = soup.select_one(\"div.group1 > table.tbl_home > tbody > tr.up.bold > td\")\n",
    "print(f\"미국 환율 : {price.string} 원\")"
   ]
  },
  {
   "cell_type": "code",
   "execution_count": 143,
   "metadata": {},
   "outputs": [
    {
     "name": "stdout",
     "output_type": "stream",
     "text": [
      "\t\t종목\t\t\t  가격\n",
      "1위 대한전선 \t\t\t\t 2,095 원\n",
      "2위 KODEX 200선물인버스2X \t\t 2,665 원\n",
      "3위 부산주공 \t\t\t\t 909 원\n",
      "4위 GS글로벌 \t\t\t\t 4,670 원\n",
      "5위 삼성 인버스 2X WTI원유 선물 ETN \t 125 원\n",
      "6위 소니드 \t\t\t\t 1,360 원\n",
      "7위 이루온 \t\t\t\t 2,900 원\n",
      "8위 신한 인버스 2X WTI원유 선물 ETN(H) \t 120 원\n",
      "9위 TYM \t\t\t\t 3,520 원\n",
      "10위 휴림로봇 \t\t\t\t 3,980 원\n"
     ]
    }
   ],
   "source": [
    "## 거래 상위 10개를 추출하여 출력하세요\n",
    "## 종목과 가격 => 대한전기 2140와 같은 식으로 출력\n",
    "\n",
    "top_deal_names = soup.select(\"#_topItems1 > tr > th\")\n",
    "name_lst = []\n",
    "for i in range(len(top_deal_names)):\n",
    "    name_lst.append(top_deal_names[i].text)\n",
    "top_deal_prices = soup.select(\"#_topItems1 > tr > td\")\n",
    "price_lst = []\n",
    "top_deal_prices\n",
    "for i in range(0,len(top_deal_prices),3):\n",
    "    price_lst.append(top_deal_prices[i].text)\n",
    "    \n",
    "    \n",
    "print(\"\\t\\t종목\\t\\t\\t  가격\")\n",
    "for j in range(10) :\n",
    "    if len(name_lst[j]) > 13 and len(name_lst[j]) <= 16:\n",
    "        print(f\"{j+1}위 {name_lst[j]} \\t\\t {price_lst[j]} 원\")\n",
    "    elif len(name_lst[j]) >= 15:\n",
    "        print(f\"{j+1}위 {name_lst[j]} \\t {price_lst[j]} 원\")\n",
    "    else:\n",
    "        print(f\"{j+1}위 {name_lst[j]} \\t\\t\\t\\t {price_lst[j]} 원\")\n",
    "\n",
    "# top_list = soup.select(\"#_topItems1 > tr > th > a\")\n",
    "# top_list_name = [top_list[i].string for i in range(10)]\n",
    "# top_list_pr = soup.select(\"#_topItems1 > tr > td\")\n",
    "# top_list_pr1 = [top_list_pr[i].string for i in range(0,30,3)] # 가격\n",
    "# top_list_pr2 = [top_list_pr[i].string for i in range(1,30,3)] # 상승 or 하락\n",
    "# top_list_pr3 = [top_list_pr[i].string for i in range(2,30,3)] # 등락률"
   ]
  },
  {
   "cell_type": "code",
   "execution_count": 152,
   "metadata": {},
   "outputs": [
    {
     "name": "stdout",
     "output_type": "stream",
     "text": [
      "http://example.com/html/b.html\n",
      "http://example.com/html/sub/c.html\n",
      "http://example.com/index.html\n",
      "http://example.com/img/home.png\n",
      "http://example.com/css/home.css\n",
      "http://example.com/index.html\n",
      "http://otherExample.com/wiki\n",
      "http://otherExample.com/wiki\n"
     ]
    }
   ],
   "source": [
    "## 링크에 있는 내용을 한꺼번에 처리하기\n",
    "\n",
    "# 재귀적으로 탐색하기 위해서 사용하는 함수 - urljoin(base, \"상대경로\") 함수\n",
    "from urllib.parse import urljoin\n",
    "\n",
    "# 상대경로\n",
    "base = \"http://example.com/html/a.html\"\n",
    "print(urljoin(base, \"b.html\"))              # http://example.com/html/b.html\n",
    "print(urljoin(base, \"sub/c.html\"))          # http://example.com/html/sub/c.html\n",
    "print(urljoin(base, \"../index.html\"))       # http://example.com/index.html\n",
    "print(urljoin(base, \"../img/home.png\"))     # http://example.com/img/home.png\n",
    "print(urljoin(base, \"../css/home.css\"))     # http://example.com/css/home.css\n",
    "\n",
    "# 주의사항(절대경로)\n",
    "print(urljoin(base, \"/index.html\"))         # http://example.com/index.html\n",
    "print(urljoin(base, \"http://otherExample.com/wiki\"))    # http://otherExample.com/wiki\n",
    "print(urljoin(base, \"//otherExample.com/wiki\"))         # http://otherExample.com/wiki\n",
    "\n",
    "# 참고\n",
    "url = \"http://example.com/html/a.html\"\n",
    "t = urlparse(url)\n",
    "t.netloc                # 'example.com'\n",
    "t.path                  # '/html/a.html'\n"
   ]
  },
  {
   "cell_type": "code",
   "execution_count": null,
   "metadata": {},
   "outputs": [],
   "source": [
    "## 처리 순서\n",
    "# 1. HTML분석\n",
    "# 2. 링크 추출\n",
    "# 3. 각 링크 대상에 대해 다음 동작 구동\n",
    "#   3-1. 다운로드 파일인 경우 다운로드(img, css..등등)\n",
    "#   3-2. 다운로드 파일이 아닌 경우(파일 HTML이라면 1번으로 돌아가 다시 실행)"
   ]
  },
  {
   "cell_type": "code",
   "execution_count": null,
   "metadata": {},
   "outputs": [],
   "source": [
    "## 모든 페이지를 한꺼번에 다운받는 프로그램\n",
    "# (https://docs.python.org/3.10/library/index.html)\n",
    "# \n",
    "# 모듈\n",
    "from bs4 import BeautifulSoup\n",
    "from urllib.request import *\n",
    "from urllib.parse import *\n",
    "from os import makedirs\n",
    "import os.path, time, re\n",
    "\n",
    "## 처리한 내용이 파일인지 여부 확인을 위한 변수\n",
    "proc_files = {}\n",
    "\n",
    "# HTML 내부에 있는 링크를 추출하는 함수\n",
    "def enum_links(html, base):\n",
    "    soup = BeautifulSoup(html, \"html.parser\")\n",
    "    links = soup.select(\"link[rel='stylesheet']\")   # CSS\n",
    "    links += soup.select(\"a[href]\")                 # 링크\n",
    "    \n",
    "    result = []\n",
    "    # href 속성을 추출하고, 링크를 절대경로로 변환하여 저장\n",
    "    for a in links:\n",
    "        href = a.attrs['href']\n",
    "        url = urljoin(base, href)\n",
    "        result.append(url)\n",
    "    return result\n",
    "\n",
    "# 파일을 다운로드하고 저장하는 함수\n",
    "def download_file(url):\n",
    "    o = urlparse(url)\n",
    "    savepath = \"./\" + o.netloc + o.path\n",
    "    if re.search(r\"/$\", savepath):          # savepath의 마지막이 \"/\"라면..\n",
    "        savepath += \"index.html\"            # 기본문서 처리\n",
    "    \n",
    "    # 디렉토리를 만드는 작업\n",
    "    savedir = os.path.dirname(savepath)     # savepath의 경로를 추출\n",
    "    \n",
    "    # 모두 다운됐는지 여부 확인\n",
    "    if os.path.exists(savepath) : return savepath\n",
    "    \n",
    "    # 다운받을 디렉토리를 생성\n",
    "    if not os.path.exists(savedir):\n",
    "        print(\"mkdir = \" , savedir)\n",
    "        makedirs(savedir)\n",
    "    \n",
    "    # 파일 다운받기\n",
    "    try:\n",
    "        print(\"download = \" , url)\n",
    "        urlretrieve(url, savepath)\n",
    "        time.sleep(1)       # 1초 쉬었다가 동작\n",
    "        return savepath\n",
    "    except:\n",
    "        print(\"다운로드 실패 : \", url)\n",
    "        return None\n",
    "\n",
    "# HTML을 분석하고 다운받는 함수\n",
    "def analyze_html(url, root_url):\n",
    "    savepath = download_file(url)\n",
    "    if savepath is None : return\n",
    "    if savepath in proc_files: return     # 이미 처리되었다면 실행하지 않음\n",
    "    proc_files[savepath] = True\n",
    "    print(\"analyze_html = \", url)\n",
    "    \n",
    "    # 링크추출\n",
    "    html = open(savepath, \"r\", encoding=\"utf-8\").read()\n",
    "    links = enum_links(html, url)\n",
    "    \n",
    "    for link_url in links:\n",
    "        # 링크가 루트 이외의 경로를 나타낸다면 무시\n",
    "        if link_url.find(root_url) != 0:\n",
    "            if not re.search(r\".css$\", link_url) : continue\n",
    "            \n",
    "        # HTML 이라면\n",
    "        if re.search(r\".(html|htm)$\", link_url) :\n",
    "            # 재귀적으로 html을 분석\n",
    "            analyze_html(link_url, root_url)\n",
    "            continue\n",
    "        \n",
    "        # 기타 파일\n",
    "        download_file(link_url)\n",
    "\n",
    "# 일반 파이썬 파일인 경우 사용\n",
    "# if __name__ == \"__main__\":\n",
    "#     # url에 있는 모든 것 다운받기\n",
    "#     url = \"https://docs.python.org/3.10/library/\"\n",
    "#     analyze_html(url, url)\n",
    "\n",
    "# 실행\n",
    "url = \"https://docs.python.org/3.10/library/\"\n",
    "analyze_html(url, url)\n",
    "    "
   ]
  },
  {
   "cell_type": "code",
   "execution_count": null,
   "metadata": {},
   "outputs": [],
   "source": [
    "### requests 패키지를 이용한 접근\n",
    "### 파이썬으로 로그인하기\n",
    "import requests\n",
    "from bs4 import BeautifulSoup\n",
    "from urllib.parse import urljoin\n",
    "\n",
    "# 아이디와 비밀번호 지정\n",
    "USER = \"ojy033\"\n",
    "PASS = \"dhwndud951753!\"\n",
    "\n",
    "# 세션 시작\n",
    "session = requests.session()\n",
    "# 로그인하기\n",
    "login_info = {\n",
    "    \"m_id\" : USER,\n",
    "    \"m_passwd\" : PASS\n",
    "}\n",
    "\n",
    "url_login = \"https://www.hanbit.co.kr/member/login.html\"\n",
    "res = session.post(url_login, data=login_info)\n",
    "res.raise_for_status() # 오류가 발생하면 예외를 발생\n",
    "\n",
    "# 마이페이지에 접근\n",
    "url_mypage = \"https://www.hanbit.co.kr/myhanbit/myhanbit.html\"\n",
    "res = session.get(url_mypage)\n",
    "print(res.text)"
   ]
  },
  {
   "cell_type": "code",
   "execution_count": null,
   "metadata": {},
   "outputs": [],
   "source": [
    "## requests 모듈의 메서드\n",
    "\n",
    "# get요청\n",
    "r = requests.get(\"http://google.com\")\n",
    "\n",
    "# post요청\n",
    "formdata = {\n",
    "    \"key1\" : \"value1\",\n",
    "    \"key2\" : \"value2\"\n",
    "}\n",
    "\n",
    "r = requests.post(\"http://example.com\", data = formdata)\n",
    "r.content"
   ]
  },
  {
   "cell_type": "code",
   "execution_count": null,
   "metadata": {},
   "outputs": [],
   "source": [
    "# 업로드\n",
    "r = requests.put(\"http://httpbin.org/put\")\n",
    "# 삭제\n",
    "r = requests.delete(\"http://httpbin.org/delete\")\n",
    "# header정보만 받아오기\n",
    "r = requests.head(\"http://httpbin.org/get\")"
   ]
  },
  {
   "cell_type": "code",
   "execution_count": null,
   "metadata": {},
   "outputs": [],
   "source": [
    "r = requests.put(\"http://localhost:8100/put.txt\", data = \"test\")"
   ]
  },
  {
   "cell_type": "code",
   "execution_count": null,
   "metadata": {},
   "outputs": [],
   "source": [
    "from http.server import HTTPServer, SimpleHTTPRequestHandler\n",
    "\n",
    "server = HTTPServer(('0.0.0.0', 8100), SimpleHTTPRequestHandler)\n",
    "server.serve_forever()"
   ]
  },
  {
   "cell_type": "code",
   "execution_count": 174,
   "metadata": {},
   "outputs": [
    {
     "name": "stderr",
     "output_type": "stream",
     "text": [
      "C:\\Users\\user\\AppData\\Local\\Temp\\ipykernel_3536\\144402326.py:5: DeprecationWarning: executable_path has been deprecated, please pass in a Service object\n",
      "  driver = webdriver.Chrome(path)\n"
     ]
    }
   ],
   "source": [
    "from selenium import webdriver\n",
    "USER = \"ojy033\"\n",
    "PASS = \"dhwndud951753!\"\n",
    "path = \"c:\\\\webdriver\\\\chromedriver.exe\"\n",
    "driver = webdriver.Chrome(path)"
   ]
  },
  {
   "cell_type": "code",
   "execution_count": 175,
   "metadata": {},
   "outputs": [],
   "source": [
    "# 한빛로그인 페이지\n",
    "url_login = \"https://www.hanbit.co.kr/member/login.html\"\n",
    "driver.get(url_login)"
   ]
  },
  {
   "cell_type": "code",
   "execution_count": 176,
   "metadata": {},
   "outputs": [
    {
     "name": "stderr",
     "output_type": "stream",
     "text": [
      "C:\\Users\\user\\AppData\\Local\\Temp\\ipykernel_3536\\3070985115.py:6: DeprecationWarning: find_element_by_* commands are deprecated. Please use find_element() instead\n",
      "  m_id = driver.find_element_by_id('m_id')\n",
      "C:\\Users\\user\\AppData\\Local\\Temp\\ipykernel_3536\\3070985115.py:9: DeprecationWarning: find_element_by_* commands are deprecated. Please use find_element() instead\n",
      "  m_passwd = driver.find_element_by_id('m_passwd')\n"
     ]
    }
   ],
   "source": [
    "# 로그인 창에 ID와 비밀번호 입력\n",
    "# USER = \"wntpdls\"\n",
    "# PASS = \"wntpdls95\"\n",
    "USER = \"ojy033\"\n",
    "PASS = \"dhwndud951753!\"\n",
    "m_id = driver.find_element_by_id('m_id')\n",
    "m_id.clear()\n",
    "m_id.send_keys(USER)\n",
    "m_passwd = driver.find_element_by_id('m_passwd')\n",
    "m_passwd.clear()\n",
    "m_passwd.send_keys(PASS)\n"
   ]
  },
  {
   "cell_type": "code",
   "execution_count": 177,
   "metadata": {},
   "outputs": [
    {
     "name": "stderr",
     "output_type": "stream",
     "text": [
      "C:\\Users\\user\\AppData\\Local\\Temp\\ipykernel_3536\\695084030.py:2: DeprecationWarning: find_element_by_class_name is deprecated. Please use find_element(by=By.CLASS_NAME, value=name) instead\n",
      "  driver.find_element_by_class_name('btn_login').click()\n"
     ]
    }
   ],
   "source": [
    "# 로그인 버튼 클릭\n",
    "driver.find_element_by_class_name('btn_login').click()"
   ]
  },
  {
   "cell_type": "code",
   "execution_count": 178,
   "metadata": {},
   "outputs": [],
   "source": [
    "driver.get(\"https://www.hanbit.co.kr/myhanbit/myhanbit.html\")"
   ]
  },
  {
   "cell_type": "code",
   "execution_count": 179,
   "metadata": {},
   "outputs": [
    {
     "name": "stdout",
     "output_type": "stream",
     "text": [
      "한빛 마일리지 : 2,000 점\n",
      "한빛 이코인 : 0 점\n"
     ]
    },
    {
     "name": "stderr",
     "output_type": "stream",
     "text": [
      "C:\\Users\\user\\AppData\\Local\\Temp\\ipykernel_3536\\3513169643.py:1: DeprecationWarning: find_element_by_css_selector is deprecated. Please use find_element(by=By.CSS_SELECTOR, value=css_selector) instead\n",
      "  mileage = driver.find_element_by_css_selector(\".mileage_section1 span\")\n",
      "C:\\Users\\user\\AppData\\Local\\Temp\\ipykernel_3536\\3513169643.py:2: DeprecationWarning: find_element_by_css_selector is deprecated. Please use find_element(by=By.CSS_SELECTOR, value=css_selector) instead\n",
      "  ecoin = driver.find_element_by_css_selector(\".mileage_section2 span\")\n"
     ]
    }
   ],
   "source": [
    "mileage = driver.find_element_by_css_selector(\".mileage_section1 span\")\n",
    "ecoin = driver.find_element_by_css_selector(\".mileage_section2 span\")\n",
    "print(f\"한빛 마일리지 : {mileage.text} 점\")\n",
    "print(f\"한빛 이코인 : {ecoin.text} 점\")"
   ]
  },
  {
   "cell_type": "code",
   "execution_count": 183,
   "metadata": {},
   "outputs": [],
   "source": [
    "naver = \"https://www.naver.com/\"\n",
    "driver.get(naver)"
   ]
  },
  {
   "cell_type": "code",
   "execution_count": 184,
   "metadata": {},
   "outputs": [
    {
     "name": "stderr",
     "output_type": "stream",
     "text": [
      "C:\\Users\\user\\AppData\\Local\\Temp\\ipykernel_3536\\3314414918.py:2: DeprecationWarning: find_element_by_class_name is deprecated. Please use find_element(by=By.CLASS_NAME, value=name) instead\n",
      "  driver.find_element_by_class_name('link_login').click()\n"
     ]
    }
   ],
   "source": [
    "# 로그인 버튼 클릭\n",
    "driver.find_element_by_class_name('link_login').click()"
   ]
  },
  {
   "cell_type": "code",
   "execution_count": 189,
   "metadata": {},
   "outputs": [
    {
     "name": "stderr",
     "output_type": "stream",
     "text": [
      "C:\\Users\\user\\AppData\\Local\\Temp\\ipykernel_3536\\2112023443.py:3: DeprecationWarning: find_element_by_* commands are deprecated. Please use find_element() instead\n",
      "  id = driver.find_element_by_id('id')\n",
      "C:\\Users\\user\\AppData\\Local\\Temp\\ipykernel_3536\\2112023443.py:6: DeprecationWarning: find_element_by_* commands are deprecated. Please use find_element() instead\n",
      "  pw = driver.find_element_by_id('pw')\n"
     ]
    }
   ],
   "source": [
    "USER = \"ojy033\"\n",
    "PASS = \"wndud951\"\n",
    "id = driver.find_element_by_id('id')\n",
    "id.clear()\n",
    "id.send_keys(USER)\n",
    "pw = driver.find_element_by_id('pw')\n",
    "pw.clear()\n",
    "pw.send_keys(PASS)"
   ]
  },
  {
   "cell_type": "code",
   "execution_count": 190,
   "metadata": {},
   "outputs": [
    {
     "name": "stderr",
     "output_type": "stream",
     "text": [
      "C:\\Users\\user\\AppData\\Local\\Temp\\ipykernel_3536\\3056327959.py:1: DeprecationWarning: find_element_by_class_name is deprecated. Please use find_element(by=By.CLASS_NAME, value=name) instead\n",
      "  driver.find_element_by_class_name('btn_login').click()\n"
     ]
    }
   ],
   "source": [
    "driver.find_element_by_class_name('btn_login').click()"
   ]
  },
  {
   "cell_type": "code",
   "execution_count": 191,
   "metadata": {},
   "outputs": [
    {
     "name": "stderr",
     "output_type": "stream",
     "text": [
      "C:\\Users\\user\\AppData\\Local\\Temp\\ipykernel_3536\\663219741.py:1: DeprecationWarning: find_element_by_* commands are deprecated. Please use find_element() instead\n",
      "  pw = driver.find_element_by_id('pw')\n"
     ]
    }
   ],
   "source": [
    "pw = driver.find_element_by_id('pw')\n",
    "pw.clear()\n",
    "pw.send_keys(PASS)"
   ]
  },
  {
   "cell_type": "code",
   "execution_count": 192,
   "metadata": {},
   "outputs": [
    {
     "name": "stderr",
     "output_type": "stream",
     "text": [
      "C:\\Users\\user\\AppData\\Local\\Temp\\ipykernel_3536\\2175033482.py:1: DeprecationWarning: find_element_by_* commands are deprecated. Please use find_element() instead\n",
      "  captcha = driver.find_element_by_id('captcha')\n"
     ]
    }
   ],
   "source": [
    "captcha = driver.find_element_by_id('captcha')\n",
    "captcha.clear()\n",
    "captcha.send_keys('36000')"
   ]
  },
  {
   "cell_type": "code",
   "execution_count": 193,
   "metadata": {},
   "outputs": [
    {
     "name": "stderr",
     "output_type": "stream",
     "text": [
      "C:\\Users\\user\\AppData\\Local\\Temp\\ipykernel_3536\\3056327959.py:1: DeprecationWarning: find_element_by_class_name is deprecated. Please use find_element(by=By.CLASS_NAME, value=name) instead\n",
      "  driver.find_element_by_class_name('btn_login').click()\n"
     ]
    }
   ],
   "source": [
    "driver.find_element_by_class_name('btn_login').click()"
   ]
  },
  {
   "cell_type": "code",
   "execution_count": 195,
   "metadata": {},
   "outputs": [],
   "source": [
    "url_pay = \"https://order.pay.naver.com/home\"\n",
    "driver.get(url_pay)"
   ]
  },
  {
   "cell_type": "code",
   "execution_count": 204,
   "metadata": {},
   "outputs": [
    {
     "name": "stdout",
     "output_type": "stream",
     "text": [
      "네이버포인트 : 556원\n"
     ]
    },
    {
     "name": "stderr",
     "output_type": "stream",
     "text": [
      "C:\\Users\\user\\AppData\\Local\\Temp\\ipykernel_3536\\3248183618.py:1: DeprecationWarning: find_element_by_css_selector is deprecated. Please use find_element(by=By.CSS_SELECTOR, value=css_selector) instead\n",
      "  npoint = driver.find_element_by_css_selector(\".my_npoint dd\")\n"
     ]
    }
   ],
   "source": [
    "npoint = driver.find_element_by_css_selector(\".my_npoint dd\")\n",
    "print(f\"네이버포인트 : {npoint.text}\")"
   ]
  },
  {
   "cell_type": "code",
   "execution_count": 4,
   "metadata": {},
   "outputs": [
    {
     "name": "stderr",
     "output_type": "stream",
     "text": [
      "C:\\Users\\user\\AppData\\Local\\Temp\\ipykernel_11156\\290702224.py:5: DeprecationWarning: executable_path has been deprecated, please pass in a Service object\n",
      "  driver = webdriver.Chrome(path)\n",
      "C:\\Users\\user\\AppData\\Local\\Temp\\ipykernel_11156\\290702224.py:8: DeprecationWarning: find_element_by_class_name is deprecated. Please use find_element(by=By.CLASS_NAME, value=name) instead\n",
      "  driver.find_element_by_class_name('link_login').click()\n",
      "C:\\Users\\user\\AppData\\Local\\Temp\\ipykernel_11156\\290702224.py:11: DeprecationWarning: find_element_by_* commands are deprecated. Please use find_element() instead\n",
      "  id = driver.find_element_by_id('id')\n",
      "C:\\Users\\user\\AppData\\Local\\Temp\\ipykernel_11156\\290702224.py:16: DeprecationWarning: find_element_by_* commands are deprecated. Please use find_element() instead\n",
      "  pw = driver.find_element_by_id('pw')\n",
      "C:\\Users\\user\\AppData\\Local\\Temp\\ipykernel_11156\\290702224.py:21: DeprecationWarning: find_element_by_class_name is deprecated. Please use find_element(by=By.CLASS_NAME, value=name) instead\n",
      "  driver.find_element_by_class_name('btn_login').click()\n"
     ]
    },
    {
     "name": "stdout",
     "output_type": "stream",
     "text": [
      "네이버포인트 : 556원\n"
     ]
    },
    {
     "name": "stderr",
     "output_type": "stream",
     "text": [
      "C:\\Users\\user\\AppData\\Local\\Temp\\ipykernel_11156\\290702224.py:35: DeprecationWarning: find_element_by_css_selector is deprecated. Please use find_element(by=By.CSS_SELECTOR, value=css_selector) instead\n",
      "  npoint = driver.find_element_by_css_selector(\".my_npoint dd\")\n"
     ]
    }
   ],
   "source": [
    "import pyperclip\n",
    "from selenium.webdriver.common.keys import Keys\n",
    "import time\n",
    "path = \"c:\\\\webdriver\\\\chromedriver.exe\"\n",
    "driver = webdriver.Chrome(path)\n",
    "naver = \"https://www.naver.com/\"\n",
    "driver.get(naver)\n",
    "driver.find_element_by_class_name('link_login').click()\n",
    "USER = \"ojy033\"\n",
    "PASS = \"wndud951\"\n",
    "id = driver.find_element_by_id('id')\n",
    "id.click()\n",
    "pyperclip.copy(USER)\n",
    "id.send_keys(Keys.CONTROL, 'v')\n",
    "time.sleep(2)\n",
    "pw = driver.find_element_by_id('pw')\n",
    "pw.click()\n",
    "pyperclip.copy(PASS)\n",
    "pw.send_keys(Keys.CONTROL, 'v')\n",
    "time.sleep(2)\n",
    "driver.find_element_by_class_name('btn_login').click()\n",
    "\n",
    "#while (driver.get_window_position)\n",
    "'''pw = driver.find_element_by_id('pw')\n",
    "pw.clear()\n",
    "pw.send_keys(PASS)\n",
    "captcha = driver.find_element_by_id('captcha')\n",
    "captcha.clear()\n",
    "captcha_answer = str(input(\"정답 : \"))\n",
    "captcha.send_keys(captcha_answer)\n",
    "driver.find_element_by_class_name('btn_login').click()'''\n",
    "time.sleep(1)\n",
    "url_pay = \"https://order.pay.naver.com/home\"\n",
    "driver.get(url_pay)\n",
    "npoint = driver.find_element_by_css_selector(\".my_npoint dd\")\n",
    "print(f\"네이버포인트 : {npoint.text}\")"
   ]
  },
  {
   "cell_type": "code",
   "execution_count": 227,
   "metadata": {},
   "outputs": [],
   "source": [
    "driver.quit()"
   ]
  }
 ],
 "metadata": {
  "interpreter": {
   "hash": "26de051ba29f2982a8de78e945f0abaf191376122a1563185a90213a26c5da77"
  },
  "kernelspec": {
   "display_name": "Python 3.10.3 64-bit",
   "language": "python",
   "name": "python3"
  },
  "language_info": {
   "codemirror_mode": {
    "name": "ipython",
    "version": 3
   },
   "file_extension": ".py",
   "mimetype": "text/x-python",
   "name": "python",
   "nbconvert_exporter": "python",
   "pygments_lexer": "ipython3",
   "version": "3.10.3"
  },
  "orig_nbformat": 4
 },
 "nbformat": 4,
 "nbformat_minor": 2
}
