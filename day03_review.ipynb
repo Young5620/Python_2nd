{
 "cells": [
  {
   "cell_type": "code",
   "execution_count": 2,
   "metadata": {},
   "outputs": [],
   "source": [
    "import pyperclip\n",
    "from selenium.webdriver.common.keys import Keys\n",
    "import time\n",
    "import urllib.request as rq\n",
    "import urllib.parse as parse\n",
    "import selenium\n",
    "from selenium import webdriver"
   ]
  },
  {
   "cell_type": "code",
   "execution_count": null,
   "metadata": {},
   "outputs": [],
   "source": [
    "import pyperclip\n",
    "from selenium.webdriver.common.keys import Keys\n",
    "import time\n",
    "import urllib.request as rq\n",
    "import urllib.parse as parse\n",
    "import selenium\n",
    "from selenium import webdriver\n",
    "path = \"c:\\\\webdriver\\\\chromedriver.exe\"\n",
    "driver = webdriver.Chrome(path)\n",
    "naver = \"https://www.naver.com/\"\n",
    "driver.get(naver)\n",
    "driver.find_element_by_class_name('link_login').click()\n",
    "USER = \"ojy033\"\n",
    "PASS = \"wndud951\"\n",
    "id = driver.find_element_by_id('id')\n",
    "id.click()\n",
    "pyperclip.copy(USER)\n",
    "id.send_keys(Keys.CONTROL, 'v')\n",
    "time.sleep(2)\n",
    "pw = driver.find_element_by_id('pw')\n",
    "pw.click()\n",
    "pyperclip.copy(PASS)\n",
    "pw.send_keys(Keys.CONTROL, 'v')\n",
    "time.sleep(2)\n",
    "driver.find_element_by_class_name('btn_login').click()\n",
    "time.sleep(1)\n",
    "url_pay = \"https://order.pay.naver.com/home\"\n",
    "driver.get(url_pay)\n",
    "npoint = driver.find_element_by_css_selector(\".my_npoint dd\")\n",
    "print(f\"네이버포인트 : {npoint.text}\")"
   ]
  },
  {
   "cell_type": "code",
   "execution_count": null,
   "metadata": {},
   "outputs": [],
   "source": [
    "## Selenium을 통해서 DOM요소 추출\n",
    "## 메서드\n",
    "# 여러 개 중에 처음 요소를 추출\n",
    "# find_element_by_id(id)                    : id속성으로 요소를 하나 추출\n",
    "# find_element_by_name(name)                : name속성으로 요소를 하나 추출\n",
    "# find_element_by_css_selector(query)       : css선택자로 요소를 하나 추출  \n",
    "# find_element_by_xpath(query)              : Xpath를 지정해 요소를 하나 추출\n",
    "# find_element_by_tag_name(name)            : 태그 이름에 해당하는 요소를 하나 추출\n",
    "# find_element_by_link_text(text)           : 링크 텍스트로 요소를 하나 추출\n",
    "# find_element_by_partial_link_text(text)   : 링크의 자식 요소에 포함되어 있는 텍스트로 요소를 하나 추출\n",
    "# find_element_by_class_name(name)          : 클래스 이름에 해당하는 요소를 하나 추출\n",
    "\n",
    "# 모든 요소를 추출\n",
    "# find_elements_by_css_selector(query)      : css선택자로 모든 요소를 추출\n",
    "# find_elements_by_xpath(query)             : Xpath를 지정해 모든 요소를 추출\n",
    "# find_elements_by_tag_name(name)           : 태그 이름에 해당하는 모든 요소를 추출\n",
    "# find_elements_by_class_name(name)         : 클래스 이름에 해당하는 모든 요소를 추출\n",
    "# find_elements_by_partial_link_text(text)  : 링크의 자식 요소에 포함되어 있는 텍스트로 모든 요소를 추출\n",
    "\n",
    "# NoSuchElementException 이라는 예외는 찾고자 하는 요소가 없는 경우에 발생\n",
    "# "
   ]
  },
  {
   "cell_type": "code",
   "execution_count": 17,
   "metadata": {},
   "outputs": [
    {
     "name": "stderr",
     "output_type": "stream",
     "text": [
      "C:\\Users\\user\\AppData\\Local\\Temp\\ipykernel_13132\\4285612145.py:2: DeprecationWarning: executable_path has been deprecated, please pass in a Service object\n",
      "  driver = webdriver.Chrome(path)\n",
      "C:\\Users\\user\\AppData\\Local\\Temp\\ipykernel_13132\\4285612145.py:5: DeprecationWarning: find_element_by_class_name is deprecated. Please use find_element(by=By.CLASS_NAME, value=name) instead\n",
      "  driver.find_element_by_class_name('link_news').click()\n",
      "C:\\Users\\user\\AppData\\Local\\Temp\\ipykernel_13132\\4285612145.py:6: DeprecationWarning: find_element_by_link_text is deprecated. Please use find_element(by=By.LINK_TEXT, value=link_text) instead\n",
      "  driver.find_element_by_link_text('사회').click()\n",
      "C:\\Users\\user\\AppData\\Local\\Temp\\ipykernel_13132\\4285612145.py:8: DeprecationWarning: find_elements_by_css_selector is deprecated. Please use find_elements(by=By.CSS_SELECTOR, value=css_selector) instead\n",
      "  ul = driver.find_elements_by_css_selector(li_sel1)\n",
      "C:\\Users\\user\\AppData\\Local\\Temp\\ipykernel_13132\\4285612145.py:11: DeprecationWarning: find_element_by_css_selector is deprecated. Please use find_element(by=By.CSS_SELECTOR, value=css_selector) instead\n",
      "  head = driver.find_element_by_css_selector(ul_+f\" > li:nth-child({i}) > div > a\")\n"
     ]
    },
    {
     "name": "stdout",
     "output_type": "stream",
     "text": [
      "오늘부터 기저질환 12세 확진 어린이도 팍스로비드 처방\n",
      "[속보] 신규확진 1만 3,296명…12세 어린이도 팍스로비드 처방\n",
      "16일부터 기저질환 있는 12세 이상 확진자에 팍스로비드 처방\n",
      "오늘부터 팍스로비드 12세 이상 기저질환자도 처방\n"
     ]
    }
   ],
   "source": [
    "path = \"c:\\\\webdriver\\\\chromedriver.exe\"\n",
    "driver = webdriver.Chrome(path)\n",
    "naver = \"https://www.naver.com/\"\n",
    "driver.get(naver)\n",
    "driver.find_element_by_class_name('link_news').click()\n",
    "driver.find_element_by_link_text('사회').click()\n",
    "li_sel1 = \"#main_content > div > div._persist > div:nth-child(1) > div:nth-child(1) > div.cluster_body > ul > li\"\n",
    "ul = driver.find_elements_by_css_selector(li_sel1)\n",
    "ul_ = \"#main_content > div > div._persist > div:nth-child(1) > div:nth-child(1) > div.cluster_body > ul\"\n",
    "for i in range(1,len(ul)+1):\n",
    "    head = driver.find_element_by_css_selector(ul_+f\" > li:nth-child({i}) > div > a\")\n",
    "    print(head.text)"
   ]
  },
  {
   "cell_type": "code",
   "execution_count": 16,
   "metadata": {},
   "outputs": [],
   "source": [
    "title = driver.execute_script('return document.title;')\n",
    "title\n",
    "alert = driver.execute_script(\"alert('test');\")"
   ]
  },
  {
   "cell_type": "code",
   "execution_count": 12,
   "metadata": {},
   "outputs": [],
   "source": [
    "driver.quit()"
   ]
  },
  {
   "cell_type": "code",
   "execution_count": null,
   "metadata": {},
   "outputs": [],
   "source": []
  }
 ],
 "metadata": {
  "interpreter": {
   "hash": "26de051ba29f2982a8de78e945f0abaf191376122a1563185a90213a26c5da77"
  },
  "kernelspec": {
   "display_name": "Python 3.10.3 64-bit",
   "language": "python",
   "name": "python3"
  },
  "language_info": {
   "codemirror_mode": {
    "name": "ipython",
    "version": 3
   },
   "file_extension": ".py",
   "mimetype": "text/x-python",
   "name": "python",
   "nbconvert_exporter": "python",
   "pygments_lexer": "ipython3",
   "version": "3.10.3"
  },
  "orig_nbformat": 4
 },
 "nbformat": 4,
 "nbformat_minor": 2
}
