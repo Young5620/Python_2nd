{
 "cells": [
  {
   "cell_type": "code",
   "execution_count": null,
   "metadata": {},
   "outputs": [],
   "source": [
    "### scikit-learn 설치"
   ]
  },
  {
   "cell_type": "code",
   "execution_count": 1,
   "metadata": {},
   "outputs": [
    {
     "name": "stdout",
     "output_type": "stream",
     "text": [
      "Defaulting to user installation because normal site-packages is not writeable\n",
      "Collecting scikit-learn\n",
      "  Downloading scikit_learn-1.1.1-cp310-cp310-win_amd64.whl (7.3 MB)\n",
      "     ---------------------------------------- 7.3/7.3 MB 6.9 MB/s eta 0:00:00\n",
      "Requirement already satisfied: scipy in c:\\users\\user\\appdata\\roaming\\python\\python310\\site-packages (1.8.1)\n",
      "Requirement already satisfied: matplotlib in c:\\users\\user\\appdata\\roaming\\python\\python310\\site-packages (3.5.1)\n",
      "Collecting matplotlib\n",
      "  Downloading matplotlib-3.5.2-cp310-cp310-win_amd64.whl (7.2 MB)\n",
      "     ---------------------------------------- 7.2/7.2 MB 8.5 MB/s eta 0:00:00\n",
      "Collecting scikit-image\n",
      "  Downloading scikit_image-0.19.2-cp310-cp310-win_amd64.whl (12.6 MB)\n",
      "     ---------------------------------------- 12.6/12.6 MB 6.6 MB/s eta 0:00:00\n",
      "Requirement already satisfied: numpy>=1.17.3 in c:\\users\\user\\appdata\\roaming\\python\\python310\\site-packages (from scikit-learn) (1.22.3)\n",
      "Collecting joblib>=1.0.0\n",
      "  Downloading joblib-1.1.0-py2.py3-none-any.whl (306 kB)\n",
      "     -------------------------------------- 307.0/307.0 KB 9.6 MB/s eta 0:00:00\n",
      "Collecting threadpoolctl>=2.0.0\n",
      "  Downloading threadpoolctl-3.1.0-py3-none-any.whl (14 kB)\n",
      "Requirement already satisfied: pillow>=6.2.0 in c:\\users\\user\\appdata\\roaming\\python\\python310\\site-packages (from matplotlib) (9.0.1)\n",
      "Requirement already satisfied: fonttools>=4.22.0 in c:\\users\\user\\appdata\\roaming\\python\\python310\\site-packages (from matplotlib) (4.31.2)\n",
      "Requirement already satisfied: pyparsing>=2.2.1 in c:\\users\\user\\appdata\\roaming\\python\\python310\\site-packages (from matplotlib) (3.0.7)\n",
      "Requirement already satisfied: kiwisolver>=1.0.1 in c:\\users\\user\\appdata\\roaming\\python\\python310\\site-packages (from matplotlib) (1.4.2)\n",
      "Requirement already satisfied: cycler>=0.10 in c:\\users\\user\\appdata\\roaming\\python\\python310\\site-packages (from matplotlib) (0.11.0)\n",
      "Requirement already satisfied: python-dateutil>=2.7 in c:\\users\\user\\appdata\\roaming\\python\\python310\\site-packages (from matplotlib) (2.8.2)\n",
      "Requirement already satisfied: packaging>=20.0 in c:\\users\\user\\appdata\\roaming\\python\\python310\\site-packages (from matplotlib) (21.3)\n",
      "Collecting tifffile>=2019.7.26\n",
      "  Downloading tifffile-2022.5.4-py3-none-any.whl (195 kB)\n",
      "     -------------------------------------- 195.6/195.6 KB 6.0 MB/s eta 0:00:00\n",
      "Collecting imageio>=2.4.1\n",
      "  Downloading imageio-2.19.2-py3-none-any.whl (3.4 MB)\n",
      "     ---------------------------------------- 3.4/3.4 MB 9.7 MB/s eta 0:00:00\n",
      "Collecting PyWavelets>=1.1.1\n",
      "  Downloading PyWavelets-1.3.0-cp310-cp310-win_amd64.whl (4.2 MB)\n",
      "     ---------------------------------------- 4.2/4.2 MB 8.6 MB/s eta 0:00:00\n",
      "Collecting networkx>=2.2\n",
      "  Downloading networkx-2.8.2-py3-none-any.whl (2.0 MB)\n",
      "     ---------------------------------------- 2.0/2.0 MB 9.1 MB/s eta 0:00:00\n",
      "Requirement already satisfied: six>=1.5 in c:\\users\\user\\appdata\\roaming\\python\\python310\\site-packages (from python-dateutil>=2.7->matplotlib) (1.16.0)\n",
      "Installing collected packages: tifffile, threadpoolctl, PyWavelets, networkx, joblib, imageio, scikit-learn, scikit-image, matplotlib\n",
      "  Attempting uninstall: matplotlib\n",
      "    Found existing installation: matplotlib 3.5.1\n",
      "    Uninstalling matplotlib-3.5.1:\n",
      "      Successfully uninstalled matplotlib-3.5.1\n",
      "Successfully installed PyWavelets-1.3.0 imageio-2.19.2 joblib-1.1.0 matplotlib-3.5.2 networkx-2.8.2 scikit-image-0.19.2 scikit-learn-1.1.1 threadpoolctl-3.1.0 tifffile-2022.5.4\n"
     ]
    },
    {
     "name": "stderr",
     "output_type": "stream",
     "text": [
      "WARNING: You are using pip version 22.0.4; however, version 22.1 is available.\n",
      "You should consider upgrading via the 'C:\\Program Files\\Python310\\python.exe -m pip install --upgrade pip' command.\n"
     ]
    }
   ],
   "source": [
    "!pip install -U scikit-learn scipy matplotlib scikit-image"
   ]
  },
  {
   "cell_type": "code",
   "execution_count": 2,
   "metadata": {},
   "outputs": [
    {
     "name": "stdout",
     "output_type": "stream",
     "text": [
      "Defaulting to user installation because normal site-packages is not writeable\n",
      "Requirement already satisfied: pip in c:\\program files\\python310\\lib\\site-packages (22.0.4)\n",
      "Collecting pip\n",
      "  Downloading pip-22.1.1-py3-none-any.whl (2.1 MB)\n",
      "     ---------------------------------------- 2.1/2.1 MB 7.2 MB/s eta 0:00:00\n",
      "Installing collected packages: pip\n",
      "Successfully installed pip-22.1.1\n",
      "Note: you may need to restart the kernel to use updated packages.\n"
     ]
    },
    {
     "name": "stderr",
     "output_type": "stream",
     "text": [
      "WARNING: You are using pip version 22.0.4; however, version 22.1.1 is available.\n",
      "You should consider upgrading via the 'c:\\Program Files\\Python310\\python.exe -m pip install --upgrade pip' command.\n"
     ]
    }
   ],
   "source": [
    "pip install --upgrade pip"
   ]
  },
  {
   "cell_type": "code",
   "execution_count": 22,
   "metadata": {},
   "outputs": [
    {
     "name": "stdout",
     "output_type": "stream",
     "text": [
      "예측결과 :  [1 0 1 0]\n"
     ]
    }
   ],
   "source": [
    "### XOR연산을 학습하는 프로그램\n",
    "from sklearn import svm\n",
    "\n",
    "### XOR의 계산 데이터\n",
    "xor_data = [\n",
    "    # P, Q, result\n",
    "    [0,0,0],\n",
    "    [0,1,1],\n",
    "    [1,0,1],\n",
    "    [1,1,0]\n",
    "]\n",
    "\n",
    "### 학습을 위해서 데이터와 레이블을 분리\n",
    "data = []\n",
    "label = []\n",
    "for row in xor_data:\n",
    "    #print(row)\n",
    "    p = row[0]\n",
    "    q = row[1]\n",
    "    re = row[2]\n",
    "    data.append([p,q])\n",
    "    label.append(re)\n",
    "\n",
    "label\n",
    "### 데이터 학습 시키기\n",
    "clf = svm.SVC()\n",
    "clf.fit(data, label)\n",
    "\n",
    "'''\n",
    "data1 = [\n",
    "    [0,1],\n",
    "    [0,0],\n",
    "    [1,0],\n",
    "    [1,1]\n",
    "]\n",
    "'''\n",
    "\n",
    "### 데이터 예측하기\n",
    "pre = clf.predict(data)\n",
    "print(\"예측결과 : \", pre)\n",
    "\n",
    "### 결과 확인하기\n",
    "ok = 0; total = 0\n",
    "for idx, answer in enumerate(label):\n",
    "    p = pre[idx]\n",
    "    if p == answer: ok += 1\n",
    "    total += 1\n",
    "print(\"정답률 : \", ok, \"/\", total, \"=\", ok/total)\n",
    "\n",
    "### SVM 알고리즘 장단점\n",
    "# 장점\n",
    "# - 비선형 분리 데이터를 커널트릭을 사용하여 분류 모델링가능\n",
    "# - 고차원 공간에서 원활하게 작동함\n",
    "# - "
   ]
  },
  {
   "cell_type": "code",
   "execution_count": 30,
   "metadata": {},
   "outputs": [
    {
     "name": "stdout",
     "output_type": "stream",
     "text": [
      "정답률 =  1.0\n"
     ]
    }
   ],
   "source": [
    "### XOR연산을 학습하는 프로그램2\n",
    "from sklearn import svm, metrics\n",
    "import pandas as pd\n",
    "\n",
    "### XOR의 계산 데이터\n",
    "xor_input = [\n",
    "    [0,0,0],\n",
    "    [0,1,1],\n",
    "    [1,0,1],\n",
    "    [1,1,0]\n",
    "]\n",
    "\n",
    "### 입력을 학습 전용 데이터와 테스트 전용 데이터로 분류하기\n",
    "xor_df = pd.DataFrame(xor_input)\n",
    "xor_data = xor_df.iloc[:,0:2] # 데이터\n",
    "xor_label = xor_df.iloc[:,2]  # 레이블\n",
    "\n",
    "### 데이터 학습과 예측하기\n",
    "clf = svm.SVC()\n",
    "clf.fit(xor_data,xor_label)\n",
    "pre = clf.predict(xor_data)\n",
    "\n",
    "### 정답률 구하기\n",
    "ac_score = metrics.accuracy_score(xor_label,pre)\n",
    "print(\"정답률 = \", ac_score)"
   ]
  },
  {
   "cell_type": "code",
   "execution_count": 36,
   "metadata": {},
   "outputs": [
    {
     "name": "stdout",
     "output_type": "stream",
     "text": [
      "정답률 =  0.98\n"
     ]
    }
   ],
   "source": [
    "from sklearn import svm, metrics\n",
    "import pandas as pd\n",
    "import random, re\n",
    "\n",
    "### 붓꽃 데이터 읽어오기\n",
    "csv = []\n",
    "with open('ML/iris.csv','r',encoding='utf-8') as fp:\n",
    "    for line in fp:\n",
    "        line = line.strip()\n",
    "        cols = line.split(',')\n",
    "        ### 문자열 데이터를 숫자로 변환\n",
    "        fn = lambda n: float(n) if re.match(r'^[0-9\\.]+$',n) else n\n",
    "        cols = list(map(fn,cols))\n",
    "        csv.append(cols)\n",
    "\n",
    "# 헤더 제거\n",
    "del csv[0]\n",
    "\n",
    "# 데이터 섞기\n",
    "random.shuffle(csv)\n",
    "\n",
    "### 학습 전용 데이터와 테스트 전용 데이터를 분할하기(2:1 비율)\n",
    "total_len = len(csv)\n",
    "train_len = int(total_len*2/3)\n",
    "train_data = []\n",
    "train_label = []\n",
    "test_data = []\n",
    "test_label = []\n",
    "\n",
    "for i in range(total_len):\n",
    "    data = csv[i][0:4]\n",
    "    label = csv[i][4]\n",
    "    if i < train_len:\n",
    "        train_data.append(data)\n",
    "        train_label.append(label)\n",
    "    else:\n",
    "        test_data.append(data)\n",
    "        test_label.append(label)\n",
    "\n",
    "### 데이터 학습시키고 예측하기\n",
    "clf = svm.SVC()\n",
    "clf.fit(train_data, train_label)\n",
    "pre = clf.predict(test_data)\n",
    "\n",
    "### 정답률 구하기\n",
    "ac_score = metrics.accuracy_score(test_label,pre)\n",
    "print(\"정답률 = \",ac_score)"
   ]
  },
  {
   "cell_type": "code",
   "execution_count": 51,
   "metadata": {},
   "outputs": [
    {
     "name": "stdout",
     "output_type": "stream",
     "text": [
      "정답률 =  0.97\n"
     ]
    }
   ],
   "source": [
    "### iris를 이용한 데이터 처리에서 분할 메서드 사용\n",
    "import pandas as pd\n",
    "from sklearn import svm, metrics\n",
    "from sklearn.model_selection import train_test_split\n",
    "\n",
    "### 붓꽃 데이터 읽어 들이기(pandas)\n",
    "csv = pd.read_csv('ML/iris.csv')\n",
    "\n",
    "### 필요한 열 추출\n",
    "csv_data = csv[['SepalLength','SepalWidth','PetalLength','PetalWidth']]\n",
    "csv_label = csv['Name']\n",
    "\n",
    "### 학습 전용 데이터와 테스트 전용 데이터로 나누기\n",
    "train_data, test_data, train_label, test_label = train_test_split(csv_data,csv_label)\n",
    "\n",
    "### 데이터 학습시키고 예측하기\n",
    "clf = svm.SVC()\n",
    "clf.fit(train_data,train_label)\n",
    "pre = clf.predict(test_data)\n",
    "\n",
    "### 정답률 구하기\n",
    "ac_score = metrics.accuracy_score(test_label,pre)\n",
    "print(\"정답률 = \",round(ac_score,2))"
   ]
  },
  {
   "cell_type": "code",
   "execution_count": 2,
   "metadata": {},
   "outputs": [
    {
     "name": "stdout",
     "output_type": "stream",
     "text": [
      "download http://yann.lecun.com/exdb/mnist//train-images-idx3-ubyte.gz\n",
      "download http://yann.lecun.com/exdb/mnist//train-labels-idx1-ubyte.gz\n",
      "download http://yann.lecun.com/exdb/mnist//t10k-images-idx3-ubyte.gz\n",
      "download http://yann.lecun.com/exdb/mnist//t10k-labels-idx1-ubyte.gz\n"
     ]
    }
   ],
   "source": [
    "### 이미지 내부의 문자인식\n",
    "\n",
    "# 다운로드\n",
    "import urllib.request as req\n",
    "import gzip, os, os.path\n",
    "\n",
    "savepath = \"ML/mnist\"\n",
    "baseurl = \"http://yann.lecun.com/exdb/mnist/\"\n",
    "files = [\n",
    "    'train-images-idx3-ubyte.gz',\n",
    "    'train-labels-idx1-ubyte.gz',\n",
    "    't10k-images-idx3-ubyte.gz',\n",
    "    't10k-labels-idx1-ubyte.gz',\n",
    "]\n",
    "\n",
    "if not os.path.exists(savepath): os.makedirs(savepath)\n",
    "for f in files:\n",
    "    url = baseurl + \"/\" + f\n",
    "    loc = savepath + \"/\" + f\n",
    "    print(\"download\",url)\n",
    "    if not os.path.exists(loc):\n",
    "        req.urlretrieve(url,loc)\n"
   ]
  },
  {
   "cell_type": "code",
   "execution_count": 3,
   "metadata": {},
   "outputs": [
    {
     "name": "stdout",
     "output_type": "stream",
     "text": [
      "gzip: train-images-idx3-ubyte.gz\n",
      "gzip: train-labels-idx1-ubyte.gz\n",
      "gzip: t10k-images-idx3-ubyte.gz\n",
      "gzip: t10k-labels-idx1-ubyte.gz\n",
      "ok\n"
     ]
    }
   ],
   "source": [
    "### Gzip 압축해제\n",
    "for f in files:\n",
    "    gz_file = savepath + \"/\" + f\n",
    "    raw_file = savepath + \"/\" + f.replace(\".gz\",\"\")\n",
    "    print(\"gzip:\",f)\n",
    "    with gzip.open(gz_file,\"rb\") as fp:\n",
    "        body = fp.read()\n",
    "        with open(raw_file,\"wb\") as w:\n",
    "            w.write(body)\n",
    "print(\"ok\")"
   ]
  },
  {
   "cell_type": "code",
   "execution_count": 7,
   "metadata": {},
   "outputs": [],
   "source": [
    "import struct\n",
    "def to_csv(name, maxdata):\n",
    "    # 레이블 파일과 이미지 파일 열기\n",
    "    lbl_f = open(\"ML/mnist/\"+name+\"-labels-idx1-ubyte\", \"rb\")\n",
    "    img_f = open(\"ML/mnist/\"+name+\"-images-idx3-ubyte\", \"rb\")\n",
    "    csv_f = open(\"ML/mnist/\"+name+\".csv\", \"w\", encoding=\"utf-8\")\n",
    "    # 헤더 정보 읽기 --- (※1)\n",
    "    mag, lbl_count = struct.unpack(\">II\", lbl_f.read(8))\n",
    "    mag, img_count = struct.unpack(\">II\", img_f.read(8))\n",
    "    rows, cols = struct.unpack(\">II\", img_f.read(8))\n",
    "    pixels = rows * cols\n",
    "    # 이미지 데이터를 읽고 CSV로 저장하기 --- (※2)\n",
    "    res = []\n",
    "    for idx in range(lbl_count):\n",
    "        if idx > maxdata: break\n",
    "        label = struct.unpack(\"B\", lbl_f.read(1))[0]\n",
    "        bdata = img_f.read(pixels)\n",
    "        sdata = list(map(lambda n: str(n), bdata))\n",
    "        csv_f.write(str(label)+\",\")\n",
    "        csv_f.write(\",\".join(sdata)+\"\\r\\n\")\n",
    "        # 잘 저장됐는지 이미지 파일로 저장해서 테스트하기 -- (※3)\n",
    "        if idx < 10:\n",
    "            s = \"P2 28 28 255\\n\"\n",
    "            s += \" \".join(sdata)\n",
    "            iname = \"ML/mnist/{0}-{1}-{2}.pgm\".format(name,idx,label)\n",
    "            with open(iname, \"w\", encoding=\"utf-8\") as f:\n",
    "                f.write(s)\n",
    "    csv_f.close()\n",
    "    lbl_f.close()\n",
    "    img_f.close()\n",
    "# 결과를 파일로 출력하기 --- (※4)\n",
    "to_csv(\"train\", 1000)\n",
    "to_csv(\"t10k\", 500)"
   ]
  },
  {
   "cell_type": "code",
   "execution_count": 8,
   "metadata": {},
   "outputs": [
    {
     "name": "stdout",
     "output_type": "stream",
     "text": [
      "정답률 =  0.8842315369261478\n",
      "리포트:\n",
      "              precision    recall  f1-score   support\n",
      "\n",
      "           0       0.87      0.98      0.92        42\n",
      "           1       0.99      1.00      0.99        67\n",
      "           2       0.91      0.89      0.90        55\n",
      "           3       0.94      0.72      0.81        46\n",
      "           4       0.86      0.93      0.89        55\n",
      "           5       0.75      0.82      0.78        50\n",
      "           6       0.95      0.81      0.88        43\n",
      "           7       0.79      0.94      0.86        49\n",
      "           8       0.94      0.82      0.88        40\n",
      "           9       0.89      0.87      0.88        54\n",
      "\n",
      "    accuracy                           0.88       501\n",
      "   macro avg       0.89      0.88      0.88       501\n",
      "weighted avg       0.89      0.88      0.88       501\n",
      "\n"
     ]
    }
   ],
   "source": [
    "### 이미지 데이터 학습시키기\n",
    "# 1. csv파일에서 학습데이터와 테스트 데이터를 읽기\n",
    "# 2. 학습데이터를 사용해 이미지 픽셀을 학습\n",
    "# 3. 테스트 데이터를 활용해서 예측\n",
    "# 4. 예측 결과와 답을 비교해서 정답률을 구하기\n",
    "\n",
    "from sklearn import model_selection, svm, metrics\n",
    "\n",
    "## CSV파일을 읽어들여 가공하기\n",
    "def load_csv(fname):\n",
    "    labels = []\n",
    "    images = []\n",
    "    with open(fname,\"r\") as f:\n",
    "        for line in f:\n",
    "            cols = line.split(',')\n",
    "            if len(cols) < 2: continue\n",
    "            labels.append(int(cols.pop(0)))\n",
    "            vals = list(map(lambda n: int(n)/256,cols))\n",
    "            images.append(vals)\n",
    "    return {'labels':labels, 'images':images}\n",
    "\n",
    "data = load_csv('ML/mnist/train.csv')\n",
    "test = load_csv('ML/mnist/t10k.csv')\n",
    "\n",
    "### 학습\n",
    "clf = svm.SVC()\n",
    "clf.fit(data['images'],data['labels'])\n",
    "\n",
    "### 예측\n",
    "predict = clf.predict(test['images'])\n",
    "\n",
    "### 결과확인\n",
    "ac_score = metrics.accuracy_score(test['labels'],predict)\n",
    "cl_report = metrics.classification_report(test['labels'],predict)\n",
    "print('정답률 = ',ac_score)\n",
    "print('리포트:')\n",
    "print(cl_report)"
   ]
  },
  {
   "cell_type": "code",
   "execution_count": 14,
   "metadata": {},
   "outputs": [
    {
     "name": "stdout",
     "output_type": "stream",
     "text": [
      "정답률 =  1.0\n",
      "리포트 = \n",
      "              precision    recall  f1-score   support\n",
      "\n",
      "          en       1.00      1.00      1.00         2\n",
      "          fr       1.00      1.00      1.00         2\n",
      "          id       1.00      1.00      1.00         2\n",
      "          tl       1.00      1.00      1.00         2\n",
      "\n",
      "    accuracy                           1.00         8\n",
      "   macro avg       1.00      1.00      1.00         8\n",
      "weighted avg       1.00      1.00      1.00         8\n",
      "\n"
     ]
    }
   ],
   "source": [
    "### 외국어 판별을 위한 프로그램\n",
    "\n",
    "from sklearn import svm, metrics\n",
    "import glob, os.path, json, re\n",
    "\n",
    "# 텍스트를 읽어 들이고 출현 빈도 조사하기(1)\n",
    "def check_freq(fname):\n",
    "    name = os.path.basename(fname)\n",
    "    lang = re.match(r'^[a-z]{2,}', name).group()\n",
    "    with open(fname,'r',encoding='utf-8') as f:\n",
    "        text = f.read()\n",
    "    text = text.lower() # 소문자 변환\n",
    "    \n",
    "    # 숫자세기 변수(cnt) 초기화하기\n",
    "    cnt = [0 for n in range(0,26)]  # 알파벳 숫자만큼 초기값 설정\n",
    "    code_a = ord('a')\n",
    "    code_z = ord('z')\n",
    "    \n",
    "    # 알파벳 출현 횟수 구하기(2)\n",
    "    for ch in text:\n",
    "        n = ord(ch)\n",
    "        if code_a <= n <= code_z:   # a~z 사이에 있을 때\n",
    "            cnt[n - code_a] += 1\n",
    "            \n",
    "    # 정규화하기(3)\n",
    "    total = sum(cnt)\n",
    "    freq = list(map(lambda n: n / total,cnt))\n",
    "    return (freq,lang)\n",
    "\n",
    "# 각 파일 처리하기\n",
    "def load_files(path):\n",
    "    freqs = []\n",
    "    labels = []\n",
    "    file_list = glob.glob(path)\n",
    "    for fname in file_list:\n",
    "        r = check_freq(fname)\n",
    "        freqs.append(r[0])\n",
    "        labels.append(r[1])\n",
    "    return {'freqs':freqs,'labels':labels}\n",
    "\n",
    "data = load_files('ML/lang/lang/train/*.txt')\n",
    "test = load_files('ML/lang/lang/test/*.txt')\n",
    "\n",
    "# 이 후를 대비해서 JSON으로 결과 저장하기\n",
    "with open('ML/lang/lang/freq.json','w',encoding='utf-8') as fp:\n",
    "    json.dump([data, test],fp)\n",
    "    \n",
    "# 학습하기\n",
    "clf = svm.SVC()\n",
    "clf.fit(data['freqs'],data['labels'])\n",
    "\n",
    "# 예측하기\n",
    "predict = clf.predict(test['freqs'])\n",
    "\n",
    "# 결과 테스트하기\n",
    "ac_score = metrics.accuracy_score(test['labels'],predict)\n",
    "cl_report = metrics.classification_report(test['labels'],predict)\n",
    "print(\"정답률 = \",ac_score)\n",
    "print(\"리포트 = \")\n",
    "print(cl_report)"
   ]
  },
  {
   "cell_type": "code",
   "execution_count": 20,
   "metadata": {},
   "outputs": [
    {
     "data": {
      "image/png": "[encoded data removed]",
      "text/plain": [
       "<Figure size 432x288 with 4 Axes>"
      ]
     },
     "metadata": {},
     "output_type": "display_data"
    }
   ],
   "source": [
    "import matplotlib.pyplot as plt\n",
    "import pandas as pd\n",
    "import json\n",
    "\n",
    "## 알파벳 출현 빈도 데이터 읽어오기\n",
    "with open('ML/lang/lang/freq.json','r',encoding='utf-8') as fp:\n",
    "    freq = json.load(fp)\n",
    "\n",
    "## 각 언어마다 계산\n",
    "lang_dic = {}\n",
    "for i, lbl in enumerate(freq[0]['labels']):\n",
    "    fq = freq[0]['freqs'][i]\n",
    "    if not (lbl in lang_dic):\n",
    "        lang_dic[lbl] = fq\n",
    "        continue\n",
    "    for idx, v in enumerate(fq):\n",
    "        lang_dic[lbl][idx] = (lang_dic[lbl][idx] + v) / 2\n",
    "        \n",
    "## Pandas DataFrame에 데이터 넣기\n",
    "asclist = [[chr(n) for n in range(97,97+26)]]\n",
    "df = pd.DataFrame(lang_dic, index=asclist)\n",
    "\n",
    "## 그래프 그리기\n",
    "plt.style.use('ggplot')\n",
    "df.plot(kind='bar',subplots=True, ylim=(0,0.15))\n",
    "plt.savefig('ML/lang/lang/lang-plt.png')\n",
    "plt.show()"
   ]
  },
  {
   "cell_type": "code",
   "execution_count": 22,
   "metadata": {},
   "outputs": [
    {
     "name": "stdout",
     "output_type": "stream",
     "text": [
      "ok\n"
     ]
    }
   ],
   "source": [
    "from sklearn import svm\n",
    "import joblib\n",
    "import json\n",
    "\n",
    "# 각 언어의 출현 빈도 데이터 읽어오기\n",
    "with open('ML/lang/lang/freq.json','r',encoding='utf-8') as fp:\n",
    "    d = json.load(fp)\n",
    "    data = d[0]\n",
    "    \n",
    "# 데이터 학습하기\n",
    "clf = svm.SVC()\n",
    "clf.fit(data['freqs'],data['labels'])\n",
    "\n",
    "# 학습데이터 저장하기\n",
    "joblib.dump(clf,'ML/lang/lang/freq.pkl')\n",
    "print('ok')"
   ]
  },
  {
   "cell_type": "code",
   "execution_count": 36,
   "metadata": {},
   "outputs": [
    {
     "name": "stdout",
     "output_type": "stream",
     "text": [
      "Content-Type: text/html; charset=utf-8\n",
      "\n"
     ]
    },
    {
     "ename": "AttributeError",
     "evalue": "module 'cgi' has no attribute 'escape'",
     "output_type": "error",
     "traceback": [
      "\u001b[1;31m---------------------------------------------------------------------------\u001b[0m",
      "\u001b[1;31mAttributeError\u001b[0m                            Traceback (most recent call last)",
      "\u001b[1;32mc:\\Python\\Python_2nd\\day10_MashineLearning.ipynb Cell 15'\u001b[0m in \u001b[0;36m<cell line: 44>\u001b[1;34m()\u001b[0m\n\u001b[0;32m     <a href='vscode-notebook-cell:/c%3A/Python/Python_2nd/day10_MashineLearning.ipynb#ch0000014?line=41'>42</a>\u001b[0m     msg \u001b[39m=\u001b[39m \u001b[39m\"\u001b[39m\u001b[39m판정 결과:\u001b[39m\u001b[39m\"\u001b[39m \u001b[39m+\u001b[39m lang\n\u001b[0;32m     <a href='vscode-notebook-cell:/c%3A/Python/Python_2nd/day10_MashineLearning.ipynb#ch0000014?line=42'>43</a>\u001b[0m \u001b[39m# 입력 양식 출력\u001b[39;00m\n\u001b[1;32m---> <a href='vscode-notebook-cell:/c%3A/Python/Python_2nd/day10_MashineLearning.ipynb#ch0000014?line=43'>44</a>\u001b[0m show_form(text, msg)\n",
      "\u001b[1;32mc:\\Python\\Python_2nd\\day10_MashineLearning.ipynb Cell 15'\u001b[0m in \u001b[0;36mshow_form\u001b[1;34m(text, msg)\u001b[0m\n\u001b[0;32m      <a href='vscode-notebook-cell:/c%3A/Python/Python_2nd/day10_MashineLearning.ipynb#ch0000014?line=8'>9</a>\u001b[0m \u001b[39mprint\u001b[39m(\u001b[39m\"\u001b[39m\u001b[39mContent-Type: text/html; charset=utf-8\u001b[39m\u001b[39m\"\u001b[39m)\n\u001b[0;32m     <a href='vscode-notebook-cell:/c%3A/Python/Python_2nd/day10_MashineLearning.ipynb#ch0000014?line=9'>10</a>\u001b[0m \u001b[39mprint\u001b[39m(\u001b[39m\"\u001b[39m\u001b[39m\"\u001b[39m)\n\u001b[0;32m     <a href='vscode-notebook-cell:/c%3A/Python/Python_2nd/day10_MashineLearning.ipynb#ch0000014?line=10'>11</a>\u001b[0m \u001b[39mprint\u001b[39m(\u001b[39m\"\"\"\u001b[39m\n\u001b[0;32m     <a href='vscode-notebook-cell:/c%3A/Python/Python_2nd/day10_MashineLearning.ipynb#ch0000014?line=11'>12</a>\u001b[0m \u001b[39m    <html><body><form>\u001b[39m\n\u001b[0;32m     <a href='vscode-notebook-cell:/c%3A/Python/Python_2nd/day10_MashineLearning.ipynb#ch0000014?line=12'>13</a>\u001b[0m \u001b[39m    <textarea name=\u001b[39m\u001b[39m\"\u001b[39m\u001b[39mtext\u001b[39m\u001b[39m\"\u001b[39m\u001b[39m rows=\u001b[39m\u001b[39m\"\u001b[39m\u001b[39m8\u001b[39m\u001b[39m\"\u001b[39m\u001b[39m cols=\u001b[39m\u001b[39m\"\u001b[39m\u001b[39m40\u001b[39m\u001b[39m\"\u001b[39m\u001b[39m>\u001b[39m\u001b[39m{0}\u001b[39;00m\u001b[39m</textarea>\u001b[39m\n\u001b[0;32m     <a href='vscode-notebook-cell:/c%3A/Python/Python_2nd/day10_MashineLearning.ipynb#ch0000014?line=13'>14</a>\u001b[0m \u001b[39m    <p><input type=\u001b[39m\u001b[39m\"\u001b[39m\u001b[39msubmit\u001b[39m\u001b[39m\"\u001b[39m\u001b[39m value=\u001b[39m\u001b[39m\"\u001b[39m\u001b[39m판정\u001b[39m\u001b[39m\"\u001b[39m\u001b[39m></p>\u001b[39m\n\u001b[0;32m     <a href='vscode-notebook-cell:/c%3A/Python/Python_2nd/day10_MashineLearning.ipynb#ch0000014?line=14'>15</a>\u001b[0m \u001b[39m    <p>\u001b[39m\u001b[39m{1}\u001b[39;00m\u001b[39m</p>\u001b[39m\n\u001b[0;32m     <a href='vscode-notebook-cell:/c%3A/Python/Python_2nd/day10_MashineLearning.ipynb#ch0000014?line=15'>16</a>\u001b[0m \u001b[39m    </form></body></html>\u001b[39m\n\u001b[1;32m---> <a href='vscode-notebook-cell:/c%3A/Python/Python_2nd/day10_MashineLearning.ipynb#ch0000014?line=16'>17</a>\u001b[0m \u001b[39m\u001b[39m\u001b[39m\"\"\"\u001b[39m\u001b[39m.\u001b[39mformat(cgi\u001b[39m.\u001b[39;49mescape(text), msg))\n",
      "\u001b[1;31mAttributeError\u001b[0m: module 'cgi' has no attribute 'escape'"
     ]
    }
   ],
   "source": [
    "#!/usr/bin/env python3\n",
    "import cgi, os.path\n",
    "import joblib\n",
    "# 학습 데이터 읽어 들이기\n",
    "pklfile = \"ML/lang/lang/freq.pkl\"\n",
    "clf = joblib.load(pklfile)\n",
    "# 텍스트 입력 양식 출력하기\n",
    "def show_form(text, msg=\"\"):\n",
    "    print(\"Content-Type: text/html; charset=utf-8\")\n",
    "    print(\"\")\n",
    "    print(\"\"\"\n",
    "        <html><body><form>\n",
    "        <textarea name=\"text\" rows=\"8\" cols=\"40\">{0}</textarea>\n",
    "        <p><input type=\"submit\" value=\"판정\"></p>\n",
    "        <p>{1}</p>\n",
    "        </form></body></html>\n",
    "    \"\"\".format(cgi.escape(text), msg))\n",
    "# 판정하기\n",
    "def detect_lang(text):\n",
    "    # 알파벳 출현 빈도 구하기\n",
    "    text = text.lower() \n",
    "    code_a, code_z = (ord(\"a\"), ord(\"z\"))\n",
    "    cnt = [0 for i in range(26)]\n",
    "    for ch in text:\n",
    "        n = ord(ch) - code_a\n",
    "        if 0 <= n < 26: cnt[n] += 1\n",
    "    total = sum(cnt)\n",
    "    if total == 0: return \"입력이 없습니다\"\n",
    "    freq = list(map(lambda n: n/total, cnt))\n",
    "    # 언어 예측하기\n",
    "    res = clf.predict([freq])\n",
    "    # 언어 코드를 한국어로 변환하기\n",
    "    lang_dic = {\"en\":\"영어\",\"fr\":\"프랑스어\",\n",
    "        \"id\":\"인도네시아어\", \"tl\":\"타갈로그어\"}\n",
    "    return lang_dic[res[0]]\n",
    "# 입력 양식의 값 읽어 들이기\n",
    "form = cgi.FieldStorage()\n",
    "text = form.getvalue(\"text\", default=\"\")\n",
    "msg = \"\"\n",
    "if text != \"\":\n",
    "    lang = detect_lang(text)\n",
    "    msg = \"판정 결과:\" + lang\n",
    "# 입력 양식 출력\n",
    "show_form(text, msg)"
   ]
  },
  {
   "cell_type": "code",
   "execution_count": 32,
   "metadata": {},
   "outputs": [
    {
     "name": "stdout",
     "output_type": "stream",
     "text": [
      "ok, {'thin': 6368, 'normal': 5894, 'fat': 7738}\n"
     ]
    }
   ],
   "source": [
    "#### BMI만들기 \n",
    "import random\n",
    "# BMI를 계산해서 레이블을 리턴하는 함수\n",
    "def calc_bmi(h, w):\n",
    "    bmi = w / (h/100) ** 2\n",
    "    if bmi < 18.5: return \"thin\"\n",
    "    if bmi < 25: return \"normal\"\n",
    "    return \"fat\"\n",
    "# 출력 파일 준비하기\n",
    "fp = open(\"ML/BMI/bmi.csv\",\"w\",encoding=\"utf-8\")\n",
    "fp.write(\"height,weight,label\\r\\n\")\n",
    "# 무작위로 데이터 생성하기\n",
    "cnt = {\"thin\":0, \"normal\":0, \"fat\":0}\n",
    "for i in range(20000):\n",
    "    h = random.randint(120,200)\n",
    "    w = random.randint(35, 80)\n",
    "    label = calc_bmi(h, w)\n",
    "    cnt[label] += 1\n",
    "    fp.write(\"{0},{1},{2}\\r\\n\".format(h, w, label))\n",
    "fp.close()\n",
    "print(\"ok,\", cnt)"
   ]
  },
  {
   "cell_type": "code",
   "execution_count": 33,
   "metadata": {},
   "outputs": [
    {
     "name": "stdout",
     "output_type": "stream",
     "text": [
      "정답률 = 0.9946\n",
      "리포트 =\n",
      "               precision    recall  f1-score   support\n",
      "\n",
      "         fat       1.00      1.00      1.00      1952\n",
      "      normal       0.99      1.00      0.99      1442\n",
      "        thin       1.00      0.99      0.99      1606\n",
      "\n",
      "    accuracy                           0.99      5000\n",
      "   macro avg       0.99      0.99      0.99      5000\n",
      "weighted avg       0.99      0.99      0.99      5000\n",
      "\n"
     ]
    }
   ],
   "source": [
    "from sklearn import svm, metrics\n",
    "from sklearn.model_selection import train_test_split\n",
    "import matplotlib.pyplot as plt\n",
    "import pandas as pd\n",
    "\n",
    "# 키와 몸무게 데이터 읽어 들이기 --- (※1)\n",
    "tbl = pd.read_csv(\"ML/BMI/bmi.csv\")\n",
    "# 칼럼(열)을 자르고 정규화하기 --- (※2)\n",
    "label = tbl[\"label\"]\n",
    "w = tbl[\"weight\"] / 100 # 최대 100kg라고 가정\n",
    "h = tbl[\"height\"] / 200 # 최대 200cm라고 가정\n",
    "wh = pd.concat([w, h], axis=1)\n",
    "# 학습 전용 데이터와 테스트 전용 데이터로 나누기 --- (※3)\n",
    "data_train, data_test, label_train, label_test = \\\n",
    "    train_test_split(wh, label)\n",
    "# 데이터 학습하기 --- (※4)\n",
    "clf = svm.SVC()\n",
    "clf.fit(data_train, label_train)\n",
    "# 데이터 예측하기 --- (※5)\n",
    "predict = clf.predict(data_test)\n",
    "# 결과 테스트하기 --- (※6)\n",
    "ac_score = metrics.accuracy_score(label_test, predict)\n",
    "cl_report = metrics.classification_report(label_test, predict)\n",
    "print(\"정답률 =\", ac_score)\n",
    "print(\"리포트 =\\n\", cl_report)"
   ]
  },
  {
   "cell_type": "code",
   "execution_count": 35,
   "metadata": {},
   "outputs": [
    {
     "data": {
      "image/png": "[encoded data removed]",
      "text/plain": [
       "<Figure size 432x288 with 1 Axes>"
      ]
     },
     "metadata": {},
     "output_type": "display_data"
    }
   ],
   "source": [
    "import matplotlib.pyplot as plt\n",
    "import pandas as pd\n",
    "# Pandas로 CSV 파일 읽어 들이기\n",
    "tbl = pd.read_csv(\"ML/BMI/bmi.csv\", index_col=2)\n",
    "# 그래프 그리기 시작\n",
    "fig = plt.figure()\n",
    "ax = fig.add_subplot(1, 1, 1)\n",
    "# 서브 플롯 전용 - 지정한 레이블을 임의의 색으로 칠하기\n",
    "def scatter(lbl, color):\n",
    "    b = tbl.loc[lbl]\n",
    "    ax.scatter(b[\"weight\"],b[\"height\"], c=color, label=lbl)\n",
    "scatter(\"fat\",    \"red\")\n",
    "scatter(\"normal\", \"yellow\")\n",
    "scatter(\"thin\",   \"purple\")\n",
    "ax.legend() \n",
    "plt.savefig(\"ML/BMI/bmi-test.png\")\n",
    "plt.show()"
   ]
  }
 ],
 "metadata": {
  "interpreter": {
   "hash": "26de051ba29f2982a8de78e945f0abaf191376122a1563185a90213a26c5da77"
  },
  "kernelspec": {
   "display_name": "Python 3.10.3 64-bit",
   "language": "python",
   "name": "python3"
  },
  "language_info": {
   "codemirror_mode": {
    "name": "ipython",
    "version": 3
   },
   "file_extension": ".py",
   "mimetype": "text/x-python",
   "name": "python",
   "nbconvert_exporter": "python",
   "pygments_lexer": "ipython3",
   "version": "3.10.3"
  },
  "orig_nbformat": 4
 },
 "nbformat": 4,
 "nbformat_minor": 2
}
