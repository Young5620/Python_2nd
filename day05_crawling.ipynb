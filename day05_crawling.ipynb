{
 "cells": [
  {
   "cell_type": "code",
   "execution_count": 1,
   "metadata": {},
   "outputs": [],
   "source": [
    "from selenium import webdriver as wd\n",
    "import pandas as pd\n",
    "from bs4 import BeautifulSoup"
   ]
  },
  {
   "cell_type": "code",
   "execution_count": 5,
   "metadata": {},
   "outputs": [
    {
     "name": "stderr",
     "output_type": "stream",
     "text": [
      "C:\\Users\\user\\AppData\\Local\\Temp\\ipykernel_2540\\3395121640.py:1: DeprecationWarning: executable_path has been deprecated, please pass in a Service object\n",
      "  driver = wd.Chrome(\"C:\\webdriver\\chromedriver.exe\")\n"
     ]
    }
   ],
   "source": [
    "driver = wd.Chrome(\"C:\\webdriver\\chromedriver.exe\")\n",
    "url = \"https://music.bugs.co.kr/chart\"\n",
    "driver.get(url)"
   ]
  },
  {
   "cell_type": "code",
   "execution_count": 34,
   "metadata": {},
   "outputs": [
    {
     "name": "stderr",
     "output_type": "stream",
     "text": [
      "C:\\Users\\user\\AppData\\Local\\Temp\\ipykernel_14272\\823411443.py:1: DeprecationWarning: find_elements_by_css_selector is deprecated. Please use find_elements(by=By.CSS_SELECTOR, value=css_selector) instead\n",
      "  trs = driver.find_elements_by_css_selector('#CHARTrealtime > table > tbody > tr')\n",
      "C:\\Users\\user\\AppData\\Roaming\\Python\\Python310\\site-packages\\selenium\\webdriver\\remote\\webelement.py:484: UserWarning: find_element_by_css_selector is deprecated. Please use find_element(by=By.CSS_SELECTOR, value=css_selector) instead\n",
      "  warnings.warn(\"find_element_by_css_selector is deprecated. Please use find_element(by=By.CSS_SELECTOR, value=css_selector) instead\")\n",
      "C:\\Users\\user\\AppData\\Roaming\\Python\\Python310\\site-packages\\selenium\\webdriver\\remote\\webelement.py:446: UserWarning: find_element_by_class_name is deprecated. Please use find_element(by=By.CLASS_NAME, value=name) instead\n",
      "  warnings.warn(\"find_element_by_class_name is deprecated. Please use find_element(by=By.CLASS_NAME, value=name) instead\")\n"
     ]
    },
    {
     "name": "stdout",
     "output_type": "stream",
     "text": [
      "{'서비스': ['BucksMusic', 'BucksMusic', 'BucksMusic', 'BucksMusic', 'BucksMusic', 'BucksMusic', 'BucksMusic', 'BucksMusic', 'BucksMusic', 'BucksMusic', 'BucksMusic', 'BucksMusic', 'BucksMusic', 'BucksMusic', 'BucksMusic', 'BucksMusic', 'BucksMusic', 'BucksMusic', 'BucksMusic', 'BucksMusic', 'BucksMusic', 'BucksMusic', 'BucksMusic', 'BucksMusic', 'BucksMusic', 'BucksMusic', 'BucksMusic', 'BucksMusic', 'BucksMusic', 'BucksMusic', 'BucksMusic', 'BucksMusic', 'BucksMusic', 'BucksMusic', 'BucksMusic', 'BucksMusic', 'BucksMusic', 'BucksMusic', 'BucksMusic', 'BucksMusic', 'BucksMusic', 'BucksMusic', 'BucksMusic', 'BucksMusic', 'BucksMusic', 'BucksMusic', 'BucksMusic', 'BucksMusic', 'BucksMusic', 'BucksMusic', 'BucksMusic', 'BucksMusic', 'BucksMusic', 'BucksMusic', 'BucksMusic', 'BucksMusic', 'BucksMusic', 'BucksMusic', 'BucksMusic', 'BucksMusic', 'BucksMusic', 'BucksMusic', 'BucksMusic', 'BucksMusic', 'BucksMusic', 'BucksMusic', 'BucksMusic', 'BucksMusic', 'BucksMusic', 'BucksMusic', 'BucksMusic', 'BucksMusic', 'BucksMusic', 'BucksMusic', 'BucksMusic', 'BucksMusic', 'BucksMusic', 'BucksMusic', 'BucksMusic', 'BucksMusic', 'BucksMusic', 'BucksMusic', 'BucksMusic', 'BucksMusic', 'BucksMusic', 'BucksMusic', 'BucksMusic', 'BucksMusic', 'BucksMusic', 'BucksMusic', 'BucksMusic', 'BucksMusic', 'BucksMusic', 'BucksMusic', 'BucksMusic', 'BucksMusic', 'BucksMusic', 'BucksMusic', 'BucksMusic', 'BucksMusic'], '순위': ['1', '2', '3', '4', '5', '6', '7', '8', '9', '10', '11', '12', '13', '14', '15', '16', '17', '18', '19', '20', '21', '22', '23', '24', '25', '26', '27', '28', '29', '30', '31', '32', '33', '34', '35', '36', '37', '38', '39', '40', '41', '42', '43', '44', '45', '46', '47', '48', '49', '50', '51', '52', '53', '54', '55', '56', '57', '58', '59', '60', '61', '62', '63', '64', '65', '66', '67', '68', '69', '70', '71', '72', '73', '74', '75', '76', '77', '78', '79', '80', '81', '82', '83', '84', '85', '86', '87', '88', '89', '90', '91', '92', '93', '94', '95', '96', '97', '98', '99', '100'], '제목': ['팡파레', 'LOVE DIVE', '천왕성', 'TOMBOY', 'That That (prod. & feat. SUGA of BTS)', '감동이야 (feat. 성시경)', 'Happy Song', '초록을거머쥔우리는', 'YOU AND I', '사랑인가 봐', 'FEARLESS', '나의 X에게', '봄여름가을겨울 (Still Life)', 'MY BAG', 'Celeb', '둘이서 떠나요', 'Seoul', '왜 이제와서야 (Why)', 'Feel My Rhythm', 'ZOOM', '정이라고 하자 (Feat. 10CM)', '안녕이란 말', '작은 빗방울이 네 손끝에', '모래성', '봄 to 러브', \"That's Hilarious\", '내 곁에', '이제는 (feat. 화사)', 'LOVE me', '미친 것처럼', '초대', '밤이 깊었네 (feat. 헤이즈)', '슬픔이여안녕', '돌아버리겠네', '신호등', 'INVU', '레이디버드', 'GANADARA (Feat. 아이유)', '사건의 지평선', '듣고 싶을까', 'Love story', 'ELEVEN', '마지막 너의 인사', '사월에게', '유난히 지치는 그런 날이 있잖아', 'With you', '알아가려 해', '덧', 'Drive', '취중고백', '여름가을겨울  봄.', 'strawberry moon', 'Here We Are', '주저하는 연인들을 위해', 'STAY', 'SMILEY (Feat. BIBI)', '내 손을 잡아', '드라마', 'RUN2U', 'Weekend', 'Next Level', '다정히 내 이름을 부르면', 'YOU AND I', '고백', '사랑은 늘 도망가', 'Whisky on the Rock', 'Real Love', '비', 'GANJI (feat. Jessi)', \"Stronger (What Doesn't Kill You)\", 'As It Was', \"All 4 Nothing (I'm So In Love)\", '썸 2 (Feat. 정용화)', 'Butter', 'Dynamite', '존재만으로', '너의 모든 순간', 'Light Switch', '사랑은 이별이었다 (Love Is…)', 'Like My Father', '우리들의 블루스', 'O.O', 'Blueming', 'ROYAL', '너를 생각해', '스물다섯, 스물하나', '추적이는 여름 비가 되어', '회전목마 (Feat. Zion.T, 원슈타인) (Prod. Slom)', 'MAISON', '방문을 닫고', '다라리 (DARARI)', '라일락', 'Off My Face', 'New Face', '2step (feat. Lil Baby)', 'TOMBOY', 'Permission to Dance', 'Celebrity', 'Rainbow', '너 같은 사람'], '가수': ['다비치', 'IVE (아이브)', '이수영', '(여자)아이들', '싸이 (PSY)', '싸이 (PSY)', '멜로망스(MeloMance)', '잔나비', 'WSG워너비 조별경연 (대청봉)', '멜로망스(MeloMance)', 'LE SSERAFIM (르세라핌)', '경서', 'BIGBANG (빅뱅)', '(여자)아이들', '싸이 (PSY)', '다비치', '볼빨간사춘기', '황치열', 'Red Velvet (레드벨벳)', '제시(Jessi)', 'BIG Naughty (서동현)', '정승환', '이수영', '다비치', '10CM', 'Charlie Puth(찰리 푸스)', '태연 (TAEYEON)', '싸이 (PSY)', \"BE'O (비오)\", 'V.O.S.', '멜로망스(MeloMance)', '싸이 (PSY)', '잔나비', '김범수', '이무진', '태연 (TAEYEON)', '잔나비', '박재범', '윤하(Younha/ユンナ)', 'MSG워너비(M.O.M)', '볼빨간사춘기', 'IVE (아이브)', '헤이즈(Heize)', '이수영', '다비치', '지민\\n지민', '이수영', '이수영', '미연 ((여자)아이들)', '김민석 (멜로망스)', '잔나비', '아이유(IU)', '김필(Kim Feel)', '잔나비', 'The Kid LAROI\\nThe Kid LAROI', 'YENA (최예나)', '아이유(IU)', '아이유(IU)', 'STAYC(스테이씨)', '태연 (TAEYEON)', 'aespa', '경서예지\\n경서예지', '박봄 (Park Bom)', '멜로망스(MeloMance)', '임영웅', '김연지', '오마이걸(OH MY GIRL)', '폴킴(Paul Kim)', '싸이 (PSY)', 'Kelly Clarkson(켈리 클락슨)', 'Harry Styles(해리 스타일스)', 'Lauv(라우브)', '소유 (SOYOU)', '방탄소년단', '방탄소년단', '원슈타인', '성시경', 'Charlie Puth(찰리 푸스)', '황치열', 'Jax(잭스)', '임영웅', 'NMIXX', '아이유(IU)', 'IVE (아이브)', '주시크 (Joosiq)', '자우림(Jaurim)', '장범준', 'sokodomo', '드림캐쳐', '이수영', 'TREASURE(트레저)', '아이유(IU)', 'Justin Bieber(저스틴 비버)', '싸이 (PSY)', 'Ed Sheeran(에드 시런)', '혁오 (HYUKOH)', '방탄소년단', '아이유(IU)', '이수영', '이수영']}\n"
     ]
    }
   ],
   "source": [
    "trs = driver.find_elements_by_css_selector('#CHARTrealtime > table > tbody > tr')\n",
    "\n",
    "rank = {'서비스': [],\n",
    "        '순위': [],\n",
    "        '제목': [],\n",
    "        '가수': []\n",
    "        }\n",
    "for i in range(len(trs)):\n",
    "    rank['서비스'].append(\"BucksMusic\")\n",
    "    rank['순위'].append(trs[i].find_element_by_css_selector('strong').text)\n",
    "    rank['제목'].append(trs[i].find_element_by_class_name('title').text)\n",
    "    rank['가수'].append(trs[i].find_element_by_class_name('artist').text)\n",
    "print(rank)"
   ]
  },
  {
   "cell_type": "code",
   "execution_count": 35,
   "metadata": {},
   "outputs": [
    {
     "data": {
      "text/html": [
       "<div>\n",
       "<style scoped>\n",
       "    .dataframe tbody tr th:only-of-type {\n",
       "        vertical-align: middle;\n",
       "    }\n",
       "\n",
       "    .dataframe tbody tr th {\n",
       "        vertical-align: top;\n",
       "    }\n",
       "\n",
       "    .dataframe thead th {\n",
       "        text-align: right;\n",
       "    }\n",
       "</style>\n",
       "<table border=\"1\" class=\"dataframe\">\n",
       "  <thead>\n",
       "    <tr style=\"text-align: right;\">\n",
       "      <th></th>\n",
       "      <th>서비스</th>\n",
       "      <th>순위</th>\n",
       "      <th>제목</th>\n",
       "      <th>가수</th>\n",
       "    </tr>\n",
       "  </thead>\n",
       "  <tbody>\n",
       "    <tr>\n",
       "      <th>0</th>\n",
       "      <td>BucksMusic</td>\n",
       "      <td>1</td>\n",
       "      <td>팡파레</td>\n",
       "      <td>다비치</td>\n",
       "    </tr>\n",
       "    <tr>\n",
       "      <th>1</th>\n",
       "      <td>BucksMusic</td>\n",
       "      <td>2</td>\n",
       "      <td>LOVE DIVE</td>\n",
       "      <td>IVE (아이브)</td>\n",
       "    </tr>\n",
       "    <tr>\n",
       "      <th>2</th>\n",
       "      <td>BucksMusic</td>\n",
       "      <td>3</td>\n",
       "      <td>천왕성</td>\n",
       "      <td>이수영</td>\n",
       "    </tr>\n",
       "    <tr>\n",
       "      <th>3</th>\n",
       "      <td>BucksMusic</td>\n",
       "      <td>4</td>\n",
       "      <td>TOMBOY</td>\n",
       "      <td>(여자)아이들</td>\n",
       "    </tr>\n",
       "    <tr>\n",
       "      <th>4</th>\n",
       "      <td>BucksMusic</td>\n",
       "      <td>5</td>\n",
       "      <td>That That (prod. &amp; feat. SUGA of BTS)</td>\n",
       "      <td>싸이 (PSY)</td>\n",
       "    </tr>\n",
       "    <tr>\n",
       "      <th>...</th>\n",
       "      <td>...</td>\n",
       "      <td>...</td>\n",
       "      <td>...</td>\n",
       "      <td>...</td>\n",
       "    </tr>\n",
       "    <tr>\n",
       "      <th>95</th>\n",
       "      <td>BucksMusic</td>\n",
       "      <td>96</td>\n",
       "      <td>TOMBOY</td>\n",
       "      <td>혁오 (HYUKOH)</td>\n",
       "    </tr>\n",
       "    <tr>\n",
       "      <th>96</th>\n",
       "      <td>BucksMusic</td>\n",
       "      <td>97</td>\n",
       "      <td>Permission to Dance</td>\n",
       "      <td>방탄소년단</td>\n",
       "    </tr>\n",
       "    <tr>\n",
       "      <th>97</th>\n",
       "      <td>BucksMusic</td>\n",
       "      <td>98</td>\n",
       "      <td>Celebrity</td>\n",
       "      <td>아이유(IU)</td>\n",
       "    </tr>\n",
       "    <tr>\n",
       "      <th>98</th>\n",
       "      <td>BucksMusic</td>\n",
       "      <td>99</td>\n",
       "      <td>Rainbow</td>\n",
       "      <td>이수영</td>\n",
       "    </tr>\n",
       "    <tr>\n",
       "      <th>99</th>\n",
       "      <td>BucksMusic</td>\n",
       "      <td>100</td>\n",
       "      <td>너 같은 사람</td>\n",
       "      <td>이수영</td>\n",
       "    </tr>\n",
       "  </tbody>\n",
       "</table>\n",
       "<p>100 rows × 4 columns</p>\n",
       "</div>"
      ],
      "text/plain": [
       "           서비스   순위                                     제목           가수\n",
       "0   BucksMusic    1                                    팡파레          다비치\n",
       "1   BucksMusic    2                              LOVE DIVE    IVE (아이브)\n",
       "2   BucksMusic    3                                    천왕성          이수영\n",
       "3   BucksMusic    4                                 TOMBOY      (여자)아이들\n",
       "4   BucksMusic    5  That That (prod. & feat. SUGA of BTS)     싸이 (PSY)\n",
       "..         ...  ...                                    ...          ...\n",
       "95  BucksMusic   96                                 TOMBOY  혁오 (HYUKOH)\n",
       "96  BucksMusic   97                    Permission to Dance        방탄소년단\n",
       "97  BucksMusic   98                              Celebrity      아이유(IU)\n",
       "98  BucksMusic   99                                Rainbow          이수영\n",
       "99  BucksMusic  100                                너 같은 사람          이수영\n",
       "\n",
       "[100 rows x 4 columns]"
      ]
     },
     "execution_count": 35,
     "metadata": {},
     "output_type": "execute_result"
    }
   ],
   "source": [
    "pd_df = pd.DataFrame(rank)\n",
    "pd_df"
   ]
  },
  {
   "cell_type": "code",
   "execution_count": 6,
   "metadata": {},
   "outputs": [],
   "source": [
    "html = driver.page_source\n",
    "soup = BeautifulSoup(html,'html.parser')"
   ]
  },
  {
   "cell_type": "code",
   "execution_count": 10,
   "metadata": {},
   "outputs": [
    {
     "data": {
      "text/plain": [
       "100"
      ]
     },
     "execution_count": 10,
     "metadata": {},
     "output_type": "execute_result"
    }
   ],
   "source": [
    "## 곡정보 얻기\n",
    "songs = soup.select('table.list > tbody > tr')\n",
    "len(songs)"
   ]
  },
  {
   "cell_type": "code",
   "execution_count": 11,
   "metadata": {},
   "outputs": [
    {
     "data": {
      "text/plain": [
       "<tr albumid=\"20468120\" artistid=\"80041466\" multiartist=\"N\" mvid=\"608363\" rowtype=\"track\" trackid=\"32542643\">\n",
       "<input name=\"_isStream\" type=\"hidden\" value=\"32542643\"/>\n",
       "<input name=\"_isDown\" type=\"hidden\" value=\"32542643\"/>\n",
       "<td class=\"check\"><input buyminquality=\"T\" disc_id=\"1\" name=\"check\" title=\"팡파레\" type=\"checkbox\" value=\"32542643\"/></td>\n",
       "<td>\n",
       "<div class=\"ranking\">\n",
       "<strong>1</strong>\n",
       "<p class=\"change none\"><em>0</em><span>변동없음</span></p>\n",
       "</div>\n",
       "</td>\n",
       "<td>\n",
       "<a class=\"thumbnail\" href=\"https://music.bugs.co.kr/album/20468120?wl_ref=list_tr_07_chart\" onclick=\"\n",
       "\">\n",
       "<span class=\"mask\"></span>\n",
       "<img alt=\"Season Note 대표이미지\" onerror=\"bugs.utils.imgError(this);\" src=\"https://image.bugsm.co.kr/album/images/50/204681/20468120.jpg?version=20220518014558.0\"/>\n",
       "</a>\n",
       "</td>\n",
       "<td>\n",
       "<a class=\"trackInfo\" href=\"https://music.bugs.co.kr/track/32542643?wl_ref=list_tr_08_chart\" onclick=\"\n",
       "\">곡정보</a>\n",
       "</td>\n",
       "<th scope=\"row\">\n",
       "<p adult_yn=\"N\" class=\"title\">\n",
       "<a adultcheckval=\"1\" aria-label=\"새창\" href=\"javascript:;\" onclick=\"bugs.wiselog.area('list_tr_09_chart');bugs.music.listen('32542643',true);\n",
       "\" title=\"팡파레\">팡파레</a>\n",
       "</p>\n",
       "</th>\n",
       "<td class=\"left\">\n",
       "<p class=\"artist\">\n",
       "<a href=\"https://music.bugs.co.kr/artist/80041466?wl_ref=list_tr_10_chart\" onclick=\"\n",
       "\" title=\"다비치\">다비치</a>\n",
       "</p>\n",
       "</td>\n",
       "<td class=\"left\">\n",
       "<a class=\"album\" href=\"https://music.bugs.co.kr/album/20468120?wl_ref=list_tr_11_chart\" onclick=\"\n",
       "\" title=\"Season Note\">Season Note</a>\n",
       "</td>\n",
       "<td>\n",
       "<a adultcheckval=\"1\" aria-label=\"새창\" class=\"btn play\" href=\"javascript:;\" onclick=\"bugs.wiselog.area('list_tr_12_chart');bugs.music.listen('32542643',true);\n",
       "\">듣기</a>\n",
       "</td>\n",
       "<td>\n",
       "<a adultcheckval=\"1\" aria-label=\"새창\" class=\"btn addPlaylist\" href=\"javascript:;\" onclick=\"bugs.wiselog.area('list_tr_13_chart');bugs.music.listen('32542643');\n",
       "\">재생목록에 추가</a>\n",
       "</td>\n",
       "<td>\n",
       "<a class=\"btn addAlbum\" href=\"javascript:;\" onclick=\"bugs.wiselog.area('list_tr_14_chart');bugs.music.addTrackToMyAlbum(this,'32542643');\n",
       "\" track_title=\"팡파레\">내 앨범에 담기</a>\n",
       "</td>\n",
       "<td>\n",
       "<a adultcheckval=\"1\" aria-label=\"새창\" class=\"btn download flac\" href=\"javascript:;\" onclick=\"bugs.wiselog.area('list_tr_15_chart');bugs.layermenu.down(this,'32542643','true','true','44.1','true','48', null );\n",
       "\"><em class=\"flac\">flac </em>다운로드</a>\n",
       "</td>\n",
       "<td>\n",
       "<a aria-label=\"새창\" class=\"btn viewMV\" href=\"javascript:;\" onclick=\"bugs.wiselog.area('list_tr_16_chart');\n",
       "bugs.layermenu.mv(this,32542643, 608363, 'Y', 'Y', 'Y', 'Y', 32542643, 'N','ALL', 'Y');\n",
       "\">영상 재생</a>\n",
       "</td>\n",
       "<td>\n",
       "<a artist_disp_nm=\"다비치\" artist_id=\"80041466\" class=\"btnActions\" href=\"javascript:;\" layer_type=\"CHART\" layerpositiontarget=\"td\" onclick=\"bugs.wiselog.area('list_tr_17_chart');\n",
       "bugs.layermenu.trackMoreAction(this,'32542643','0','20468120','bugs.music.listenRadioFromSeed(\\'32542643\\',\\'track\\');','N', 'Y', '_chart');\n",
       "\" track_title=\"팡파레\">기타 기능</a>\n",
       "</td>\n",
       "</tr>"
      ]
     },
     "execution_count": 11,
     "metadata": {},
     "output_type": "execute_result"
    }
   ],
   "source": [
    "## 곡정보 확인\n",
    "songs[0]"
   ]
  },
  {
   "cell_type": "code",
   "execution_count": 21,
   "metadata": {},
   "outputs": [
    {
     "data": {
      "text/plain": [
       "'팡파레'"
      ]
     },
     "execution_count": 21,
     "metadata": {},
     "output_type": "execute_result"
    }
   ],
   "source": [
    "## 곡 제목 찾기\n",
    "song = songs[0]\n",
    "title = song.select('p.title > a')[0]\n",
    "title.text"
   ]
  },
  {
   "cell_type": "code",
   "execution_count": 23,
   "metadata": {},
   "outputs": [
    {
     "data": {
      "text/plain": [
       "'다비치'"
      ]
     },
     "execution_count": 23,
     "metadata": {},
     "output_type": "execute_result"
    }
   ],
   "source": [
    "## 가수 이름 찾기\n",
    "artist = song.select('p.artist > a')[0]\n",
    "artist.text"
   ]
  },
  {
   "cell_type": "code",
   "execution_count": null,
   "metadata": {},
   "outputs": [],
   "source": [
    "songs = soup.select('table.byChart > tbody > tr')\n",
    "for song in songs:\n",
    "    title = song.select('p.title > a')[0].text\n",
    "    singer = song.select('p.artist > a')[0].text\n",
    "    print(title, singer, sep=\"|\")"
   ]
  },
  {
   "cell_type": "code",
   "execution_count": null,
   "metadata": {},
   "outputs": [],
   "source": [
    "## 반복문 사용하여 song_data를 저장\n",
    "song_data = []\n",
    "rank = 1\n",
    "songs = soup.select('table.byChart > tbody > tr')\n",
    "for song in songs:\n",
    "    title = song.select('p.title > a')[0].text\n",
    "    singer = song.select('p.artist > a')[0].text\n",
    "    song_data.append(['Bugs', rank, title, singer])\n",
    "    rank = rank + 1\n",
    "song_data"
   ]
  },
  {
   "cell_type": "code",
   "execution_count": 27,
   "metadata": {},
   "outputs": [
    {
     "name": "stdout",
     "output_type": "stream",
     "text": [
      "<class 'pandas.core.frame.DataFrame'>\n",
      "RangeIndex: 100 entries, 0 to 99\n",
      "Data columns (total 4 columns):\n",
      " #   Column  Non-Null Count  Dtype \n",
      "---  ------  --------------  ----- \n",
      " 0   서비스     100 non-null    object\n",
      " 1   순위      100 non-null    int64 \n",
      " 2   제목      100 non-null    object\n",
      " 3   가수      100 non-null    object\n",
      "dtypes: int64(1), object(3)\n",
      "memory usage: 3.2+ KB\n"
     ]
    },
    {
     "data": {
      "text/html": [
       "<div>\n",
       "<style scoped>\n",
       "    .dataframe tbody tr th:only-of-type {\n",
       "        vertical-align: middle;\n",
       "    }\n",
       "\n",
       "    .dataframe tbody tr th {\n",
       "        vertical-align: top;\n",
       "    }\n",
       "\n",
       "    .dataframe thead th {\n",
       "        text-align: right;\n",
       "    }\n",
       "</style>\n",
       "<table border=\"1\" class=\"dataframe\">\n",
       "  <thead>\n",
       "    <tr style=\"text-align: right;\">\n",
       "      <th></th>\n",
       "      <th>서비스</th>\n",
       "      <th>순위</th>\n",
       "      <th>제목</th>\n",
       "      <th>가수</th>\n",
       "    </tr>\n",
       "  </thead>\n",
       "  <tbody>\n",
       "    <tr>\n",
       "      <th>0</th>\n",
       "      <td>Bugs</td>\n",
       "      <td>1</td>\n",
       "      <td>팡파레</td>\n",
       "      <td>다비치</td>\n",
       "    </tr>\n",
       "    <tr>\n",
       "      <th>1</th>\n",
       "      <td>Bugs</td>\n",
       "      <td>2</td>\n",
       "      <td>LOVE DIVE</td>\n",
       "      <td>IVE (아이브)</td>\n",
       "    </tr>\n",
       "    <tr>\n",
       "      <th>2</th>\n",
       "      <td>Bugs</td>\n",
       "      <td>3</td>\n",
       "      <td>천왕성</td>\n",
       "      <td>이수영</td>\n",
       "    </tr>\n",
       "    <tr>\n",
       "      <th>3</th>\n",
       "      <td>Bugs</td>\n",
       "      <td>4</td>\n",
       "      <td>TOMBOY</td>\n",
       "      <td>(여자)아이들</td>\n",
       "    </tr>\n",
       "    <tr>\n",
       "      <th>4</th>\n",
       "      <td>Bugs</td>\n",
       "      <td>5</td>\n",
       "      <td>That That (prod. &amp; feat. SUGA of BTS)</td>\n",
       "      <td>싸이 (PSY)</td>\n",
       "    </tr>\n",
       "  </tbody>\n",
       "</table>\n",
       "</div>"
      ],
      "text/plain": [
       "    서비스  순위                                     제목         가수\n",
       "0  Bugs   1                                    팡파레        다비치\n",
       "1  Bugs   2                              LOVE DIVE  IVE (아이브)\n",
       "2  Bugs   3                                    천왕성        이수영\n",
       "3  Bugs   4                                 TOMBOY    (여자)아이들\n",
       "4  Bugs   5  That That (prod. & feat. SUGA of BTS)   싸이 (PSY)"
      ]
     },
     "execution_count": 27,
     "metadata": {},
     "output_type": "execute_result"
    }
   ],
   "source": [
    "import pandas as pd\n",
    "df_cols = ['서비스', '순위', '제목', '가수']\n",
    "pd_df = pd.DataFrame(song_data, columns=df_cols)\n",
    "pd_df.info()\n",
    "pd_df.head()"
   ]
  },
  {
   "cell_type": "code",
   "execution_count": 28,
   "metadata": {},
   "outputs": [],
   "source": [
    "## 크롤링 결과를 엑셀로 저장\n",
    "pd_df.to_excel(\"data/bugs.xlsx\", index=False)"
   ]
  },
  {
   "cell_type": "code",
   "execution_count": 48,
   "metadata": {},
   "outputs": [
    {
     "name": "stderr",
     "output_type": "stream",
     "text": [
      "C:\\Users\\user\\AppData\\Local\\Temp\\ipykernel_2540\\2717540072.py:2: DeprecationWarning: executable_path has been deprecated, please pass in a Service object\n",
      "  driver = wd.Chrome(\"C:\\webdriver\\chromedriver.exe\")\n"
     ]
    }
   ],
   "source": [
    "## 지니 차트\n",
    "driver = wd.Chrome(\"C:\\webdriver\\chromedriver.exe\")\n",
    "url = \"https://genie.co.kr/chart/top200\"\n",
    "driver.get(url)"
   ]
  },
  {
   "cell_type": "code",
   "execution_count": 49,
   "metadata": {},
   "outputs": [
    {
     "name": "stderr",
     "output_type": "stream",
     "text": [
      "C:\\Users\\user\\AppData\\Local\\Temp\\ipykernel_2540\\1303602389.py:1: DeprecationWarning: find_elements_by_css_selector is deprecated. Please use find_elements(by=By.CSS_SELECTOR, value=css_selector) instead\n",
      "  trs = driver.find_elements_by_css_selector('#body-content > div.newest-list > div > table > tbody > tr')\n",
      "C:\\Users\\user\\AppData\\Local\\Temp\\ipykernel_2540\\1303602389.py:12: DeprecationWarning: find_element_by_css_selector is deprecated. Please use find_element(by=By.CSS_SELECTOR, value=css_selector) instead\n",
      "  driver.find_element_by_css_selector('#body-content > div.page-nav.rank-page-nav > a:nth-child(2)').click()\n",
      "C:\\Users\\user\\AppData\\Local\\Temp\\ipykernel_2540\\1303602389.py:13: DeprecationWarning: find_elements_by_css_selector is deprecated. Please use find_elements(by=By.CSS_SELECTOR, value=css_selector) instead\n",
      "  trs = driver.find_elements_by_css_selector('#body-content > div.newest-list > div > table > tbody > tr')\n"
     ]
    },
    {
     "data": {
      "text/plain": [
       "[['Genie', 1, 'That That (Prod. & Feat. SUGA of BTS)', '싸이 (Psy)'],\n",
       " ['Genie', 2, 'TOMBOY', '(여자)아이들'],\n",
       " ['Genie', 3, 'LOVE DIVE', 'IVE (아이브)'],\n",
       " ['Genie', 4, '봄여름가을겨울 (Still Life)', 'BIGBANG (빅뱅)'],\n",
       " ['Genie', 5, '사랑은 늘 도망가', '임영웅'],\n",
       " ['Genie', 6, '사랑인가 봐', '멜로망스 (MeloMance)'],\n",
       " ['Genie', 7, '우리들의 블루스', '임영웅'],\n",
       " ['Genie', 8, '나의 X에게', '경서'],\n",
       " ['Genie', 9, 'Feel My Rhythm', 'Red Velvet (레드벨벳)'],\n",
       " ['Genie', 10, '다시 만날 수 있을까', '임영웅'],\n",
       " ['Genie', 11, '취중고백', '김민석 (멜로망스)'],\n",
       " ['Genie', 12, 'LOVE me', \"BE'O (비오)\"],\n",
       " ['Genie', 13, 'ZOOM', '제시'],\n",
       " ['Genie', 14, 'GANADARA (Feat. 아이유)', '박재범'],\n",
       " ['Genie', 15, '신호등', '이무진'],\n",
       " ['Genie', 16, '이제 나만 믿어요', '임영웅'],\n",
       " ['Genie', 17, '팡파레', '다비치'],\n",
       " ['Genie', 18, '무지개', '임영웅'],\n",
       " ['Genie', 19, '다정히 내 이름을 부르면', '경서예지 & 전건호'],\n",
       " ['Genie', 20, '아버지', '임영웅'],\n",
       " ['Genie', 21, 'Celeb', '싸이 (Psy)'],\n",
       " ['Genie', 22, '듣고 싶을까', 'MSG워너비 (M.O.M)'],\n",
       " ['Genie', 23, 'A bientot', '임영웅'],\n",
       " ['Genie', 24, '손이 참 곱던 그대', '임영웅'],\n",
       " ['Genie', 25, '사랑해 진짜', '임영웅'],\n",
       " ['Genie', 26, '사랑역', '임영웅'],\n",
       " ['Genie', 27, 'FEARLESS', 'LE SSERAFIM (르세라핌)'],\n",
       " ['Genie', 28, 'INVU', '태연 (TAEYEON)'],\n",
       " ['Genie', 29, '연애편지', '임영웅'],\n",
       " ['Genie', 30, '보금자리', '임영웅'],\n",
       " ['Genie', 31, '사랑해요 그대를', '임영웅'],\n",
       " ['Genie', 32, '인생찬가', '임영웅'],\n",
       " ['Genie', 33, 'Stay', 'The Kid LAROI & Justin Bieber'],\n",
       " ['Genie', 34, 'MY BAG', '(여자)아이들'],\n",
       " ['Genie', 35, '정이라고 하자 (Feat. 10CM)', 'BIG Naughty (서동현)'],\n",
       " ['Genie', 36, 'ELEVEN', 'IVE (아이브)'],\n",
       " ['Genie', 37, '언제나 사랑해', '케이시 (Kassy)'],\n",
       " ['Genie', 38, 'Weekend', '태연 (TAEYEON)'],\n",
       " ['Genie', 39, '감동이야 (Feat. 성시경)', '싸이 (Psy)'],\n",
       " ['Genie', 40, '내 손을 잡아', '아이유 (IU)'],\n",
       " ['Genie', 41, '회전목마 (Feat. Zion.T & 원슈타인) (Prod. by Slom)', 'sokodomo'],\n",
       " ['Genie', 42, '19 abcdefu', 'GAYLE'],\n",
       " ['Genie', 43, '너의 모든 순간', '성시경'],\n",
       " ['Genie', 44, 'Counting Stars (Feat. Beenzino)', \"BE'O (비오)\"],\n",
       " ['Genie', 45, \"Stronger (What Doesn't Kill You)\", 'Kelly Clarkson'],\n",
       " ['Genie', 46, 'strawberry moon', '아이유 (IU)'],\n",
       " ['Genie', 47, '너를 생각해', '주시크 (Joosiq)'],\n",
       " ['Genie', 48, \"That's Hilarious\", 'Charlie Puth'],\n",
       " ['Genie', 49, '리무진 (Feat. MINO) (Prod. by GRAY)', \"BE'O (비오)\"],\n",
       " ['Genie', 50, '밤하늘의 별을 (2020)', '경서'],\n",
       " ['Genie', 51, '낙하 (With 아이유)', 'AKMU (악뮤)'],\n",
       " ['Genie', 52, 'Bad Habits', 'Ed Sheeran'],\n",
       " ['Genie', 53, '미친 것처럼', 'V.O.S'],\n",
       " ['Genie', 54, 'Next Level', 'aespa'],\n",
       " ['Genie', 55, '스물다섯, 스물하나', '자우림'],\n",
       " ['Genie', 56, 'With you', '지민 & 하성운'],\n",
       " ['Genie', 57, '바라만 본다', 'MSG워너비 (M.O.M)'],\n",
       " ['Genie', 58, 'Dynamite', '방탄소년단'],\n",
       " ['Genie', 59, 'Seoul', '볼빨간사춘기'],\n",
       " ['Genie', 60, '호랑수월가', '탑현'],\n",
       " ['Genie', 61, 'OHAYO MY NIGHT', '디핵 (D-Hack) & PATEKO'],\n",
       " ['Genie', 62, 'Butter', '방탄소년단'],\n",
       " ['Genie', 63, '봄 to 러브', '10CM'],\n",
       " ['Genie', 64, '라일락', '아이유 (IU)'],\n",
       " ['Genie', 65, 'Celebrity', '아이유 (IU)'],\n",
       " ['Genie', 66, '흔들리는 꽃들 속에서 네 샴푸향이 느껴진거야', '장범준'],\n",
       " ['Genie', 67, '문득', \"BE'O (비오)\"],\n",
       " ['Genie', 68, 'Blueming', '아이유 (IU)'],\n",
       " ['Genie', 69, 'My Universe', 'Coldplay & 방탄소년단'],\n",
       " ['Genie', 70, '아로하', '조정석'],\n",
       " ['Genie', 71, '어제처럼', '폴킴'],\n",
       " ['Genie', 72, '내가 아니라도', '주호'],\n",
       " ['Genie', 73, '모든 날, 모든 순간 (Every day, Every Moment)', '폴킴'],\n",
       " ['Genie', 74, '서랍', '10CM'],\n",
       " ['Genie', 75, '고백', '멜로망스 (MeloMance)'],\n",
       " ['Genie', 76, 'Tiny Riot', 'Sam Ryder'],\n",
       " ['Genie', 77, 'Happy Song', '멜로망스 (MeloMance)'],\n",
       " ['Genie', 78, 'Step Back', 'GOT the beat'],\n",
       " ['Genie', 79, '2002', 'Anne-Marie'],\n",
       " ['Genie', 80, '여행', '볼빨간사춘기'],\n",
       " ['Genie', 81, '찰나가 영원이 될 때 (The Eternal Moment)', '마크툽 (Maktub)'],\n",
       " ['Genie', 82, 'Loving You Girl (Feat. Hkeem)', 'Peder Elias'],\n",
       " ['Genie', 83, '드라마', '아이유 (IU)'],\n",
       " ['Genie', 84, '헤픈 우연', '헤이즈 (Heize)'],\n",
       " ['Genie', 85, 'Permission to Dance', '방탄소년단'],\n",
       " ['Genie', 86, '오늘도 빛나는 너에게 (To You My Light) (Feat.이라온)', '마크툽 (Maktub)'],\n",
       " ['Genie', 87, 'SMILEY (Feat. BIBI)', 'YENA (최예나)'],\n",
       " ['Genie', 88, 'RUN2U', 'STAYC (스테이씨)'],\n",
       " ['Genie', 89, 'At My Worst', 'Pink Sweat$'],\n",
       " ['Genie', 90, '눈이 오잖아 (Feat. 헤이즈)', '이무진'],\n",
       " ['Genie', 91, '만개 (Prod. 신지후)', '김호중'],\n",
       " ['Genie', 92, 'Every Second', 'Mina Okabe'],\n",
       " ['Genie',\n",
       "  93,\n",
       "  '만남은 쉽고 이별은 어려워 (Feat. Leellamarz) (Prod. by TOIL)',\n",
       "  '베이식 (Basick)'],\n",
       " ['Genie', 94, '선물', '멜로망스 (MeloMance)'],\n",
       " ['Genie', 95, 'Off My Face', 'Justin Bieber'],\n",
       " ['Genie', 96, '나는 트로트가 싫어요', '임창정'],\n",
       " ['Genie', 97, '우연히 봄', '로꼬 & 유주 (YUJU)'],\n",
       " ['Genie', 98, '나보다 더 사랑해요', '김호중'],\n",
       " ['Genie', 99, 'YOU AND I', 'WSG워너비 조별경연 (대청봉)'],\n",
       " ['Genie', 100, '밤이 깊었네 (Feat. 헤이즈)', '싸이 (Psy)']]"
      ]
     },
     "execution_count": 49,
     "metadata": {},
     "output_type": "execute_result"
    }
   ],
   "source": [
    "trs = driver.find_elements_by_css_selector('#body-content > div.newest-list > div > table > tbody > tr')\n",
    "# trs[0].find_element_by_class_name('number').text\n",
    "# trs[0].find_element_by_class_name('title').text\n",
    "# trs[0].find_element_by_class_name('artist').text\n",
    "rank = 1\n",
    "song_data = []\n",
    "for song in trs:\n",
    "    title = song.find_element_by_class_name('title').text\n",
    "    singer = song.find_element_by_class_name('artist').text\n",
    "    song_data.append(['Genie', rank, title, singer])\n",
    "    rank = rank + 1\n",
    "driver.find_element_by_css_selector('#body-content > div.page-nav.rank-page-nav > a:nth-child(2)').click()\n",
    "trs = driver.find_elements_by_css_selector('#body-content > div.newest-list > div > table > tbody > tr')\n",
    "for song in trs:\n",
    "    title = song.find_element_by_class_name('title').text\n",
    "    singer = song.find_element_by_class_name('artist').text\n",
    "    song_data.append(['Genie', rank, title, singer])\n",
    "    rank = rank + 1\n",
    "song_data\n"
   ]
  },
  {
   "cell_type": "code",
   "execution_count": 50,
   "metadata": {},
   "outputs": [
    {
     "name": "stdout",
     "output_type": "stream",
     "text": [
      "<class 'pandas.core.frame.DataFrame'>\n",
      "RangeIndex: 100 entries, 0 to 99\n",
      "Data columns (total 4 columns):\n",
      " #   Column  Non-Null Count  Dtype \n",
      "---  ------  --------------  ----- \n",
      " 0   서비스     100 non-null    object\n",
      " 1   순위      100 non-null    int64 \n",
      " 2   제목      100 non-null    object\n",
      " 3   가수      100 non-null    object\n",
      "dtypes: int64(1), object(3)\n",
      "memory usage: 3.2+ KB\n"
     ]
    },
    {
     "data": {
      "text/html": [
       "<div>\n",
       "<style scoped>\n",
       "    .dataframe tbody tr th:only-of-type {\n",
       "        vertical-align: middle;\n",
       "    }\n",
       "\n",
       "    .dataframe tbody tr th {\n",
       "        vertical-align: top;\n",
       "    }\n",
       "\n",
       "    .dataframe thead th {\n",
       "        text-align: right;\n",
       "    }\n",
       "</style>\n",
       "<table border=\"1\" class=\"dataframe\">\n",
       "  <thead>\n",
       "    <tr style=\"text-align: right;\">\n",
       "      <th></th>\n",
       "      <th>서비스</th>\n",
       "      <th>순위</th>\n",
       "      <th>제목</th>\n",
       "      <th>가수</th>\n",
       "    </tr>\n",
       "  </thead>\n",
       "  <tbody>\n",
       "    <tr>\n",
       "      <th>0</th>\n",
       "      <td>Genie</td>\n",
       "      <td>1</td>\n",
       "      <td>That That (Prod. &amp; Feat. SUGA of BTS)</td>\n",
       "      <td>싸이 (Psy)</td>\n",
       "    </tr>\n",
       "    <tr>\n",
       "      <th>1</th>\n",
       "      <td>Genie</td>\n",
       "      <td>2</td>\n",
       "      <td>TOMBOY</td>\n",
       "      <td>(여자)아이들</td>\n",
       "    </tr>\n",
       "    <tr>\n",
       "      <th>2</th>\n",
       "      <td>Genie</td>\n",
       "      <td>3</td>\n",
       "      <td>LOVE DIVE</td>\n",
       "      <td>IVE (아이브)</td>\n",
       "    </tr>\n",
       "    <tr>\n",
       "      <th>3</th>\n",
       "      <td>Genie</td>\n",
       "      <td>4</td>\n",
       "      <td>봄여름가을겨울 (Still Life)</td>\n",
       "      <td>BIGBANG (빅뱅)</td>\n",
       "    </tr>\n",
       "    <tr>\n",
       "      <th>4</th>\n",
       "      <td>Genie</td>\n",
       "      <td>5</td>\n",
       "      <td>사랑은 늘 도망가</td>\n",
       "      <td>임영웅</td>\n",
       "    </tr>\n",
       "  </tbody>\n",
       "</table>\n",
       "</div>"
      ],
      "text/plain": [
       "     서비스  순위                                     제목            가수\n",
       "0  Genie   1  That That (Prod. & Feat. SUGA of BTS)      싸이 (Psy)\n",
       "1  Genie   2                                 TOMBOY       (여자)아이들\n",
       "2  Genie   3                              LOVE DIVE     IVE (아이브)\n",
       "3  Genie   4                   봄여름가을겨울 (Still Life)  BIGBANG (빅뱅)\n",
       "4  Genie   5                              사랑은 늘 도망가           임영웅"
      ]
     },
     "execution_count": 50,
     "metadata": {},
     "output_type": "execute_result"
    }
   ],
   "source": [
    "import pandas as pd\n",
    "df_cols = ['서비스', '순위', '제목', '가수']\n",
    "pd_df = pd.DataFrame(song_data, columns=df_cols)\n",
    "pd_df.info()\n",
    "pd_df.head()"
   ]
  },
  {
   "cell_type": "code",
   "execution_count": 77,
   "metadata": {},
   "outputs": [
    {
     "name": "stderr",
     "output_type": "stream",
     "text": [
      "C:\\Users\\user\\AppData\\Local\\Temp\\ipykernel_2540\\3529162540.py:1: DeprecationWarning: executable_path has been deprecated, please pass in a Service object\n",
      "  driver = wd.Chrome(\"C:\\webdriver\\chromedriver.exe\")\n"
     ]
    }
   ],
   "source": [
    "driver = wd.Chrome(\"C:\\webdriver\\chromedriver.exe\")\n",
    "url = \"https://genie.co.kr/chart/top200\"\n",
    "driver.get(url)"
   ]
  },
  {
   "cell_type": "code",
   "execution_count": 78,
   "metadata": {},
   "outputs": [],
   "source": [
    "html = driver.page_source\n",
    "soup = BeautifulSoup(html,'html.parser')"
   ]
  },
  {
   "cell_type": "code",
   "execution_count": 79,
   "metadata": {},
   "outputs": [
    {
     "data": {
      "text/plain": [
       "50"
      ]
     },
     "execution_count": 79,
     "metadata": {},
     "output_type": "execute_result"
    }
   ],
   "source": [
    "## 곡정보 알아오기\n",
    "songs = soup.select('table > tbody > tr')\n",
    "len(songs)"
   ]
  },
  {
   "cell_type": "code",
   "execution_count": 80,
   "metadata": {},
   "outputs": [
    {
     "data": {
      "text/plain": [
       "'That That (Prod. & Feat. SUGA of BTS)'"
      ]
     },
     "execution_count": 80,
     "metadata": {},
     "output_type": "execute_result"
    }
   ],
   "source": [
    "song = songs[0]\n",
    "title = song.select('a.title')[0]\n",
    "title.text.strip()"
   ]
  },
  {
   "cell_type": "code",
   "execution_count": 81,
   "metadata": {},
   "outputs": [
    {
     "data": {
      "text/plain": [
       "'싸이 (Psy)'"
      ]
     },
     "execution_count": 81,
     "metadata": {},
     "output_type": "execute_result"
    }
   ],
   "source": [
    "singer = song.select('a.artist')[0]\n",
    "singer.text.strip()"
   ]
  },
  {
   "cell_type": "code",
   "execution_count": 82,
   "metadata": {},
   "outputs": [
    {
     "name": "stdout",
     "output_type": "stream",
     "text": [
      "That That (Prod. & Feat. SUGA of BTS)|싸이 (Psy)\n",
      "TOMBOY|(여자)아이들\n",
      "LOVE DIVE|IVE (아이브)\n",
      "봄여름가을겨울 (Still Life)|BIGBANG (빅뱅)\n",
      "사랑은 늘 도망가|임영웅\n",
      "사랑인가 봐|멜로망스 (MeloMance)\n",
      "우리들의 블루스|임영웅\n",
      "다시 만날 수 있을까|임영웅\n",
      "Feel My Rhythm|Red Velvet (레드벨벳)\n",
      "이제 나만 믿어요|임영웅\n",
      "나의 X에게|경서\n",
      "취중고백|김민석 (멜로망스)\n",
      "LOVE me|BE'O (비오)\n",
      "ZOOM|제시\n",
      "GANADARA (Feat. 아이유)|박재범\n",
      "무지개|임영웅\n",
      "아버지|임영웅\n",
      "다정히 내 이름을 부르면|경서예지 & 전건호\n",
      "A bientot|임영웅\n",
      "신호등|이무진\n",
      "손이 참 곱던 그대|임영웅\n",
      "듣고 싶을까|MSG워너비 (M.O.M)\n",
      "INVU|태연 (TAEYEON)\n",
      "사랑해 진짜|임영웅\n",
      "사랑역|임영웅\n",
      "팡파레|다비치\n",
      "연애편지|임영웅\n",
      "보금자리|임영웅\n",
      "Celeb|싸이 (Psy)\n",
      "Stay|The Kid LAROI & Justin Bieber\n",
      "사랑해요 그대를|임영웅\n",
      "인생찬가|임영웅\n",
      "너의 모든 순간|성시경\n",
      "언제나 사랑해|케이시 (Kassy)\n",
      "MY BAG|(여자)아이들\n",
      "ELEVEN|IVE (아이브)\n",
      "회전목마 (Feat. Zion.T & 원슈타인) (Prod. by Slom)|sokodomo\n",
      "FEARLESS|LE SSERAFIM (르세라핌)\n",
      "정이라고 하자 (Feat. 10CM)|BIG Naughty (서동현)\n",
      "감동이야 (Feat. 성시경)|싸이 (Psy)\n",
      "strawberry moon|아이유 (IU)\n",
      "abcdefu|GAYLE\n",
      "Stronger (What Doesn't Kill You)|Kelly Clarkson\n",
      "내 손을 잡아|아이유 (IU)\n",
      "Celebrity|아이유 (IU)\n",
      "너를 생각해|주시크 (Joosiq)\n",
      "Next Level|aespa\n",
      "That's Hilarious|Charlie Puth\n",
      "리무진 (Feat. MINO) (Prod. by GRAY)|BE'O (비오)\n",
      "Weekend|태연 (TAEYEON)\n"
     ]
    }
   ],
   "source": [
    "songs = soup.select('table > tbody > tr')\n",
    "for song in songs:\n",
    "    title = song.select_one('a.title').text.strip()\n",
    "    title = title.replace(\"19금\",\"\").strip()\n",
    "    singer = song.select_one('a.artist').text.strip()\n",
    "    print(title, singer, sep=\"|\")"
   ]
  },
  {
   "cell_type": "code",
   "execution_count": 83,
   "metadata": {},
   "outputs": [
    {
     "data": {
      "text/plain": [
       "[['Genie', 1, 'That That (Prod. & Feat. SUGA of BTS)', '싸이 (Psy)'],\n",
       " ['Genie', 2, 'TOMBOY', '(여자)아이들'],\n",
       " ['Genie', 3, 'LOVE DIVE', 'IVE (아이브)'],\n",
       " ['Genie', 4, '봄여름가을겨울 (Still Life)', 'BIGBANG (빅뱅)'],\n",
       " ['Genie', 5, '사랑은 늘 도망가', '임영웅'],\n",
       " ['Genie', 6, '사랑인가 봐', '멜로망스 (MeloMance)'],\n",
       " ['Genie', 7, '우리들의 블루스', '임영웅'],\n",
       " ['Genie', 8, '다시 만날 수 있을까', '임영웅'],\n",
       " ['Genie', 9, 'Feel My Rhythm', 'Red Velvet (레드벨벳)'],\n",
       " ['Genie', 10, '이제 나만 믿어요', '임영웅'],\n",
       " ['Genie', 11, '나의 X에게', '경서'],\n",
       " ['Genie', 12, '취중고백', '김민석 (멜로망스)'],\n",
       " ['Genie', 13, 'LOVE me', \"BE'O (비오)\"],\n",
       " ['Genie', 14, 'ZOOM', '제시'],\n",
       " ['Genie', 15, 'GANADARA (Feat. 아이유)', '박재범'],\n",
       " ['Genie', 16, '무지개', '임영웅'],\n",
       " ['Genie', 17, '아버지', '임영웅'],\n",
       " ['Genie', 18, '다정히 내 이름을 부르면', '경서예지 & 전건호'],\n",
       " ['Genie', 19, 'A bientot', '임영웅'],\n",
       " ['Genie', 20, '신호등', '이무진'],\n",
       " ['Genie', 21, '손이 참 곱던 그대', '임영웅'],\n",
       " ['Genie', 22, '듣고 싶을까', 'MSG워너비 (M.O.M)'],\n",
       " ['Genie', 23, 'INVU', '태연 (TAEYEON)'],\n",
       " ['Genie', 24, '사랑해 진짜', '임영웅'],\n",
       " ['Genie', 25, '사랑역', '임영웅'],\n",
       " ['Genie', 26, '팡파레', '다비치'],\n",
       " ['Genie', 27, '연애편지', '임영웅'],\n",
       " ['Genie', 28, '보금자리', '임영웅'],\n",
       " ['Genie', 29, 'Celeb', '싸이 (Psy)'],\n",
       " ['Genie', 30, 'Stay', 'The Kid LAROI & Justin Bieber'],\n",
       " ['Genie', 31, '사랑해요 그대를', '임영웅'],\n",
       " ['Genie', 32, '인생찬가', '임영웅'],\n",
       " ['Genie', 33, '너의 모든 순간', '성시경'],\n",
       " ['Genie', 34, '언제나 사랑해', '케이시 (Kassy)'],\n",
       " ['Genie', 35, 'MY BAG', '(여자)아이들'],\n",
       " ['Genie', 36, 'ELEVEN', 'IVE (아이브)'],\n",
       " ['Genie', 37, '회전목마 (Feat. Zion.T & 원슈타인) (Prod. by Slom)', 'sokodomo'],\n",
       " ['Genie', 38, 'FEARLESS', 'LE SSERAFIM (르세라핌)'],\n",
       " ['Genie', 39, '정이라고 하자 (Feat. 10CM)', 'BIG Naughty (서동현)'],\n",
       " ['Genie', 40, '감동이야 (Feat. 성시경)', '싸이 (Psy)'],\n",
       " ['Genie', 41, 'strawberry moon', '아이유 (IU)'],\n",
       " ['Genie', 42, 'abcdefu', 'GAYLE'],\n",
       " ['Genie', 43, \"Stronger (What Doesn't Kill You)\", 'Kelly Clarkson'],\n",
       " ['Genie', 44, '내 손을 잡아', '아이유 (IU)'],\n",
       " ['Genie', 45, 'Celebrity', '아이유 (IU)'],\n",
       " ['Genie', 46, '너를 생각해', '주시크 (Joosiq)'],\n",
       " ['Genie', 47, 'Next Level', 'aespa'],\n",
       " ['Genie', 48, \"That's Hilarious\", 'Charlie Puth'],\n",
       " ['Genie', 49, '리무진 (Feat. MINO) (Prod. by GRAY)', \"BE'O (비오)\"],\n",
       " ['Genie', 50, 'Weekend', '태연 (TAEYEON)']]"
      ]
     },
     "execution_count": 83,
     "metadata": {},
     "output_type": "execute_result"
    }
   ],
   "source": [
    "song_data = []\n",
    "rank = 1\n",
    "songs = soup.select('table > tbody > tr')\n",
    "for song in songs:\n",
    "    title = song.select_one('a.title').text.strip()\n",
    "    title = title.replace(\"19금\",\"\").strip()\n",
    "    singer = song.select_one('a.artist').text.strip()\n",
    "    song_data.append(['Genie', rank, title, singer])\n",
    "    rank = rank + 1\n",
    "song_data"
   ]
  },
  {
   "cell_type": "code",
   "execution_count": 84,
   "metadata": {},
   "outputs": [],
   "source": [
    "import pandas as pd\n",
    "df_cols = ['서비스', '순위', '제목', '가수']\n",
    "pd_df = pd.DataFrame(song_data, columns=df_cols)\n",
    "pd_df.to_excel(\"data/genie.xlsx\",index=False)"
   ]
  },
  {
   "cell_type": "code",
   "execution_count": 85,
   "metadata": {},
   "outputs": [
    {
     "name": "stderr",
     "output_type": "stream",
     "text": [
      "C:\\Users\\user\\AppData\\Local\\Temp\\ipykernel_2540\\240459676.py:7: FutureWarning: The frame.append method is deprecated and will be removed from pandas in a future version. Use pandas.concat instead.\n",
      "  appended_data = appended_data.append(pd_df)\n",
      "C:\\Users\\user\\AppData\\Local\\Temp\\ipykernel_2540\\240459676.py:7: FutureWarning: The frame.append method is deprecated and will be removed from pandas in a future version. Use pandas.concat instead.\n",
      "  appended_data = appended_data.append(pd_df)\n",
      "C:\\Users\\user\\AppData\\Local\\Temp\\ipykernel_2540\\240459676.py:7: FutureWarning: The frame.append method is deprecated and will be removed from pandas in a future version. Use pandas.concat instead.\n",
      "  appended_data = appended_data.append(pd_df)\n"
     ]
    }
   ],
   "source": [
    "### Excel_Merge\n",
    "excel_names = [\"data/bugs.xlsx\", \"data/genie.xlsx\", \"data/melon.xlsx\"]\n",
    "\n",
    "appended_data = pd.DataFrame()\n",
    "for name in excel_names:\n",
    "    pd_df = pd.read_excel(name)\n",
    "    appended_data = appended_data.append(pd_df)"
   ]
  },
  {
   "cell_type": "code",
   "execution_count": 86,
   "metadata": {},
   "outputs": [
    {
     "name": "stdout",
     "output_type": "stream",
     "text": [
      "<class 'pandas.core.frame.DataFrame'>\n",
      "Int64Index: 250 entries, 0 to 99\n",
      "Data columns (total 4 columns):\n",
      " #   Column  Non-Null Count  Dtype \n",
      "---  ------  --------------  ----- \n",
      " 0   서비스     250 non-null    object\n",
      " 1   순위      250 non-null    int64 \n",
      " 2   제목      250 non-null    object\n",
      " 3   가수      250 non-null    object\n",
      "dtypes: int64(1), object(3)\n",
      "memory usage: 9.8+ KB\n"
     ]
    }
   ],
   "source": [
    "appended_data.info()"
   ]
  },
  {
   "cell_type": "code",
   "execution_count": 87,
   "metadata": {},
   "outputs": [],
   "source": [
    "appended_data.to_excel(\"data/total.xlsx\",\"가요순위\",index=False)"
   ]
  },
  {
   "cell_type": "code",
   "execution_count": 4,
   "metadata": {},
   "outputs": [
    {
     "name": "stderr",
     "output_type": "stream",
     "text": [
      "C:\\Users\\user\\AppData\\Local\\Temp\\ipykernel_11152\\3025425227.py:2: DeprecationWarning: executable_path has been deprecated, please pass in a Service object\n",
      "  driver = wd.Chrome(\"C:\\webdriver\\chromedriver.exe\")\n"
     ]
    }
   ],
   "source": [
    "### 유튜브 순위 크롤링\n",
    "driver = wd.Chrome(\"C:\\webdriver\\chromedriver.exe\")\n",
    "url = \"https://www.youtube-rank.com/board/bbs/board.php?bo_table=youtube\"\n",
    "driver.get(url)"
   ]
  },
  {
   "cell_type": "code",
   "execution_count": null,
   "metadata": {},
   "outputs": [],
   "source": [
    "html = driver.page_source\n",
    "soup = BeautifulSoup(html,'html.parser')\n",
    "soup"
   ]
  },
  {
   "cell_type": "code",
   "execution_count": 44,
   "metadata": {},
   "outputs": [
    {
     "data": {
      "text/html": [
       "<div>\n",
       "<style scoped>\n",
       "    .dataframe tbody tr th:only-of-type {\n",
       "        vertical-align: middle;\n",
       "    }\n",
       "\n",
       "    .dataframe tbody tr th {\n",
       "        vertical-align: top;\n",
       "    }\n",
       "\n",
       "    .dataframe thead th {\n",
       "        text-align: right;\n",
       "    }\n",
       "</style>\n",
       "<table border=\"1\" class=\"dataframe\">\n",
       "  <thead>\n",
       "    <tr style=\"text-align: right;\">\n",
       "      <th></th>\n",
       "      <th>title</th>\n",
       "      <th>category</th>\n",
       "      <th>subscriber</th>\n",
       "      <th>view</th>\n",
       "      <th>video</th>\n",
       "    </tr>\n",
       "  </thead>\n",
       "  <tbody>\n",
       "    <tr>\n",
       "      <th>0</th>\n",
       "      <td>BLACKPINK</td>\n",
       "      <td>[음악/댄스/가수]</td>\n",
       "      <td>7420만</td>\n",
       "      <td>236억7615만</td>\n",
       "      <td>394개</td>\n",
       "    </tr>\n",
       "    <tr>\n",
       "      <th>1</th>\n",
       "      <td>BANGTANTV</td>\n",
       "      <td>[음악/댄스/가수]</td>\n",
       "      <td>6630만</td>\n",
       "      <td>161억5062만</td>\n",
       "      <td>1,694개</td>\n",
       "    </tr>\n",
       "    <tr>\n",
       "      <th>2</th>\n",
       "      <td>HYBE LABELS</td>\n",
       "      <td>[음악/댄스/가수]</td>\n",
       "      <td>6550만</td>\n",
       "      <td>226억3812만</td>\n",
       "      <td>866개</td>\n",
       "    </tr>\n",
       "    <tr>\n",
       "      <th>3</th>\n",
       "      <td>SMTOWN</td>\n",
       "      <td>[음악/댄스/가수]</td>\n",
       "      <td>3030만</td>\n",
       "      <td>244억9471만</td>\n",
       "      <td>3,904개</td>\n",
       "    </tr>\n",
       "    <tr>\n",
       "      <th>4</th>\n",
       "      <td>Boram Tube Vlog [보람튜브 브이로그]</td>\n",
       "      <td>[키즈/어린이]</td>\n",
       "      <td>2650만</td>\n",
       "      <td>110억5288만</td>\n",
       "      <td>223개</td>\n",
       "    </tr>\n",
       "  </tbody>\n",
       "</table>\n",
       "</div>"
      ],
      "text/plain": [
       "                         title    category subscriber       view   video\n",
       "0                    BLACKPINK  [음악/댄스/가수]      7420만  236억7615만    394개\n",
       "1                    BANGTANTV  [음악/댄스/가수]      6630만  161억5062만  1,694개\n",
       "2                  HYBE LABELS  [음악/댄스/가수]      6550만  226억3812만    866개\n",
       "3                       SMTOWN  [음악/댄스/가수]      3030만  244억9471만  3,904개\n",
       "4  Boram Tube Vlog [보람튜브 브이로그]    [키즈/어린이]      2650만  110억5288만    223개"
      ]
     },
     "execution_count": 44,
     "metadata": {},
     "output_type": "execute_result"
    }
   ],
   "source": [
    "contents = soup.select('table > tbody > tr.aos-init')\n",
    "#contents[0].text.strip().replace(\"\\n\",\"\").replace(\"\\t\",\"\")\n",
    "\n",
    "you_contents = []\n",
    "for content in contents:\n",
    "    title = content.select('td.subject > h1 > a')[0].text.strip()\n",
    "    category = content.select('.category')[0].text.strip()\n",
    "    subscriber = content.select('.subscriber_cnt')[0].text.strip()\n",
    "    view = content.select('.view_cnt')[0].text.strip()\n",
    "    video = content.select('.video_cnt')[0].text.strip()\n",
    "    you_contents.append([title,category,subscriber,view,video])\n",
    "df_cols = ['title','category','subscriber','view','video']\n",
    "pd_df = pd.DataFrame(you_contents,columns=df_cols)\n",
    "pd_df.head()"
   ]
  },
  {
   "cell_type": "code",
   "execution_count": null,
   "metadata": {},
   "outputs": [],
   "source": [
    "### 페이지 별로 100개씩 노출하고 있음\n",
    "page = 1\n",
    "url = f\"https://www.youtube-rank.com/board/bbs/board.php?bo_table=youtube&page={page}\""
   ]
  },
  {
   "cell_type": "code",
   "execution_count": 2,
   "metadata": {},
   "outputs": [
    {
     "name": "stderr",
     "output_type": "stream",
     "text": [
      "C:\\Users\\user\\AppData\\Local\\Temp\\ipykernel_12160\\713439494.py:6: DeprecationWarning: executable_path has been deprecated, please pass in a Service object\n",
      "  driver = wd.Chrome(\"C:\\webdriver\\chromedriver.exe\")\n"
     ]
    }
   ],
   "source": [
    "# 유튜브 랭크화면의 여러 페이지 크롤링\n",
    "import time\n",
    "result = []\n",
    "for page in range(1,11):\n",
    "    url = f\"https://www.youtube-rank.com/board/bbs/board.php?bo_table=youtube&page={page}\"\n",
    "    driver = wd.Chrome(\"C:\\webdriver\\chromedriver.exe\")\n",
    "    driver.get(url)\n",
    "    time.sleep(4)\n",
    "    html = driver.page_source\n",
    "    soup = BeautifulSoup(html, \"html.parser\")\n",
    "    channel_list = soup.select('form > table > tbody > tr')\n",
    "    for content in channel_list:\n",
    "        title = content.select('td.subject > h1 > a')[0].text.strip()\n",
    "        category = content.select('.category')[0].text.strip()\n",
    "        subscriber = content.select('.subscriber_cnt')[0].text.strip()\n",
    "        view = content.select('.view_cnt')[0].text.strip()\n",
    "        video = content.select('.video_cnt')[0].text.strip()\n",
    "        data = [title,category,subscriber,view,video]\n",
    "        result.append(data)"
   ]
  },
  {
   "cell_type": "code",
   "execution_count": 4,
   "metadata": {},
   "outputs": [],
   "source": [
    "df = pd.DataFrame(result)\n",
    "df.columns = ['title','category','subscriber','view','video']\n",
    "df.to_excel(\"data/youtube_rank.xlsx\", index=False)"
   ]
  },
  {
   "cell_type": "code",
   "execution_count": 42,
   "metadata": {},
   "outputs": [],
   "source": [
    "import matplotlib.pyplot as plt\n",
    "from matplotlib import font_manager, rc\n",
    "# 각각의 플랫폼에 따른 폰트 설정을 위해서\n",
    "import platform     # 플랫폼 관련 라이브러리\n",
    "\n",
    "if platform.system() == 'Windows':\n",
    "    path = \"C:\\Windows\\Fonts\\malgun.ttf\"\n",
    "    font_name = font_manager.FontProperties(fname=path).get_name()\n",
    "    rc('font',family = font_name)\n",
    "elif platform.system() == 'Darwin':\n",
    "    rc('font',family='AppleGothic')\n",
    "else :\n",
    "    print('check your OS System')"
   ]
  },
  {
   "cell_type": "code",
   "execution_count": 30,
   "metadata": {},
   "outputs": [],
   "source": [
    "### 엑셀로 저장된 파일을 불러오기\n",
    "df = pd.read_excel(\"data/youtube_rank.xlsx\")\n",
    "df['replace_subscriber'] = df['subscriber'].str.replace(\"만\",\"0000\")"
   ]
  },
  {
   "cell_type": "code",
   "execution_count": 34,
   "metadata": {},
   "outputs": [
    {
     "name": "stdout",
     "output_type": "stream",
     "text": [
      "<class 'pandas.core.frame.DataFrame'>\n",
      "RangeIndex: 1000 entries, 0 to 999\n",
      "Data columns (total 6 columns):\n",
      " #   Column              Non-Null Count  Dtype \n",
      "---  ------              --------------  ----- \n",
      " 0   title               1000 non-null   object\n",
      " 1   category            1000 non-null   object\n",
      " 2   subscriber          1000 non-null   object\n",
      " 3   view                1000 non-null   object\n",
      " 4   video               1000 non-null   object\n",
      " 5   replace_subscriber  1000 non-null   int64 \n",
      "dtypes: int64(1), object(5)\n",
      "memory usage: 47.0+ KB\n"
     ]
    }
   ],
   "source": [
    "df['replace_subscriber'] = df['replace_subscriber'].astype('int64')\n",
    "df.info()"
   ]
  },
  {
   "cell_type": "code",
   "execution_count": 36,
   "metadata": {},
   "outputs": [
    {
     "data": {
      "text/html": [
       "<div>\n",
       "<style scoped>\n",
       "    .dataframe tbody tr th:only-of-type {\n",
       "        vertical-align: middle;\n",
       "    }\n",
       "\n",
       "    .dataframe tbody tr th {\n",
       "        vertical-align: top;\n",
       "    }\n",
       "\n",
       "    .dataframe thead tr th {\n",
       "        text-align: left;\n",
       "    }\n",
       "\n",
       "    .dataframe thead tr:last-of-type th {\n",
       "        text-align: right;\n",
       "    }\n",
       "</style>\n",
       "<table border=\"1\" class=\"dataframe\">\n",
       "  <thead>\n",
       "    <tr>\n",
       "      <th></th>\n",
       "      <th>sum</th>\n",
       "      <th>count</th>\n",
       "    </tr>\n",
       "    <tr>\n",
       "      <th></th>\n",
       "      <th>replace_subscriber</th>\n",
       "      <th>replace_subscriber</th>\n",
       "    </tr>\n",
       "    <tr>\n",
       "      <th>category</th>\n",
       "      <th></th>\n",
       "      <th></th>\n",
       "    </tr>\n",
       "  </thead>\n",
       "  <tbody>\n",
       "    <tr>\n",
       "      <th>[BJ/인물/연예인]</th>\n",
       "      <td>93960000</td>\n",
       "      <td>62</td>\n",
       "    </tr>\n",
       "    <tr>\n",
       "      <th>[IT/기술/컴퓨터]</th>\n",
       "      <td>9000000</td>\n",
       "      <td>8</td>\n",
       "    </tr>\n",
       "    <tr>\n",
       "      <th>[TV/방송]</th>\n",
       "      <td>252940000</td>\n",
       "      <td>139</td>\n",
       "    </tr>\n",
       "    <tr>\n",
       "      <th>[게임]</th>\n",
       "      <td>71630000</td>\n",
       "      <td>67</td>\n",
       "    </tr>\n",
       "    <tr>\n",
       "      <th>[교육/강의]</th>\n",
       "      <td>25890000</td>\n",
       "      <td>21</td>\n",
       "    </tr>\n",
       "  </tbody>\n",
       "</table>\n",
       "</div>"
      ],
      "text/plain": [
       "                           sum              count\n",
       "            replace_subscriber replace_subscriber\n",
       "category                                         \n",
       "[BJ/인물/연예인]           93960000                 62\n",
       "[IT/기술/컴퓨터]            9000000                  8\n",
       "[TV/방송]              252940000                139\n",
       "[게임]                  71630000                 67\n",
       "[교육/강의]               25890000                 21"
      ]
     },
     "execution_count": 36,
     "metadata": {},
     "output_type": "execute_result"
    }
   ],
   "source": [
    "### 카테고리별 구독자 수 , 채널 수 피봇 테이블 생성\n",
    "pivot_df = df.pivot_table(index='category', values='replace_subscriber', aggfunc=[\"sum\",\"count\"])\n",
    "pivot_df.head()"
   ]
  },
  {
   "cell_type": "code",
   "execution_count": 37,
   "metadata": {},
   "outputs": [
    {
     "data": {
      "text/html": [
       "<div>\n",
       "<style scoped>\n",
       "    .dataframe tbody tr th:only-of-type {\n",
       "        vertical-align: middle;\n",
       "    }\n",
       "\n",
       "    .dataframe tbody tr th {\n",
       "        vertical-align: top;\n",
       "    }\n",
       "\n",
       "    .dataframe thead th {\n",
       "        text-align: right;\n",
       "    }\n",
       "</style>\n",
       "<table border=\"1\" class=\"dataframe\">\n",
       "  <thead>\n",
       "    <tr style=\"text-align: right;\">\n",
       "      <th></th>\n",
       "      <th>subscriber_sum</th>\n",
       "      <th>category_count</th>\n",
       "    </tr>\n",
       "    <tr>\n",
       "      <th>category</th>\n",
       "      <th></th>\n",
       "      <th></th>\n",
       "    </tr>\n",
       "  </thead>\n",
       "  <tbody>\n",
       "    <tr>\n",
       "      <th>[BJ/인물/연예인]</th>\n",
       "      <td>93960000</td>\n",
       "      <td>62</td>\n",
       "    </tr>\n",
       "    <tr>\n",
       "      <th>[IT/기술/컴퓨터]</th>\n",
       "      <td>9000000</td>\n",
       "      <td>8</td>\n",
       "    </tr>\n",
       "    <tr>\n",
       "      <th>[TV/방송]</th>\n",
       "      <td>252940000</td>\n",
       "      <td>139</td>\n",
       "    </tr>\n",
       "    <tr>\n",
       "      <th>[게임]</th>\n",
       "      <td>71630000</td>\n",
       "      <td>67</td>\n",
       "    </tr>\n",
       "    <tr>\n",
       "      <th>[교육/강의]</th>\n",
       "      <td>25890000</td>\n",
       "      <td>21</td>\n",
       "    </tr>\n",
       "  </tbody>\n",
       "</table>\n",
       "</div>"
      ],
      "text/plain": [
       "             subscriber_sum  category_count\n",
       "category                                   \n",
       "[BJ/인물/연예인]        93960000              62\n",
       "[IT/기술/컴퓨터]         9000000               8\n",
       "[TV/방송]           252940000             139\n",
       "[게임]               71630000              67\n",
       "[교육/강의]            25890000              21"
      ]
     },
     "execution_count": 37,
     "metadata": {},
     "output_type": "execute_result"
    }
   ],
   "source": [
    "## 피봇 데이터프레임 컬럼명 변경\n",
    "pivot_df.columns = ['subscriber_sum','category_count']\n",
    "pivot_df.head()"
   ]
  },
  {
   "cell_type": "code",
   "execution_count": 38,
   "metadata": {},
   "outputs": [
    {
     "data": {
      "text/html": [
       "<div>\n",
       "<style scoped>\n",
       "    .dataframe tbody tr th:only-of-type {\n",
       "        vertical-align: middle;\n",
       "    }\n",
       "\n",
       "    .dataframe tbody tr th {\n",
       "        vertical-align: top;\n",
       "    }\n",
       "\n",
       "    .dataframe thead th {\n",
       "        text-align: right;\n",
       "    }\n",
       "</style>\n",
       "<table border=\"1\" class=\"dataframe\">\n",
       "  <thead>\n",
       "    <tr style=\"text-align: right;\">\n",
       "      <th></th>\n",
       "      <th>category</th>\n",
       "      <th>subscriber_sum</th>\n",
       "      <th>category_count</th>\n",
       "    </tr>\n",
       "  </thead>\n",
       "  <tbody>\n",
       "    <tr>\n",
       "      <th>0</th>\n",
       "      <td>[BJ/인물/연예인]</td>\n",
       "      <td>93960000</td>\n",
       "      <td>62</td>\n",
       "    </tr>\n",
       "    <tr>\n",
       "      <th>1</th>\n",
       "      <td>[IT/기술/컴퓨터]</td>\n",
       "      <td>9000000</td>\n",
       "      <td>8</td>\n",
       "    </tr>\n",
       "    <tr>\n",
       "      <th>2</th>\n",
       "      <td>[TV/방송]</td>\n",
       "      <td>252940000</td>\n",
       "      <td>139</td>\n",
       "    </tr>\n",
       "    <tr>\n",
       "      <th>3</th>\n",
       "      <td>[게임]</td>\n",
       "      <td>71630000</td>\n",
       "      <td>67</td>\n",
       "    </tr>\n",
       "    <tr>\n",
       "      <th>4</th>\n",
       "      <td>[교육/강의]</td>\n",
       "      <td>25890000</td>\n",
       "      <td>21</td>\n",
       "    </tr>\n",
       "  </tbody>\n",
       "</table>\n",
       "</div>"
      ],
      "text/plain": [
       "      category  subscriber_sum  category_count\n",
       "0  [BJ/인물/연예인]        93960000              62\n",
       "1  [IT/기술/컴퓨터]         9000000               8\n",
       "2      [TV/방송]       252940000             139\n",
       "3         [게임]        71630000              67\n",
       "4      [교육/강의]        25890000              21"
      ]
     },
     "execution_count": 38,
     "metadata": {},
     "output_type": "execute_result"
    }
   ],
   "source": [
    "## 데이터프레임의 인덱스 초기화\n",
    "pivot_df = pivot_df.reset_index()\n",
    "pivot_df.head()"
   ]
  },
  {
   "cell_type": "code",
   "execution_count": 39,
   "metadata": {},
   "outputs": [
    {
     "data": {
      "text/html": [
       "<div>\n",
       "<style scoped>\n",
       "    .dataframe tbody tr th:only-of-type {\n",
       "        vertical-align: middle;\n",
       "    }\n",
       "\n",
       "    .dataframe tbody tr th {\n",
       "        vertical-align: top;\n",
       "    }\n",
       "\n",
       "    .dataframe thead th {\n",
       "        text-align: right;\n",
       "    }\n",
       "</style>\n",
       "<table border=\"1\" class=\"dataframe\">\n",
       "  <thead>\n",
       "    <tr style=\"text-align: right;\">\n",
       "      <th></th>\n",
       "      <th>category</th>\n",
       "      <th>subscriber_sum</th>\n",
       "      <th>category_count</th>\n",
       "    </tr>\n",
       "  </thead>\n",
       "  <tbody>\n",
       "    <tr>\n",
       "      <th>12</th>\n",
       "      <td>[음악/댄스/가수]</td>\n",
       "      <td>753000000</td>\n",
       "      <td>168</td>\n",
       "    </tr>\n",
       "    <tr>\n",
       "      <th>17</th>\n",
       "      <td>[키즈/어린이]</td>\n",
       "      <td>273190000</td>\n",
       "      <td>88</td>\n",
       "    </tr>\n",
       "    <tr>\n",
       "      <th>2</th>\n",
       "      <td>[TV/방송]</td>\n",
       "      <td>252940000</td>\n",
       "      <td>139</td>\n",
       "    </tr>\n",
       "    <tr>\n",
       "      <th>11</th>\n",
       "      <td>[음식/요리/레시피]</td>\n",
       "      <td>198420000</td>\n",
       "      <td>81</td>\n",
       "    </tr>\n",
       "    <tr>\n",
       "      <th>7</th>\n",
       "      <td>[미분류]</td>\n",
       "      <td>159570000</td>\n",
       "      <td>148</td>\n",
       "    </tr>\n",
       "  </tbody>\n",
       "</table>\n",
       "</div>"
      ],
      "text/plain": [
       "       category  subscriber_sum  category_count\n",
       "12   [음악/댄스/가수]       753000000             168\n",
       "17     [키즈/어린이]       273190000              88\n",
       "2       [TV/방송]       252940000             139\n",
       "11  [음식/요리/레시피]       198420000              81\n",
       "7         [미분류]       159570000             148"
      ]
     },
     "execution_count": 39,
     "metadata": {},
     "output_type": "execute_result"
    }
   ],
   "source": [
    "## 데이터프레임 내림차순 정렬\n",
    "pivot_df = pivot_df.sort_values(by='subscriber_sum',ascending=False)\n",
    "pivot_df.head()"
   ]
  },
  {
   "cell_type": "code",
   "execution_count": 50,
   "metadata": {},
   "outputs": [
    {
     "data": {
      "image/png": "[encoded data removed]",
      "text/plain": [
       "<Figure size 2160x720 with 1 Axes>"
      ]
     },
     "metadata": {},
     "output_type": "display_data"
    }
   ],
   "source": [
    "## 카테고리별 구독자수 시각화\n",
    "plt.figure(figsize = (30,10))\n",
    "plt.pie(pivot_df['subscriber_sum'], labels=pivot_df['category'],autopct='%1.1f%%')\n",
    "plt.show()"
   ]
  },
  {
   "cell_type": "code",
   "execution_count": 52,
   "metadata": {},
   "outputs": [
    {
     "data": {
      "image/png": "[encoded data removed]",
      "text/plain": [
       "<Figure size 2160x720 with 1 Axes>"
      ]
     },
     "metadata": {},
     "output_type": "display_data"
    }
   ],
   "source": [
    "## 카테고리별 카테고리개수 시각화\n",
    "pivot_df = pivot_df.sort_values(by='category_count',ascending=False)\n",
    "plt.figure(figsize = (30,10))\n",
    "plt.pie(pivot_df['category_count'], labels=pivot_df['category'],autopct='%1.1f%%')\n",
    "plt.show()"
   ]
  }
 ],
 "metadata": {
  "interpreter": {
   "hash": "26de051ba29f2982a8de78e945f0abaf191376122a1563185a90213a26c5da77"
  },
  "kernelspec": {
   "display_name": "Python 3.10.3 64-bit",
   "language": "python",
   "name": "python3"
  },
  "language_info": {
   "codemirror_mode": {
    "name": "ipython",
    "version": 3
   },
   "file_extension": ".py",
   "mimetype": "text/x-python",
   "name": "python",
   "nbconvert_exporter": "python",
   "pygments_lexer": "ipython3",
   "version": "3.10.3"
  },
  "orig_nbformat": 4
 },
 "nbformat": 4,
 "nbformat_minor": 2
}
